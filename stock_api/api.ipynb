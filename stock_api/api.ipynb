{
 "cells": [
  {
   "cell_type": "markdown",
   "metadata": {},
   "source": [
    "# Importing Libraries"
   ]
  },
  {
   "cell_type": "code",
   "execution_count": 15,
   "metadata": {},
   "outputs": [],
   "source": [
    "import pandas as pd\n",
    "import numpy as np\n",
    "import seaborn as sns\n",
    "import requests\n",
    "import json\n",
    "from dotenv import load_dotenv\n",
    "import os"
   ]
  },
  {
   "cell_type": "markdown",
   "metadata": {},
   "source": [
    "# API handling"
   ]
  },
  {
   "cell_type": "code",
   "execution_count": 24,
   "metadata": {},
   "outputs": [],
   "source": [
    "# loading api key\n",
    "load_dotenv()\n",
    "api_key = os.getenv(\"API_KEY\")"
   ]
  },
  {
   "cell_type": "code",
   "execution_count": 54,
   "metadata": {},
   "outputs": [
    {
     "name": "stdout",
     "output_type": "stream",
     "text": [
      "200\n",
      "{\n",
      "  \"Meta Data\": {\n",
      "    \"1. Information\": \"Daily Prices and Volumes for Digital Currency\",\n",
      "    \"2. Digital Currency Code\": \"BTC\",\n",
      "    \"3. Digital Currency Name\": \"Bitcoin\",\n",
      "    \"4. Market Code\": \"EUR\",\n",
      "    \"5. Market Name\": \"Euro\",\n",
      "    \"6. Last Refreshed\": \"2025-03-24 00:00:00\",\n",
      "    \"7. Time Zone\": \"UTC\"\n",
      "  },\n",
      "  \"Time Series (Digital Currency Daily)\": {\n",
      "    \"2025-03-24\": {\n",
      "      \"1. open\": \"79441.34000000\",\n",
      "  