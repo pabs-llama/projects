{
 "cells": [
  {
   "cell_type": "markdown",
   "metadata": {},
   "source": [
    "# Import libraries"
   ]
  },
  {
   "cell_type": "code",
   "execution_count": 2,
   "metadata": {},
   "outputs": [],
   "source": [
    "import requests\n",
    "from bs4 import BeautifulSoup\n",
    "import pandas as pd\n",
    "import time\n"
   ]
  },
  {
   "cell_type": "markdown",
   "metadata": {},
   "source": [
    "# Set Up Search\n",
    "\n",
    "We’ll start by searching Google for articles from the Financial Times that mention Bitcoin using a trick called \"site:ft.com bitcoin\".\n",
    "\n",
    "However, Google doesn’t like bots much, so instead of using requests, we’ll use a Python library called serpapi, which is free to start with and built for scraping search results.\n",
    "\n",
    "But for now, let's try the basic approach using requests and BeautifulSoup to check if we can get results from DuckDuckGo, which is more scrape-friendly."
   ]
  },
  {
   "cell_type": "code",
   "execution_count": null,
   "metadata": {},
   "outputs": [
    {
     "name": "stdout",
     "output_type": "stream",
     "text": [
      "                                               title  \\\n",
      "0  Recht 24/7 - Online Kanzlei | Anwalt sofort on...   \n",
      "1  1 Unze Kupfermünze Bitcoin Waage | Kettner Ede...   \n",
      "2                          Bitcoin - Financial Times   \n",
      "3  BlackRock closes in on crown of world's larges...   \n",
      "4  Bitcoin's halving makes its future pay-to-play...   \n",
      "\n",
      "                                                link  \n",
      "0  //duckduckgo.com/l/?uddg=https%3A%2F%2Fduckduc...  \n",
      "1  //duckduckgo.com/l/?uddg=https%3A%2F%2Fduckduc...  \n",
      "2  //duckduckgo.com/l/?uddg=https%3A%2F%2Fwww.ft....  \n",
      "3  //duckduckgo.com/l/?uddg=https%3A%2F%2Fwww.ft....  \n",
      "4  //duckduckgo.com/l/?uddg=https%3A%2F%2Fwww.ft....  \n"
     ]
    }
   ],
   "source": [
    "\n",
    "# Step 1: Define the search query\n",
    "query = \"bitcoin site:ft.com\"\n",
    "url = f\"https://html.duckduckgo.com/html/?q={query}\"\n",
    "\n",
    "# Step 2: Send the request\n",
    "headers = {\n",
    "    \"User-Agent\": \"Mozilla/5.0\"\n",
    "}\n",
    "response = requests.get(url, headers=headers)\n",
    "\n",
    "# Step 3: Parse the results\n",
    "soup = BeautifulSoup(response.text, \"html.parser\")\n",
    "results = soup.find_all(\"a\", class_=\"result__a\")\n",
    "\n",
    "# Step 4: Store the results\n",
    "articles = []\n",
    "for result in results:\n",
    "    title = result.get_text()\n",
    "    link = result['href']\n",
    "    articles.append({\"title\": title, \"link\": link})\n",
    "\n",
    "# Step 5: Convert to DataFrame\n",
    "ft_df = pd.DataFrame(articles)\n",
    "print(ft_df.head())\n",
    "\n",
    "# Step 6: Save to CSV\n",
    "ft_df.to_csv(\"bitcoin_ft_articles.csv\", index=False)\n",
    "\n"
   ]
  },
  {
   "cell_type": "markdown",
   "metadata": {},
   "source": [
    "#NOTE -  - What are headers?\n",
    "Headers are extra info you send with your request to the website.\n",
    "\n",
    "The User-Agent tells the site who is visiting — usually a web browser like Chrome or Firefox.\n",
    "\n",
    "Without this, the site might know it’s a bot (not a human) and block you.\n",
    "So we're pretending to be a regular browser by saying:\n",
    "\n",
    "“Hi, I’m a normal human using Mozilla/Chrome!”\n",
    "\n",
    "🛡️ Why it's important: Helps avoid blocks or errors from sites that dislike bots.\n",
    "\n",
    "❓ What is BeautifulSoup doing?\n",
    "Think of BeautifulSoup like a smart highlighter. It takes the messy HTML code of a webpage and helps you pick out the parts you want.\n",
    "\n",
    "soup = BeautifulSoup(...)\n",
    "→ Turns the raw HTML from the page into a searchable format.\n",
    "\n",
    "soup.find_all(\"a\", class_=\"result__a\")\n",
    "→ Looks for all <a> tags (which are links), with the class \"result__a\", which DuckDuckGo uses for search result titles.\n",
    "\n",
    "Basically, you’re saying:\n",
    "\n",
    "“Show me all the links that are search results.”\n",
    "\n",
    "Then we loop through those links and pull out the title and URL."
   ]
  }
 ],
 "metadata": {
  "kernelspec": {
   "display_name": "codeacademy",
   "language": "python",
   "name": "python3"
  },
  "language_info": {
   "codemirror_mode": {
    "name": "ipython",
    "version": 3
   },
   "file_extension": ".py",
   "mimetype": "text/x-python",
   "name": "python",
   "nbconvert_exporter": "python",
   "pygments_lexer": "ipython3",
   "version": "3.12.7"
  }
 },
 "nbformat": 4,
 "nbformat_minor": 2
}
