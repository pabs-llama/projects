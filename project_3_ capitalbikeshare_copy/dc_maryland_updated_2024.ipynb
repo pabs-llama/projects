{
 "cells": [
  {
   "cell_type": "markdown",
   "metadata": {},
   "source": [
    "want to compare the increase of cabi rides between maryland and dc\n",
    "\n",
    "2022,2023,2024\n",
    "\n",
    "steps\n",
    "filter the data set for stations and rides in dc and maryland:\n",
    "1) take the complete dataset, turn it into geodataframe\n",
    "2) join it with maryland gdf\n",
    "3) make plot to compare the difference of growth between them\n",
    "\n",
    "dive deeper into maryland / prince george county for 2023 -2024"
   ]
  },
  {
   "cell_type": "code",
   "execution_count": 1,
   "metadata": {},
   "outputs": [],
   "source": [
    "import pandas as pd\n",
    "import numpy  as np\n",
    "import matplotlib.pyplot as plt\n",
    "import statistics as st\n",
    "import seaborn as sns\n",
    "import datetime \n",
    "from geopy import distance\n",
    "import folium\n",
    "from folium.plugins import MarkerCluster\n",
    "from folium.features import GeoJsonTooltip\n",
    "from branca.colormap import LinearColormap\n",
    "from collections import Counter\n",
    "import json\n",
    "from shapely.geometry import Point\n",
    "import geopandas as gpd\n",
    "from shapely.geometry import shape"
   ]
  },
  {
   "cell_type": "code",
   "execution_count": 2,
   "metadata": {},
   "outputs": [],
   "source": [
    "data_types = {\n",
    "    \"rideable_type\": \"category\", \n",
    "    \"start_station_name\": \"category\", \n",
    "    \"end_station_name\": \"category\", \n",
    "    \"member_casual\":\"category\",\n",
    "    # \"ride_id\":\"uint32\",\n",
    "    \"time_of_day\":\"category\",\n",
    "    \"trip_type\":\"category\"}"
   ]
  },
  {
   "cell_type": "code",
   "execution_count": 3,
   "metadata": {},
   "outputs": [],
   "source": [
    "bikes = pd.read_csv(\"bikes_clean.csv\",parse_dates= [\"started_at\", \"ended_at\"], dtype=data_types,low_memory=False)"
   ]
  },
  {
   "cell_type": "code",
   "execution_count": 4,
   "metadata": {},
   "outputs": [],
   "source": [
    "cabi_2024 = pd.read_csv(\"cabi_2024.csv\",parse_dates= [\"started_at\", \"ended_at\"], low_memory=False)"
   ]
  },
  {
   "cell_type": "code",
   "execution_count": 5,
   "metadata": {},
   "outputs": [],
   "source": [
    "cabi_updated = pd.concat([bikes, cabi_2024],ignore_index=True,axis=0)"
   ]
  },
  {
   "cell_type": "code",
   "execution_count": 6,
   "metadata": {},
   "outputs": [
    {
     "data": {
      "text/plain": [
       "(16808320, 20)"
      ]
     },
     "execution_count": 6,
     "metadata": {},
     "output_type": "execute_result"
    }
   ],
   "source": [
    "cabi_updated.shape"
   ]
  },
  {
   "cell_type": "code",
   "execution_count": 7,
   "metadata": {},
   "outputs": [],
   "source": [
    "cabi_updated =cabi_updated.drop(columns = [\"ride_id\",\"start_station_id\",\"end_station_id\",\"start_time\",\"end_time\",\"start_hour\",\"end_hour\",\"Unnamed: 0\"])"
   ]
  },
  {
   "cell_type": "code",
   "execution_count": 8,
   "metadata": {},
   "outputs": [
    {
     "name": "stdout",
     "output_type": "stream",
     "text": [
      "<class 'pandas.core.frame.DataFrame'>\n",
      "RangeIndex: 16808320 entries, 0 to 16808319\n",
      "Data columns (total 12 columns):\n",
      " #   Column                 Dtype   \n",
      "---  ------                 -----   \n",
      " 0   rideable_type          object  \n",
      " 1   started_at             object  \n",
      " 2   ended_at               object  \n",
      " 3   start_station_name     object  \n",
      " 4   end_station_name       object  \n",
      " 5   member_casual          object  \n",
      " 6   start_lat              float64 \n",
      " 7   start_lng              float64 \n",
      " 8   end_lat                float64 \n",
      " 9   end_lng                float64 \n",
      " 10  trip_duration_minutes  float64 \n",
      " 11  time_of_day            category\n",
      "dtypes: category(1), float64(5), object(6)\n",
      "memory usage: 1.4+ GB\n"
     ]
    }
   ],
   "source": [
    "cabi_updated.info()"
   ]
  },
  {
   "cell_type": "code",
   "execution_count": 9,
   "metadata": {},
   "outputs": [],
   "source": [
    "cabi_updated[\"rideable_type\"] = cabi_updated[\"rideable_type\"].astype(\"category\")\n",
    "cabi_updated[\"start_station_name\"] = cabi_updated[\"start_station_name\"].astype(\"category\")\n",
    "cabi_updated[\"end_station_name\"] = cabi_updated[\"end_station_name\"].astype(\"category\")\n",
    "cabi_updated[\"member_casual\"] = cabi_updated[\"member_casual\"].astype(\"category\")\n"
   ]
  },
  {
   "cell_type": "code",
   "execution_count": 10,
   "metadata": {},
   "outputs": [],
   "source": [
    "cabi_updated['started_at'] = pd.to_datetime(cabi_updated['started_at'])\n",
    "cabi_updated['year'] = cabi_updated['started_at'].dt.year"
   ]
  },
  {
   "cell_type": "code",
   "execution_count": 11,
   "metadata": {},
   "outputs": [],
   "source": [
    "# selecting only 2022,2023,2024\n",
    "cabi_updated_2022_to_2024 = cabi_updated[(cabi_updated[\"year\"] == 2022)| (cabi_updated[\"year\"] == 2023)|(cabi_updated[\"year\"] == 2024)]"
   ]
  },
  {
   "cell_type": "code",
   "execution_count": 12,
   "metadata": {},
   "outputs": [
    {
     "name": "stderr",
     "output_type": "stream",
     "text": [
      "/var/folders/kj/_mqw0wd165b_qz356cmtmkzc0000gn/T/ipykernel_13151/295875490.py:1: SettingWithCopyWarning: \n",
      "A value is trying to be set on a copy of a slice from a DataFrame.\n",
      "Try using .loc[row_indexer,col_indexer] = value instead\n",
      "\n",
      "See the caveats in the documentation: https://pandas.pydata.org/pandas-docs/stable/user_guide/indexing.html#returning-a-view-versus-a-copy\n",
      "  cabi_updated_2022_to_2024['started_at'] = cabi_updated_2022_to_2024['started_at'].astype(\"object\")\n"
     ]
    }
   ],
   "source": [
    "cabi_updated_2022_to_2024['started_at'] = cabi_updated_2022_to_2024['started_at'].astype(\"object\")"
   ]
  },
  {
   "cell_type": "code",
   "execution_count": 13,
   "metadata": {},
   "outputs": [
    {
     "name": "stdout",
     "output_type": "stream",
     "text": [
      "<class 'pandas.core.frame.DataFrame'>\n",
      "RangeIndex: 16808320 entries, 0 to 16808319\n",
      "Data columns (total 13 columns):\n",
      " #   Column                 Dtype         \n",
      "---  ------                 -----         \n",
      " 0   rideable_type          category      \n",
      " 1   started_at             datetime64[ns]\n",
      " 2   ended_at               object        \n",
      " 3   start_station_name     category      \n",
      " 4   end_station_name       category      \n",
      " 5   member_casual          category      \n",
      " 6   start_lat              float64       \n",
      " 7   start_lng              float64       \n",
      " 8   end_lat                float64       \n",
      " 9   end_lng                float64       \n",
      " 10  trip_duration_minutes  float64       \n",
      " 11  time_of_day            category      \n",
      " 12  year                   int32         \n",
      "dtypes: category(5), datetime64[ns](1), float64(5), int32(1), object(1)\n",
      "memory usage: 1.0+ GB\n"
     ]
    }
   ],
   "source": [
    "cabi_updated.info()"
   ]
  },
  {
   "cell_type": "code",
   "execution_count": null,
   "metadata": {},
   "outputs": [],
   "source": [
    "# # Create a GeoDataFrame for the starting points\n",
    "geometry = [Point(xy) for xy in zip(cabi_updated['start_lng'], cabi_updated['start_lat'])]\n",
    "cabi_updated_gdf = gpd.GeoDataFrame(cabi_updated, geometry=geometry, crs=\"EPSG:4326\")\n",
    "\n"
   ]
  },
  {
   "cell_type": "code",
   "execution_count": 49,
   "metadata": {},
   "outputs": [],
   "source": [
    "# geometry for starting unique stations\n",
    "avg_lat_per_station = cabi_updated.groupby(\"start_station_name\", as_index=False, observed=False)[\"start_lat\"].mean()\n",
    "avg_lng_per_station = cabi_updated.groupby(\"start_station_name\", as_index=False, observed = False)[\"start_lng\"].mean()\n",
    "\n",
    "cabi_unique_stations = avg_lat_per_station.merge(avg_lng_per_station)\n",
    "\n",
    "geometry = [Point(xy) for xy in zip(cabi_unique_stations['start_lng'], cabi_unique_stations['start_lat'])]\n",
    "cabi_unique_stations_gdf = gpd.GeoDataFrame(cabi_unique_stations, geometry=geometry, crs=\"EPSG:4326\")"
   ]
  },
  {
   "cell_type": "code",
   "execution_count": 37,
   "metadata": {},
   "outputs": [
    {
     "data": {
      "text/plain": [
       "860"
      ]
     },
     "execution_count": 37,
     "metadata": {},
     "output_type": "execute_result"
    }
   ],
   "source": [
    "bikes[\"start_station_name\"].nunique()"
   ]
  },
  {
   "cell_type": "code",
   "execution_count": 38,
   "metadata": {},
   "outputs": [
    {
     "data": {
      "text/plain": [
       "818"
      ]
     },
     "execution_count": 38,
     "metadata": {},
     "output_type": "execute_result"
    }
   ],
   "source": [
    "cabi_2024[\"start_station_name\"].nunique()"
   ]
  },
  {
   "cell_type": "code",
   "execution_count": 39,
   "metadata": {},
   "outputs": [
    {
     "data": {
      "text/plain": [
       "914"
      ]
     },
     "execution_count": 39,
     "metadata": {},
     "output_type": "execute_result"
    }
   ],
   "source": [
    "cabi_updated[\"start_station_name\"].nunique()"
   ]
  },
  {
   "cell_type": "code",
   "execution_count": 15,
   "metadata": {},
   "outputs": [
    {
     "name": "stdout",
     "output_type": "stream",
     "text": [
      "<class 'geopandas.geodataframe.GeoDataFrame'>\n",
      "RangeIndex: 16808320 entries, 0 to 16808319\n",
      "Data columns (total 14 columns):\n",
      " #   Column                 Dtype         \n",
      "---  ------                 -----         \n",
      " 0   rideable_type          category      \n",
      " 1   started_at             datetime64[ns]\n",
      " 2   ended_at               object        \n",
      " 3   start_station_name     category      \n",
      " 4   end_station_name       category      \n",
      " 5   member_casual          category      \n",
      " 6   start_lat              float64       \n",
      " 7   start_lng              float64       \n",
      " 8   end_lat                float64       \n",
      " 9   end_lng                float64       \n",
      " 10  trip_duration_minutes  float64       \n",
      " 11  time_of_day            category      \n",
      " 12  year                   int32         \n",
      " 13  geometry               geometry      \n",
      "dtypes: category(5), datetime64[ns](1), float64(5), geometry(1), int32(1), object(1)\n",
      "memory usage: 1.2+ GB\n"
     ]
    }
   ],
   "source": [
    "cabi_updated_gdf.info()"
   ]
  },
  {
   "cell_type": "code",
   "execution_count": 16,
   "metadata": {},
   "outputs": [],
   "source": [
    "# cabi_updated_gdf['started_at'] = pd.to_datetime(cabi_updated_gdf['started_at'])#, format='%Y-%m-%d %H:%M:%S')\n",
    "# cabi_updated_gdf['ended_at'] = pd.to_datetime(cabi_updated_gdf['ended_at'])\n",
    "# cabi_updated_gdf['year'] = cabi_updated_gdf['started_at'].dt.year\n",
    "# cabi_updated_gdf['month'] = cabi_updated_gdf['started_at'].dt.month"
   ]
  },
  {
   "cell_type": "code",
   "execution_count": 17,
   "metadata": {},
   "outputs": [],
   "source": [
    "# cabi_updated_gdf.to_csv(\"cabi_updated_gdf.csv\")"
   ]
  },
  {
   "cell_type": "markdown",
   "metadata": {},
   "source": [
    "# sample"
   ]
  },
  {
   "cell_type": "code",
   "execution_count": 18,
   "metadata": {},
   "outputs": [],
   "source": [
    "# # cabi updated gdf sample \n",
    "\n",
    "# # 108.000 rows sample (3000 per month)\n",
    "# samples = []\n",
    "\n",
    "# # Loop over years and months to sample 1,000 rows for each month\n",
    "# for year in range(2021, 2025):  # Covering 2021, 2022, and 2024\n",
    "#     for month in range(1, 13):  # Months from 1 to 12\n",
    "#         # Filter for the specific year and month\n",
    "#         filtered_data = cabi_updated_gdf[(cabi_updated_gdf[\"year\"] == year) & (cabi_updated_gdf[\"month\"] == month)]\n",
    "        \n",
    "#         # Sample 1,000 rows if there are enough rows available\n",
    "#         if len(filtered_data) >= 3000:\n",
    "#             sample = filtered_data.sample(n=3000, random_state=42)\n",
    "#         else:  # If less than 3,000 rows, take all available rows\n",
    "#             sample = filtered_data\n",
    "            \n",
    "#         samples.append(sample)\n",
    "\n",
    "# # Combine all the samples into a single DataFrame\n",
    "# bikes_monthly_sample_3000 = pd.concat(samples, ignore_index=True)"
   ]
  },
  {
   "cell_type": "code",
   "execution_count": 19,
   "metadata": {},
   "outputs": [],
   "source": [
    "# bikes_monthly_sample_3000.to_csv(\"bikes_sample_updated.csv\", index=False)"
   ]
  },
  {
   "cell_type": "markdown",
   "metadata": {},
   "source": []
  },
  {
   "cell_type": "code",
   "execution_count": 20,
   "metadata": {},
   "outputs": [],
   "source": [
    "# uploading ward info so I can filter out DC area\n",
    "with open (\"Wards_from_2022.geojson\") as i:\n",
    "    wards = json.loads(i.read())\n",
    "\n",
    "features =wards[\"features\"]\n",
    "\n",
    "ward_gdf = gpd.GeoDataFrame(\n",
    "    pd.DataFrame([feature['properties'] for feature in features]),  # Extract properties as attributes\n",
    "    geometry=[shape(feature['geometry']) for feature in features],  # Convert geometries\n",
    "    crs=\"EPSG:4326\" )"
   ]
  },
  {
   "cell_type": "code",
   "execution_count": 21,
   "metadata": {},
   "outputs": [],
   "source": [
    "ward_gdf = ward_gdf[[\"WARD\",\"NAME\",\"geometry\"]]"
   ]
  },
  {
   "cell_type": "code",
   "execution_count": 22,
   "metadata": {},
   "outputs": [],
   "source": [
    "dc_wards_gdf = gpd.sjoin(cabi_updated_gdf, ward_gdf, how=\"left\", predicate=\"within\")"
   ]
  },
  {
   "cell_type": "code",
   "execution_count": null,
   "metadata": {},
   "outputs": [],
   "source": [
    "#maryland boundaries\n",
    "with open (\"Maryland_Physical_Boundaries_-_County_Boundaries_(Detailed).geojson\") as i:\n",
    "    maryland = json.loads(i.read())\n",
    "\n",
    "features = maryland[\"features\"]\n",
    "\n",
    "#GDF\n",
    "maryland_gdf = gpd.GeoDataFrame(\n",
    "    pd.DataFrame([feature['properties'] for feature in features]),  # Extract properties as attributes\n",
    "    geometry=[shape(feature['geometry']) for feature in features],  # Convert geometries\n",
    "    crs=\"EPSG:4326\")\n",
    "    "
   ]
  },
  {
   "cell_type": "code",
   "execution_count": null,
   "metadata": {},
   "outputs": [],
   "source": [
    "# performing spatial join between the UNIQUE bike stations and maryland shape\n",
    "cabi_maryland_unique_gdf = gpd.sjoin(cabi_unique_stations_gdf, maryland_gdf, how=\"left\", predicate=\"within\")"
   ]
  },
  {
   "cell_type": "code",
   "execution_count": 51,
   "metadata": {},
   "outputs": [],
   "source": [
    "prince_george_unique = cabi_maryland_unique_gdf[cabi_maryland_unique_gdf[\"COUNTY\"] == \"Prince George's\"]"
   ]
  },
  {
   "cell_type": "code",
   "execution_count": 52,
   "metadata": {},
   "outputs": [
    {
     "data": {
      "text/plain": [
       "35"
      ]
     },
     "execution_count": 52,
     "metadata": {},
     "output_type": "execute_result"
    }
   ],
   "source": [
    "prince_george_unique[\"start_station_name\"].nunique()"
   ]
  },
  {
   "cell_type": "code",
   "execution_count": 55,
   "metadata": {},
   "outputs": [
    {
     "data": {
      "text/plain": [
       "['1301 McCormick Dr / Wayne K. Curry Admin Bldg',\n",
       " '40th Ave & Bladensburg Rd',\n",
       " 'Baltimore Ave & Jefferson St',\n",
       " 'Baltimore Ave & Van Buren St / Riverdale Park Station',\n",
       " 'Baltimore Avenue and Hotel Drive at UMD',\n",
       " 'Bladensburg Waterfront Park',\n",
       " 'Bowdoin Ave & Calvert Rd/ College Park Metro',\n",
       " 'Bowdoin Ave & Calvert Rd/ College Park Station',\n",
       " 'Capitol Heights Metro',\n",
       " 'Chillum Rd & Riggs Rd / Riggs Plaza',\n",
       " 'Crescent Rd & Ridge Rd',\n",
       " 'Fleet St & Waterfront St',\n",
       " 'Greenbelt Station Parkway',\n",
       " 'Guilford Drive & Rowalt Drive / UMD',\n",
       " 'Hyattsville Library / Adelphi Rd & Toledo Rd',\n",
       " \"Largo Rd & Campus Way / Prince Georges's Comm Col\",\n",
       " 'Largo Town Center Metro',\n",
       " 'National Harbor Carousel',\n",
       " 'New Hampshire Ave & East-West Hwy',\n",
       " 'Northwestern High School',\n",
       " 'Oglethorpe St & 42nd Ave',\n",
       " 'Oxon Hill Park & Ride',\n",
       " 'Perry & 35th St',\n",
       " \"Prince George's Plaza Metro\",\n",
       " 'Queens Chapel & Hamilton St',\n",
       " 'Rhode Island Ave & 39th St / Brentwood Arts Exchange',\n",
       " 'Rhode Island Avenue /Charles Armentrout Drive - Melrose Skate Park ',\n",
       " 'Riggs Rd & East West Hwy',\n",
       " 'Riverdale Park Town Center',\n",
       " 'Roosevelt Center & Crescent Rd',\n",
       " 'Southern Ave Metro',\n",
       " 'Tanger Outlets',\n",
       " 'The Mall at Prince Georges',\n",
       " 'Walker Mill Road/ Walker Mill Regional Park ',\n",
       " 'West Hyattsville Metro']"
      ]
     },
     "execution_count": 55,
     "metadata": {},
     "output_type": "execute_result"
    }
   ],
   "source": [
    "list(prince_george_unique[\"start_station_name\"].unique())"
   ]
  },
  {
   "cell_type": "markdown",
   "metadata": {},
   "source": [
    "#REVIEW - 35 unique stations from 2021 to 2024. This makes more sense than 90. I had to determine the unique stations first, before doing the join"
   ]
  },
  {
   "cell_type": "code",
   "execution_count": null,
   "metadata": {},
   "outputs": [],
   "source": [
    "#REVIEW - when doing the sjoin with all the starting points (not only stations), many stations end up incorrectly sorted.\n",
    "cabi_maryland_gdf = gpd.sjoin(cabi_updated_gdf, maryland_gdf, how=\"left\", predicate=\"within\")"
   ]
  },
  {
   "cell_type": "code",
   "execution_count": 31,
   "metadata": {},
   "outputs": [],
   "source": [
    "prince_george = cabi_maryland_gdf[cabi_maryland_gdf[\"COUNTY\"] == \"Prince George's\"]"
   ]
  },
  {
   "cell_type": "code",
   "execution_count": 47,
   "metadata": {},
   "outputs": [],
   "source": [
    "prince_george_2024 = prince_george[prince_george[\"year\"]==2024]"
   ]
  },
  {
   "cell_type": "code",
   "execution_count": 36,
   "metadata": {},
   "outputs": [
    {
     "data": {
      "text/plain": [
       "91"
      ]
     },
     "execution_count": 36,
     "metadata": {},
     "output_type": "execute_result"
    }
   ],
   "source": [
    "prince_george[\"start_station_name\"].nunique()"
   ]
  },
  {
   "cell_type": "code",
   "execution_count": 61,
   "metadata": {},
   "outputs": [],
   "source": [
    "prince_george_fixed = prince_george[prince_george[\"start_station_name\"].isin(['1301 McCormick Dr / Wayne K. Curry Admin Bldg',\n",
    " '40th Ave & Bladensburg Rd',\n",
    " 'Baltimore Ave & Jefferson St',\n",
    " 'Baltimore Ave & Van Buren St / Riverdale Park Station',\n",
    " 'Baltimore Avenue and Hotel Drive at UMD',\n",
    " 'Bladensburg Waterfront Park',\n",
    " 'Bowdoin Ave & Calvert Rd/ College Park Metro',\n",
    " 'Bowdoin Ave & Calvert Rd/ College Park Station',\n",
    " 'Capitol Heights Metro',\n",
    " 'Chillum Rd & Riggs Rd / Riggs Plaza',\n",
    " 'Crescent Rd & Ridge Rd',\n",
    " 'Fleet St & Waterfront St',\n",
    " 'Greenbelt Station Parkway',\n",
    " 'Guilford Drive & Rowalt Drive / UMD',\n",
    " 'Hyattsville Library / Adelphi Rd & Toledo Rd',\n",
    " \"Largo Rd & Campus Way / Prince Georges's Comm Col\",\n",
    " 'Largo Town Center Metro',\n",
    " 'National Harbor Carousel',\n",
    " 'New Hampshire Ave & East-West Hwy',\n",
    " 'Northwestern High School',\n",
    " 'Oglethorpe St & 42nd Ave',\n",
    " 'Oxon Hill Park & Ride',\n",
    " 'Perry & 35th St',\n",
    " \"Prince George's Plaza Metro\",\n",
    " 'Queens Chapel & Hamilton St',\n",
    " 'Rhode Island Ave & 39th St / Brentwood Arts Exchange',\n",
    " 'Rhode Island Avenue /Charles Armentrout Drive - Melrose Skate Park ',\n",
    " 'Riggs Rd & East West Hwy',\n",
    " 'Riverdale Park Town Center',\n",
    " 'Roosevelt Center & Crescent Rd',\n",
    " 'Southern Ave Metro',\n",
    " 'Tanger Outlets',\n",
    " 'The Mall at Prince Georges',\n",
    " 'Walker Mill Road/ Walker Mill Regional Park ',\n",
    " 'West Hyattsville Metro'])| prince_george[\"start_station_name\"].isna()]"
   ]
  },
  {
   "cell_type": "code",
   "execution_count": 64,
   "metadata": {},
   "outputs": [
    {
     "data": {
      "text/plain": [
       "35"
      ]
     },
     "execution_count": 64,
     "metadata": {},
     "output_type": "execute_result"
    }
   ],
   "source": [
    "prince_george_fixed[\"start_station_name\"].nunique()"
   ]
  },
  {
   "cell_type": "code",
   "execution_count": 48,
   "metadata": {},
   "outputs": [
    {
     "data": {
      "text/plain": [
       "73"
      ]
     },
     "execution_count": 48,
     "metadata": {},
     "output_type": "execute_result"
    }
   ],
   "source": [
    "prince_george_2024[\"start_station_name\"].nunique()"
   ]
  },
  {
   "cell_type": "markdown",
   "metadata": {},
   "source": [
    "take the wards gdf. Filter for dc.\n",
    "take cabi maryland gdf. Filter for maryland\n",
    "Join both"
   ]
  },
  {
   "cell_type": "code",
   "execution_count": null,
   "metadata": {},
   "outputs": [],
   "source": [
    "dc_wards_gdf = dc_wards_gdf.drop(columns=[\"index_right\"])"
   ]
  },
  {
   "cell_type": "code",
   "execution_count": null,
   "metadata": {},
   "outputs": [],
   "source": [
    "maryland_gdf=maryland_gdf[[\"COUNTY\",\"geometry\"]]"
   ]
  },
  {
   "cell_type": "code",
   "execution_count": null,
   "metadata": {},
   "outputs": [],
   "source": []
  },
  {
   "cell_type": "code",
   "execution_count": null,
   "metadata": {},
   "outputs": [],
   "source": [
    "bllalbla"
   ]
  },
  {
   "cell_type": "code",
   "execution_count": null,
   "metadata": {},
   "outputs": [],
   "source": [
    "# # Perform spatial join with the maryland gdf\n",
    "# dc_maryland_gdf= gpd.sjoin(dc_wards_gdf, maryland_gdf, how=\"left\", predicate=\"within\")\n",
    "#FIXME - i think this is were i messed up. Some of maryland stations are included inside dc. It should be a simple join, not spatial"
   ]
  },
  {
   "cell_type": "markdown",
   "metadata": {},
   "source": []
  },
  {
   "cell_type": "code",
   "execution_count": 28,
   "metadata": {},
   "outputs": [],
   "source": [
    "dc_maryland_gdf[[\"NAME\",\"COUNTY\"]]"
   ]
  },
  {
   "cell_type": "code",
   "execution_count": null,
   "metadata": {},
   "outputs": [],
   "source": [
    "# filtering out values that are not in maryland or dc\n",
    "dc_maryland_gdf = dc_maryland_gdf[dc_maryland_gdf[\"NAME\"].notnull()| dc_maryland_gdf[\"COUNTY\"].notnull()]"
   ]
  },
  {
   "cell_type": "code",
   "execution_count": null,
   "metadata": {},
   "outputs": [
    {
     "name": "stderr",
     "output_type": "stream",
     "text": [
      "/opt/anaconda3/envs/codeacademy/lib/python3.12/site-packages/geopandas/geodataframe.py:1819: SettingWithCopyWarning: \n",
      "A value is trying to be set on a copy of a slice from a DataFrame.\n",
      "Try using .loc[row_indexer,col_indexer] = value instead\n",
      "\n",
      "See the caveats in the documentation: https://pandas.pydata.org/pandas-docs/stable/user_guide/indexing.html#returning-a-view-versus-a-copy\n",
      "  super().__setitem__(key, value)\n"
     ]
    }
   ],
   "source": [
    "# new column to determine easy if it's dc or maryland\n",
    "dc_maryland_gdf['area'] = np.where(dc_maryland_gdf['WARD'].notnull(), 'DC', 'Maryland')"
   ]
  },
  {
   "cell_type": "code",
   "execution_count": null,
   "metadata": {},
   "outputs": [],
   "source": [
    "df_2022 = dc_maryland_gdf[dc_maryland_gdf[\"year\"]==2022]\n",
    "df_2023 = dc_maryland_gdf[dc_maryland_gdf[\"year\"]==2023]\n",
    "df_2024 = dc_maryland_gdf[dc_maryland_gdf[\"year\"]==2024]"
   ]
  },
  {
   "cell_type": "code",
   "execution_count": null,
   "metadata": {},
   "outputs": [],
   "source": [
    "# dc_maryland_gdf.to_csv(\"dc_maryland_gdf_full_updated.csv\", index=False)"
   ]
  },
  {
   "cell_type": "code",
   "execution_count": null,
   "metadata": {},
   "outputs": [
    {
     "ename": "NameError",
     "evalue": "name 'df_2022' is not defined",
     "output_type": "error",
     "traceback": [
      "\u001b[0;31m---------------------------------------------------------------------------\u001b[0m",
      "\u001b[0;31mNameError\u001b[0m                                 Traceback (most recent call last)",
      "Cell \u001b[0;32mIn[1], line 2\u001b[0m\n\u001b[1;32m      1\u001b[0m \u001b[38;5;66;03m#Total rides per year\u001b[39;00m\n\u001b[0;32m----> 2\u001b[0m \u001b[38;5;28mprint\u001b[39m(\u001b[38;5;124m\"\u001b[39m\u001b[38;5;124mtotal rides in 2022\u001b[39m\u001b[38;5;124m\"\u001b[39m, \u001b[38;5;28mlen\u001b[39m(\u001b[43mdf_2022\u001b[49m))\n\u001b[1;32m      3\u001b[0m \u001b[38;5;28mprint\u001b[39m(\u001b[38;5;124m\"\u001b[39m\u001b[38;5;124mtotal rides in 2023\u001b[39m\u001b[38;5;124m\"\u001b[39m, \u001b[38;5;28mlen\u001b[39m(df_2023))\n\u001b[1;32m      4\u001b[0m \u001b[38;5;28mprint\u001b[39m(\u001b[38;5;124m\"\u001b[39m\u001b[38;5;124mtotal rides in 2024\u001b[39m\u001b[38;5;124m\"\u001b[39m, \u001b[38;5;28mlen\u001b[39m(df_2024))\n",
      "\u001b[0;31mNameError\u001b[0m: name 'df_2022' is not defined"
     ]
    }
   ],
   "source": [
    "#Total rides per year\n",
    "print(\"total rides in 2022\", len(df_2022))\n",
    "print(\"total rides in 2023\", len(df_2023))\n",
    "print(\"total rides in 2024\", len(df_2024))\n"
   ]
  },
  {
   "cell_type": "code",
   "execution_count": null,
   "metadata": {},
   "outputs": [
    {
     "ename": "",
     "evalue": "",
     "output_type": "error",
     "traceback": [
      "\u001b[1;31mThe Kernel crashed while executing code in the current cell or a previous cell. \n",
      "\u001b[1;31mPlease review the code in the cell(s) to identify a possible cause of the failure. \n",
      "\u001b[1;31mClick <a href='https://aka.ms/vscodeJupyterKernelCrash'>here</a> for more info. \n",
      "\u001b[1;31mView Jupyter <a href='command:jupyter.viewOutput'>log</a> for further details."
     ]
    }
   ],
   "source": [
    "# Rides per year per area\n",
    "rides_DC = dc_maryland_gdf[dc_maryland_gdf[\"area\"]==\"DC\"]\n",
    "rides_maryland = dc_maryland_gdf[dc_maryland_gdf[\"area\"]==\"Maryland\"]"
   ]
  },
  {
   "cell_type": "code",
   "execution_count": null,
   "metadata": {},
   "outputs": [
    {
     "name": "stdout",
     "output_type": "stream",
     "text": [
      "unique stations in 2022 490\n",
      "unique stations in 2023 564\n",
      "unique stations in 2022 596\n"
     ]
    }
   ],
   "source": [
    "#number of unique stations per year\n",
    "print(\"unique stations in 2022\", df_2022[\"start_station_name\"].nunique())\n",
    "print(\"unique stations in 2023\", df_2023[\"start_station_name\"].nunique())\n",
    "print(\"unique stations in 2022\", df_2024[\"start_station_name\"].nunique())"
   ]
  }
 ],
 "metadata": {
  "kernelspec": {
   "display_name": "codeacademy",
   "language": "python",
   "name": "python3"
  },
  "language_info": {
   "codemirror_mode": {
    "name": "ipython",
    "version": 3
   },
   "file_extension": ".py",
   "mimetype": "text/x-python",
   "name": "python",
   "nbconvert_exporter": "python",
   "pygments_lexer": "ipython3",
   "version": "3.12.7"
  }
 },
 "nbformat": 4,
 "nbformat_minor": 2
}
