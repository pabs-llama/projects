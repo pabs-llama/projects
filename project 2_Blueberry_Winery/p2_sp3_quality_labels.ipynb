{
 "cells": [
  {
   "cell_type": "code",
   "execution_count": 2,
   "metadata": {},
   "outputs": [],
   "source": [
    "import pandas as pd\n",
    "import numpy  as np\n",
    "import matplotlib.pyplot as plt\n",
    "import statistics as st\n",
    "import seaborn as sns\n",
    "from sklearn.preprocessing import LabelEncoder\n",
    "from sklearn.preprocessing import OrdinalEncoder\n",
    "\n",
    "from sklearn.model_selection import train_test_split\n",
    "from scipy.stats import shapiro \n",
    "from scipy.stats import lognorm\n",
    "from scipy.stats import kstest\n",
    "from scipy.stats import zscore\n",
    "from sklearn.preprocessing import MinMaxScaler\n",
    "from sklearn.ensemble import RandomForestClassifier\n",
    "from sklearn.metrics import confusion_matrix\n",
    "from sklearn.metrics import ConfusionMatrixDisplay\n",
    "from sklearn.linear_model import LogisticRegression\n",
    "from sklearn.metrics import accuracy_score \n",
    "from sklearn.metrics import cohen_kappa_score\n",
    "import imblearn\n",
    "from sklearn.metrics import balanced_accuracy_score\n",
    "from imblearn.pipeline import make_pipeline\n",
    "from statistics import mean, stdev\n",
    "from sklearn import preprocessing\n",
    "from sklearn.model_selection import StratifiedKFold\n",
    "from sklearn import linear_model\n",
    "from sklearn import datasets\n",
    "\n",
    "\n",
    "from sklearn.metrics import classification_report, confusion_matrix, roc_auc_score\n",
    "import xgboost as xgb\n",
    "from imblearn.over_sampling import SMOTE\n",
    "from sklearn.model_selection import cross_val_score\n",
    "from sklearn.model_selection import RepeatedStratifiedKFold\n",
    "\n",
    "\n",
    "\n",
    "\n",
    "red_wines = pd.read_csv(\"winequality-red.csv\", sep = \";\")\n",
    "white_wines = pd.read_csv(\"winequality-white.csv\", sep =\";\")"
   ]
  },
  {
   "cell_type": "code",
   "execution_count": 3,
   "metadata": {},
   "outputs": [],
   "source": [
    "# formatting\n",
    "red_wines.columns= red_wines.columns.str.replace(' ','_')\n",
    "white_wines.columns = white_wines.columns.str.replace(' ','_')\n",
    "\n",
    "#Quality categories\n",
    "red_wines ['quality_label'] = red_wines['quality'].apply(lambda value: 'low' if value <= 5 \n",
    "                                                        else 'medium' if value <= 7 \n",
    "                                                        else 'high')\n",
    "\n",
    "red_wines['quality_label'] = pd.Categorical(red_wines['quality_label'],\n",
    "categories=['low', 'medium', 'high'])\n",
    "\n",
    "white_wines ['quality_label'] = white_wines['quality'].apply(lambda value: 'low' if value <= 5 \n",
    "                                                        else 'medium' if value <= 7 \n",
    "                                                        else 'high')\n",
    "\n",
    "white_wines[\"quality_label\"] = pd.Categorical(white_wines[\"quality_label\"], categories = [\"low\",\"medium\",\"high\"])\n",
    "\n",
    "# Type of wine categories\n",
    "red_wines [\"type\"] = 'Red Wine'\n",
    "red_wines['type'] = pd.Categorical(red_wines['type'],\n",
    "categories=[\"Red Wine\",\"White Wine\"])\n",
    "\n",
    "white_wines [\"type\"] = 'White Wine'\n",
    "white_wines['type'] = pd.Categorical(white_wines['type'],\n",
    "categories=[\"Red Wine\",\"White Wine\"])\n",
    "\n",
    "# merge datasets\n",
    "white_and_red = pd.merge(red_wines, white_wines, how = \"outer\")\n",
    "\n",
    "#make copy\n",
    "white_and_red_ml= white_and_red.copy()"
   ]
  },
  {
   "cell_type": "code",
   "execution_count": 4,
   "metadata": {},
   "outputs": [
    {
     "data": {
      "text/plain": [
       "0    medium\n",
       "1      high\n",
       "2    medium\n",
       "3       low\n",
       "4      high\n",
       "5    medium\n",
       "6    medium\n",
       "7       low\n",
       "8       low\n",
       "9       low\n",
       "Name: quality_label, dtype: category\n",
       "Categories (3, object): ['low', 'medium', 'high']"
      ]
     },
     "execution_count": 4,
     "metadata": {},
     "output_type": "execute_result"
    }
   ],
   "source": [
    "white_and_red_ml[\"quality_label\"].head(10)"
   ]
  },
  {
   "cell_type": "markdown",
   "metadata": {},
   "source": [
    "# Filtering outliers"
   ]
  },
  {
   "cell_type": "code",
   "execution_count": 5,
   "metadata": {},
   "outputs": [
    {
     "name": "stdout",
     "output_type": "stream",
     "text": [
      "white wine shape;  (4898, 14) \n",
      "filtered white wine shape:  (4015, 14)\n"
     ]
    }
   ],
   "source": [
    "white_wines_clean= white_wines.drop(\"quality\", axis=1)\n",
    "numeric_columns_white = white_wines_clean.select_dtypes(include=['float64', 'int64'])\n",
    "\n",
    "white_wine_filtered= white_wines.copy()\n",
    "for column in numeric_columns_white.columns:\n",
    "        q1 = np.quantile(numeric_columns_white[column], 0.25)\n",
    "        q3 = np.quantile(numeric_columns_white[column], 0.75)\n",
    "        iqr = q3 - q1\n",
    "        lower = q1 - 1.5 * iqr\n",
    "        upper = q3 + 1.5 * iqr\n",
    "        # Filter rows based on the column's outlier range\n",
    "        white_wine_filtered = white_wine_filtered[(white_wine_filtered[column] >= lower) & (white_wine_filtered[column] <= upper)]\n",
    "print(\"white wine shape; \", white_wines.shape, \"\\nfiltered white wine shape: \", white_wine_filtered.shape)\n"
   ]
  },
  {
   "cell_type": "code",
   "execution_count": 6,
   "metadata": {},
   "outputs": [
    {
     "name": "stdout",
     "output_type": "stream",
     "text": [
      "red wine shape;  (1599, 14) \n",
      "filtered red wine shape:  (1194, 14)\n"
     ]
    }
   ],
   "source": [
    "red_wines_clean= red_wines.drop(\"quality\", axis=1)\n",
    "numeric_columns_red = red_wines_clean.select_dtypes(include=['float64', 'int64'])\n",
    "\n",
    "red_wine_filtered= red_wines.copy()\n",
    "for column in numeric_columns_red.columns: \n",
    "        q1 = np.quantile(numeric_columns_red[column], 0.25)\n",
    "        q3 = np.quantile(numeric_columns_red[column], 0.75)\n",
    "        iqr = q3 - q1\n",
    "        lower = q1 - 1.5 * iqr\n",
    "        upper = q3 + 1.5 * iqr\n",
    "        # Filter rows based on the column's outlier range\n",
    "        red_wine_filtered = red_wine_filtered[(red_wine_filtered[column] >= lower) & (red_wine_filtered[column] <= upper)]\n",
    "print(\"red wine shape; \", red_wines.shape, \"\\nfiltered red wine shape: \", red_wine_filtered.shape)"
   ]
  },
  {
   "cell_type": "markdown",
   "metadata": {},
   "source": [
    "# Encoding"
   ]
  },
  {
   "cell_type": "code",
   "execution_count": 7,
   "metadata": {},
   "outputs": [
    {
     "data": {
      "text/plain": [
       "0    medium\n",
       "1      high\n",
       "2    medium\n",
       "3       low\n",
       "4      high\n",
       "Name: quality_label, dtype: category\n",
       "Categories (3, object): ['low', 'medium', 'high']"
      ]
     },
     "execution_count": 7,
     "metadata": {},
     "output_type": "execute_result"
    }
   ],
   "source": [
    "enc = OrdinalEncoder(categories=[['low', 'medium', 'high']])\n",
    "white_and_red_ml['quality_label_encoded'] = enc.fit_transform(white_and_red_ml[['quality_label']])\n",
    "white_and_red_ml[\"quality_label\"].head()\n",
    "\n"
   ]
  },
  {
   "cell_type": "code",
   "execution_count": 8,
   "metadata": {},
   "outputs": [],
   "source": [
    "# le = LabelEncoder()\n",
    "# white_and_red_ml['quality_label'] = le.fit_transform(white_and_red_ml['quality_label'])\n",
    "# white_and_red_ml[\"quality_label\"].head()\n",
    "\n"
   ]
  },
  {
   "cell_type": "code",
   "execution_count": 9,
   "metadata": {},
   "outputs": [
    {
     "data": {
      "text/html": [
       "<div>\n",
       "<style scoped>\n",
       "    .dataframe tbody tr th:only-of-type {\n",
       "        vertical-align: middle;\n",
       "    }\n",
       "\n",
       "    .dataframe tbody tr th {\n",
       "        vertical-align: top;\n",
       "    }\n",
       "\n",
       "    .dataframe thead th {\n",
       "        text-align: right;\n",
       "    }\n",
       "</style>\n",
       "<table border=\"1\" class=\"dataframe\">\n",
       "  <thead>\n",
       "    <tr style=\"text-align: right;\">\n",
       "      <th></th>\n",
       "      <th>fixed_acidity</th>\n",
       "      <th>volatile_acidity</th>\n",
       "      <th>citric_acid</th>\n",
       "      <th>residual_sugar</th>\n",
       "      <th>chlorides</th>\n",
       "      <th>free_sulfur_dioxide</th>\n",
       "      <th>total_sulfur_dioxide</th>\n",
       "      <th>density</th>\n",
       "      <th>pH</th>\n",
       "      <th>sulphates</th>\n",
       "      <th>alcohol</th>\n",
       "      <th>quality</th>\n",
       "      <th>quality_label</th>\n",
       "      <th>type</th>\n",
       "      <th>quality_label_encoded</th>\n",
       "    </tr>\n",
       "  </thead>\n",
       "  <tbody>\n",
       "    <tr>\n",
       "      <th>0</th>\n",
       "      <td>3.8</td>\n",
       "      <td>0.310</td>\n",
       "      <td>0.02</td>\n",
       "      <td>11.1</td>\n",
       "      <td>0.036</td>\n",
       "      <td>20.0</td>\n",
       "      <td>114.0</td>\n",
       "      <td>0.99248</td>\n",
       "      <td>3.75</td>\n",
       "      <td>0.44</td>\n",
       "      <td>12.4</td>\n",
       "      <td>6</td>\n",
       "      <td>medium</td>\n",
       "      <td>White Wine</td>\n",
       "      <td>1.0</td>\n",
       "    </tr>\n",
       "    <tr>\n",
       "      <th>1</th>\n",
       "      <td>3.9</td>\n",
       "      <td>0.225</td>\n",
       "      <td>0.40</td>\n",
       "      <td>4.2</td>\n",
       "      <td>0.030</td>\n",
       "      <td>29.0</td>\n",
       "      <td>118.0</td>\n",
       "      <td>0.98900</td>\n",
       "      <td>3.57</td>\n",
       "      <td>0.36</td>\n",
       "      <td>12.8</td>\n",
       "      <td>8</td>\n",
       "      <td>high</td>\n",
       "      <td>White Wine</td>\n",
       "      <td>2.0</td>\n",
       "    </tr>\n",
       "    <tr>\n",
       "      <th>2</th>\n",
       "      <td>4.2</td>\n",
       "      <td>0.170</td>\n",
       "      <td>0.36</td>\n",
       "      <td>1.8</td>\n",
       "      <td>0.029</td>\n",
       "      <td>93.0</td>\n",
       "      <td>161.0</td>\n",
       "      <td>0.98999</td>\n",
       "      <td>3.65</td>\n",
       "      <td>0.89</td>\n",
       "      <td>12.0</td>\n",
       "      <td>7</td>\n",
       "      <td>medium</td>\n",
       "      <td>White Wine</td>\n",
       "      <td>1.0</td>\n",
       "    </tr>\n",
       "    <tr>\n",
       "      <th>3</th>\n",
       "      <td>4.2</td>\n",
       "      <td>0.215</td>\n",
       "      <td>0.23</td>\n",
       "      <td>5.1</td>\n",
       "      <td>0.041</td>\n",
       "      <td>64.0</td>\n",
       "      <td>157.0</td>\n",
       "      <td>0.99688</td>\n",
       "      <td>3.42</td>\n",
       "      <td>0.44</td>\n",
       "      <td>8.0</td>\n",
       "      <td>3</td>\n",
       "      <td>low</td>\n",
       "      <td>White Wine</td>\n",
       "      <td>0.0</td>\n",
       "    </tr>\n",
       "    <tr>\n",
       "      <th>4</th>\n",
       "      <td>4.4</td>\n",
       "      <td>0.320</td>\n",
       "      <td>0.39</td>\n",
       "      <td>4.3</td>\n",
       "      <td>0.030</td>\n",
       "      <td>31.0</td>\n",
       "      <td>127.0</td>\n",
       "      <td>0.98904</td>\n",
       "      <td>3.46</td>\n",
       "      <td>0.36</td>\n",
       "      <td>12.8</td>\n",
       "      <td>8</td>\n",
       "      <td>high</td>\n",
       "      <td>White Wine</td>\n",
       "      <td>2.0</td>\n",
       "    </tr>\n",
       "  </tbody>\n",
       "</table>\n",
       "</div>"
      ],
      "text/plain": [
       "   fixed_acidity  volatile_acidity  citric_acid  residual_sugar  chlorides  \\\n",
       "0            3.8             0.310         0.02            11.1      0.036   \n",
       "1            3.9             0.225         0.40             4.2      0.030   \n",
       "2            4.2             0.170         0.36             1.8      0.029   \n",
       "3            4.2             0.215         0.23             5.1      0.041   \n",
       "4            4.4             0.320         0.39             4.3      0.030   \n",
       "\n",
       "   free_sulfur_dioxide  total_sulfur_dioxide  density    pH  sulphates  \\\n",
       "0                 20.0                 114.0  0.99248  3.75       0.44   \n",
       "1                 29.0                 118.0  0.98900  3.57       0.36   \n",
       "2                 93.0                 161.0  0.98999  3.65       0.89   \n",
       "3                 64.0                 157.0  0.99688  3.42       0.44   \n",
       "4                 31.0                 127.0  0.98904  3.46       0.36   \n",
       "\n",
       "   alcohol  quality quality_label        type  quality_label_encoded  \n",
       "0     12.4        6        medium  White Wine                    1.0  \n",
       "1     12.8        8          high  White Wine                    2.0  \n",
       "2     12.0        7        medium  White Wine                    1.0  \n",
       "3      8.0        3           low  White Wine                    0.0  \n",
       "4     12.8        8          high  White Wine                    2.0  "
      ]
     },
     "execution_count": 9,
     "metadata": {},
     "output_type": "execute_result"
    }
   ],
   "source": [
    "white_and_red_ml.head()"
   ]
  },
  {
   "cell_type": "code",
   "execution_count": 10,
   "metadata": {},
   "outputs": [
    {
     "name": "stdout",
     "output_type": "stream",
     "text": [
      "original: (6497, 15) \n",
      "X: (6497, 11) \n",
      "y: (6497,)\n"
     ]
    },
    {
     "data": {
      "text/plain": [
       "(1300,)"
      ]
     },
     "execution_count": 10,
     "metadata": {},
     "output_type": "execute_result"
    }
   ],
   "source": [
    "# split data\n",
    "\n",
    "X=white_and_red_ml.drop([\"type\",\"quality_label\",\"quality\",\"quality_label_encoded\"], axis=1)\n",
    "y= white_and_red_ml[\"quality_label_encoded\"]\n",
    "\n",
    "print(\"original:\", white_and_red_ml.shape, \"\\nX:\", X.shape, \"\\ny:\", y.shape)\n",
    "\n",
    "\n",
    "X_train, X_test, y_train, y_test = train_test_split(X, y, test_size=0.20, random_state=42)\n",
    "y_test.shape"
   ]
  },
  {
   "cell_type": "markdown",
   "metadata": {},
   "source": [
    "# Normalization"
   ]
  },
  {
   "cell_type": "code",
   "execution_count": 11,
   "metadata": {},
   "outputs": [],
   "source": [
    "# Standarization and normalization\n",
    "\n",
    "norm = MinMaxScaler().fit(X_train)\n",
    "\n",
    "# transform training data\n",
    "X_train_norm = norm.transform(X_train)\n",
    "\n",
    "# transform testing data\n",
    "X_test_norm = norm.transform(X_test)"
   ]
  },
  {
   "cell_type": "markdown",
   "metadata": {},
   "source": [
    "# Logistic Regression"
   ]
  },
  {
   "cell_type": "code",
   "execution_count": 12,
   "metadata": {},
   "outputs": [
    {
     "name": "stdout",
     "output_type": "stream",
     "text": [
      "0.7038461538461539\n"
     ]
    },
    {
     "data": {
      "text/html": [
       "<style>#sk-container-id-1 {\n",
       "  /* Definition of color scheme common for light and dark mode */\n",
       "  --sklearn-color-text: #000;\n",
       "  --sklearn-color-text-muted: #666;\n",
       "  --sklearn-color-line: gray;\n",
       "  /* Definition of color scheme for unfitted estimators */\n",
       "  --sklearn-color-unfitted-level-0: #fff5e6;\n",
       "  --sklearn-color-unfitted-level-1: #f6e4d2;\n",
       "  --sklearn-color-unfitted-level-2: #ffe0b3;\n",
       "  --sklearn-color-unfitted-level-3: chocolate;\n",
       "  /* Definition of color scheme for fitted estimators */\n",
       "  --sklearn-color-fitted-level-0: #f0f8ff;\n",
       "  --sklearn-color-fitted-level-1: #d4ebff;\n",
       "  --sklearn-color-fitted-level-2: #b3dbfd;\n",
       "  --sklearn-color-fitted-level-3: cornflowerblue;\n",
       "\n",
       "  /* Specific color for light theme */\n",
       "  --sklearn-color-text-on-default-background: var(--sg-text-color, var(--theme-code-foreground, var(--jp-content-font-color1, black)));\n",
       "  --sklearn-color-background: var(--sg-background-color, var(--theme-background, var(--jp-layout-color0, white)));\n",
       "  --sklearn-color-border-box: var(--sg-text-color, var(--theme-code-foreground, var(--jp-content-font-color1, black)));\n",
       "  --sklearn-color-icon: #696969;\n",
       "\n",
       "  @media (prefers-color-scheme: dark) {\n",
       "    /* Redefinition of color scheme for dark theme */\n",
       "    --sklearn-color-text-on-default-background: var(--sg-text-color, var(--theme-code-foreground, var(--jp-content-font-color1, white)));\n",
       "    --sklearn-color-background: var(--sg-background-color, var(--theme-background, var(--jp-layout-color0, #111)));\n",
       "    --sklearn-color-border-box: var(--sg-text-color, var(--theme-code-foreground, var(--jp-content-font-color1, white)));\n",
       "    --sklearn-color-icon: #878787;\n",
       "  }\n",
       "}\n",
       "\n",
       "#sk-container-id-1 {\n",
       "  color: var(--sklearn-color-text);\n",
       "}\n",
       "\n",
       "#sk-container-id-1 pre {\n",
       "  padding: 0;\n",
       "}\n",
       "\n",
       "#sk-container-id-1 input.sk-hidden--visually {\n",
       "  border: 0;\n",
       "  clip: rect(1px 1px 1px 1px);\n",
       "  clip: rect(1px, 1px, 1px, 1px);\n",
       "  height: 1px;\n",
       "  margin: -1px;\n",
       "  overflow: hidden;\n",
       "  padding: 0;\n",
       "  position: absolute;\n",
       "  width: 1px;\n",
       "}\n",
       "\n",
       "#sk-container-id-1 div.sk-dashed-wrapped {\n",
       "  border: 1px dashed var(--sklearn-color-line);\n",
       "  margin: 0 0.4em 0.5em 0.4em;\n",
       "  box-sizing: border-box;\n",
       "  padding-bottom: 0.4em;\n",
       "  background-color: var(--sklearn-color-background);\n",
       "}\n",
       "\n",
       "#sk-container-id-1 div.sk-container {\n",
       "  /* jupyter's `normalize.less` sets `[hidden] { display: none; }`\n",
       "     but bootstrap.min.css set `[hidden] { display: none !important; }`\n",
       "     so we also need the `!important` here to be able to override the\n",
       "     default hidden behavior on the sphinx rendered scikit-learn.org.\n",
       "     See: https://github.com/scikit-learn/scikit-learn/issues/21755 */\n",
       "  display: inline-block !important;\n",
       "  position: relative;\n",
       "}\n",
       "\n",
       "#sk-container-id-1 div.sk-text-repr-fallback {\n",
       "  display: none;\n",
       "}\n",
       "\n",
       "div.sk-parallel-item,\n",
       "div.sk-serial,\n",
       "div.sk-item {\n",
       "  /* draw centered vertical line to link estimators */\n",
       "  background-image: linear-gradient(var(--sklearn-color-text-on-default-background), var(--sklearn-color-text-on-default-background));\n",
       "  background-size: 2px 100%;\n",
       "  background-repeat: no-repeat;\n",
       "  background-position: center center;\n",
       "}\n",
       "\n",
       "/* Parallel-specific style estimator block */\n",
       "\n",
       "#sk-container-id-1 div.sk-parallel-item::after {\n",
       "  content: \"\";\n",
       "  width: 100%;\n",
       "  border-bottom: 2px solid var(--sklearn-color-text-on-default-background);\n",
       "  flex-grow: 1;\n",
       "}\n",
       "\n",
       "#sk-container-id-1 div.sk-parallel {\n",
       "  display: flex;\n",
       "  align-items: stretch;\n",
       "  justify-content: center;\n",
       "  background-color: var(--sklearn-color-background);\n",
       "  position: relative;\n",
       "}\n",
       "\n",
       "#sk-container-id-1 div.sk-parallel-item {\n",
       "  display: flex;\n",
       "  flex-direction: column;\n",
       "}\n",
       "\n",
       "#sk-container-id-1 div.sk-parallel-item:first-child::after {\n",
       "  align-self: flex-end;\n",
       "  width: 50%;\n",
       "}\n",
       "\n",
       "#sk-container-id-1 div.sk-parallel-item:last-child::after {\n",
       "  align-self: flex-start;\n",
       "  width: 50%;\n",
       "}\n",
       "\n",
       "#sk-container-id-1 div.sk-parallel-item:only-child::after {\n",
       "  width: 0;\n",
       "}\n",
       "\n",
       "/* Serial-specific style estimator block */\n",
       "\n",
       "#sk-container-id-1 div.sk-serial {\n",
       "  display: flex;\n",
       "  flex-direction: column;\n",
       "  align-items: center;\n",
       "  background-color: var(--sklearn-color-background);\n",
       "  padding-right: 1em;\n",
       "  padding-left: 1em;\n",
       "}\n",
       "\n",
       "\n",
       "/* Toggleable style: style used for estimator/Pipeline/ColumnTransformer box that is\n",
       "clickable and can be expanded/collapsed.\n",
       "- Pipeline and ColumnTransformer use this feature and define the default style\n",
       "- Estimators will overwrite some part of the style using the `sk-estimator` class\n",
       "*/\n",
       "\n",
       "/* Pipeline and ColumnTransformer style (default) */\n",
       "\n",
       "#sk-container-id-1 div.sk-toggleable {\n",
       "  /* Default theme specific background. It is overwritten whether we have a\n",
       "  specific estimator or a Pipeline/ColumnTransformer */\n",
       "  background-color: var(--sklearn-color-background);\n",
       "}\n",
       "\n",
       "/* Toggleable label */\n",
       "#sk-container-id-1 label.sk-toggleable__label {\n",
       "  cursor: pointer;\n",
       "  display: flex;\n",
       "  width: 100%;\n",
       "  margin-bottom: 0;\n",
       "  padding: 0.5em;\n",
       "  box-sizing: border-box;\n",
       "  text-align: center;\n",
       "  align-items: start;\n",
       "  justify-content: space-between;\n",
       "  gap: 0.5em;\n",
       "}\n",
       "\n",
       "#sk-container-id-1 label.sk-toggleable__label .caption {\n",
       "  font-size: 0.6rem;\n",
       "  font-weight: lighter;\n",
       "  color: var(--sklearn-color-text-muted);\n",
       "}\n",
       "\n",
       "#sk-container-id-1 label.sk-toggleable__label-arrow:before {\n",
       "  /* Arrow on the left of the label */\n",
       "  content: \"▸\";\n",
       "  float: left;\n",
       "  margin-right: 0.25em;\n",
       "  color: var(--sklearn-color-icon);\n",
       "}\n",
       "\n",
       "#sk-container-id-1 label.sk-toggleable__label-arrow:hover:before {\n",
       "  color: var(--sklearn-color-text);\n",
       "}\n",
       "\n",
       "/* Toggleable content - dropdown */\n",
       "\n",
       "#sk-container-id-1 div.sk-toggleable__content {\n",
       "  max-height: 0;\n",
       "  max-width: 0;\n",
       "  overflow: hidden;\n",
       "  text-align: left;\n",
       "  /* unfitted */\n",
       "  background-color: var(--sklearn-color-unfitted-level-0);\n",
       "}\n",
       "\n",
       "#sk-container-id-1 div.sk-toggleable__content.fitted {\n",
       "  /* fitted */\n",
       "  background-color: var(--sklearn-color-fitted-level-0);\n",
       "}\n",
       "\n",
       "#sk-container-id-1 div.sk-toggleable__content pre {\n",
       "  margin: 0.2em;\n",
       "  border-radius: 0.25em;\n",
       "  color: var(--sklearn-color-text);\n",
       "  /* unfitted */\n",
       "  background-color: var(--sklearn-color-unfitted-level-0);\n",
       "}\n",
       "\n",
       "#sk-container-id-1 div.sk-toggleable__content.fitted pre {\n",
       "  /* unfitted */\n",
       "  background-color: var(--sklearn-color-fitted-level-0);\n",
       "}\n",
       "\n",
       "#sk-container-id-1 input.sk-toggleable__control:checked~div.sk-toggleable__content {\n",
       "  /* Expand drop-down */\n",
       "  max-height: 200px;\n",
       "  max-width: 100%;\n",
       "  overflow: auto;\n",
       "}\n",
       "\n",
       "#sk-container-id-1 input.sk-toggleable__control:checked~label.sk-toggleable__label-arrow:before {\n",
       "  content: \"▾\";\n",
       "}\n",
       "\n",
       "/* Pipeline/ColumnTransformer-specific style */\n",
       "\n",
       "#sk-container-id-1 div.sk-label input.sk-toggleable__control:checked~label.sk-toggleable__label {\n",
       "  color: var(--sklearn-color-text);\n",
       "  background-color: var(--sklearn-color-unfitted-level-2);\n",
       "}\n",
       "\n",
       "#sk-container-id-1 div.sk-label.fitted input.sk-toggleable__control:checked~label.sk-toggleable__label {\n",
       "  background-color: var(--sklearn-color-fitted-level-2);\n",
       "}\n",
       "\n",
       "/* Estimator-specific style */\n",
       "\n",
       "/* Colorize estimator box */\n",
       "#sk-container-id-1 div.sk-estimator input.sk-toggleable__control:checked~label.sk-toggleable__label {\n",
       "  /* unfitted */\n",
       "  background-color: var(--sklearn-color-unfitted-level-2);\n",
       "}\n",
       "\n",
       "#sk-container-id-1 div.sk-estimator.fitted input.sk-toggleable__control:checked~label.sk-toggleable__label {\n",
       "  /* fitted */\n",
       "  background-color: var(--sklearn-color-fitted-level-2);\n",
       "}\n",
       "\n",
       "#sk-container-id-1 div.sk-label label.sk-toggleable__label,\n",
       "#sk-container-id-1 div.sk-label label {\n",
       "  /* The background is the default theme color */\n",
       "  color: var(--sklearn-color-text-on-default-background);\n",
       "}\n",
       "\n",
       "/* On hover, darken the color of the background */\n",
       "#sk-container-id-1 div.sk-label:hover label.sk-toggleable__label {\n",
       "  color: var(--sklearn-color-text);\n",
       "  background-color: var(--sklearn-color-unfitted-level-2);\n",
       "}\n",
       "\n",
       "/* Label box, darken color on hover, fitted */\n",
       "#sk-container-id-1 div.sk-label.fitted:hover label.sk-toggleable__label.fitted {\n",
       "  color: var(--sklearn-color-text);\n",
       "  background-color: var(--sklearn-color-fitted-level-2);\n",
       "}\n",
       "\n",
       "/* Estimator label */\n",
       "\n",
       "#sk-container-id-1 div.sk-label label {\n",
       "  font-family: monospace;\n",
       "  font-weight: bold;\n",
       "  display: inline-block;\n",
       "  line-height: 1.2em;\n",
       "}\n",
       "\n",
       "#sk-container-id-1 div.sk-label-container {\n",
       "  text-align: center;\n",
       "}\n",
       "\n",
       "/* Estimator-specific */\n",
       "#sk-container-id-1 div.sk-estimator {\n",
       "  font-family: monospace;\n",
       "  border: 1px dotted var(--sklearn-color-border-box);\n",
       "  border-radius: 0.25em;\n",
       "  box-sizing: border-box;\n",
       "  margin-bottom: 0.5em;\n",
       "  /* unfitted */\n",
       "  background-color: var(--sklearn-color-unfitted-level-0);\n",
       "}\n",
       "\n",
       "#sk-container-id-1 div.sk-estimator.fitted {\n",
       "  /* fitted */\n",
       "  background-color: var(--sklearn-color-fitted-level-0);\n",
       "}\n",
       "\n",
       "/* on hover */\n",
       "#sk-container-id-1 div.sk-estimator:hover {\n",
       "  /* unfitted */\n",
       "  background-color: var(--sklearn-color-unfitted-level-2);\n",
       "}\n",
       "\n",
       "#sk-container-id-1 div.sk-estimator.fitted:hover {\n",
       "  /* fitted */\n",
       "  background-color: var(--sklearn-color-fitted-level-2);\n",
       "}\n",
       "\n",
       "/* Specification for estimator info (e.g. \"i\" and \"?\") */\n",
       "\n",
       "/* Common style for \"i\" and \"?\" */\n",
       "\n",
       ".sk-estimator-doc-link,\n",
       "a:link.sk-estimator-doc-link,\n",
       "a:visited.sk-estimator-doc-link {\n",
       "  float: right;\n",
       "  font-size: smaller;\n",
       "  line-height: 1em;\n",
       "  font-family: monospace;\n",
       "  background-color: var(--sklearn-color-background);\n",
       "  border-radius: 1em;\n",
       "  height: 1em;\n",
       "  width: 1em;\n",
       "  text-decoration: none !important;\n",
       "  margin-left: 0.5em;\n",
       "  text-align: center;\n",
       "  /* unfitted */\n",
       "  border: var(--sklearn-color-unfitted-level-1) 1pt solid;\n",
       "  color: var(--sklearn-color-unfitted-level-1);\n",
       "}\n",
       "\n",
       ".sk-estimator-doc-link.fitted,\n",
       "a:link.sk-estimator-doc-link.fitted,\n",
       "a:visited.sk-estimator-doc-link.fitted {\n",
       "  /* fitted */\n",
       "  border: var(--sklearn-color-fitted-level-1) 1pt solid;\n",
       "  color: var(--sklearn-color-fitted-level-1);\n",
       "}\n",
       "\n",
       "/* On hover */\n",
       "div.sk-estimator:hover .sk-estimator-doc-link:hover,\n",
       ".sk-estimator-doc-link:hover,\n",
       "div.sk-label-container:hover .sk-estimator-doc-link:hover,\n",
       ".sk-estimator-doc-link:hover {\n",
       "  /* unfitted */\n",
       "  background-color: var(--sklearn-color-unfitted-level-3);\n",
       "  color: var(--sklearn-color-background);\n",
       "  text-decoration: none;\n",
       "}\n",
       "\n",
       "div.sk-estimator.fitted:hover .sk-estimator-doc-link.fitted:hover,\n",
       ".sk-estimator-doc-link.fitted:hover,\n",
       "div.sk-label-container:hover .sk-estimator-doc-link.fitted:hover,\n",
       ".sk-estimator-doc-link.fitted:hover {\n",
       "  /* fitted */\n",
       "  background-color: var(--sklearn-color-fitted-level-3);\n",
       "  color: var(--sklearn-color-background);\n",
       "  text-decoration: none;\n",
       "}\n",
       "\n",
       "/* Span, style for the box shown on hovering the info icon */\n",
       ".sk-estimator-doc-link span {\n",
       "  display: none;\n",
       "  z-index: 9999;\n",
       "  position: relative;\n",
       "  font-weight: normal;\n",
       "  right: .2ex;\n",
       "  padding: .5ex;\n",
       "  margin: .5ex;\n",
       "  width: min-content;\n",
       "  min-width: 20ex;\n",
       "  max-width: 50ex;\n",
       "  color: var(--sklearn-color-text);\n",
       "  box-shadow: 2pt 2pt 4pt #999;\n",
       "  /* unfitted */\n",
       "  background: var(--sklearn-color-unfitted-level-0);\n",
       "  border: .5pt solid var(--sklearn-color-unfitted-level-3);\n",
       "}\n",
       "\n",
       ".sk-estimator-doc-link.fitted span {\n",
       "  /* fitted */\n",
       "  background: var(--sklearn-color-fitted-level-0);\n",
       "  border: var(--sklearn-color-fitted-level-3);\n",
       "}\n",
       "\n",
       ".sk-estimator-doc-link:hover span {\n",
       "  display: block;\n",
       "}\n",
       "\n",
       "/* \"?\"-specific style due to the `<a>` HTML tag */\n",
       "\n",
       "#sk-container-id-1 a.estimator_doc_link {\n",
       "  float: right;\n",
       "  font-size: 1rem;\n",
       "  line-height: 1em;\n",
       "  font-family: monospace;\n",
       "  background-color: var(--sklearn-color-background);\n",
       "  border-radius: 1rem;\n",
       "  height: 1rem;\n",
       "  width: 1rem;\n",
       "  text-decoration: none;\n",
       "  /* unfitted */\n",
       "  color: var(--sklearn-color-unfitted-level-1);\n",
       "  border: var(--sklearn-color-unfitted-level-1) 1pt solid;\n",
       "}\n",
       "\n",
       "#sk-container-id-1 a.estimator_doc_link.fitted {\n",
       "  /* fitted */\n",
       "  border: var(--sklearn-color-fitted-level-1) 1pt solid;\n",
       "  color: var(--sklearn-color-fitted-level-1);\n",
       "}\n",
       "\n",
       "/* On hover */\n",
       "#sk-container-id-1 a.estimator_doc_link:hover {\n",
       "  /* unfitted */\n",
       "  background-color: var(--sklearn-color-unfitted-level-3);\n",
       "  color: var(--sklearn-color-background);\n",
       "  text-decoration: none;\n",
       "}\n",
       "\n",
       "#sk-container-id-1 a.estimator_doc_link.fitted:hover {\n",
       "  /* fitted */\n",
       "  background-color: var(--sklearn-color-fitted-level-3);\n",
       "}\n",
       "</style><div id=\"sk-container-id-1\" class=\"sk-top-container\"><div class=\"sk-text-repr-fallback\"><pre>LogisticRegression(max_iter=700)</pre><b>In a Jupyter environment, please rerun this cell to show the HTML representation or trust the notebook. <br />On GitHub, the HTML representation is unable to render, please try loading this page with nbviewer.org.</b></div><div class=\"sk-container\" hidden><div class=\"sk-item\"><div class=\"sk-estimator fitted sk-toggleable\"><input class=\"sk-toggleable__control sk-hidden--visually\" id=\"sk-estimator-id-1\" type=\"checkbox\" checked><label for=\"sk-estimator-id-1\" class=\"sk-toggleable__label fitted sk-toggleable__label-arrow\"><div><div>LogisticRegression</div></div><div><a class=\"sk-estimator-doc-link fitted\" rel=\"noreferrer\" target=\"_blank\" href=\"https://scikit-learn.org/1.6/modules/generated/sklearn.linear_model.LogisticRegression.html\">?<span>Documentation for LogisticRegression</span></a><span class=\"sk-estimator-doc-link fitted\">i<span>Fitted</span></span></div></label><div class=\"sk-toggleable__content fitted\"><pre>LogisticRegression(max_iter=700)</pre></div> </div></div></div></div>"
      ],
      "text/plain": [
       "LogisticRegression(max_iter=700)"
      ]
     },
     "execution_count": 12,
     "metadata": {},
     "output_type": "execute_result"
    }
   ],
   "source": [
    "## logistic regression\n",
    "LR_model = LogisticRegression(max_iter=700)\n",
    "LR_model.fit(X_train_norm, y_train)\n",
    "preds = LR_model.predict(X_test_norm)\n",
    "\n",
    "## Accuracy\n",
    "acc = accuracy_score(y_test, preds)\n",
    "print(acc)\n",
    "LR_model"
   ]
  },
  {
   "cell_type": "code",
   "execution_count": 13,
   "metadata": {},
   "outputs": [
    {
     "name": "stdout",
     "output_type": "stream",
     "text": [
      "original: (5209, 15) \n",
      "X: (5209, 11) \n",
      "y: (5209,)\n",
      "logistic regression accuracy: 0.7092\n",
      "Cohen-Kappa score: 0.3259\n",
      "The balanced accuracy score is 0.4452\n"
     ]
    }
   ],
   "source": [
    "# merge datasets\n",
    "white_and_red_filtered = pd.merge(red_wine_filtered, white_wine_filtered, how = \"outer\")\n",
    "\n",
    "# Encoding\n",
    "enc = OrdinalEncoder(categories=[['low', 'medium', 'high']])\n",
    "white_and_red_filtered['quality_label_encoded'] = enc.fit_transform(white_and_red_filtered[['quality_label']])\n",
    "\n",
    "\n",
    "from sklearn.model_selection import train_test_split\n",
    "X2=white_and_red_filtered.drop([\"type\",\"quality_label\",\"quality\",\"quality_label_encoded\"], axis=1)\n",
    "y2= white_and_red_filtered[\"quality_label_encoded\"]\n",
    "\n",
    "print(\"original:\", white_and_red_filtered .shape, \"\\nX:\", X2.shape, \"\\ny:\", y2.shape)\n",
    "\n",
    "X2_train, X2_test, y2_train, y2_test = train_test_split(X2, y2, test_size=0.20, random_state=42)\n",
    "## standarization\n",
    "norm = MinMaxScaler().fit(X2_train)\n",
    "\n",
    "# transform training data\n",
    "X2_train_norm = norm.transform(X2_train)\n",
    "\n",
    "# transform testing data\n",
    "X2_test_norm = norm.transform(X2_test)\n",
    "## logistic regression\n",
    "LR_model2 = LogisticRegression(max_iter=700)\n",
    "LR_model2.fit(X2_train_norm, y2_train)\n",
    "preds2 = LR_model2.predict(X2_test_norm)\n",
    "\n",
    "## Accuracy\n",
    "acc2 = accuracy_score(y2_test, preds2)\n",
    "\n",
    "print(f\"logistic regression accuracy: {acc2:.4f}\")\n",
    "kappa_lr = cohen_kappa_score(preds2, y2_test)\n",
    "print(f\"Cohen-Kappa score: {kappa_lr:.4f}\")\n",
    "print(f\"The balanced accuracy score is {balanced_accuracy_score(y2_test, preds2):.4f}\")\n"
   ]
  },
  {
   "cell_type": "markdown",
   "metadata": {},
   "source": [
    "# Random forest"
   ]
  },
  {
   "cell_type": "markdown",
   "metadata": {},
   "source": [
    "## Model 1"
   ]
  },
  {
   "cell_type": "code",
   "execution_count": 14,
   "metadata": {},
   "outputs": [
    {
     "name": "stdout",
     "output_type": "stream",
     "text": [
      "Random Forest Accuracy score: 0.7946\n",
      "Cohen-Kappa score: 0.5753\n",
      "The balanced accuracy score is 0.6053\n"
     ]
    }
   ],
   "source": [
    "#NO filters\n",
    "# # define model\n",
    "RF_clf = RandomForestClassifier(random_state=42)\n",
    "# fit model\n",
    "RF_clf.fit(X_train_norm, y_train)\n",
    "# make predictions\n",
    "RF_preds = RF_clf.predict(X_test_norm)\n",
    "\n",
    "RF_acc = accuracy_score(y_test, RF_preds)\n",
    "print( f\"Random Forest Accuracy score: {RF_acc:.4f}\")\n",
    "kappa = cohen_kappa_score(RF_preds, y_test)\n",
    "print(f\"Cohen-Kappa score: {kappa:.4f}\")\n",
    "print(f\"The balanced accuracy score is {balanced_accuracy_score(y_test, RF_preds):.4f}\")"
   ]
  },
  {
   "cell_type": "code",
   "execution_count": 15,
   "metadata": {},
   "outputs": [
    {
     "name": "stdout",
     "output_type": "stream",
     "text": [
      "Random Forest Accuracy score: 0.8157\n",
      "Cohen-Kappa score: 0.5917\n",
      "The balanced accuracy score is 0.6391\n"
     ]
    }
   ],
   "source": [
    "# with filtered outliers\n",
    "# define model\n",
    "RF_clf = RandomForestClassifier(random_state=42)\n",
    "# fit model\n",
    "RF_clf.fit(X2_train_norm, y2_train)\n",
    "# make predictions\n",
    "RF_preds = RF_clf.predict(X2_test_norm)\n",
    "\n",
    "RF_acc = accuracy_score(y2_test, RF_preds)\n",
    "print( f\"Random Forest Accuracy score: {RF_acc:.4f}\")\n",
    "kappa = cohen_kappa_score(RF_preds, y2_test)\n",
    "print(f\"Cohen-Kappa score: {kappa:.4f}\")\n",
    "print(f\"The balanced accuracy score is {balanced_accuracy_score(y2_test, RF_preds):.4f}\")"
   ]
  },
  {
   "cell_type": "markdown",
   "metadata": {},
   "source": [
    "## Balancing the data set"
   ]
  },
  {
   "cell_type": "markdown",
   "metadata": {},
   "source": [
    "### Model 2\n"
   ]
  },
  {
   "cell_type": "code",
   "execution_count": 16,
   "metadata": {},
   "outputs": [
    {
     "name": "stdout",
     "output_type": "stream",
     "text": [
      "Random Forest Accuracy score: 0.8000\n",
      "Cohen-Kappa score: 0.5811\n",
      "The balanced accuracy score is 0.5996\n"
     ]
    }
   ],
   "source": [
    "# with balanced class_weight and unfiltered\n",
    "# define model\n",
    "RF2_clf = RandomForestClassifier(random_state=42, class_weight=\"balanced\")\n",
    "# fit model\n",
    "RF2_clf.fit(X_train_norm, y_train)\n",
    "# make predictions\n",
    "RF2_preds = RF2_clf.predict(X_test_norm)\n",
    "\n",
    "RF2_acc = accuracy_score(y_test, RF2_preds)\n",
    "print( f\"Random Forest Accuracy score: {RF2_acc:.4f}\")\n",
    "kappa = cohen_kappa_score(RF2_preds, y_test)\n",
    "print(f\"Cohen-Kappa score: {kappa:.4f}\")\n",
    "print(f\"The balanced accuracy score is {balanced_accuracy_score(y_test, RF2_preds):.4f}\")"
   ]
  },
  {
   "cell_type": "code",
   "execution_count": 17,
   "metadata": {},
   "outputs": [
    {
     "name": "stdout",
     "output_type": "stream",
     "text": [
      "Random Forest Accuracy score: 0.8129\n",
      "Cohen-Kappa score: 0.5839\n",
      "The balanced accuracy score is 0.6355\n"
     ]
    }
   ],
   "source": [
    "# with balanced class_weight and filtered\n",
    "# define model\n",
    "RF2_clf = RandomForestClassifier(random_state=42, class_weight=\"balanced\")\n",
    "# fit model\n",
    "RF2_clf.fit(X2_train_norm, y2_train)\n",
    "# make predictions\n",
    "RF2_preds = RF2_clf.predict(X2_test_norm)\n",
    "\n",
    "RF2_acc = accuracy_score(y2_test, RF2_preds)\n",
    "print( f\"Random Forest Accuracy score: {RF2_acc:.4f}\")\n",
    "kappa = cohen_kappa_score(RF2_preds, y2_test)\n",
    "print(f\"Cohen-Kappa score: {kappa:.4f}\")\n",
    "print(f\"The balanced accuracy score is {balanced_accuracy_score(y2_test, RF2_preds):.4f}\")"
   ]
  },
  {
   "cell_type": "code",
   "execution_count": 18,
   "metadata": {},
   "outputs": [
    {
     "data": {
      "text/html": [
       "<div>\n",
       "<style scoped>\n",
       "    .dataframe tbody tr th:only-of-type {\n",
       "        vertical-align: middle;\n",
       "    }\n",
       "\n",
       "    .dataframe tbody tr th {\n",
       "        vertical-align: top;\n",
       "    }\n",
       "\n",
       "    .dataframe thead th {\n",
       "        text-align: right;\n",
       "    }\n",
       "</style>\n",
       "<table border=\"1\" class=\"dataframe\">\n",
       "  <thead>\n",
       "    <tr style=\"text-align: right;\">\n",
       "      <th></th>\n",
       "      <th>0</th>\n",
       "      <th>1</th>\n",
       "      <th>2</th>\n",
       "    </tr>\n",
       "  </thead>\n",
       "  <tbody>\n",
       "    <tr>\n",
       "      <th>0</th>\n",
       "      <td>225</td>\n",
       "      <td>105</td>\n",
       "      <td>0</td>\n",
       "    </tr>\n",
       "    <tr>\n",
       "      <th>1</th>\n",
       "      <td>66</td>\n",
       "      <td>611</td>\n",
       "      <td>1</td>\n",
       "    </tr>\n",
       "    <tr>\n",
       "      <th>2</th>\n",
       "      <td>0</td>\n",
       "      <td>23</td>\n",
       "      <td>11</td>\n",
       "    </tr>\n",
       "  </tbody>\n",
       "</table>\n",
       "</div>"
      ],
      "text/plain": [
       "     0    1   2\n",
       "0  225  105   0\n",
       "1   66  611   1\n",
       "2    0   23  11"
      ]
     },
     "metadata": {},
     "output_type": "display_data"
    }
   ],
   "source": [
    "labels = np.unique(y2_test)\n",
    "a = confusion_matrix(y2_test, RF2_preds, labels=labels)\n",
    "a = pd.DataFrame(a)\n",
    "display(a)"
   ]
  },
  {
   "cell_type": "markdown",
   "metadata": {},
   "source": [
    "### Model 3\n",
    "RF with SMOTE & balanced class weight"
   ]
  },
  {
   "cell_type": "code",
   "execution_count": 19,
   "metadata": {},
   "outputs": [
    {
     "name": "stdout",
     "output_type": "stream",
     "text": [
      "quality_label_encoded\n",
      "1.0    3915\n",
      "2.0    3915\n",
      "0.0    3915\n",
      "Name: count, dtype: int64\n",
      "Random Forest Accuracy score: 0.4227\n",
      "Cohen-Kappa score: 0.1341\n",
      "The balanced accuracy score is 0.4227\n"
     ]
    }
   ],
   "source": [
    "#REVIEW - Check  doing the smote resampling after train-test split\n",
    "# unfiltered\n",
    "smote = SMOTE(random_state=42)\n",
    "X_resampled, y_resampled = smote.fit_resample(X, y)\n",
    "\n",
    "# Check new class distribution\n",
    "print(pd.Series(y_resampled).value_counts())\n",
    "\n",
    "# Train-test split\n",
    "X_train_smote, X_test_smote, y_train_smote, y_test_smote = train_test_split(\n",
    "    X_resampled, y_resampled, test_size=0.2, random_state=42, stratify=y_resampled\n",
    ")\n",
    "\n",
    "## standarization\n",
    "norm = MinMaxScaler().fit(X_train_smote)\n",
    "\n",
    "# transform training data\n",
    "X_train_smote_norm = norm.transform(X_train_smote)\n",
    "\n",
    "# transform testing data\n",
    "X_test_smote_norm = norm.transform(X_test_smote)\n",
    "# define model\n",
    "RF = RandomForestClassifier(random_state=42, class_weight=\"balanced\")\n",
    "# fit model\n",
    "RF.fit(X_train_smote_norm, y_train_smote)\n",
    "# make predictions\n",
    "RF_pred = RF_clf.predict(X_test_smote_norm)\n",
    "\n",
    "RF_acc = accuracy_score(y_test_smote, RF_pred)\n",
    "print( f\"Random Forest Accuracy score: {RF_acc:.4f}\")\n",
    "kappa = cohen_kappa_score(RF_pred, y_test_smote)\n",
    "print(f\"Cohen-Kappa score: {kappa:.4f}\")\n",
    "print(f\"The balanced accuracy score is {balanced_accuracy_score(y_test_smote, RF_pred):.4f}\")"
   ]
  },
  {
   "cell_type": "code",
   "execution_count": 20,
   "metadata": {},
   "outputs": [
    {
     "name": "stdout",
     "output_type": "stream",
     "text": [
      "quality_label_encoded\n",
      "1.0    3296\n",
      "2.0    3296\n",
      "0.0    3296\n",
      "Name: count, dtype: int64\n",
      "Random Forest Accuracy score: 0.6916\n",
      "Cohen-Kappa score: 0.5375\n",
      "The balanced accuracy score is 0.6918\n"
     ]
    }
   ],
   "source": [
    "#RF with SMOTE & balanced class weight / filtered\n",
    "# Apply SMOTE\n",
    "smote = SMOTE(random_state=42)\n",
    "X_resampled, y_resampled = smote.fit_resample(X2, y2)\n",
    "\n",
    "# Check new class distribution\n",
    "print(pd.Series(y_resampled).value_counts())\n",
    "\n",
    "# Train-test split\n",
    "X_train_smote, X_test_smote, y_train_smote, y_test_smote = train_test_split(\n",
    "    X_resampled, y_resampled, test_size=0.2, random_state=42, stratify=y_resampled\n",
    ")\n",
    "\n",
    "## standarization\n",
    "norm = MinMaxScaler().fit(X_train_smote)\n",
    "\n",
    "# transform training data\n",
    "X_train_smote_norm = norm.transform(X_train_smote)\n",
    "\n",
    "# transform testing data\n",
    "X_test_smote_norm = norm.transform(X_test_smote)\n",
    "# define model\n",
    "RF = RandomForestClassifier(random_state=42, class_weight=\"balanced\")\n",
    "# fit model\n",
    "RF.fit(X_train_smote_norm, y_train_smote)\n",
    "# make predictions\n",
    "RF_pred = RF_clf.predict(X_test_smote_norm)\n",
    "\n",
    "RF_acc = accuracy_score(y_test_smote, RF_pred)\n",
    "print( f\"Random Forest Accuracy score: {RF_acc:.4f}\")\n",
    "kappa = cohen_kappa_score(RF_pred, y_test_smote)\n",
    "print(f\"Cohen-Kappa score: {kappa:.4f}\")\n",
    "print(f\"The balanced accuracy score is {balanced_accuracy_score(y_test_smote, RF_pred):.4f}\")"
   ]
  },
  {
   "cell_type": "code",
   "execution_count": 21,
   "metadata": {},
   "outputs": [
    {
     "name": "stdout",
     "output_type": "stream",
     "text": [
      "The accuracy score is 0.7927\n",
      "The balanced accuracy score is 0.6842\n"
     ]
    }
   ],
   "source": [
    "# RF With SMOTE in pipe line, no \n",
    "pipe = make_pipeline(imblearn.over_sampling.SMOTE(), \n",
    "                     RandomForestClassifier( class_weight=\"balanced\", random_state=42))\n",
    "pipe.fit(X2_train_norm, y2_train)\n",
    "y2_pred = pipe.predict(X2_test_norm)\n",
    "print(f\"The accuracy score is {accuracy_score(y2_test, y2_pred):.4f}\")\n",
    "print(f\"The balanced accuracy score is {balanced_accuracy_score(y2_test, y2_pred):.4f}\")"
   ]
  },
  {
   "cell_type": "code",
   "execution_count": 22,
   "metadata": {},
   "outputs": [
    {
     "name": "stdout",
     "output_type": "stream",
     "text": [
      "The accuracy score is 0.4702\n",
      "The balanced accuracy score is 0.5686\n"
     ]
    }
   ],
   "source": [
    "# LR with SMOTE\n",
    "pipe2 = make_pipeline(imblearn.over_sampling.SMOTE(), \n",
    "                     LogisticRegression( class_weight=\"balanced\", random_state=42))\n",
    "pipe2.fit(X2_train_norm, y2_train)\n",
    "y3_pred = pipe2.predict(X2_test_norm)\n",
    "print(f\"The accuracy score is {accuracy_score(y2_test, y3_pred):.4f}\")\n",
    "print(f\"The balanced accuracy score is {balanced_accuracy_score(y2_test, y3_pred):.4f}\")\n"
   ]
  },
  {
   "cell_type": "markdown",
   "metadata": {},
   "source": [
    "### Model 4 - RF/Srt K-fold x.val(no smote)"
   ]
  },
  {
   "cell_type": "markdown",
   "metadata": {},
   "source": [
    "#### unfiltered"
   ]
  },
  {
   "cell_type": "code",
   "execution_count": 23,
   "metadata": {},
   "outputs": [
    {
     "name": "stdout",
     "output_type": "stream",
     "text": [
      "List of possible accuracy: [0.8092307692307692, 0.8061538461538461, 0.7938461538461539, 0.8323076923076923, 0.816923076923077, 0.8184615384615385, 0.8153846153846154, 0.8397534668721109, 0.8366718027734977, 0.827426810477658]\n",
      "\n",
      "Maximum Accuracy That can be obtained from this model is: 83.9753466872111 %\n",
      "\n",
      "Minimum Accuracy: 79.38461538461539 %\n",
      "\n",
      "Overall Accuracy: 81.96159772430958 %\n",
      "\n",
      "Standard Deviation is: 0.014522635976011094\n",
      "\n",
      "List of possible Cohen-Kappa score: ['0.6075', '0.5928', '0.5645', '0.6513', '0.6196', '0.6235', '0.6151', '0.6701', '0.6588', '0.6413']\n",
      "\n",
      "List of possible balanced accuracy score: ['0.6407', '0.6160', '0.5901', '0.6894', '0.6631', '0.7186', '0.6247', '0.7072', '0.6848', '0.7097']\n"
     ]
    }
   ],
   "source": [
    "\n",
    "\n",
    "scaler = preprocessing.MinMaxScaler()\n",
    "x_scaled = scaler.fit_transform(X)\n",
    "# Create  classifier object.\n",
    "# lr = linear_model.LogisticRegression()\n",
    "rf = RandomForestClassifier(class_weight=\"balanced\")\n",
    "\n",
    "# Create StratifiedKFold object.\n",
    "skf = StratifiedKFold(n_splits=10, shuffle=True, random_state=1)\n",
    "lst_accu_stratified = []\n",
    "lst_kappa =[]\n",
    "lst_balanced_accuracy_score =[]\n",
    "  \n",
    "for train_index, test_index in skf.split(X,y):\n",
    "    x_train_fold, x_test_fold = x_scaled[train_index], x_scaled[test_index]\n",
    "    y_train_fold, y_test_fold = y[train_index], y[test_index]\n",
    "    rf.fit(x_train_fold, y_train_fold)\n",
    "    rf_pred = rf.predict(x_test_fold) \n",
    "    kappa = cohen_kappa_score(rf_pred, y_test_fold)\n",
    "    lst_accu_stratified.append(rf.score(x_test_fold, y_test_fold))\n",
    "    balanced_acc_sc = balanced_accuracy_score(y_test_fold, rf_pred)\n",
    "    lst_balanced_accuracy_score.append(f\"{balanced_acc_sc:.4f}\")\n",
    "    lst_kappa.append(f\"{kappa:.4f}\")\n",
    "\n",
    "\n",
    "  \n",
    "# Print the output.\n",
    "print('List of possible accuracy:', lst_accu_stratified)\n",
    "print('\\nMaximum Accuracy That can be obtained from this model is:',\n",
    "      max(lst_accu_stratified)*100, '%')\n",
    "print('\\nMinimum Accuracy:',\n",
    "      min(lst_accu_stratified)*100, '%')\n",
    "print('\\nOverall Accuracy:',\n",
    "      mean(lst_accu_stratified)*100, '%')\n",
    "print('\\nStandard Deviation is:', stdev(lst_accu_stratified))\n",
    "print(\"\\nList of possible Cohen-Kappa score:\", lst_kappa)\n",
    "print(\"\\nList of possible balanced accuracy score:\", lst_balanced_accuracy_score)"
   ]
  },
  {
   "cell_type": "markdown",
   "metadata": {},
   "source": [
    "#### filtered REPEATED STRKFOLD"
   ]
  },
  {
   "cell_type": "code",
   "execution_count": 24,
   "metadata": {},
   "outputs": [
    {
     "name": "stdout",
     "output_type": "stream",
     "text": [
      "List of possible accuracy: [0.8349328214971209, 0.8042226487523992, 0.7946257197696737, 0.8272552783109405, 0.8464491362763915, 0.8330134357005758, 0.8195777351247601, 0.7984644913627639, 0.8330134357005758, 0.825, 0.8119001919385797, 0.8349328214971209, 0.8310940499040307, 0.8234165067178503, 0.8119001919385797, 0.8349328214971209, 0.8157389635316699, 0.7946257197696737, 0.8195777351247601, 0.801923076923077, 0.8253358925143954, 0.8253358925143954, 0.8234165067178503, 0.8291746641074856, 0.817658349328215, 0.8234165067178503, 0.8483685220729367, 0.8214971209213052, 0.8119001919385797, 0.7769230769230769]\n",
      "\n",
      "Maximum Accuracy That can be obtained from this model is: 84.83685220729367 %\n",
      "\n",
      "Minimum Accuracy: 77.6923076923077 %\n",
      "\n",
      "Overall Accuracy: 81.99874501697919 %\n",
      "\n",
      "Standard Deviation is: 0.015860067125510212\n",
      "\n",
      "List of possible Cohen-Kappa score: ['0.6467', '0.5715', '0.5505', '0.6171', '0.6618', '0.6368', '0.6106', '0.5553', '0.6392', '0.6203', '0.5873', '0.6418', '0.6345', '0.6145', '0.5873', '0.6423', '0.5944', '0.5491', '0.6116', '0.5738', '0.6187', '0.6173', '0.6159', '0.6326', '0.6112', '0.6164', '0.6666', '0.6076', '0.5839', '0.5165']\n",
      "\n",
      "List of possible balanced accuracy score: ['0.7314', '0.6072', '0.6373', '0.6022', '0.6744', '0.6502', '0.6370', '0.6183', '0.7075', '0.7182', '0.6861', '0.6341', '0.7240', '0.6786', '0.6121', '0.6900', '0.6270', '0.5983', '0.6986', '0.5934', '0.6246', '0.6787', '0.6614', '0.7068', '0.7197', '0.6803', '0.6868', '0.5997', '0.6461', '0.5713']\n"
     ]
    }
   ],
   "source": [
    "\n",
    "scaler = preprocessing.MinMaxScaler()\n",
    "x_scaled = scaler.fit_transform(X2)\n",
    "# Create  classifier object.\n",
    "# lr = linear_model.LogisticRegression()\n",
    "rf = RandomForestClassifier(class_weight=\"balanced\")\n",
    "\n",
    "# Create StratifiedKFold object.\n",
    "skf = RepeatedStratifiedKFold(n_splits=10, n_repeats=3, random_state=1)\n",
    "lst_accu_stratified = []\n",
    "lst_kappa =[]\n",
    "lst_balanced_accuracy_score =[]\n",
    "  \n",
    "for train_index, test_index in skf.split(X2,y2):\n",
    "    x_train_fold, x_test_fold = x_scaled[train_index], x_scaled[test_index]\n",
    "    y_train_fold, y_test_fold_1 = y2[train_index], y2[test_index]\n",
    "    rf.fit(x_train_fold, y_train_fold)\n",
    "    rf_pred_1 = rf.predict(x_test_fold) \n",
    "    kappa = cohen_kappa_score(rf_pred_1, y_test_fold_1)\n",
    "    lst_accu_stratified.append(rf.score(x_test_fold, y_test_fold_1))\n",
    "    balanced_acc_sc = balanced_accuracy_score(y_test_fold_1, rf_pred_1)\n",
    "    lst_balanced_accuracy_score.append(f\"{balanced_acc_sc:.4f}\")\n",
    "    lst_kappa.append(f\"{kappa:.4f}\")\n",
    "\n",
    "\n",
    "# Print the output.\n",
    "print('List of possible accuracy:', lst_accu_stratified)\n",
    "print('\\nMaximum Accuracy That can be obtained from this model is:',\n",
    "      max(lst_accu_stratified)*100, '%')\n",
    "print('\\nMinimum Accuracy:',\n",
    "      min(lst_accu_stratified)*100, '%')\n",
    "print('\\nOverall Accuracy:',\n",
    "      mean(lst_accu_stratified)*100, '%')\n",
    "print('\\nStandard Deviation is:', stdev(lst_accu_stratified))\n",
    "print(\"\\nList of possible Cohen-Kappa score:\", lst_kappa)\n",
    "print(\"\\nList of possible balanced accuracy score:\", lst_balanced_accuracy_score)"
   ]
  },
  {
   "cell_type": "code",
   "execution_count": 37,
   "metadata": {},
   "outputs": [
    {
     "name": "stdout",
     "output_type": "stream",
     "text": [
      "Classification Report:\n",
      "              precision    recall  f1-score   support\n",
      "\n",
      "         0.0       0.73      0.66      0.69       175\n",
      "         1.0       0.80      0.87      0.83       329\n",
      "         2.0       0.75      0.19      0.30        16\n",
      "\n",
      "    accuracy                           0.78       520\n",
      "   macro avg       0.76      0.57      0.61       520\n",
      "weighted avg       0.77      0.78      0.77       520\n",
      "\n"
     ]
    }
   ],
   "source": [
    "# Classification report\n",
    "print(\"Classification Report:\")\n",
    "print(classification_report(y_test_fold_1, rf_pred_1))"
   ]
  },
  {
   "cell_type": "code",
   "execution_count": 46,
   "metadata": {},
   "outputs": [
    {
     "name": "stdout",
     "output_type": "stream",
     "text": [
      "Mean Accuracy: 0.817\n",
      "Accuracy: 0.817 (0.014)\n",
      "Recall: 0.775\n"
     ]
    }
   ],
   "source": [
    "from numpy import std\n",
    "model = RandomForestClassifier(class_weight=\"balanced\")\n",
    "scores = cross_val_score(model, X2, y2, scoring='accuracy', cv=skf, n_jobs=-1)\n",
    "print('Mean Accuracy: %.3f' % mean(scores))\n",
    "print('Accuracy: %.3f (%.3f)' % (mean(scores), std(scores)))\n",
    "\n",
    "from sklearn.metrics import recall_score\n",
    "model.fit(x_train_fold, y_train_fold)\n",
    "probabilities = model.predict_proba(x_test_fold)[:, 1]\n",
    "threshold = 0.3\n",
    "predictions = (probabilities >= threshold).astype(int)\n",
    "recall = recall_score(y_test_fold_1, predictions, average=\"weighted\")\n",
    "print(\"Recall:\", recall) \n",
    "\n"
   ]
  },
  {
   "cell_type": "code",
   "execution_count": null,
   "metadata": {},
   "outputs": [],
   "source": []
  },
  {
   "cell_type": "code",
   "execution_count": null,
   "metadata": {},
   "outputs": [
    {
     "data": {
      "image/png": "[encoded data removed]",
      "text/plain": [
       "<Figure size 1000x400 with 2 Axes>"
      ]
     },
     "metadata": {},
     "output_type": "display_data"
    }
   ],
   "source": [
    "cm = confusion_matrix(y_test_fold_1, rf_pred_1)\n",
    "plt.figure(figsize=(10, 4))\n",
    "sns.heatmap(cm, annot=True, fmt='d', cmap='Blues',xticklabels=[\"low\",\"medium\",\"high\"], yticklabels=[\"low\",\"medium\",\"high\"])\n",
    "plt.xlabel('Predicted Quality')\n",
    "plt.ylabel('Actual Quality')\n",
    "plt.title('Confusion Matrix')\n",
    "plt.show()"
   ]
  },
  {
   "cell_type": "code",
   "execution_count": null,
   "metadata": {},
   "outputs": [],
   "source": []
  },
  {
   "cell_type": "markdown",
   "metadata": {},
   "source": [
    "### Model 5 - Random forest with SMOTE & Stratified K-fold cross validation"
   ]
  },
  {
   "cell_type": "markdown",
   "metadata": {},
   "source": [
    "#### unfiltered "
   ]
  },
  {
   "cell_type": "code",
   "execution_count": 38,
   "metadata": {},
   "outputs": [
    {
     "name": "stdout",
     "output_type": "stream",
     "text": [
      "List of possible accuracy: [0.7907692307692308, 0.8, 0.7876923076923077, 0.8092307692307692, 0.816923076923077, 0.8061538461538461, 0.8107692307692308, 0.8197226502311248, 0.8181818181818182, 0.8043143297380585, 0.7938461538461539, 0.8338461538461538, 0.8307692307692308, 0.8046153846153846, 0.7938461538461539, 0.8138461538461539, 0.7984615384615384, 0.8151001540832049, 0.8212634822804314, 0.7688751926040062, 0.7984615384615384, 0.8076923076923077, 0.816923076923077, 0.816923076923077, 0.8, 0.803076923076923, 0.7584615384615384, 0.8120184899845917, 0.7996918335901386, 0.8351309707241911]\n",
      "\n",
      "Maximum Accuracy That can be obtained from this model is: 83.5130970724191 %\n",
      "\n",
      "Minimum Accuracy: 75.84615384615384 %\n",
      "\n",
      "Overall Accuracy: 80.62202204575087 %\n",
      "\n",
      "Standard Deviation is: 0.016733057976772693\n",
      "\n",
      "Maximum Cohen-Kappa score that can be obtained from this model is: 67.25 %\n",
      "\n",
      "Maximum Balanced Accuracy That can be obtained from this model is: 75.92 %\n"
     ]
    }
   ],
   "source": [
    "smote = SMOTE(random_state=42)\n",
    "\n",
    "\n",
    "scaler = preprocessing.MinMaxScaler()\n",
    "x_scaled = scaler.fit_transform(X) # normalizes for all X, instead of dividing in train and test.scaling after smote\n",
    "\n",
    "# Create  classifier object.\n",
    "\n",
    "rf = RandomForestClassifier(class_weight=\"balanced\")\n",
    "  \n",
    "# Create StratifiedKFold object.\n",
    "skf = RepeatedStratifiedKFold(n_splits=10, n_repeats=3, random_state=1)\n",
    "lst_accu_stratified = []\n",
    "lst_balanced_accuracy_score=[]\n",
    "lst_kappa= []\n",
    "\n",
    "# .split generates indices to split data into training and test set.\n",
    "for train_index, test_index in skf.split(X,y):  \n",
    "    x_train_fold, x_test_fold = x_scaled[train_index], x_scaled[test_index]\n",
    "    y_train_fold, y_test_fold = y[train_index], y[test_index]\n",
    "    x_train_resampled, y_train_resampled = smote.fit_resample(x_train_fold, y_train_fold)\n",
    "    rf.fit(x_train_resampled, y_train_resampled)\n",
    "    rf_pred = rf.predict(x_test_fold)\n",
    "    kappa = cohen_kappa_score(rf_pred, y_test_fold)\n",
    "    lst_kappa.append(round(kappa, 4))\n",
    "    balanced_acc_sc = balanced_accuracy_score(y_test_fold, rf_pred)\n",
    "    lst_balanced_accuracy_score.append(round(balanced_acc_sc,4))\n",
    "    lst_accu_stratified.append(rf.score(x_test_fold, y_test_fold))\n",
    "  \n",
    "# Print the output.\n",
    "print('List of possible accuracy:', lst_accu_stratified)\n",
    "print('\\nMaximum Accuracy That can be obtained from this model is:',\n",
    "      max(lst_accu_stratified)*100, '%')\n",
    "print('\\nMinimum Accuracy:',\n",
    "      min(lst_accu_stratified)*100, '%')\n",
    "print('\\nOverall Accuracy:',\n",
    "      mean(lst_accu_stratified)*100, '%')\n",
    "print('\\nStandard Deviation is:', stdev(lst_accu_stratified))\n",
    "print('\\nMaximum Cohen-Kappa score that can be obtained from this model is:',\n",
    "      max(lst_kappa)*100, '%')\n",
    "print('\\nMaximum Balanced Accuracy That can be obtained from this model is:',\n",
    "      max(lst_balanced_accuracy_score)*100, '%')"
   ]
  },
  {
   "cell_type": "markdown",
   "metadata": {},
   "source": [
    "#### filtered"
   ]
  },
  {
   "cell_type": "code",
   "execution_count": 39,
   "metadata": {},
   "outputs": [
    {
     "name": "stdout",
     "output_type": "stream",
     "text": [
      "List of possible accuracy: [0.836852207293666, 0.7927063339731286, 0.763915547024952, 0.8099808061420346, 0.8310940499040307, 0.817658349328215, 0.7735124760076776, 0.800383877159309, 0.8157389635316699, 0.8057692307692308, 0.8119001919385797, 0.8138195777351248, 0.8099808061420346, 0.8080614203454894, 0.8042226487523992, 0.8157389635316699, 0.8061420345489443, 0.7773512476007678, 0.783109404990403, 0.7942307692307692, 0.8080614203454894, 0.8138195777351248, 0.817658349328215, 0.8157389635316699, 0.8272552783109405, 0.8023032629558541, 0.800383877159309, 0.8138195777351248, 0.8234165067178503, 0.7615384615384615]\n",
      "\n",
      "Maximum Accuracy That can be obtained from this model is: 83.6852207293666 %\n",
      "\n",
      "Minimum Accuracy: 76.15384615384615 %\n",
      "\n",
      "Overall Accuracy: 80.52054727102713 %\n",
      "\n",
      "Standard Deviation is: 0.018266124176064533\n",
      "\n",
      "Maximum Cohen-Kappa score that can be obtained from this model is: 66.36 %\n",
      "\n",
      "Maximum Balanced Accuracy That can be obtained from this model is: 78.31 %\n"
     ]
    }
   ],
   "source": [
    "#FIXME -  Cannot do the split for the resampled data, as the resampling should be done\n",
    "# Apply SMOTE\n",
    "# X2 = feature columns of white_and_red, filtered but not normalized\n",
    "\n",
    "smote = SMOTE(random_state=42)\n",
    "# X_resampled, y_resampled = smote.fit_resample(X2_train, y2_train)\n",
    "# Scaling \n",
    "scaler = preprocessing.MinMaxScaler()\n",
    "x_scaled = scaler.fit_transform(X2)\n",
    "\n",
    "# Classifier object\n",
    "rf = RandomForestClassifier(class_weight=\"balanced\")\n",
    "\n",
    "# Create StratifiedKFold object.\n",
    "skf = RepeatedStratifiedKFold(n_splits=10, n_repeats=3, random_state=1)\n",
    "lst_accu_stratified = []\n",
    "lst_kappa =[]\n",
    "lst_balanced_accuracy_score =[]\n",
    "  \n",
    "# .split generates indices to split data into training and test set.\n",
    "for train_index, test_index in skf.split(X2,y2):  \n",
    "    x_train_fold, x_test_fold = x_scaled[train_index], x_scaled[test_index]\n",
    "    y_train_fold, y_test_fold_2 = y2[train_index], y2[test_index]\n",
    "    x_train_resampled, y_train_resampled = smote.fit_resample(x_train_fold, y_train_fold)\n",
    "    rf.fit(x_train_resampled, y_train_resampled)\n",
    "    rf_pred_2 = rf.predict(x_test_fold)\n",
    "    kappa = cohen_kappa_score(rf_pred_2, y_test_fold_2)\n",
    "    lst_kappa.append(round(kappa, 4))\n",
    "    balanced_acc_sc = balanced_accuracy_score(y_test_fold_2, rf_pred_2)\n",
    "    lst_balanced_accuracy_score.append(round(balanced_acc_sc,4))\n",
    "    lst_accu_stratified.append(rf.score(x_test_fold, y_test_fold_2))\n",
    "  \n",
    "# Print the output.\n",
    "print('List of possible accuracy:', lst_accu_stratified)\n",
    "print('\\nMaximum Accuracy That can be obtained from this model is:',\n",
    "      max(lst_accu_stratified)*100, '%')\n",
    "print('\\nMinimum Accuracy:',\n",
    "      min(lst_accu_stratified)*100, '%')\n",
    "print('\\nOverall Accuracy:',\n",
    "      mean(lst_accu_stratified)*100, '%')\n",
    "print('\\nStandard Deviation is:', stdev(lst_accu_stratified))\n",
    "print('\\nMaximum Cohen-Kappa score that can be obtained from this model is:',\n",
    "      max(lst_kappa)*100, '%')\n",
    "print('\\nMaximum Balanced Accuracy That can be obtained from this model is:',\n",
    "      max(lst_balanced_accuracy_score)*100, '%')\n"
   ]
  },
  {
   "cell_type": "markdown",
   "metadata": {},
   "source": [
    "# XGBoost"
   ]
  },
  {
   "cell_type": "code",
   "execution_count": 30,
   "metadata": {},
   "outputs": [
    {
     "name": "stdout",
     "output_type": "stream",
     "text": [
      "Classification Report:\n",
      "              precision    recall  f1-score   support\n",
      "\n",
      "         0.0       0.75      0.75      0.75       456\n",
      "         1.0       0.81      0.86      0.83       788\n",
      "         2.0       0.85      0.20      0.32        56\n",
      "\n",
      "    accuracy                           0.79      1300\n",
      "   macro avg       0.80      0.60      0.63      1300\n",
      "weighted avg       0.79      0.79      0.78      1300\n",
      "\n"
     ]
    }
   ],
   "source": [
    "# unfiltered\n",
    "\n",
    "xgb_model = xgb.XGBClassifier(\n",
    "    objective='multi:softmax',  # For multiclass classification\n",
    "    num_class=3,               # Number of classes (low, medium, high)\n",
    "    eval_metric='mlogloss',    # Metric for multiclass\n",
    "    random_state=42\n",
    ")\n",
    "\n",
    "# Train the model\n",
    "xgb_model.fit(X_train_norm, y_train)\n",
    "\n",
    "# predictions\n",
    "xgb_pred = xgb_model.predict(X_test_norm)\n",
    "\n",
    "# Classification report\n",
    "print(\"Classification Report:\")\n",
    "print(classification_report(y_test, xgb_pred))"
   ]
  },
  {
   "cell_type": "code",
   "execution_count": 31,
   "metadata": {},
   "outputs": [
    {
     "name": "stdout",
     "output_type": "stream",
     "text": [
      "Classification Report:\n",
      "              precision    recall  f1-score   support\n",
      "\n",
      "         0.0       0.72      0.71      0.71       330\n",
      "         1.0       0.84      0.87      0.85       678\n",
      "         2.0       0.92      0.35      0.51        34\n",
      "\n",
      "    accuracy                           0.80      1042\n",
      "   macro avg       0.83      0.64      0.69      1042\n",
      "weighted avg       0.80      0.80      0.80      1042\n",
      "\n"
     ]
    }
   ],
   "source": [
    "# Filtered outliers\n",
    "\n",
    "xgb_model = xgb.XGBClassifier(\n",
    "    objective='multi:softmax',  # For multiclass classification\n",
    "    num_class=3,               # Number of classes (low, medium, high)\n",
    "    eval_metric='mlogloss',    # Metric for multiclass\n",
    "    random_state=42\n",
    ")\n",
    "\n",
    "# Train the model\n",
    "xgb_model.fit(X2_train_norm, y2_train)\n",
    "\n",
    "# predictions\n",
    "xgb_pred = xgb_model.predict(X2_test_norm)\n",
    "\n",
    "# Classification report\n",
    "print(\"Classification Report:\")\n",
    "print(classification_report(y2_test, xgb_pred))"
   ]
  },
  {
   "cell_type": "markdown",
   "metadata": {},
   "source": [
    "### SMOTE"
   ]
  },
  {
   "cell_type": "markdown",
   "metadata": {},
   "source": [
    "### unfiltered"
   ]
  },
  {
   "cell_type": "code",
   "execution_count": 32,
   "metadata": {},
   "outputs": [
    {
     "name": "stdout",
     "output_type": "stream",
     "text": [
      "Classification Report:\n",
      "              precision    recall  f1-score   support\n",
      "\n",
      "         0.0       0.74      0.78      0.76       456\n",
      "         1.0       0.82      0.82      0.82       788\n",
      "         2.0       0.43      0.29      0.34        56\n",
      "\n",
      "    accuracy                           0.78      1300\n",
      "   macro avg       0.66      0.63      0.64      1300\n",
      "weighted avg       0.78      0.78      0.78      1300\n",
      "\n"
     ]
    }
   ],
   "source": [
    "# Train-test split\n",
    "X_train, X_test, y_train, y_test = train_test_split(\n",
    "    X, y, test_size=0.2, random_state=42)#, stratify=y_resampled)\n",
    "\n",
    "smote = SMOTE(random_state=42)\n",
    "X_train_resampled, y_train_resampled = smote.fit_resample(X_train, y_train)\n",
    "\n",
    "\n",
    "## standarization\n",
    "norm = MinMaxScaler().fit(X_train_resampled)\n",
    "\n",
    "# transform training data\n",
    "X_train_resampled_norm = norm.transform(X_train_resampled)\n",
    "\n",
    "# transform testing data\n",
    "X_test_norm = norm.transform(X_test)\n",
    "\n",
    "xgb_model.fit(X_train_resampled_norm, y_train_resampled)\n",
    "\n",
    "# predictions\n",
    "xgb_pred_smote = xgb_model.predict(X_test_norm)\n",
    "\n",
    "# Classification report\n",
    "print(\"Classification Report:\")\n",
    "print(classification_report(y_test, xgb_pred_smote))\n"
   ]
  },
  {
   "cell_type": "markdown",
   "metadata": {},
   "source": [
    "### filtered"
   ]
  },
  {
   "cell_type": "code",
   "execution_count": 33,
   "metadata": {},
   "outputs": [
    {
     "name": "stdout",
     "output_type": "stream",
     "text": [
      "Classification Report:\n",
      "              precision    recall  f1-score   support\n",
      "\n",
      "         0.0       0.69      0.72      0.71       330\n",
      "         1.0       0.84      0.83      0.83       678\n",
      "         2.0       0.48      0.44      0.46        34\n",
      "\n",
      "    accuracy                           0.78      1042\n",
      "   macro avg       0.67      0.66      0.67      1042\n",
      "weighted avg       0.78      0.78      0.78      1042\n",
      "\n"
     ]
    }
   ],
   "source": [
    "# XGboost with SMOTE & balanced class weight / filtered\n",
    "\n",
    "\n",
    "# Train-test split\n",
    "X_train, X_test, y_train, y_test = train_test_split(\n",
    "    X2, y2, test_size=0.2, random_state=42)\n",
    "\n",
    "smote = SMOTE(random_state=42)\n",
    "X_train_resampled, y_train_resampled = smote.fit_resample(X_train, y_train)\n",
    "\n",
    "## standarization\n",
    "norm = MinMaxScaler().fit(X_train_resampled)\n",
    "\n",
    "# transform training data\n",
    "X_train_resampled_norm = norm.transform(X_train_resampled)\n",
    "\n",
    "# transform testing data\n",
    "X_test_norm = norm.transform(X_test)\n",
    "# define model\n",
    "\n",
    "# Xgboost (after SMOTE)\n",
    "xgb_model = xgb.XGBClassifier(\n",
    "    objective='multi:softmax',  # For multiclass classification\n",
    "    num_class=3,               # Number of classes (low, medium, high)\n",
    "    eval_metric='mlogloss',    # Metric for multiclass\n",
    "    random_state=42\n",
    ")\n",
    "\n",
    "# Train the model\n",
    "xgb_model.fit(X_train_resampled_norm, y_train_resampled)\n",
    "\n",
    "# predictions\n",
    "xgb_pred_norm_filt = xgb_model.predict(X_test_norm)\n",
    "\n",
    "# Classification report\n",
    "print(\"Classification Report:\")\n",
    "print(classification_report(y_test, xgb_pred_norm_filt))"
   ]
  },
  {
   "cell_type": "markdown",
   "metadata": {},
   "source": [
    "## XGBOOST with SMOTE and stratifed kfold cross validation "
   ]
  },
  {
   "cell_type": "code",
   "execution_count": 34,
   "metadata": {},
   "outputs": [
    {
     "name": "stdout",
     "output_type": "stream",
     "text": [
      "List of possible accuracy: [0.8099808061420346, 0.7850287907869482, 0.783109404990403, 0.8157389635316699, 0.8061420345489443, 0.8061420345489443, 0.781190019193858, 0.7735124760076776, 0.8080614203454894, 0.7903846153846154]\n",
      "\n",
      "Maximum Accuracy That can be obtained from this model is: 81.57389635316699 %\n",
      "\n",
      "Minimum Accuracy: 77.35124760076776 %\n",
      "\n",
      "Overall Accuracy: 79.59290565480585 %\n",
      "\n",
      "Standard Deviation is: 0.014829889355797729\n",
      "\n",
      "Maximum Cohen-Kappa score that can be obtained from this model is: 61.281 %\n",
      "\n",
      "Maximum Balanced Accuracy That can be obtained from this model is: 74.617 %\n"
     ]
    }
   ],
   "source": [
    "xgb_model = xgb.XGBClassifier(\n",
    "    objective='multi:softmax',  # For multiclass classification\n",
    "    num_class=3,               # Number of classes (low, medium, high)\n",
    "    eval_metric='mlogloss',    # Metric for multiclass\n",
    "    random_state=42\n",
    ")\n",
    "\n",
    "smote = SMOTE(random_state=42)\n",
    "\n",
    "scaler = preprocessing.MinMaxScaler()\n",
    "x_scaled = scaler.fit_transform(X2)\n",
    "\n",
    "# Create StratifiedKFold object.\n",
    "skf = StratifiedKFold(n_splits=10, shuffle=True, random_state=1)\n",
    "lst_accu_stratified = []\n",
    "lst_kappa =[]\n",
    "lst_balanced_accuracy_score =[]\n",
    "  \n",
    "for train_index, test_index in skf.split(X2,y2):\n",
    "    x_train_fold_xgb, x_test_fold_xgb = x_scaled[train_index], x_scaled[test_index]\n",
    "    y_train_fold_xgb, y_test_fold_xgb = y2[train_index], y2[test_index]\n",
    "    x_train_resampled, y_train_resampled = smote.fit_resample(x_train_fold_xgb, y_train_fold_xgb)\n",
    "    xgb_model.fit(x_train_resampled, y_train_resampled)\n",
    "    xgb_pred = xgb_model.predict(x_test_fold_xgb) \n",
    "    kappa = cohen_kappa_score(xgb_pred, y_test_fold_xgb)\n",
    "    lst_accu_stratified.append(xgb_model.score(x_test_fold_xgb, y_test_fold_xgb))\n",
    "    balanced_acc_sc = balanced_accuracy_score(y_test_fold_xgb, xgb_pred)\n",
    "    lst_balanced_accuracy_score.append(round(balanced_acc_sc,5))\n",
    "    lst_kappa.append(round(kappa,5))\n",
    "\n",
    "print('List of possible accuracy:', lst_accu_stratified)\n",
    "print('\\nMaximum Accuracy That can be obtained from this model is:',\n",
    "      max(lst_accu_stratified)*100, '%')\n",
    "print('\\nMinimum Accuracy:',\n",
    "      min(lst_accu_stratified)*100, '%')\n",
    "print('\\nOverall Accuracy:',\n",
    "      mean(lst_accu_stratified)*100, '%')\n",
    "print('\\nStandard Deviation is:', stdev(lst_accu_stratified))\n",
    "\n",
    "print('\\nMaximum Cohen-Kappa score that can be obtained from this model is:',\n",
    "      max(lst_kappa)*100, '%')\n",
    "\n",
    "print('\\nMaximum Balanced Accuracy That can be obtained from this model is:',\n",
    "      max(lst_balanced_accuracy_score)*100, '%')\n",
    "\n"
   ]
  },
  {
   "cell_type": "markdown",
   "metadata": {},
   "source": [
    "## Confusion matrix XGBoost ( without kfold)"
   ]
  },
  {
   "cell_type": "code",
   "execution_count": 35,
   "metadata": {},
   "outputs": [
    {
     "ename": "ValueError",
     "evalue": "Found input variables with inconsistent numbers of samples: [1042, 520]",
     "output_type": "error",
     "traceback": [
      "\u001b[0;31m---------------------------------------------------------------------------\u001b[0m",
      "\u001b[0;31mValueError\u001b[0m                                Traceback (most recent call last)",
      "Cell \u001b[0;32mIn[35], line 2\u001b[0m\n\u001b[1;32m      1\u001b[0m \u001b[38;5;66;03m#!SECTION check for the variables! they are repeated\u001b[39;00m\n\u001b[0;32m----> 2\u001b[0m cm \u001b[38;5;241m=\u001b[39m \u001b[43mconfusion_matrix\u001b[49m\u001b[43m(\u001b[49m\u001b[43my_test\u001b[49m\u001b[43m,\u001b[49m\u001b[43m \u001b[49m\u001b[43mxgb_pred\u001b[49m\u001b[43m)\u001b[49m\n\u001b[1;32m      3\u001b[0m plt\u001b[38;5;241m.\u001b[39mfigure(figsize\u001b[38;5;241m=\u001b[39m(\u001b[38;5;241m10\u001b[39m, \u001b[38;5;241m4\u001b[39m))\n\u001b[1;32m      4\u001b[0m sns\u001b[38;5;241m.\u001b[39mheatmap(cm, annot\u001b[38;5;241m=\u001b[39m\u001b[38;5;28;01mTrue\u001b[39;00m, fmt\u001b[38;5;241m=\u001b[39m\u001b[38;5;124m'\u001b[39m\u001b[38;5;124md\u001b[39m\u001b[38;5;124m'\u001b[39m, cmap\u001b[38;5;241m=\u001b[39m\u001b[38;5;124m'\u001b[39m\u001b[38;5;124mBlues\u001b[39m\u001b[38;5;124m'\u001b[39m,xticklabels\u001b[38;5;241m=\u001b[39m[\u001b[38;5;124m\"\u001b[39m\u001b[38;5;124mlow\u001b[39m\u001b[38;5;124m\"\u001b[39m,\u001b[38;5;124m\"\u001b[39m\u001b[38;5;124mmedium\u001b[39m\u001b[38;5;124m\"\u001b[39m,\u001b[38;5;124m\"\u001b[39m\u001b[38;5;124mhigh\u001b[39m\u001b[38;5;124m\"\u001b[39m], yticklabels\u001b[38;5;241m=\u001b[39m[\u001b[38;5;124m\"\u001b[39m\u001b[38;5;124mlow\u001b[39m\u001b[38;5;124m\"\u001b[39m,\u001b[38;5;124m\"\u001b[39m\u001b[38;5;124mmedium\u001b[39m\u001b[38;5;124m\"\u001b[39m,\u001b[38;5;124m\"\u001b[39m\u001b[38;5;124mhigh\u001b[39m\u001b[38;5;124m\"\u001b[39m])\n",
      "File \u001b[0;32m/opt/anaconda3/envs/codeacademy/lib/python3.12/site-packages/sklearn/utils/_param_validation.py:216\u001b[0m, in \u001b[0;36mvalidate_params.<locals>.decorator.<locals>.wrapper\u001b[0;34m(*args, **kwargs)\u001b[0m\n\u001b[1;32m    210\u001b[0m \u001b[38;5;28;01mtry\u001b[39;00m:\n\u001b[1;32m    211\u001b[0m     \u001b[38;5;28;01mwith\u001b[39;00m config_context(\n\u001b[1;32m    212\u001b[0m         skip_parameter_validation\u001b[38;5;241m=\u001b[39m(\n\u001b[1;32m    213\u001b[0m             prefer_skip_nested_validation \u001b[38;5;129;01mor\u001b[39;00m global_skip_validation\n\u001b[1;32m    214\u001b[0m         )\n\u001b[1;32m    215\u001b[0m     ):\n\u001b[0;32m--> 216\u001b[0m         \u001b[38;5;28;01mreturn\u001b[39;00m \u001b[43mfunc\u001b[49m\u001b[43m(\u001b[49m\u001b[38;5;241;43m*\u001b[39;49m\u001b[43margs\u001b[49m\u001b[43m,\u001b[49m\u001b[43m \u001b[49m\u001b[38;5;241;43m*\u001b[39;49m\u001b[38;5;241;43m*\u001b[39;49m\u001b[43mkwargs\u001b[49m\u001b[43m)\u001b[49m\n\u001b[1;32m    217\u001b[0m \u001b[38;5;28;01mexcept\u001b[39;00m InvalidParameterError \u001b[38;5;28;01mas\u001b[39;00m e:\n\u001b[1;32m    218\u001b[0m     \u001b[38;5;66;03m# When the function is just a wrapper around an estimator, we allow\u001b[39;00m\n\u001b[1;32m    219\u001b[0m     \u001b[38;5;66;03m# the function to delegate validation to the estimator, but we replace\u001b[39;00m\n\u001b[1;32m    220\u001b[0m     \u001b[38;5;66;03m# the name of the estimator by the name of the function in the error\u001b[39;00m\n\u001b[1;32m    221\u001b[0m     \u001b[38;5;66;03m# message to avoid confusion.\u001b[39;00m\n\u001b[1;32m    222\u001b[0m     msg \u001b[38;5;241m=\u001b[39m re\u001b[38;5;241m.\u001b[39msub(\n\u001b[1;32m    223\u001b[0m         \u001b[38;5;124mr\u001b[39m\u001b[38;5;124m\"\u001b[39m\u001b[38;5;124mparameter of \u001b[39m\u001b[38;5;124m\\\u001b[39m\u001b[38;5;124mw+ must be\u001b[39m\u001b[38;5;124m\"\u001b[39m,\n\u001b[1;32m    224\u001b[0m         \u001b[38;5;124mf\u001b[39m\u001b[38;5;124m\"\u001b[39m\u001b[38;5;124mparameter of \u001b[39m\u001b[38;5;132;01m{\u001b[39;00mfunc\u001b[38;5;241m.\u001b[39m\u001b[38;5;18m__qualname__\u001b[39m\u001b[38;5;132;01m}\u001b[39;00m\u001b[38;5;124m must be\u001b[39m\u001b[38;5;124m\"\u001b[39m,\n\u001b[1;32m    225\u001b[0m         \u001b[38;5;28mstr\u001b[39m(e),\n\u001b[1;32m    226\u001b[0m     )\n",
      "File \u001b[0;32m/opt/anaconda3/envs/codeacademy/lib/python3.12/site-packages/sklearn/metrics/_classification.py:340\u001b[0m, in \u001b[0;36mconfusion_matrix\u001b[0;34m(y_true, y_pred, labels, sample_weight, normalize)\u001b[0m\n\u001b[1;32m    257\u001b[0m \u001b[38;5;250m\u001b[39m\u001b[38;5;124;03m\"\"\"Compute confusion matrix to evaluate the accuracy of a classification.\u001b[39;00m\n\u001b[1;32m    258\u001b[0m \n\u001b[1;32m    259\u001b[0m \u001b[38;5;124;03mBy definition a confusion matrix :math:`C` is such that :math:`C_{i, j}`\u001b[39;00m\n\u001b[0;32m   (...)\u001b[0m\n\u001b[1;32m    337\u001b[0m \u001b[38;5;124;03m(np.int64(0), np.int64(2), np.int64(1), np.int64(1))\u001b[39;00m\n\u001b[1;32m    338\u001b[0m \u001b[38;5;124;03m\"\"\"\u001b[39;00m\n\u001b[1;32m    339\u001b[0m y_true, y_pred \u001b[38;5;241m=\u001b[39m attach_unique(y_true, y_pred)\n\u001b[0;32m--> 340\u001b[0m y_type, y_true, y_pred \u001b[38;5;241m=\u001b[39m \u001b[43m_check_targets\u001b[49m\u001b[43m(\u001b[49m\u001b[43my_true\u001b[49m\u001b[43m,\u001b[49m\u001b[43m \u001b[49m\u001b[43my_pred\u001b[49m\u001b[43m)\u001b[49m\n\u001b[1;32m    341\u001b[0m \u001b[38;5;28;01mif\u001b[39;00m y_type \u001b[38;5;129;01mnot\u001b[39;00m \u001b[38;5;129;01min\u001b[39;00m (\u001b[38;5;124m\"\u001b[39m\u001b[38;5;124mbinary\u001b[39m\u001b[38;5;124m\"\u001b[39m, \u001b[38;5;124m\"\u001b[39m\u001b[38;5;124mmulticlass\u001b[39m\u001b[38;5;124m\"\u001b[39m):\n\u001b[1;32m    342\u001b[0m     \u001b[38;5;28;01mraise\u001b[39;00m \u001b[38;5;167;01mValueError\u001b[39;00m(\u001b[38;5;124m\"\u001b[39m\u001b[38;5;132;01m%s\u001b[39;00m\u001b[38;5;124m is not supported\u001b[39m\u001b[38;5;124m\"\u001b[39m \u001b[38;5;241m%\u001b[39m y_type)\n",
      "File \u001b[0;32m/opt/anaconda3/envs/codeacademy/lib/python3.12/site-packages/sklearn/metrics/_classification.py:98\u001b[0m, in \u001b[0;36m_check_targets\u001b[0;34m(y_true, y_pred)\u001b[0m\n\u001b[1;32m     71\u001b[0m \u001b[38;5;250m\u001b[39m\u001b[38;5;124;03m\"\"\"Check that y_true and y_pred belong to the same classification task.\u001b[39;00m\n\u001b[1;32m     72\u001b[0m \n\u001b[1;32m     73\u001b[0m \u001b[38;5;124;03mThis converts multiclass or binary types to a common shape, and raises a\u001b[39;00m\n\u001b[0;32m   (...)\u001b[0m\n\u001b[1;32m     95\u001b[0m \u001b[38;5;124;03my_pred : array or indicator matrix\u001b[39;00m\n\u001b[1;32m     96\u001b[0m \u001b[38;5;124;03m\"\"\"\u001b[39;00m\n\u001b[1;32m     97\u001b[0m xp, _ \u001b[38;5;241m=\u001b[39m get_namespace(y_true, y_pred)\n\u001b[0;32m---> 98\u001b[0m \u001b[43mcheck_consistent_length\u001b[49m\u001b[43m(\u001b[49m\u001b[43my_true\u001b[49m\u001b[43m,\u001b[49m\u001b[43m \u001b[49m\u001b[43my_pred\u001b[49m\u001b[43m)\u001b[49m\n\u001b[1;32m     99\u001b[0m type_true \u001b[38;5;241m=\u001b[39m type_of_target(y_true, input_name\u001b[38;5;241m=\u001b[39m\u001b[38;5;124m\"\u001b[39m\u001b[38;5;124my_true\u001b[39m\u001b[38;5;124m\"\u001b[39m)\n\u001b[1;32m    100\u001b[0m type_pred \u001b[38;5;241m=\u001b[39m type_of_target(y_pred, input_name\u001b[38;5;241m=\u001b[39m\u001b[38;5;124m\"\u001b[39m\u001b[38;5;124my_pred\u001b[39m\u001b[38;5;124m\"\u001b[39m)\n",
      "File \u001b[0;32m/opt/anaconda3/envs/codeacademy/lib/python3.12/site-packages/sklearn/utils/validation.py:475\u001b[0m, in \u001b[0;36mcheck_consistent_length\u001b[0;34m(*arrays)\u001b[0m\n\u001b[1;32m    473\u001b[0m uniques \u001b[38;5;241m=\u001b[39m np\u001b[38;5;241m.\u001b[39munique(lengths)\n\u001b[1;32m    474\u001b[0m \u001b[38;5;28;01mif\u001b[39;00m \u001b[38;5;28mlen\u001b[39m(uniques) \u001b[38;5;241m>\u001b[39m \u001b[38;5;241m1\u001b[39m:\n\u001b[0;32m--> 475\u001b[0m     \u001b[38;5;28;01mraise\u001b[39;00m \u001b[38;5;167;01mValueError\u001b[39;00m(\n\u001b[1;32m    476\u001b[0m         \u001b[38;5;124m\"\u001b[39m\u001b[38;5;124mFound input variables with inconsistent numbers of samples: \u001b[39m\u001b[38;5;132;01m%r\u001b[39;00m\u001b[38;5;124m\"\u001b[39m\n\u001b[1;32m    477\u001b[0m         \u001b[38;5;241m%\u001b[39m [\u001b[38;5;28mint\u001b[39m(l) \u001b[38;5;28;01mfor\u001b[39;00m l \u001b[38;5;129;01min\u001b[39;00m lengths]\n\u001b[1;32m    478\u001b[0m     )\n",
      "\u001b[0;31mValueError\u001b[0m: Found input variables with inconsistent numbers of samples: [1042, 520]"
     ]
    }
   ],
   "source": [
    "#!SECTION check for the variables! they are repeated\n",
    "cm = confusion_matrix(y_test, xgb_pred)\n",
    "plt.figure(figsize=(10, 4))\n",
    "sns.heatmap(cm, annot=True, fmt='d', cmap='Blues',xticklabels=[\"low\",\"medium\",\"high\"], yticklabels=[\"low\",\"medium\",\"high\"])\n",
    "plt.xlabel('Predicted Quality')\n",
    "plt.ylabel('Actual Quality')\n",
    "plt.title('Confusion Matrix')\n",
    "plt.show()"
   ]
  },
  {
   "cell_type": "markdown",
   "metadata": {},
   "source": [
    "# Result comparison"
   ]
  },
  {
   "cell_type": "markdown",
   "metadata": {},
   "source": [
    "## Classification Reports"
   ]
  },
  {
   "cell_type": "code",
   "execution_count": null,
   "metadata": {},
   "outputs": [
    {
     "name": "stdout",
     "output_type": "stream",
     "text": [
      "Classification Report:Random Forest NO smote & Str.K-fold\n",
      "              precision    recall  f1-score   support\n",
      "\n",
      "         0.0       0.83      0.69      0.75       175\n",
      "         1.0       0.83      0.92      0.87       329\n",
      "         2.0       1.00      0.50      0.67        16\n",
      "\n",
      "    accuracy                           0.83       520\n",
      "   macro avg       0.89      0.70      0.76       520\n",
      "weighted avg       0.83      0.83      0.83       520\n",
      "\n",
      "Classification Report: Random forest with SMOTE & Stratified K-fold cross validation\n",
      "              precision    recall  f1-score   support\n",
      "\n",
      "         0.0       0.77      0.75      0.76       175\n",
      "         1.0       0.85      0.86      0.85       329\n",
      "         2.0       0.56      0.56      0.56        16\n",
      "\n",
      "    accuracy                           0.82       520\n",
      "   macro avg       0.73      0.73      0.73       520\n",
      "weighted avg       0.81      0.82      0.82       520\n",
      "\n",
      "Classification Report: XGBoost with SMOTE & Stratified K-fold cross validation\n",
      "              precision    recall  f1-score   support\n",
      "\n",
      "         0.0       0.73      0.73      0.73       175\n",
      "         1.0       0.84      0.84      0.84       329\n",
      "         2.0       0.53      0.56      0.55        16\n",
      "\n",
      "    accuracy                           0.79       520\n",
      "   macro avg       0.70      0.71      0.70       520\n",
      "weighted avg       0.79      0.79      0.79       520\n",
      "\n",
      "Classification Report: Random forest with SMOTE \n",
      "              precision    recall  f1-score   support\n",
      "\n",
      "         0.0       0.97      0.84      0.90       659\n",
      "         1.0       0.52      0.98      0.68       659\n",
      "         2.0       0.99      0.25      0.40       660\n",
      "\n",
      "    accuracy                           0.69      1978\n",
      "   macro avg       0.83      0.69      0.66      1978\n",
      "weighted avg       0.83      0.69      0.66      1978\n",
      "\n",
      "Classification Report: XGBoost with SMOTE \n",
      "              precision    recall  f1-score   support\n",
      "\n",
      "         0.0       0.69      0.72      0.71       330\n",
      "         1.0       0.84      0.83      0.83       678\n",
      "         2.0       0.48      0.44      0.46        34\n",
      "\n",
      "    accuracy                           0.78      1042\n",
      "   macro avg       0.67      0.66      0.67      1042\n",
      "weighted avg       0.78      0.78      0.78      1042\n",
      "\n"
     ]
    }
   ],
   "source": [
    "\n",
    "print(\"Classification Report:Random Forest NO smote & Str.K-fold\")\n",
    "print(classification_report(y_test_fold_1, rf_pred))\n",
    "\n",
    "print(\"Classification Report: Random forest with SMOTE & Stratified K-fold cross validation\")\n",
    "print(classification_report(y_test_fold_2, rf_pred_2))\n",
    "\n",
    "print(\"Classification Report: XGBoost with SMOTE & Stratified K-fold cross validation\")\n",
    "print(classification_report(y_test_fold_xgb, xgb_pred))\n",
    "\n",
    "print(\"Classification Report: Random forest with SMOTE \")\n",
    "print(classification_report(y_test_smote, RF_pred))\n",
    "\n",
    "print(\"Classification Report: XGBoost with SMOTE \")\n",
    "print(classification_report(y_test, xgb_pred_norm_filt))"
   ]
  },
  {
   "cell_type": "markdown",
   "metadata": {},
   "source": [
    "## Confusion Matrix"
   ]
  },
  {
   "cell_type": "markdown",
   "metadata": {},
   "source": [
    "### XGBOOST"
   ]
  },
  {
   "cell_type": "code",
   "execution_count": null,
   "metadata": {},
   "outputs": [
    {
     "data": {
      "image/png": "[encoded data removed]",
      "text/plain": [
       "<Figure size 1000x400 with 2 Axes>"
      ]
     },
     "metadata": {},
     "output_type": "display_data"
    }
   ],
   "source": [
    "cm = confusion_matrix(y_test_fold_xgb, xgb_pred)\n",
    "plt.figure(figsize=(10, 4))\n",
    "sns.heatmap(cm, annot=True, fmt='d', cmap='Blues',xticklabels=[\"low\",\"medium\",\"high\"], yticklabels=[\"low\",\"medium\",\"high\"])\n",
    "plt.xlabel('Predicted Quality')\n",
    "plt.ylabel('Actual Quality')\n",
    "plt.title('Confusion Matrix')\n",
    "plt.show()"
   ]
  },
  {
   "cell_type": "markdown",
   "metadata": {},
   "source": [
    "### Random Forest"
   ]
  },
  {
   "cell_type": "code",
   "execution_count": null,
   "metadata": {},
   "outputs": [
    {
     "data": {
      "image/png": "[encoded data removed]",
      "text/plain": [
       "<Figure size 1000x400 with 2 Axes>"
      ]
     },
     "metadata": {},
     "output_type": "display_data"
    }
   ],
   "source": [
    "cm = confusion_matrix(y_test_fold, rf_pred)\n",
    "plt.figure(figsize=(10, 4))\n",
    "sns.heatmap(cm, annot=True, fmt='d', cmap='Blues',xticklabels=[\"low\",\"medium\",\"high\"], yticklabels=[\"low\",\"medium\",\"high\"])\n",
    "plt.xlabel('Predicted Quality')\n",
    "plt.ylabel('Actual Quality')\n",
    "plt.title('Confusion Matrix')\n",
    "plt.show()"
   ]
  },
  {
   "cell_type": "code",
   "execution_count": null,
   "metadata": {},
   "outputs": [],
   "source": [
    "#TODO - undersampling\n",
    "\n",
    "# # decision tree  on imbalanced dataset with SMOTE oversampling and random undersampling\n",
    "# from numpy import mean\n",
    "# from sklearn.datasets import make_classification\n",
    "# from sklearn.model_selection import cross_val_score\n",
    "# from sklearn.model_selection import RepeatedStratifiedKFold\n",
    "# from sklearn.tree import DecisionTreeClassifier\n",
    "# from imblearn.pipeline import Pipeline\n",
    "# from imblearn.over_sampling import SMOTE\n",
    "# from imblearn.under_sampling import RandomUnderSampler\n",
    "# # define dataset\n",
    "# X, y = make_classification(n_samples=10000, n_features=2, n_redundant=0,\n",
    "# \tn_clusters_per_class=1, weights=[0.99], flip_y=0, random_state=1)\n",
    "# # define pipeline\n",
    "# model = DecisionTreeClassifier()\n",
    "# over = SMOTE(sampling_strategy=0.1)\n",
    "# under = RandomUnderSampler(sampling_strategy=0.5)\n",
    "# steps = [('over', over), ('under', under), ('model', model)]\n",
    "# pipeline = Pipeline(steps=steps)\n",
    "# # evaluate pipeline\n",
    "# cv = RepeatedStratifiedKFold(n_splits=10, n_repeats=3, random_state=1)\n",
    "# scores = cross_val_score(pipeline, X, y, scoring='roc_auc', cv=cv, n_jobs=-1)\n",
    "# print('Mean ROC AUC: %.3f' % mean(scores))"
   ]
  },
  {
   "cell_type": "code",
   "execution_count": null,
   "metadata": {},
   "outputs": [],
   "source": [
    "#TODO - Random forest without filtered data and filtered with z-score"
   ]
  }
 ],
 "metadata": {
  "kernelspec": {
   "display_name": "codeacademy",
   "language": "python",
   "name": "python3"
  },
  "language_info": {
   "codemirror_mode": {
    "name": "ipython",
    "version": 3
   },
   "file_extension": ".py",
   "mimetype": "text/x-python",
   "name": "python",
   "nbconvert_exporter": "python",
   "pygments_lexer": "ipython3",
   "version": "3.12.7"
  }
 },
 "nbformat": 4,
 "nbformat_minor": 2
}
