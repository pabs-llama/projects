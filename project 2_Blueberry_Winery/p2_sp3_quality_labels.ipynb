{
 "cells": [
  {
   "cell_type": "code",
   "execution_count": 1,
   "metadata": {},
   "outputs": [],
   "source": [
    "import pandas as pd\n",
    "import numpy  as np\n",
    "import matplotlib.pyplot as plt\n",
    "import statistics as st\n",
    "import seaborn as sns\n",
    "from sklearn.preprocessing import LabelEncoder\n",
    "from sklearn.preprocessing import OrdinalEncoder\n",
    "\n",
    "from sklearn.model_selection import train_test_split\n",
    "from scipy.stats import shapiro \n",
    "from scipy.stats import lognorm\n",
    "from scipy.stats import kstest\n",
    "from scipy.stats import zscore\n",
    "from sklearn.preprocessing import MinMaxScaler\n",
    "from sklearn.ensemble import RandomForestClassifier\n",
    "from sklearn.metrics import confusion_matrix\n",
    "from sklearn.metrics import ConfusionMatrixDisplay\n",
    "from sklearn.linear_model import LogisticRegression\n",
    "from sklearn.metrics import accuracy_score \n",
    "from sklearn.metrics import cohen_kappa_score\n",
    "import imblearn\n",
    "from sklearn.metrics import balanced_accuracy_score\n",
    "from imblearn.pipeline import make_pipeline\n",
    "from statistics import mean, stdev\n",
    "from sklearn import preprocessing\n",
    "from sklearn.model_selection import StratifiedKFold\n",
    "from sklearn import linear_model\n",
    "from sklearn import datasets\n",
    "\n",
    "\n",
    "from sklearn.metrics import classification_report, confusion_matrix, roc_auc_score\n",
    "import xgboost as xgb\n",
    "from imblearn.over_sampling import SMOTE\n",
    "\n",
    "\n",
    "\n",
    "\n",
    "red_wines = pd.read_csv(\"winequality-red.csv\", sep = \";\")\n",
    "white_wines = pd.read_csv(\"winequality-white.csv\", sep =\";\")"
   ]
  },
  {
   "cell_type": "code",
   "execution_count": 2,
   "metadata": {},
   "outputs": [],
   "source": [
    "# formatting\n",
    "red_wines.columns= red_wines.columns.str.replace(' ','_')\n",
    "white_wines.columns = white_wines.columns.str.replace(' ','_')\n",
    "\n",
    "#Quality categories\n",
    "red_wines ['quality_label'] = red_wines['quality'].apply(lambda value: 'low' if value <= 5 \n",
    "                                                        else 'medium' if value <= 7 \n",
    "                                                        else 'high')\n",
    "\n",
    "red_wines['quality_label'] = pd.Categorical(red_wines['quality_label'],\n",
    "categories=['low', 'medium', 'high'])\n",
    "\n",
    "white_wines ['quality_label'] = white_wines['quality'].apply(lambda value: 'low' if value <= 5 \n",
    "                                                        else 'medium' if value <= 7 \n",
    "                                                        else 'high')\n",
    "\n",
    "white_wines[\"quality_label\"] = pd.Categorical(white_wines[\"quality_label\"], categories = [\"low\",\"medium\",\"high\"])\n",
    "\n",
    "# Type of wine categories\n",
    "red_wines [\"type\"] = 'Red Wine'\n",
    "red_wines['type'] = pd.Categorical(red_wines['type'],\n",
    "categories=[\"Red Wine\",\"White Wine\"])\n",
    "\n",
    "white_wines [\"type\"] = 'White Wine'\n",
    "white_wines['type'] = pd.Categorical(white_wines['type'],\n",
    "categories=[\"Red Wine\",\"White Wine\"])\n",
    "\n",
    "# merge datasets\n",
    "white_and_red = pd.merge(red_wines, white_wines, how = \"outer\")\n",
    "\n",
    "#make copy\n",
    "white_and_red_ml= white_and_red.copy()"
   ]
  },
  {
   "cell_type": "code",
   "execution_count": 3,
   "metadata": {},
   "outputs": [
    {
     "data": {
      "text/plain": [
       "0    medium\n",
       "1      high\n",
       "2    medium\n",
       "3       low\n",
       "4      high\n",
       "5    medium\n",
       "6    medium\n",
       "7       low\n",
       "8       low\n",
       "9       low\n",
       "Name: quality_label, dtype: category\n",
       "Categories (3, object): ['low', 'medium', 'high']"
      ]
     },
     "execution_count": 3,
     "metadata": {},
     "output_type": "execute_result"
    }
   ],
   "source": [
    "white_and_red_ml[\"quality_label\"].head(10)"
   ]
  },
  {
   "cell_type": "markdown",
   "metadata": {},
   "source": [
    "# Filtering outliers"
   ]
  },
  {
   "cell_type": "code",
   "execution_count": 4,
   "metadata": {},
   "outputs": [
    {
     "name": "stdout",
     "output_type": "stream",
     "text": [
      "white wine shape;  (4898, 14) \n",
      "filtered white wine shape:  (4015, 14)\n"
     ]
    }
   ],
   "source": [
    "white_wines_clean= white_wines.drop(\"quality\", axis=1)\n",
    "numeric_columns_white = white_wines_clean.select_dtypes(include=['float64', 'int64'])\n",
    "\n",
    "white_wine_filtered= white_wines.copy()\n",
    "for column in numeric_columns_white.columns:\n",
    "        q1 = np.quantile(numeric_columns_white[column], 0.25)\n",
    "        q3 = np.quantile(numeric_columns_white[column], 0.75)\n",
    "        iqr = q3 - q1\n",
    "        lower = q1 - 1.5 * iqr\n",
    "        upper = q3 + 1.5 * iqr\n",
    "        # Filter rows based on the column's outlier range\n",
    "        white_wine_filtered = white_wine_filtered[(white_wine_filtered[column] >= lower) & (white_wine_filtered[column] <= upper)]\n",
    "print(\"white wine shape; \", white_wines.shape, \"\\nfiltered white wine shape: \", white_wine_filtered.shape)\n"
   ]
  },
  {
   "cell_type": "code",
   "execution_count": 5,
   "metadata": {},
   "outputs": [
    {
     "name": "stdout",
     "output_type": "stream",
     "text": [
      "red wine shape;  (1599, 14) \n",
      "filtered red wine shape:  (1194, 14)\n"
     ]
    }
   ],
   "source": [
    "red_wines_clean= red_wines.drop(\"quality\", axis=1)\n",
    "numeric_columns_red = red_wines_clean.select_dtypes(include=['float64', 'int64'])\n",
    "\n",
    "red_wine_filtered= red_wines.copy()\n",
    "for column in numeric_columns_red.columns: \n",
    "        q1 = np.quantile(numeric_columns_red[column], 0.25)\n",
    "        q3 = np.quantile(numeric_columns_red[column], 0.75)\n",
    "        iqr = q3 - q1\n",
    "        lower = q1 - 1.5 * iqr\n",
    "        upper = q3 + 1.5 * iqr\n",
    "        # Filter rows based on the column's outlier range\n",
    "        red_wine_filtered = red_wine_filtered[(red_wine_filtered[column] >= lower) & (red_wine_filtered[column] <= upper)]\n",
    "print(\"red wine shape; \", red_wines.shape, \"\\nfiltered red wine shape: \", red_wine_filtered.shape)"
   ]
  },
  {
   "cell_type": "markdown",
   "metadata": {},
   "source": [
    "# Encoding"
   ]
  },
  {
   "cell_type": "code",
   "execution_count": 6,
   "metadata": {},
   "outputs": [
    {
     "data": {
      "text/plain": [
       "0    medium\n",
       "1      high\n",
       "2    medium\n",
       "3       low\n",
       "4      high\n",
       "Name: quality_label, dtype: category\n",
       "Categories (3, object): ['low', 'medium', 'high']"
      ]
     },
     "execution_count": 6,
     "metadata": {},
     "output_type": "execute_result"
    }
   ],
   "source": [
    "enc = OrdinalEncoder(categories=[['low', 'medium', 'high']])\n",
    "white_and_red_ml['quality_label_encoded'] = enc.fit_transform(white_and_red_ml[['quality_label']])\n",
    "white_and_red_ml[\"quality_label\"].head()\n",
    "\n"
   ]
  },
  {
   "cell_type": "code",
   "execution_count": 7,
   "metadata": {},
   "outputs": [],
   "source": [
    "# le = LabelEncoder()\n",
    "# white_and_red_ml['quality_label'] = le.fit_transform(white_and_red_ml['quality_label'])\n",
    "# white_and_red_ml[\"quality_label\"].head()\n",
    "\n"
   ]
  },
  {
   "cell_type": "code",
   "execution_count": 8,
   "metadata": {},
   "outputs": [
    {
     "data": {
      "text/html": [
       "<div>\n",
       "<style scoped>\n",
       "    .dataframe tbody tr th:only-of-type {\n",
       "        vertical-align: middle;\n",
       "    }\n",
       "\n",
       "    .dataframe tbody tr th {\n",
       "        vertical-align: top;\n",
       "    }\n",
       "\n",
       "    .dataframe thead th {\n",
       "        text-align: right;\n",
       "    }\n",
       "</style>\n",
       "<table border=\"1\" class=\"dataframe\">\n",
       "  <thead>\n",
       "    <tr style=\"text-align: right;\">\n",
       "      <th></th>\n",
       "      <th>fixed_acidity</th>\n",
       "      <th>volatile_acidity</th>\n",
       "      <th>citric_acid</th>\n",
       "      <th>residual_sugar</th>\n",
       "      <th>chlorides</th>\n",
       "      <th>free_sulfur_dioxide</th>\n",
       "      <th>total_sulfur_dioxide</th>\n",
       "      <th>density</th>\n",
       "      <th>pH</th>\n",
       "      <th>sulphates</th>\n",
       "      <th>alcohol</th>\n",
       "      <th>quality</th>\n",
       "      <th>quality_label</th>\n",
       "      <th>type</th>\n",
       "      <th>quality_label_encoded</th>\n",
       "    </tr>\n",
       "  </thead>\n",
       "  <tbody>\n",
       "    <tr>\n",
       "      <th>0</th>\n",
       "      <td>3.8</td>\n",
       "      <td>0.310</td>\n",
       "      <td>0.02</td>\n",
       "      <td>11.1</td>\n",
       "      <td>0.036</td>\n",
       "      <td>20.0</td>\n",
       "      <td>114.0</td>\n",
       "      <td>0.99248</td>\n",
       "      <td>3.75</td>\n",
       "      <td>0.44</td>\n",
       "      <td>12.4</td>\n",
       "      <td>6</td>\n",
       "      <td>medium</td>\n",
       "      <td>White Wine</td>\n",
       "      <td>1.0</td>\n",
       "    </tr>\n",
       "    <tr>\n",
       "      <th>1</th>\n",
       "      <td>3.9</td>\n",
       "      <td>0.225</td>\n",
       "      <td>0.40</td>\n",
       "      <td>4.2</td>\n",
       "      <td>0.030</td>\n",
       "      <td>29.0</td>\n",
       "      <td>118.0</td>\n",
       "      <td>0.98900</td>\n",
       "      <td>3.57</td>\n",
       "      <td>0.36</td>\n",
       "      <td>12.8</td>\n",
       "      <td>8</td>\n",
       "      <td>high</td>\n",
       "      <td>White Wine</td>\n",
       "      <td>2.0</td>\n",
       "    </tr>\n",
       "    <tr>\n",
       "      <th>2</th>\n",
       "      <td>4.2</td>\n",
       "      <td>0.170</td>\n",
       "      <td>0.36</td>\n",
       "      <td>1.8</td>\n",
       "      <td>0.029</td>\n",
       "      <td>93.0</td>\n",
       "      <td>161.0</td>\n",
       "      <td>0.98999</td>\n",
       "      <td>3.65</td>\n",
       "      <td>0.89</td>\n",
       "      <td>12.0</td>\n",
       "      <td>7</td>\n",
       "      <td>medium</td>\n",
       "      <td>White Wine</td>\n",
       "      <td>1.0</td>\n",
       "    </tr>\n",
       "    <tr>\n",
       "      <th>3</th>\n",
       "      <td>4.2</td>\n",
       "      <td>0.215</td>\n",
       "      <td>0.23</td>\n",
       "      <td>5.1</td>\n",
       "      <td>0.041</td>\n",
       "      <td>64.0</td>\n",
       "      <td>157.0</td>\n",
       "      <td>0.99688</td>\n",
       "      <td>3.42</td>\n",
       "      <td>0.44</td>\n",
       "      <td>8.0</td>\n",
       "      <td>3</td>\n",
       "      <td>low</td>\n",
       "      <td>White Wine</td>\n",
       "      <td>0.0</td>\n",
       "    </tr>\n",
       "    <tr>\n",
       "      <th>4</th>\n",
       "      <td>4.4</td>\n",
       "      <td>0.320</td>\n",
       "      <td>0.39</td>\n",
       "      <td>4.3</td>\n",
       "      <td>0.030</td>\n",
       "      <td>31.0</td>\n",
       "      <td>127.0</td>\n",
       "      <td>0.98904</td>\n",
       "      <td>3.46</td>\n",
       "      <td>0.36</td>\n",
       "      <td>12.8</td>\n",
       "      <td>8</td>\n",
       "      <td>high</td>\n",
       "      <td>White Wine</td>\n",
       "      <td>2.0</td>\n",
       "    </tr>\n",
       "  </tbody>\n",
       "</table>\n",
       "</div>"
      ],
      "text/plain": [
       "   fixed_acidity  volatile_acidity  citric_acid  residual_sugar  chlorides  \\\n",
       "0            3.8             0.310         0.02            11.1      0.036   \n",
       "1            3.9             0.225         0.40             4.2      0.030   \n",
       "2            4.2             0.170         0.36             1.8      0.029   \n",
       "3            4.2             0.215         0.23             5.1      0.041   \n",
       "4            4.4             0.320         0.39             4.3      0.030   \n",
       "\n",
       "   free_sulfur_dioxide  total_sulfur_dioxide  density    pH  sulphates  \\\n",
       "0                 20.0                 114.0  0.99248  3.75       0.44   \n",
       "1                 29.0                 118.0  0.98900  3.57       0.36   \n",
       "2                 93.0                 161.0  0.98999  3.65       0.89   \n",
       "3                 64.0                 157.0  0.99688  3.42       0.44   \n",
       "4                 31.0                 127.0  0.98904  3.46       0.36   \n",
       "\n",
       "   alcohol  quality quality_label        type  quality_label_encoded  \n",
       "0     12.4        6        medium  White Wine                    1.0  \n",
       "1     12.8        8          high  White Wine                    2.0  \n",
       "2     12.0        7        medium  White Wine                    1.0  \n",
       "3      8.0        3           low  White Wine                    0.0  \n",
       "4     12.8        8          high  White Wine                    2.0  "
      ]
     },
     "execution_count": 8,
     "metadata": {},
     "output_type": "execute_result"
    }
   ],
   "source": [
    "white_and_red_ml.head()"
   ]
  },
  {
   "cell_type": "code",
   "execution_count": 9,
   "metadata": {},
   "outputs": [
    {
     "name": "stdout",
     "output_type": "stream",
     "text": [
      "original: (6497, 15) \n",
      "X: (6497, 11) \n",
      "y: (6497,)\n"
     ]
    },
    {
     "data": {
      "text/plain": [
       "(1300,)"
      ]
     },
     "execution_count": 9,
     "metadata": {},
     "output_type": "execute_result"
    }
   ],
   "source": [
    "# split data\n",
    "\n",
    "X=white_and_red_ml.drop([\"type\",\"quality_label\",\"quality\",\"quality_label_encoded\"], axis=1)\n",
    "y= white_and_red_ml[\"quality_label_encoded\"]\n",
    "\n",
    "print(\"original:\", white_and_red_ml.shape, \"\\nX:\", X.shape, \"\\ny:\", y.shape)\n",
    "\n",
    "\n",
    "X_train, X_test, y_train, y_test = train_test_split(X, y, test_size=0.20, random_state=42)\n",
    "y_test.shape"
   ]
  },
  {
   "cell_type": "markdown",
   "metadata": {},
   "source": [
    "# Normalization"
   ]
  },
  {
   "cell_type": "code",
   "execution_count": 10,
   "metadata": {},
   "outputs": [],
   "source": [
    "# Standarization and normalization\n",
    "\n",
    "norm = MinMaxScaler().fit(X_train)\n",
    "\n",
    "# transform training data\n",
    "X_train_norm = norm.transform(X_train)\n",
    "\n",
    "# transform testing data\n",
    "X_test_norm = norm.transform(X_test)"
   ]
  },
  {
   "cell_type": "markdown",
   "metadata": {},
   "source": [
    "# Logistic Regression"
   ]
  },
  {
   "cell_type": "code",
   "execution_count": 11,
   "metadata": {},
   "outputs": [
    {
     "name": "stdout",
     "output_type": "stream",
     "text": [
      "0.7038461538461539\n"
     ]
    },
    {
     "data": {
      "text/html": [
       "<style>#sk-container-id-1 {\n",
       "  /* Definition of color scheme common for light and dark mode */\n",
       "  --sklearn-color-text: #000;\n",
       "  --sklearn-color-text-muted: #666;\n",
       "  --sklearn-color-line: gray;\n",
       "  /* Definition of color scheme for unfitted estimators */\n",
       "  --sklearn-color-unfitted-level-0: #fff5e6;\n",
       "  --sklearn-color-unfitted-level-1: #f6e4d2;\n",
       "  --sklearn-color-unfitted-level-2: #ffe0b3;\n",
       "  --sklearn-color-unfitted-level-3: chocolate;\n",
       "  /* Definition of color scheme for fitted estimators */\n",
       "  --sklearn-color-fitted-level-0: #f0f8ff;\n",
       "  --sklearn-color-fitted-level-1: #d4ebff;\n",
       "  --sklearn-color-fitted-level-2: #b3dbfd;\n",
       "  --sklearn-color-fitted-level-3: cornflowerblue;\n",
       "\n",
       "  /* Specific color for light theme */\n",
       "  --sklearn-color-text-on-default-background: var(--sg-text-color, var(--theme-code-foreground, var(--jp-content-font-color1, black)));\n",
       "  --sklearn-color-background: var(--sg-background-color, var(--theme-background, var(--jp-layout-color0, white)));\n",
       "  --sklearn-color-border-box: var(--sg-text-color, var(--theme-code-foreground, var(--jp-content-font-color1, black)));\n",
       "  --sklearn-color-icon: #696969;\n",
       "\n",
       "  @media (prefers-color-scheme: dark) {\n",
       "    /* Redefinition of color scheme for dark theme */\n",
       "    --sklearn-color-text-on-default-background: var(--sg-text-color, var(--theme-code-foreground, var(--jp-content-font-color1, white)));\n",
       "    --sklearn-color-background: var(--sg-background-color, var(--theme-background, var(--jp-layout-color0, #111)));\n",
       "    --sklearn-color-border-box: var(--sg-text-color, var(--theme-code-foreground, var(--jp-content-font-color1, white)));\n",
       "    --sklearn-color-icon: #878787;\n",
       "  }\n",
       "}\n",
       "\n",
       "#sk-container-id-1 {\n",
       "  color: var(--sklearn-color-text);\n",
       "}\n",
       "\n",
       "#sk-container-id-1 pre {\n",
       "  padding: 0;\n",
       "}\n",
       "\n",
       "#sk-container-id-1 input.sk-hidden--visually {\n",
       "  border: 0;\n",
       "  clip: rect(1px 1px 1px 1px);\n",
       "  clip: rect(1px, 1px, 1px, 1px);\n",
       "  height: 1px;\n",
       "  margin: -1px;\n",
       "  overflow: hidden;\n",
       "  padding: 0;\n",
       "  position: absolute;\n",
       "  width: 1px;\n",
       "}\n",
       "\n",
       "#sk-container-id-1 div.sk-dashed-wrapped {\n",
       "  border: 1px dashed var(--sklearn-color-line);\n",
       "  margin: 0 0.4em 0.5em 0.4em;\n",
       "  box-sizing: border-box;\n",
       "  padding-bottom: 0.4em;\n",
       "  background-color: var(--sklearn-color-background);\n",
       "}\n",
       "\n",
       "#sk-container-id-1 div.sk-container {\n",
       "  /* jupyter's `normalize.less` sets `[hidden] { display: none; }`\n",
       "     but bootstrap.min.css set `[hidden] { display: none !important; }`\n",
       "     so we also need the `!important` here to be able to override the\n",
       "     default hidden behavior on the sphinx rendered scikit-learn.org.\n",
       "     See: https://github.com/scikit-learn/scikit-learn/issues/21755 */\n",
       "  display: inline-block !important;\n",
       "  position: relative;\n",
       "}\n",
       "\n",
       "#sk-container-id-1 div.sk-text-repr-fallback {\n",
       "  display: none;\n",
       "}\n",
       "\n",
       "div.sk-parallel-item,\n",
       "div.sk-serial,\n",
       "div.sk-item {\n",
       "  /* draw centered vertical line to link estimators */\n",
       "  background-image: linear-gradient(var(--sklearn-color-text-on-default-background), var(--sklearn-color-text-on-default-background));\n",
       "  background-size: 2px 100%;\n",
       "  background-repeat: no-repeat;\n",
       "  background-position: center center;\n",
       "}\n",
       "\n",
       "/* Parallel-specific style estimator block */\n",
       "\n",
       "#sk-container-id-1 div.sk-parallel-item::after {\n",
       "  content: \"\";\n",
       "  width: 100%;\n",
       "  border-bottom: 2px solid var(--sklearn-color-text-on-default-background);\n",
       "  flex-grow: 1;\n",
       "}\n",
       "\n",
       "#sk-container-id-1 div.sk-parallel {\n",
       "  display: flex;\n",
       "  align-items: stretch;\n",
       "  justify-content: center;\n",
       "  background-color: var(--sklearn-color-background);\n",
       "  position: relative;\n",
       "}\n",
       "\n",
       "#sk-container-id-1 div.sk-parallel-item {\n",
       "  display: flex;\n",
       "  flex-direction: column;\n",
       "}\n",
       "\n",
       "#sk-container-id-1 div.sk-parallel-item:first-child::after {\n",
       "  align-self: flex-end;\n",
       "  width: 50%;\n",
       "}\n",
       "\n",
       "#sk-container-id-1 div.sk-parallel-item:last-child::after {\n",
       "  align-self: flex-start;\n",
       "  width: 50%;\n",
       "}\n",
       "\n",
       "#sk-container-id-1 div.sk-parallel-item:only-child::after {\n",
       "  width: 0;\n",
       "}\n",
       "\n",
       "/* Serial-specific style estimator block */\n",
       "\n",
       "#sk-container-id-1 div.sk-serial {\n",
       "  display: flex;\n",
       "  flex-direction: column;\n",
       "  align-items: center;\n",
       "  background-color: var(--sklearn-color-background);\n",
       "  padding-right: 1em;\n",
       "  padding-left: 1em;\n",
       "}\n",
       "\n",
       "\n",
       "/* Toggleable style: style used for estimator/Pipeline/ColumnTransformer box that is\n",
       "clickable and can be expanded/collapsed.\n",
       "- Pipeline and ColumnTransformer use this feature and define the default style\n",
       "- Estimators will overwrite some part of the style using the `sk-estimator` class\n",
       "*/\n",
       "\n",
       "/* Pipeline and ColumnTransformer style (default) */\n",
       "\n",
       "#sk-container-id-1 div.sk-toggleable {\n",
       "  /* Default theme specific background. It is overwritten whether we have a\n",
       "  specific estimator or a Pipeline/ColumnTransformer */\n",
       "  background-color: var(--sklearn-color-background);\n",
       "}\n",
       "\n",
       "/* Toggleable label */\n",
       "#sk-container-id-1 label.sk-toggleable__label {\n",
       "  cursor: pointer;\n",
       "  display: flex;\n",
       "  width: 100%;\n",
       "  margin-bottom: 0;\n",
       "  padding: 0.5em;\n",
       "  box-sizing: border-box;\n",
       "  text-align: center;\n",
       "  align-items: start;\n",
       "  justify-content: space-between;\n",
       "  gap: 0.5em;\n",
       "}\n",
       "\n",
       "#sk-container-id-1 label.sk-toggleable__label .caption {\n",
       "  font-size: 0.6rem;\n",
       "  font-weight: lighter;\n",
       "  color: var(--sklearn-color-text-muted);\n",
       "}\n",
       "\n",
       "#sk-container-id-1 label.sk-toggleable__label-arrow:before {\n",
       "  /* Arrow on the left of the label */\n",
       "  content: \"▸\";\n",
       "  float: left;\n",
       "  margin-right: 0.25em;\n",
       "  color: var(--sklearn-color-icon);\n",
       "}\n",
       "\n",
       "#sk-container-id-1 label.sk-toggleable__label-arrow:hover:before {\n",
       "  color: var(--sklearn-color-text);\n",
       "}\n",
       "\n",
       "/* Toggleable content - dropdown */\n",
       "\n",
       "#sk-container-id-1 div.sk-toggleable__content {\n",
       "  max-height: 0;\n",
       "  max-width: 0;\n",
       "  overflow: hidden;\n",
       "  text-align: left;\n",
       "  /* unfitted */\n",
       "  background-color: var(--sklearn-color-unfitted-level-0);\n",
       "}\n",
       "\n",
       "#sk-container-id-1 div.sk-toggleable__content.fitted {\n",
       "  /* fitted */\n",
       "  background-color: var(--sklearn-color-fitted-level-0);\n",
       "}\n",
       "\n",
       "#sk-container-id-1 div.sk-toggleable__content pre {\n",
       "  margin: 0.2em;\n",
       "  border-radius: 0.25em;\n",
       "  color: var(--sklearn-color-text);\n",
       "  /* unfitted */\n",
       "  background-color: var(--sklearn-color-unfitted-level-0);\n",
       "}\n",
       "\n",
       "#sk-container-id-1 div.sk-toggleable__content.fitted pre {\n",
       "  /* unfitted */\n",
       "  background-color: var(--sklearn-color-fitted-level-0);\n",
       "}\n",
       "\n",
       "#sk-container-id-1 input.sk-toggleable__control:checked~div.sk-toggleable__content {\n",
       "  /* Expand drop-down */\n",
       "  max-height: 200px;\n",
       "  max-width: 100%;\n",
       "  overflow: auto;\n",
       "}\n",
       "\n",
       "#sk-container-id-1 input.sk-toggleable__control:checked~label.sk-toggleable__label-arrow:before {\n",
       "  content: \"▾\";\n",
       "}\n",
       "\n",
       "/* Pipeline/ColumnTransformer-specific style */\n",
       "\n",
       "#sk-container-id-1 div.sk-label input.sk-toggleable__control:checked~label.sk-toggleable__label {\n",
       "  color: var(--sklearn-color-text);\n",
       "  background-color: var(--sklearn-color-unfitted-level-2);\n",
       "}\n",
       "\n",
       "#sk-container-id-1 div.sk-label.fitted input.sk-toggleable__control:checked~label.sk-toggleable__label {\n",
       "  background-color: var(--sklearn-color-fitted-level-2);\n",
       "}\n",
       "\n",
       "/* Estimator-specific style */\n",
       "\n",
       "/* Colorize estimator box */\n",
       "#sk-container-id-1 div.sk-estimator input.sk-toggleable__control:checked~label.sk-toggleable__label {\n",
       "  /* unfitted */\n",
       "  background-color: var(--sklearn-color-unfitted-level-2);\n",
       "}\n",
       "\n",
       "#sk-container-id-1 div.sk-estimator.fitted input.sk-toggleable__control:checked~label.sk-toggleable__label {\n",
       "  /* fitted */\n",
       "  background-color: var(--sklearn-color-fitted-level-2);\n",
       "}\n",
       "\n",
       "#sk-container-id-1 div.sk-label label.sk-toggleable__label,\n",
       "#sk-container-id-1 div.sk-label label {\n",
       "  /* The background is the default theme color */\n",
       "  color: var(--sklearn-color-text-on-default-background);\n",
       "}\n",
       "\n",
       "/* On hover, darken the color of the background */\n",
       "#sk-container-id-1 div.sk-label:hover label.sk-toggleable__label {\n",
       "  color: var(--sklearn-color-text);\n",
       "  background-color: var(--sklearn-color-unfitted-level-2);\n",
       "}\n",
       "\n",
       "/* Label box, darken color on hover, fitted */\n",
       "#sk-container-id-1 div.sk-label.fitted:hover label.sk-toggleable__label.fitted {\n",
       "  color: var(--sklearn-color-text);\n",
       "  background-color: var(--sklearn-color-fitted-level-2);\n",
       "}\n",
       "\n",
       "/* Estimator label */\n",
       "\n",
       "#sk-container-id-1 div.sk-label label {\n",
       "  font-family: monospace;\n",
       "  font-weight: bold;\n",
       "  display: inline-block;\n",
       "  line-height: 1.2em;\n",
       "}\n",
       "\n",
       "#sk-container-id-1 div.sk-label-container {\n",
       "  text-align: center;\n",
       "}\n",
       "\n",
       "/* Estimator-specific */\n",
       "#sk-container-id-1 div.sk-estimator {\n",
       "  font-family: monospace;\n",
       "  border: 1px dotted var(--sklearn-color-border-box);\n",
       "  border-radius: 0.25em;\n",
       "  box-sizing: border-box;\n",
       "  margin-bottom: 0.5em;\n",
       "  /* unfitted */\n",
       "  background-color: var(--sklearn-color-unfitted-level-0);\n",
       "}\n",
       "\n",
       "#sk-container-id-1 div.sk-estimator.fitted {\n",
       "  /* fitted */\n",
       "  background-color: var(--sklearn-color-fitted-level-0);\n",
       "}\n",
       "\n",
       "/* on hover */\n",
       "#sk-container-id-1 div.sk-estimator:hover {\n",
       "  /* unfitted */\n",
       "  background-color: var(--sklearn-color-unfitted-level-2);\n",
       "}\n",
       "\n",
       "#sk-container-id-1 div.sk-estimator.fitted:hover {\n",
       "  /* fitted */\n",
       "  background-color: var(--sklearn-color-fitted-level-2);\n",
       "}\n",
       "\n",
       "/* Specification for estimator info (e.g. \"i\" and \"?\") */\n",
       "\n",
       "/* Common style for \"i\" and \"?\" */\n",
       "\n",
       ".sk-estimator-doc-link,\n",
       "a:link.sk-estimator-doc-link,\n",
       "a:visited.sk-estimator-doc-link {\n",
       "  float: right;\n",
       "  font-size: smaller;\n",
       "  line-height: 1em;\n",
       "  font-family: monospace;\n",
       "  background-color: var(--sklearn-color-background);\n",
       "  border-radius: 1em;\n",
       "  height: 1em;\n",
       "  width: 1em;\n",
       "  text-decoration: none !important;\n",
       "  margin-left: 0.5em;\n",
       "  text-align: center;\n",
       "  /* unfitted */\n",
       "  border: var(--sklearn-color-unfitted-level-1) 1pt solid;\n",
       "  color: var(--sklearn-color-unfitted-level-1);\n",
       "}\n",
       "\n",
       ".sk-estimator-doc-link.fitted,\n",
       "a:link.sk-estimator-doc-link.fitted,\n",
       "a:visited.sk-estimator-doc-link.fitted {\n",
       "  /* fitted */\n",
       "  border: var(--sklearn-color-fitted-level-1) 1pt solid;\n",
       "  color: var(--sklearn-color-fitted-level-1);\n",
       "}\n",
       "\n",
       "/* On hover */\n",
       "div.sk-estimator:hover .sk-estimator-doc-link:hover,\n",
       ".sk-estimator-doc-link:hover,\n",
       "div.sk-label-container:hover .sk-estimator-doc-link:hover,\n",
       ".sk-estimator-doc-link:hover {\n",
       "  /* unfitted */\n",
       "  background-color: var(--sklearn-color-unfitted-level-3);\n",
       "  color: var(--sklearn-color-background);\n",
       "  text-decoration: none;\n",
       "}\n",
       "\n",
       "div.sk-estimator.fitted:hover .sk-estimator-doc-link.fitted:hover,\n",
       ".sk-estimator-doc-link.fitted:hover,\n",
       "div.sk-label-container:hover .sk-estimator-doc-link.fitted:hover,\n",
       ".sk-estimator-doc-link.fitted:hover {\n",
       "  /* fitted */\n",
       "  background-color: var(--sklearn-color-fitted-level-3);\n",
       "  color: var(--sklearn-color-background);\n",
       "  text-decoration: none;\n",
       "}\n",
       "\n",
       "/* Span, style for the box shown on hovering the info icon */\n",
       ".sk-estimator-doc-link span {\n",
       "  display: none;\n",
       "  z-index: 9999;\n",
       "  position: relative;\n",
       "  font-weight: normal;\n",
       "  right: .2ex;\n",
       "  padding: .5ex;\n",
       "  margin: .5ex;\n",
       "  width: min-content;\n",
       "  min-width: 20ex;\n",
       "  max-width: 50ex;\n",
       "  color: var(--sklearn-color-text);\n",
       "  box-shadow: 2pt 2pt 4pt #999;\n",
       "  /* unfitted */\n",
       "  background: var(--sklearn-color-unfitted-level-0);\n",
       "  border: .5pt solid var(--sklearn-color-unfitted-level-3);\n",
       "}\n",
       "\n",
       ".sk-estimator-doc-link.fitted span {\n",
       "  /* fitted */\n",
       "  background: var(--sklearn-color-fitted-level-0);\n",
       "  border: var(--sklearn-color-fitted-level-3);\n",
       "}\n",
       "\n",
       ".sk-estimator-doc-link:hover span {\n",
       "  display: block;\n",
       "}\n",
       "\n",
       "/* \"?\"-specific style due to the `<a>` HTML tag */\n",
       "\n",
       "#sk-container-id-1 a.estimator_doc_link {\n",
       "  float: right;\n",
       "  font-size: 1rem;\n",
       "  line-height: 1em;\n",
       "  font-family: monospace;\n",
       "  background-color: var(--sklearn-color-background);\n",
       "  border-radius: 1rem;\n",
       "  height: 1rem;\n",
       "  width: 1rem;\n",
       "  text-decoration: none;\n",
       "  /* unfitted */\n",
       "  color: var(--sklearn-color-unfitted-level-1);\n",
       "  border: var(--sklearn-color-unfitted-level-1) 1pt solid;\n",
       "}\n",
       "\n",
       "#sk-container-id-1 a.estimator_doc_link.fitted {\n",
       "  /* fitted */\n",
       "  border: var(--sklearn-color-fitted-level-1) 1pt solid;\n",
       "  color: var(--sklearn-color-fitted-level-1);\n",
       "}\n",
       "\n",
       "/* On hover */\n",
       "#sk-container-id-1 a.estimator_doc_link:hover {\n",
       "  /* unfitted */\n",
       "  background-color: var(--sklearn-color-unfitted-level-3);\n",
       "  color: var(--sklearn-color-background);\n",
       "  text-decoration: none;\n",
       "}\n",
       "\n",
       "#sk-container-id-1 a.estimator_doc_link.fitted:hover {\n",
       "  /* fitted */\n",
       "  background-color: var(--sklearn-color-fitted-level-3);\n",
       "}\n",
       "</style><div id=\"sk-container-id-1\" class=\"sk-top-container\"><div class=\"sk-text-repr-fallback\"><pre>LogisticRegression(max_iter=700)</pre><b>In a Jupyter environment, please rerun this cell to show the HTML representation or trust the notebook. <br />On GitHub, the HTML representation is unable to render, please try loading this page with nbviewer.org.</b></div><div class=\"sk-container\" hidden><div class=\"sk-item\"><div class=\"sk-estimator fitted sk-toggleable\"><input class=\"sk-toggleable__control sk-hidden--visually\" id=\"sk-estimator-id-1\" type=\"checkbox\" checked><label for=\"sk-estimator-id-1\" class=\"sk-toggleable__label fitted sk-toggleable__label-arrow\"><div><div>LogisticRegression</div></div><div><a class=\"sk-estimator-doc-link fitted\" rel=\"noreferrer\" target=\"_blank\" href=\"https://scikit-learn.org/1.6/modules/generated/sklearn.linear_model.LogisticRegression.html\">?<span>Documentation for LogisticRegression</span></a><span class=\"sk-estimator-doc-link fitted\">i<span>Fitted</span></span></div></label><div class=\"sk-toggleable__content fitted\"><pre>LogisticRegression(max_iter=700)</pre></div> </div></div></div></div>"
      ],
      "text/plain": [
       "LogisticRegression(max_iter=700)"
      ]
     },
     "execution_count": 11,
     "metadata": {},
     "output_type": "execute_result"
    }
   ],
   "source": [
    "## logistic regression\n",
    "LR_model = LogisticRegression(max_iter=700)\n",
    "LR_model.fit(X_train_norm, y_train)\n",
    "preds = LR_model.predict(X_test_norm)\n",
    "\n",
    "## Accuracy\n",
    "acc = accuracy_score(y_test, preds)\n",
    "print(acc)\n",
    "LR_model"
   ]
  },
  {
   "cell_type": "code",
   "execution_count": null,
   "metadata": {},
   "outputs": [
    {
     "name": "stdout",
     "output_type": "stream",
     "text": [
      "original: (5209, 15) \n",
      "X: (5209, 11) \n",
      "y: (5209,)\n",
      "logistic regression accuracy: 0.7092\n",
      "Cohen-Kappa score: 0.3259\n",
      "The balanced accuracy score is 0.4452\n"
     ]
    }
   ],
   "source": [
    "# merge datasets\n",
    "white_and_red_filtered = pd.merge(red_wine_filtered, white_wine_filtered, how = \"outer\")\n",
    "\n",
    "# Encoding\n",
    "enc = OrdinalEncoder(categories=[['low', 'medium', 'high']])\n",
    "white_and_red_filtered['quality_label_encoded'] = enc.fit_transform(white_and_red_filtered[['quality_label']])\n",
    "\n",
    "\n",
    "from sklearn.model_selection import train_test_split\n",
    "X2=white_and_red_filtered.drop([\"type\",\"quality_label\",\"quality\",\"quality_label_encoded\"], axis=1)\n",
    "y2= white_and_red_filtered[\"quality_label_encoded\"]\n",
    "\n",
    "print(\"original:\", white_and_red_filtered .shape, \"\\nX:\", X2.shape, \"\\ny:\", y2.shape)\n",
    "\n",
    "X2_train, X2_test, y2_train, y2_test = train_test_split(X2, y2, test_size=0.20, random_state=42)\n",
    "## standarization\n",
    "norm = MinMaxScaler().fit(X2_train)\n",
    "\n",
    "# transform training data\n",
    "X2_train_norm = norm.transform(X2_train)\n",
    "\n",
    "# transform testing data\n",
    "X2_test_norm = norm.transform(X2_test)\n",
    "## logistic regression\n",
    "LR_model2 = LogisticRegression(max_iter=700)\n",
    "LR_model2.fit(X2_train_norm, y2_train)\n",
    "preds2 = LR_model2.predict(X2_test_norm)\n",
    "\n",
    "## Accuracy\n",
    "acc2 = accuracy_score(y2_test, preds2)\n",
    "\n",
    "print(f\"logistic regression accuracy: {acc2:.4f}\")\n",
    "kappa_lr = cohen_kappa_score(preds2, y2_test)\n",
    "print(f\"Cohen-Kappa score: {kappa_lr:.4f}\")\n",
    "print(f\"The balanced accuracy score is {balanced_accuracy_score(y2_test, preds2):.4f}\")\n"
   ]
  },
  {
   "cell_type": "markdown",
   "metadata": {},
   "source": [
    "# Random forest"
   ]
  },
  {
   "cell_type": "markdown",
   "metadata": {},
   "source": [
    "## Model 1"
   ]
  },
  {
   "cell_type": "code",
   "execution_count": 99,
   "metadata": {},
   "outputs": [
    {
     "name": "stdout",
     "output_type": "stream",
     "text": [
      "Random Forest Accuracy score: 0.8948\n",
      "Cohen-Kappa score: 0.8423\n",
      "The balanced accuracy score is 0.8948\n"
     ]
    }
   ],
   "source": [
    "#NO filters\n",
    "# # define model\n",
    "RF_clf = RandomForestClassifier(random_state=42)\n",
    "# fit model\n",
    "RF_clf.fit(X_train_norm, y_train)\n",
    "# make predictions\n",
    "RF_preds = RF_clf.predict(X_test_norm)\n",
    "\n",
    "RF_acc = accuracy_score(y_test, RF_preds)\n",
    "print( f\"Random Forest Accuracy score: {RF_acc:.4f}\")\n",
    "kappa = cohen_kappa_score(RF_preds, y_test)\n",
    "print(f\"Cohen-Kappa score: {kappa:.4f}\")\n",
    "print(f\"The balanced accuracy score is {balanced_accuracy_score(y_test, RF_preds):.4f}\")"
   ]
  },
  {
   "cell_type": "code",
   "execution_count": 100,
   "metadata": {},
   "outputs": [
    {
     "name": "stdout",
     "output_type": "stream",
     "text": [
      "Random Forest Accuracy score: 0.8157\n",
      "Cohen-Kappa score: 0.5917\n",
      "The balanced accuracy score is 0.6391\n"
     ]
    }
   ],
   "source": [
    "# with filtered outliers\n",
    "# define model\n",
    "RF_clf = RandomForestClassifier(random_state=42)\n",
    "# fit model\n",
    "RF_clf.fit(X2_train_norm, y2_train)\n",
    "# make predictions\n",
    "RF_preds = RF_clf.predict(X2_test_norm)\n",
    "\n",
    "RF_acc = accuracy_score(y2_test, RF_preds)\n",
    "print( f\"Random Forest Accuracy score: {RF_acc:.4f}\")\n",
    "kappa = cohen_kappa_score(RF_preds, y2_test)\n",
    "print(f\"Cohen-Kappa score: {kappa:.4f}\")\n",
    "print(f\"The balanced accuracy score is {balanced_accuracy_score(y2_test, RF_preds):.4f}\")"
   ]
  },
  {
   "cell_type": "markdown",
   "metadata": {},
   "source": [
    "## Balancing the data set"
   ]
  },
  {
   "cell_type": "markdown",
   "metadata": {},
   "source": [
    "### Model 2\n"
   ]
  },
  {
   "cell_type": "code",
   "execution_count": 101,
   "metadata": {},
   "outputs": [
    {
     "name": "stdout",
     "output_type": "stream",
     "text": [
      "Random Forest Accuracy score: 0.8959\n",
      "Cohen-Kappa score: 0.8438\n",
      "The balanced accuracy score is 0.8958\n"
     ]
    }
   ],
   "source": [
    "# with balanced class_weight and unfiltered\n",
    "# define model\n",
    "RF2_clf = RandomForestClassifier(random_state=42, class_weight=\"balanced\")\n",
    "# fit model\n",
    "RF2_clf.fit(X_train_norm, y_train)\n",
    "# make predictions\n",
    "RF2_preds = RF2_clf.predict(X_test_norm)\n",
    "\n",
    "RF2_acc = accuracy_score(y_test, RF2_preds)\n",
    "print( f\"Random Forest Accuracy score: {RF2_acc:.4f}\")\n",
    "kappa = cohen_kappa_score(RF2_preds, y_test)\n",
    "print(f\"Cohen-Kappa score: {kappa:.4f}\")\n",
    "print(f\"The balanced accuracy score is {balanced_accuracy_score(y_test, RF2_preds):.4f}\")"
   ]
  },
  {
   "cell_type": "code",
   "execution_count": null,
   "metadata": {},
   "outputs": [
    {
     "name": "stdout",
     "output_type": "stream",
     "text": [
      "Random Forest Accuracy score: 0.8129\n",
      "Cohen-Kappa score: 0.5839\n",
      "The balanced accuracy score is 0.6355\n"
     ]
    }
   ],
   "source": [
    "# with balanced class_weight and filtered\n",
    "# define model\n",
    "RF2_clf = RandomForestClassifier(random_state=42, class_weight=\"balanced\")\n",
    "# fit model\n",
    "RF2_clf.fit(X2_train_norm, y2_train)\n",
    "# make predictions\n",
    "RF2_preds = RF2_clf.predict(X2_test_norm)\n",
    "\n",
    "RF2_acc = accuracy_score(y2_test, RF2_preds)\n",
    "print( f\"Random Forest Accuracy score: {RF2_acc:.4f}\")\n",
    "kappa = cohen_kappa_score(RF2_preds, y2_test)\n",
    "print(f\"Cohen-Kappa score: {kappa:.4f}\")\n",
    "print(f\"The balanced accuracy score is {balanced_accuracy_score(y2_test, RF2_preds):.4f}\")"
   ]
  },
  {
   "cell_type": "code",
   "execution_count": 15,
   "metadata": {},
   "outputs": [
    {
     "data": {
      "text/html": [
       "<div>\n",
       "<style scoped>\n",
       "    .dataframe tbody tr th:only-of-type {\n",
       "        vertical-align: middle;\n",
       "    }\n",
       "\n",
       "    .dataframe tbody tr th {\n",
       "        vertical-align: top;\n",
       "    }\n",
       "\n",
       "    .dataframe thead th {\n",
       "        text-align: right;\n",
       "    }\n",
       "</style>\n",
       "<table border=\"1\" class=\"dataframe\">\n",
       "  <thead>\n",
       "    <tr style=\"text-align: right;\">\n",
       "      <th></th>\n",
       "      <th>0</th>\n",
       "      <th>1</th>\n",
       "      <th>2</th>\n",
       "    </tr>\n",
       "  </thead>\n",
       "  <tbody>\n",
       "    <tr>\n",
       "      <th>0</th>\n",
       "      <td>225</td>\n",
       "      <td>105</td>\n",
       "      <td>0</td>\n",
       "    </tr>\n",
       "    <tr>\n",
       "      <th>1</th>\n",
       "      <td>66</td>\n",
       "      <td>611</td>\n",
       "      <td>1</td>\n",
       "    </tr>\n",
       "    <tr>\n",
       "      <th>2</th>\n",
       "      <td>0</td>\n",
       "      <td>23</td>\n",
       "      <td>11</td>\n",
       "    </tr>\n",
       "  </tbody>\n",
       "</table>\n",
       "</div>"
      ],
      "text/plain": [
       "     0    1   2\n",
       "0  225  105   0\n",
       "1   66  611   1\n",
       "2    0   23  11"
      ]
     },
     "metadata": {},
     "output_type": "display_data"
    }
   ],
   "source": [
    "labels = np.unique(y2_test)\n",
    "a = confusion_matrix(y2_test, RF2_preds, labels=labels)\n",
    "a = pd.DataFrame(a)\n",
    "display(a)"
   ]
  },
  {
   "cell_type": "markdown",
   "metadata": {},
   "source": [
    "### Model 3\n",
    "RF with SMOTE & balanced class weight"
   ]
  },
  {
   "cell_type": "code",
   "execution_count": 103,
   "metadata": {},
   "outputs": [
    {
     "name": "stdout",
     "output_type": "stream",
     "text": [
      "quality_label_encoded\n",
      "1.0    3915\n",
      "2.0    3915\n",
      "0.0    3915\n",
      "Name: count, dtype: int64\n",
      "Random Forest Accuracy score: 0.4227\n",
      "Cohen-Kappa score: 0.1341\n",
      "The balanced accuracy score is 0.4227\n"
     ]
    }
   ],
   "source": [
    "# unfiltered\n",
    "# smote = SMOTE(random_state=42)\n",
    "X_resampled, y_resampled = smote.fit_resample(X, y)\n",
    "\n",
    "# Check new class distribution\n",
    "print(pd.Series(y_resampled).value_counts())\n",
    "\n",
    "# Train-test split\n",
    "X_train_smote, X_test_smote, y_train_smote, y_test_smote = train_test_split(\n",
    "    X_resampled, y_resampled, test_size=0.2, random_state=42, stratify=y_resampled\n",
    ")\n",
    "\n",
    "## standarization\n",
    "norm = MinMaxScaler().fit(X_train_smote)\n",
    "\n",
    "# transform training data\n",
    "X_train_smote_norm = norm.transform(X_train_smote)\n",
    "\n",
    "# transform testing data\n",
    "X_test_smote_norm = norm.transform(X_test_smote)\n",
    "# define model\n",
    "RF = RandomForestClassifier(random_state=42, class_weight=\"balanced\")\n",
    "# fit model\n",
    "RF.fit(X_train_smote_norm, y_train_smote)\n",
    "# make predictions\n",
    "RF_pred = RF_clf.predict(X_test_smote_norm)\n",
    "\n",
    "RF_acc = accuracy_score(y_test_smote, RF_pred)\n",
    "print( f\"Random Forest Accuracy score: {RF_acc:.4f}\")\n",
    "kappa = cohen_kappa_score(RF_pred, y_test_smote)\n",
    "print(f\"Cohen-Kappa score: {kappa:.4f}\")\n",
    "print(f\"The balanced accuracy score is {balanced_accuracy_score(y_test_smote, RF_pred):.4f}\")"
   ]
  },
  {
   "cell_type": "code",
   "execution_count": 104,
   "metadata": {},
   "outputs": [
    {
     "name": "stdout",
     "output_type": "stream",
     "text": [
      "quality_label_encoded\n",
      "1.0    3296\n",
      "2.0    3296\n",
      "0.0    3296\n",
      "Name: count, dtype: int64\n",
      "Random Forest Accuracy score: 0.6916\n",
      "Cohen-Kappa score: 0.5375\n",
      "The balanced accuracy score is 0.6918\n"
     ]
    }
   ],
   "source": [
    "#RF with SMOTE & balanced class weight / filtered\n",
    "# Apply SMOTE\n",
    "smote = SMOTE(random_state=42)\n",
    "X_resampled, y_resampled = smote.fit_resample(X2, y2)\n",
    "\n",
    "# Check new class distribution\n",
    "print(pd.Series(y_resampled).value_counts())\n",
    "\n",
    "# Train-test split\n",
    "X_train_smote, X_test_smote, y_train_smote, y_test_smote = train_test_split(\n",
    "    X_resampled, y_resampled, test_size=0.2, random_state=42, stratify=y_resampled\n",
    ")\n",
    "\n",
    "## standarization\n",
    "norm = MinMaxScaler().fit(X_train_smote)\n",
    "\n",
    "# transform training data\n",
    "X_train_smote_norm = norm.transform(X_train_smote)\n",
    "\n",
    "# transform testing data\n",
    "X_test_smote_norm = norm.transform(X_test_smote)\n",
    "# define model\n",
    "RF = RandomForestClassifier(random_state=42, class_weight=\"balanced\")\n",
    "# fit model\n",
    "RF.fit(X_train_smote_norm, y_train_smote)\n",
    "# make predictions\n",
    "RF_pred = RF_clf.predict(X_test_smote_norm)\n",
    "\n",
    "RF_acc = accuracy_score(y_test_smote, RF_pred)\n",
    "print( f\"Random Forest Accuracy score: {RF_acc:.4f}\")\n",
    "kappa = cohen_kappa_score(RF_pred, y_test_smote)\n",
    "print(f\"Cohen-Kappa score: {kappa:.4f}\")\n",
    "print(f\"The balanced accuracy score is {balanced_accuracy_score(y_test_smote, RF_pred):.4f}\")"
   ]
  },
  {
   "cell_type": "code",
   "execution_count": 35,
   "metadata": {},
   "outputs": [
    {
     "name": "stdout",
     "output_type": "stream",
     "text": [
      "The accuracy score is 0.7774\n",
      "The balanced accuracy score is 0.6463\n"
     ]
    }
   ],
   "source": [
    "# RF With SMOTE in pipe line, no \n",
    "pipe = make_pipeline(imblearn.over_sampling.SMOTE(), \n",
    "                     RandomForestClassifier( class_weight=\"balanced\", random_state=42))\n",
    "pipe.fit(X2_train_norm, y2_train)\n",
    "y2_pred = pipe.predict(X2_test_norm)\n",
    "print(f\"The accuracy score is {accuracy_score(y2_test, y2_pred):.4f}\")\n",
    "print(f\"The balanced accuracy score is {balanced_accuracy_score(y2_test, y2_pred):.4f}\")"
   ]
  },
  {
   "cell_type": "code",
   "execution_count": 19,
   "metadata": {},
   "outputs": [
    {
     "name": "stdout",
     "output_type": "stream",
     "text": [
      "The accuracy score is 0.4568\n",
      "The balanced accuracy score is 0.5607\n"
     ]
    }
   ],
   "source": [
    "# LR with SMOTE\n",
    "pipe2 = make_pipeline(imblearn.over_sampling.SMOTE(), \n",
    "                     LogisticRegression( class_weight=\"balanced\", random_state=42))\n",
    "pipe2.fit(X2_train_norm, y2_train)\n",
    "y3_pred = pipe2.predict(X2_test_norm)\n",
    "print(f\"The accuracy score is {accuracy_score(y2_test, y3_pred):.4f}\")\n",
    "print(f\"The balanced accuracy score is {balanced_accuracy_score(y2_test, y3_pred):.4f}\")\n"
   ]
  },
  {
   "cell_type": "markdown",
   "metadata": {},
   "source": [
    "### Model 4 \n",
    "Random forest with Stratified K-fold cross validation"
   ]
  },
  {
   "cell_type": "code",
   "execution_count": 105,
   "metadata": {},
   "outputs": [
    {
     "name": "stdout",
     "output_type": "stream",
     "text": [
      "List of possible accuracy: [0.8107692307692308, 0.8123076923076923, 0.7907692307692308, 0.8276923076923077, 0.8092307692307692, 0.8184615384615385, 0.8107692307692308, 0.8412942989214176, 0.8428351309707242, 0.8228043143297381]\n",
      "\n",
      "Maximum Accuracy That can be obtained from this model is: 84.28351309707242 %\n",
      "\n",
      "Minimum Accuracy: 79.07692307692308 %\n",
      "\n",
      "Overall Accuracy: 81.86933744221881 %\n",
      "\n",
      "Standard Deviation is: 0.01573114500811588\n",
      "\n",
      "List of possible Cohen-Kappa score: ['0.6098', '0.6057', '0.5587', '0.6431', '0.6057', '0.6224', '0.6055', '0.6732', '0.6737', '0.6292']\n",
      "\n",
      "List of possible balanced accuracy score: ['0.6410', '0.6205', '0.5884', '0.6874', '0.6594', '0.7175', '0.6211', '0.6934', '0.6915', '0.7038']\n"
     ]
    }
   ],
   "source": [
    "# Unfiltered Rows\n",
    "\n",
    "scaler = preprocessing.MinMaxScaler()\n",
    "x_scaled = scaler.fit_transform(X)\n",
    "# Create  classifier object.\n",
    "# lr = linear_model.LogisticRegression()\n",
    "rf = RandomForestClassifier(class_weight=\"balanced\")\n",
    "\n",
    "# Create StratifiedKFold object.\n",
    "skf = StratifiedKFold(n_splits=10, shuffle=True, random_state=1)\n",
    "lst_accu_stratified = []\n",
    "lst_kappa =[]\n",
    "lst_balanced_accuracy_score =[]\n",
    "  \n",
    "for train_index, test_index in skf.split(X,y):\n",
    "    x_train_fold, x_test_fold = x_scaled[train_index], x_scaled[test_index]\n",
    "    y_train_fold, y_test_fold = y[train_index], y[test_index]\n",
    "    rf.fit(x_train_fold, y_train_fold)\n",
    "    rf_pred = rf.predict(x_test_fold) \n",
    "    kappa = cohen_kappa_score(rf_pred, y_test_fold)\n",
    "    lst_accu_stratified.append(rf.score(x_test_fold, y_test_fold))\n",
    "    balanced_acc_sc = balanced_accuracy_score(y_test_fold, rf_pred)\n",
    "    lst_balanced_accuracy_score.append(f\"{balanced_acc_sc:.4f}\")\n",
    "    lst_kappa.append(f\"{kappa:.4f}\")\n",
    "\n",
    "\n",
    "  \n",
    "# Print the output.\n",
    "print('List of possible accuracy:', lst_accu_stratified)\n",
    "print('\\nMaximum Accuracy That can be obtained from this model is:',\n",
    "      max(lst_accu_stratified)*100, '%')\n",
    "print('\\nMinimum Accuracy:',\n",
    "      min(lst_accu_stratified)*100, '%')\n",
    "print('\\nOverall Accuracy:',\n",
    "      mean(lst_accu_stratified)*100, '%')\n",
    "print('\\nStandard Deviation is:', stdev(lst_accu_stratified))\n",
    "print(\"\\nList of possible Cohen-Kappa score:\", lst_kappa)\n",
    "print(\"\\nList of possible balanced accuracy score:\", lst_balanced_accuracy_score)"
   ]
  },
  {
   "cell_type": "code",
   "execution_count": null,
   "metadata": {},
   "outputs": [
    {
     "name": "stdout",
     "output_type": "stream",
     "text": [
      "List of possible accuracy: [0.8522072936660269, 0.8099808061420346, 0.783109404990403, 0.8234165067178503, 0.8272552783109405, 0.8195777351247601, 0.8061420345489443, 0.8061420345489443, 0.8214971209213052, 0.8288461538461539]\n",
      "\n",
      "Maximum Accuracy That can be obtained from this model is: 85.22072936660268 %\n",
      "\n",
      "Minimum Accuracy: 78.3109404990403 %\n",
      "\n",
      "Overall Accuracy: 81.78174368817363 %\n",
      "\n",
      "Standard Deviation is: 0.018196600122973396\n",
      "\n",
      "List of possible Cohen-Kappa score: ['0.6848', '0.5872', '0.5211', '0.6086', '0.6176', '0.6071', '0.5831', '0.5760', '0.6143', '0.6273']\n",
      "\n",
      "List of possible balanced accuracy score: ['0.7459', '0.6138', '0.6070', '0.5993', '0.6581', '0.6396', '0.6282', '0.6268', '0.6988', '0.7203']\n"
     ]
    }
   ],
   "source": [
    "# with filtered rows\n",
    "\n",
    "scaler = preprocessing.MinMaxScaler()\n",
    "x_scaled = scaler.fit_transform(X2)\n",
    "# Create  classifier object.\n",
    "# lr = linear_model.LogisticRegression()\n",
    "rf = RandomForestClassifier(class_weight=\"balanced\")\n",
    "\n",
    "# Create StratifiedKFold object.\n",
    "skf = StratifiedKFold(n_splits=10, shuffle=True, random_state=1)\n",
    "lst_accu_stratified = []\n",
    "lst_kappa =[]\n",
    "lst_balanced_accuracy_score =[]\n",
    "  \n",
    "for train_index, test_index in skf.split(X2,y2):\n",
    "    x_train_fold, x_test_fold = x_scaled[train_index], x_scaled[test_index]\n",
    "    y_train_fold, y_test_fold = y2[train_index], y2[test_index]\n",
    "    rf.fit(x_train_fold, y_train_fold)\n",
    "    rf_pred = rf.predict(x_test_fold) \n",
    "    kappa = cohen_kappa_score(rf_pred, y_test_fold)\n",
    "    lst_accu_stratified.append(rf.score(x_test_fold, y_test_fold))\n",
    "    balanced_acc_sc = balanced_accuracy_score(y_test_fold, rf_pred)\n",
    "    lst_balanced_accuracy_score.append(f\"{balanced_acc_sc:.4f}\")\n",
    "    lst_kappa.append(f\"{kappa:.4f}\")\n",
    "\n",
    "\n",
    "  \n",
    "# Print the output.\n",
    "print('List of possible accuracy:', lst_accu_stratified)\n",
    "print('\\nMaximum Accuracy That can be obtained from this model is:',\n",
    "      max(lst_accu_stratified)*100, '%')\n",
    "print('\\nMinimum Accuracy:',\n",
    "      min(lst_accu_stratified)*100, '%')\n",
    "print('\\nOverall Accuracy:',\n",
    "      mean(lst_accu_stratified)*100, '%')\n",
    "print('\\nStandard Deviation is:', stdev(lst_accu_stratified))\n",
    "print(\"\\nList of possible Cohen-Kappa score:\", lst_kappa)\n",
    "print(\"\\nList of possible balanced accuracy score:\", lst_balanced_accuracy_score)"
   ]
  },
  {
   "cell_type": "markdown",
   "metadata": {},
   "source": [
    "### Model 5 - Random forest with SMOTE & Stratified K-fold cross validation"
   ]
  },
  {
   "cell_type": "markdown",
   "metadata": {},
   "source": [
    "#### unfiltered"
   ]
  },
  {
   "cell_type": "code",
   "execution_count": 106,
   "metadata": {},
   "outputs": [
    {
     "name": "stdout",
     "output_type": "stream",
     "text": [
      "List of possible accuracy: [0.8868085106382979, 0.8961702127659574, 0.8868085106382979, 0.8970212765957447, 0.8851063829787233, 0.909710391822828, 0.8867120954003407, 0.9003407155025553, 0.8969335604770017, 0.903747870528109]\n",
      "\n",
      "Maximum Accuracy That can be obtained from this model is: 90.9710391822828 %\n",
      "\n",
      "Minimum Accuracy: 88.51063829787233 %\n",
      "\n",
      "Overall Accuracy: 89.49359527347855 %\n",
      "\n",
      "Standard Deviation is: 0.008375697101136963\n",
      "\n",
      "Maximum Cohen-Kappa score that can be obtained from this model is: 86.46000000000001 %\n",
      "\n",
      "Maximum Balanced Accuracy That can be obtained from this model is: 90.96 %\n"
     ]
    }
   ],
   "source": [
    "smote = SMOTE(random_state=42)\n",
    "X_resampled, y_resampled = smote.fit_resample(X, y)\n",
    "\n",
    "scaler = preprocessing.MinMaxScaler()\n",
    "x_scaled = scaler.fit_transform(X_resampled) # normalizes for all X, instead of dividing in train and test.scaling after smote\n",
    "\n",
    "# Create  classifier object.\n",
    "\n",
    "rf = RandomForestClassifier(class_weight=\"balanced\")\n",
    "  \n",
    "# Create StratifiedKFold object.\n",
    "skf = StratifiedKFold(n_splits=10, shuffle=True, random_state=1)\n",
    "lst_accu_stratified = []\n",
    "lst_balanced_accuracy_score=[]\n",
    "lst_kappa= []\n",
    "\n",
    "# .split generates indices to split data into training and test set.\n",
    "for train_index, test_index in skf.split(X_resampled,y_resampled):  \n",
    "    x_train_fold, x_test_fold = x_scaled[train_index], x_scaled[test_index]\n",
    "    y_train_fold, y_test_fold = y_resampled[train_index], y_resampled[test_index]\n",
    "    rf.fit(x_train_fold, y_train_fold)\n",
    "    rf_pred = rf.predict(x_test_fold)\n",
    "    kappa = cohen_kappa_score(rf_pred, y_test_fold)\n",
    "    lst_kappa.append(round(kappa, 4))\n",
    "    balanced_acc_sc = balanced_accuracy_score(y_test_fold, rf_pred)\n",
    "    lst_balanced_accuracy_score.append(round(balanced_acc_sc,4))\n",
    "    lst_accu_stratified.append(rf.score(x_test_fold, y_test_fold))\n",
    "  \n",
    "# Print the output.\n",
    "print('List of possible accuracy:', lst_accu_stratified)\n",
    "print('\\nMaximum Accuracy That can be obtained from this model is:',\n",
    "      max(lst_accu_stratified)*100, '%')\n",
    "print('\\nMinimum Accuracy:',\n",
    "      min(lst_accu_stratified)*100, '%')\n",
    "print('\\nOverall Accuracy:',\n",
    "      mean(lst_accu_stratified)*100, '%')\n",
    "print('\\nStandard Deviation is:', stdev(lst_accu_stratified))\n",
    "print('\\nMaximum Cohen-Kappa score that can be obtained from this model is:',\n",
    "      max(lst_kappa)*100, '%')\n",
    "print('\\nMaximum Balanced Accuracy That can be obtained from this model is:',\n",
    "      max(lst_balanced_accuracy_score)*100, '%')"
   ]
  },
  {
   "cell_type": "markdown",
   "metadata": {},
   "source": [
    "#### filtered"
   ]
  },
  {
   "cell_type": "code",
   "execution_count": null,
   "metadata": {},
   "outputs": [
    {
     "name": "stdout",
     "output_type": "stream",
     "text": [
      "List of possible accuracy: [0.916076845298281, 0.8877654196157735, 0.8988877654196158, 0.9201213346814965, 0.9019211324570273, 0.8988877654196158, 0.8958543983822043, 0.8958543983822043, 0.902834008097166, 0.9008097165991903]\n",
      "\n",
      "Maximum Accuracy That can be obtained from this model is: 92.01213346814964 %\n",
      "\n",
      "Minimum Accuracy: 88.77654196157735 %\n",
      "\n",
      "Overall Accuracy: 90.19012784352574 %\n",
      "\n",
      "Standard Deviation is: 0.009580614537571863\n",
      "\n",
      "Maximum Cohen-Kappa score that can be obtained from this model is: 88.02 %\n",
      "\n",
      "Maximum Balanced Accuracy That can be obtained from this model is: 92.02 %\n"
     ]
    }
   ],
   "source": [
    "# Apply SMOTE\n",
    "# X2 = feature columns of white_and_red, filtered but not normalized\n",
    "smote = SMOTE(random_state=42)\n",
    "X_resampled, y_resampled = smote.fit_resample(X2, y2)\n",
    "\n",
    "# # Train-test split\n",
    "# X_train_smote, X_test_smote, y_train_smote, y_test_smote = train_test_split(\n",
    "#     X_resampled, y_resampled, test_size=0.2, random_state=42, stratify=y_resampled\n",
    "\n",
    "## standarization\n",
    "# norm = MinMaxScaler().fit(X_train)\n",
    "# # transform training data\n",
    "# X_train_smote_norm = norm.transform(X_train_smote)\n",
    "# # transform testing data\n",
    "# X_test_smote_norm = norm.transform(X_test_smote)\n",
    "\n",
    "scaler = preprocessing.MinMaxScaler()\n",
    "x_scaled = scaler.fit_transform(X_resampled) # normalizes for all X, instead of dividing in train and test.scaling after smote\n",
    "\n",
    "# Create  classifier object.\n",
    "# lr = linear_model.LogisticRegression()\n",
    "rf = RandomForestClassifier(class_weight=\"balanced\")\n",
    "  \n",
    "# Create StratifiedKFold object.\n",
    "skf = StratifiedKFold(n_splits=10, shuffle=True, random_state=1)\n",
    "lst_accu_stratified = []\n",
    "lst_balanced_accuracy_score=[]\n",
    "lst_kappa= []\n",
    "\n",
    "# .split generates indices to split data into training and test set.\n",
    "for train_index, test_index in skf.split(X_resampled,y_resampled):  \n",
    "    x_train_fold, x_test_fold = x_scaled[train_index], x_scaled[test_index]\n",
    "    y_train_fold, y_test_fold = y_resampled[train_index], y_resampled[test_index]\n",
    "    rf.fit(x_train_fold, y_train_fold)\n",
    "    rf_pred = rf.predict(x_test_fold)\n",
    "    kappa = cohen_kappa_score(rf_pred, y_test_fold)\n",
    "    lst_kappa.append(round(kappa, 4))\n",
    "    balanced_acc_sc = balanced_accuracy_score(y_test_fold, rf_pred)\n",
    "    lst_balanced_accuracy_score.append(round(balanced_acc_sc,4))\n",
    "    lst_accu_stratified.append(rf.score(x_test_fold, y_test_fold))\n",
    "  \n",
    "# Print the output.\n",
    "print('List of possible accuracy:', lst_accu_stratified)\n",
    "print('\\nMaximum Accuracy That can be obtained from this model is:',\n",
    "      max(lst_accu_stratified)*100, '%')\n",
    "print('\\nMinimum Accuracy:',\n",
    "      min(lst_accu_stratified)*100, '%')\n",
    "print('\\nOverall Accuracy:',\n",
    "      mean(lst_accu_stratified)*100, '%')\n",
    "print('\\nStandard Deviation is:', stdev(lst_accu_stratified))\n",
    "print('\\nMaximum Cohen-Kappa score that can be obtained from this model is:',\n",
    "      max(lst_kappa)*100, '%')\n",
    "print('\\nMaximum Balanced Accuracy That can be obtained from this model is:',\n",
    "      max(lst_balanced_accuracy_score)*100, '%')\n",
    "\n",
    "\n",
    "\n"
   ]
  },
  {
   "cell_type": "markdown",
   "metadata": {},
   "source": [
    "# XGBoost"
   ]
  },
  {
   "cell_type": "code",
   "execution_count": 118,
   "metadata": {},
   "outputs": [
    {
     "name": "stdout",
     "output_type": "stream",
     "text": [
      "Classification Report:\n",
      "              precision    recall  f1-score   support\n",
      "\n",
      "         0.0       0.86      0.87      0.87       659\n",
      "         1.0       0.86      0.84      0.85       659\n",
      "         2.0       0.97      0.99      0.98       660\n",
      "\n",
      "    accuracy                           0.90      1978\n",
      "   macro avg       0.90      0.90      0.90      1978\n",
      "weighted avg       0.90      0.90      0.90      1978\n",
      "\n"
     ]
    }
   ],
   "source": [
    "# unfiltered\n",
    "\n",
    "xgb_model = xgb.XGBClassifier(\n",
    "    objective='multi:softmax',  # For multiclass classification\n",
    "    num_class=3,               # Number of classes (low, medium, high)\n",
    "    eval_metric='mlogloss',    # Metric for multiclass\n",
    "    random_state=42\n",
    ")\n",
    "\n",
    "# Train the model\n",
    "xgb_model.fit(X_train_norm, y_train)\n",
    "\n",
    "# predictions\n",
    "xgb_pred = xgb_model.predict(X_test_norm)\n",
    "\n",
    "# Classification report\n",
    "print(\"Classification Report:\")\n",
    "print(classification_report(y_test, xgb_pred))"
   ]
  },
  {
   "cell_type": "code",
   "execution_count": 119,
   "metadata": {},
   "outputs": [
    {
     "name": "stdout",
     "output_type": "stream",
     "text": [
      "Classification Report:\n",
      "              precision    recall  f1-score   support\n",
      "\n",
      "         0.0       0.72      0.71      0.71       330\n",
      "         1.0       0.84      0.87      0.85       678\n",
      "         2.0       0.92      0.35      0.51        34\n",
      "\n",
      "    accuracy                           0.80      1042\n",
      "   macro avg       0.83      0.64      0.69      1042\n",
      "weighted avg       0.80      0.80      0.80      1042\n",
      "\n"
     ]
    }
   ],
   "source": [
    "# Filtered outliers\n",
    "\n",
    "xgb_model = xgb.XGBClassifier(\n",
    "    objective='multi:softmax',  # For multiclass classification\n",
    "    num_class=3,               # Number of classes (low, medium, high)\n",
    "    eval_metric='mlogloss',    # Metric for multiclass\n",
    "    random_state=42\n",
    ")\n",
    "\n",
    "# Train the model\n",
    "xgb_model.fit(X2_train_norm, y2_train)\n",
    "\n",
    "# predictions\n",
    "xgb_pred = xgb_model.predict(X2_test_norm)\n",
    "\n",
    "# Classification report\n",
    "print(\"Classification Report:\")\n",
    "print(classification_report(y2_test, xgb_pred))"
   ]
  },
  {
   "cell_type": "markdown",
   "metadata": {},
   "source": [
    "### SMOTE"
   ]
  },
  {
   "cell_type": "markdown",
   "metadata": {},
   "source": [
    "### unfiltered"
   ]
  },
  {
   "cell_type": "code",
   "execution_count": 114,
   "metadata": {},
   "outputs": [
    {
     "name": "stdout",
     "output_type": "stream",
     "text": [
      "Classification Report:\n",
      "              precision    recall  f1-score   support\n",
      "\n",
      "         0.0       0.85      0.85      0.85       783\n",
      "         1.0       0.84      0.83      0.83       783\n",
      "         2.0       0.97      0.99      0.98       783\n",
      "\n",
      "    accuracy                           0.89      2349\n",
      "   macro avg       0.89      0.89      0.89      2349\n",
      "weighted avg       0.89      0.89      0.89      2349\n",
      "\n"
     ]
    }
   ],
   "source": [
    "smote = SMOTE(random_state=42)\n",
    "X_resampled, y_resampled = smote.fit_resample(X, y)\n",
    "\n",
    "# Train-test split\n",
    "X_train_smote, X_test_smote, y_train_smote, y_test_smote = train_test_split(\n",
    "    X_resampled, y_resampled, test_size=0.2, random_state=42, stratify=y_resampled\n",
    ")\n",
    "## standarization\n",
    "norm = MinMaxScaler().fit(X_train_smote)\n",
    "\n",
    "# transform training data\n",
    "X_train_smote_norm = norm.transform(X_train_smote)\n",
    "\n",
    "# transform testing data\n",
    "X_test_smote_norm = norm.transform(X_test_smote)\n",
    "\n",
    "xgb_model.fit(X_train_smote_norm, y_train_smote)\n",
    "\n",
    "# predictions\n",
    "xgb_pred_smote = xgb_model.predict(X_test_smote_norm)\n",
    "\n",
    "# Classification report\n",
    "print(\"Classification Report:\")\n",
    "print(classification_report(y_test_smote, xgb_pred_smote))\n"
   ]
  },
  {
   "cell_type": "markdown",
   "metadata": {},
   "source": [
    "### filtered"
   ]
  },
  {
   "cell_type": "code",
   "execution_count": null,
   "metadata": {},
   "outputs": [
    {
     "name": "stdout",
     "output_type": "stream",
     "text": [
      "Classification Report:\n",
      "              precision    recall  f1-score   support\n",
      "\n",
      "         0.0       0.86      0.87      0.87       659\n",
      "         1.0       0.86      0.84      0.85       659\n",
      "         2.0       0.97      0.99      0.98       660\n",
      "\n",
      "    accuracy                           0.90      1978\n",
      "   macro avg       0.90      0.90      0.90      1978\n",
      "weighted avg       0.90      0.90      0.90      1978\n",
      "\n"
     ]
    }
   ],
   "source": [
    "# XGboost with SMOTE & balanced class weight / filtered\n",
    "\n",
    "smote = SMOTE(random_state=42)\n",
    "X_resampled, y_resampled = smote.fit_resample(X2, y2)\n",
    "\n",
    "# Train-test split\n",
    "X_train_smote_filtered, X_test_smote_filtered, y_train_smote_filtered, y_test_smote_filtered = train_test_split(\n",
    "    X_resampled, y_resampled, test_size=0.2, random_state=42, stratify=y_resampled\n",
    ")\n",
    "\n",
    "## standarization\n",
    "norm = MinMaxScaler().fit(X_train_smote_filtered)\n",
    "\n",
    "# transform training data\n",
    "X_train_smote_norm_filtered = norm.transform(X_train_smote_filtered)\n",
    "\n",
    "# transform testing data\n",
    "X_test_smote_norm_filtered = norm.transform(X_test_smote_filtered)\n",
    "# define model\n",
    "\n",
    "# Xgboost (after SMOTE)\n",
    "xgb_model = xgb.XGBClassifier(\n",
    "    objective='multi:softmax',  # For multiclass classification\n",
    "    num_class=3,               # Number of classes (low, medium, high)\n",
    "    eval_metric='mlogloss',    # Metric for multiclass\n",
    "    random_state=42\n",
    ")\n",
    "\n",
    "# Train the model\n",
    "xgb_model.fit(X_train_smote_norm_filtered, y_train_smote_filtered)\n",
    "\n",
    "# predictions\n",
    "xgb_pred_norm_filt = xgb_model.predict(X_test_smote_norm_filtered)\n",
    "\n",
    "# Classification report\n",
    "print(\"Classification Report:\")\n",
    "print(classification_report(y_test_smote_filtered, xgb_pred_norm_filt))"
   ]
  },
  {
   "cell_type": "markdown",
   "metadata": {},
   "source": [
    "## XGBOOST with SMOTE and stratifed kfold cross validation "
   ]
  },
  {
   "cell_type": "code",
   "execution_count": 94,
   "metadata": {},
   "outputs": [
    {
     "name": "stdout",
     "output_type": "stream",
     "text": [
      "List of possible accuracy: [0.9049544994944388, 0.8857431749241659, 0.8988877654196158, 0.9069767441860465, 0.9009100101112234, 0.8958543983822043, 0.9009100101112234, 0.890798786653185, 0.8927125506072875, 0.895748987854251]\n",
      "\n",
      "Maximum Accuracy That can be obtained from this model is: 90.69767441860465 %\n",
      "\n",
      "Minimum Accuracy: 88.57431749241658 %\n",
      "\n",
      "Overall Accuracy: 89.73496927743642 %\n",
      "\n",
      "Standard Deviation is: 0.006516282745100691\n",
      "\n",
      "Maximum Cohen-Kappa score that can be obtained from this model is: 86.047 %\n",
      "\n",
      "Maximum Balanced Accuracy That can be obtained from this model is: 90.706 %\n"
     ]
    }
   ],
   "source": [
    "xgb_model = xgb.XGBClassifier(\n",
    "    objective='multi:softmax',  # For multiclass classification\n",
    "    num_class=3,               # Number of classes (low, medium, high)\n",
    "    eval_metric='mlogloss',    # Metric for multiclass\n",
    "    random_state=42\n",
    ")\n",
    "smote = SMOTE(random_state=42)\n",
    "X_resampled, y_resampled = smote.fit_resample(X2, y2)\n",
    "\n",
    "scaler = preprocessing.MinMaxScaler()\n",
    "x_scaled = scaler.fit_transform(X_resampled)\n",
    "\n",
    "# Create StratifiedKFold object.\n",
    "skf = StratifiedKFold(n_splits=10, shuffle=True, random_state=1)\n",
    "lst_accu_stratified = []\n",
    "lst_kappa =[]\n",
    "lst_balanced_accuracy_score =[]\n",
    "  \n",
    "for train_index, test_index in skf.split(X_resampled,y_resampled):\n",
    "    x_train_fold_xgb, x_test_fold_xgb = x_scaled[train_index], x_scaled[test_index]\n",
    "    y_train_fold_xgb, y_test_fold_xgb = y_resampled[train_index], y_resampled[test_index]\n",
    "    xgb_model.fit(x_train_fold_xgb, y_train_fold_xgb)\n",
    "    xgb_pred = xgb_model.predict(x_test_fold_xgb) \n",
    "    kappa = cohen_kappa_score(xgb_pred, y_test_fold_xgb)\n",
    "    lst_accu_stratified.append(xgb_model.score(x_test_fold_xgb, y_test_fold_xgb))\n",
    "    balanced_acc_sc = balanced_accuracy_score(y_test_fold_xgb, xgb_pred)\n",
    "    lst_balanced_accuracy_score.append(round(balanced_acc_sc,5))\n",
    "    lst_kappa.append(round(kappa,5))\n",
    "\n",
    "print('List of possible accuracy:', lst_accu_stratified)\n",
    "print('\\nMaximum Accuracy That can be obtained from this model is:',\n",
    "      max(lst_accu_stratified)*100, '%')\n",
    "print('\\nMinimum Accuracy:',\n",
    "      min(lst_accu_stratified)*100, '%')\n",
    "print('\\nOverall Accuracy:',\n",
    "      mean(lst_accu_stratified)*100, '%')\n",
    "print('\\nStandard Deviation is:', stdev(lst_accu_stratified))\n",
    "\n",
    "print('\\nMaximum Cohen-Kappa score that can be obtained from this model is:',\n",
    "      max(lst_kappa)*100, '%')\n",
    "\n",
    "print('\\nMaximum Balanced Accuracy That can be obtained from this model is:',\n",
    "      max(lst_balanced_accuracy_score)*100, '%')"
   ]
  },
  {
   "cell_type": "markdown",
   "metadata": {},
   "source": [
    "## Confusion matrix XGBoost ( without kfold)"
   ]
  },
  {
   "cell_type": "code",
   "execution_count": 36,
   "metadata": {},
   "outputs": [
    {
     "data": {
      "image/png": "[encoded data removed]",
      "text/plain": [
       "<Figure size 1000x400 with 2 Axes>"
      ]
     },
     "metadata": {},
     "output_type": "display_data"
    }
   ],
   "source": [
    "#!SECTION check for the variables! they are repeated\n",
    "cm = confusion_matrix(y_test, xgb_pred)\n",
    "plt.figure(figsize=(10, 4))\n",
    "sns.heatmap(cm, annot=True, fmt='d', cmap='Blues',xticklabels=[\"low\",\"medium\",\"high\"], yticklabels=[\"low\",\"medium\",\"high\"])\n",
    "plt.xlabel('Predicted Quality')\n",
    "plt.ylabel('Actual Quality')\n",
    "plt.title('Confusion Matrix')\n",
    "plt.show()"
   ]
  },
  {
   "cell_type": "markdown",
   "metadata": {},
   "source": [
    "# Result comparison"
   ]
  },
  {
   "cell_type": "markdown",
   "metadata": {},
   "source": [
    "## Classification Reports"
   ]
  },
  {
   "cell_type": "code",
   "execution_count": 95,
   "metadata": {},
   "outputs": [
    {
     "name": "stdout",
     "output_type": "stream",
     "text": [
      "Classification Report: Random forest with SMOTE & Stratified K-fold cross validation\n",
      "              precision    recall  f1-score   support\n",
      "\n",
      "         0.0       0.87      0.87      0.87       329\n",
      "         1.0       0.86      0.85      0.85       329\n",
      "         2.0       0.97      0.99      0.98       330\n",
      "\n",
      "    accuracy                           0.90       988\n",
      "   macro avg       0.90      0.90      0.90       988\n",
      "weighted avg       0.90      0.90      0.90       988\n",
      "\n",
      "Classification Report: XGBoost with SMOTE & Stratified K-fold cross validation\n",
      "              precision    recall  f1-score   support\n",
      "\n",
      "         0.0       0.85      0.86      0.86       329\n",
      "         1.0       0.85      0.83      0.84       329\n",
      "         2.0       0.98      0.99      0.99       330\n",
      "\n",
      "    accuracy                           0.90       988\n",
      "   macro avg       0.90      0.90      0.90       988\n",
      "weighted avg       0.90      0.90      0.90       988\n",
      "\n",
      "Classification Report: Random forest with SMOTE \n",
      "              precision    recall  f1-score   support\n",
      "\n",
      "         0.0       0.97      0.84      0.90       659\n",
      "         1.0       0.52      0.98      0.68       659\n",
      "         2.0       0.99      0.25      0.40       660\n",
      "\n",
      "    accuracy                           0.69      1978\n",
      "   macro avg       0.83      0.69      0.66      1978\n",
      "weighted avg       0.83      0.69      0.66      1978\n",
      "\n",
      "Classification Report: XGBoost with SMOTE \n",
      "              precision    recall  f1-score   support\n",
      "\n",
      "         0.0       0.86      0.87      0.87       659\n",
      "         1.0       0.86      0.84      0.85       659\n",
      "         2.0       0.97      0.99      0.98       660\n",
      "\n",
      "    accuracy                           0.90      1978\n",
      "   macro avg       0.90      0.90      0.90      1978\n",
      "weighted avg       0.90      0.90      0.90      1978\n",
      "\n"
     ]
    }
   ],
   "source": [
    "# # Classification report\n",
    "print(\"Classification Report: Random forest with SMOTE & Stratified K-fold cross validation\")\n",
    "print(classification_report(y_test_fold, rf_pred))\n",
    "# Confusion matrix\n",
    "print(\"Classification Report: XGBoost with SMOTE & Stratified K-fold cross validation\")\n",
    "print(classification_report(y_test_fold_xgb, xgb_pred))\n",
    "\n",
    "# # Classification report\n",
    "print(\"Classification Report: Random forest with SMOTE \")\n",
    "print(classification_report(y_test_smote, RF_pred))\n",
    "# Confusion matrix\n",
    "print(\"Classification Report: XGBoost with SMOTE \")\n",
    "print(classification_report(y_test_smote, xgb_pred_smote))"
   ]
  },
  {
   "cell_type": "markdown",
   "metadata": {},
   "source": [
    "## Confusion Matrix"
   ]
  },
  {
   "cell_type": "markdown",
   "metadata": {},
   "source": [
    "### XGBOOST"
   ]
  },
  {
   "cell_type": "code",
   "execution_count": 66,
   "metadata": {},
   "outputs": [
    {
     "data": {
      "image/png": "[encoded data removed]",
      "text/plain": [
       "<Figure size 1000x400 with 2 Axes>"
      ]
     },
     "metadata": {},
     "output_type": "display_data"
    }
   ],
   "source": [
    "cm = confusion_matrix(y_test_fold_xgb, xgb_pred)\n",
    "plt.figure(figsize=(10, 4))\n",
    "sns.heatmap(cm, annot=True, fmt='d', cmap='Blues',xticklabels=[\"low\",\"medium\",\"high\"], yticklabels=[\"low\",\"medium\",\"high\"])\n",
    "plt.xlabel('Predicted Quality')\n",
    "plt.ylabel('Actual Quality')\n",
    "plt.title('Confusion Matrix')\n",
    "plt.show()"
   ]
  },
  {
   "cell_type": "markdown",
   "metadata": {},
   "source": [
    "### Random Forest"
   ]
  },
  {
   "cell_type": "code",
   "execution_count": 67,
   "metadata": {},
   "outputs": [
    {
     "data": {
      "image/png": "[encoded data removed]",
      "text/plain": [
       "<Figure size 1000x400 with 2 Axes>"
      ]
     },
     "metadata": {},
     "output_type": "display_data"
    }
   ],
   "source": [
    "cm = confusion_matrix(y_test_fold, rf_pred)\n",
    "plt.figure(figsize=(10, 4))\n",
    "sns.heatmap(cm, annot=True, fmt='d', cmap='Blues',xticklabels=[\"low\",\"medium\",\"high\"], yticklabels=[\"low\",\"medium\",\"high\"])\n",
    "plt.xlabel('Predicted Quality')\n",
    "plt.ylabel('Actual Quality')\n",
    "plt.title('Confusion Matrix')\n",
    "plt.show()"
   ]
  },
  {
   "cell_type": "code",
   "execution_count": null,
   "metadata": {},
   "outputs": [],
   "source": [
    "#TODO - undersampling\n",
    "\n",
    "# # decision tree  on imbalanced dataset with SMOTE oversampling and random undersampling\n",
    "# from numpy import mean\n",
    "# from sklearn.datasets import make_classification\n",
    "# from sklearn.model_selection import cross_val_score\n",
    "# from sklearn.model_selection import RepeatedStratifiedKFold\n",
    "# from sklearn.tree import DecisionTreeClassifier\n",
    "# from imblearn.pipeline import Pipeline\n",
    "# from imblearn.over_sampling import SMOTE\n",
    "# from imblearn.under_sampling import RandomUnderSampler\n",
    "# # define dataset\n",
    "# X, y = make_classification(n_samples=10000, n_features=2, n_redundant=0,\n",
    "# \tn_clusters_per_class=1, weights=[0.99], flip_y=0, random_state=1)\n",
    "# # define pipeline\n",
    "# model = DecisionTreeClassifier()\n",
    "# over = SMOTE(sampling_strategy=0.1)\n",
    "# under = RandomUnderSampler(sampling_strategy=0.5)\n",
    "# steps = [('over', over), ('under', under), ('model', model)]\n",
    "# pipeline = Pipeline(steps=steps)\n",
    "# # evaluate pipeline\n",
    "# cv = RepeatedStratifiedKFold(n_splits=10, n_repeats=3, random_state=1)\n",
    "# scores = cross_val_score(pipeline, X, y, scoring='roc_auc', cv=cv, n_jobs=-1)\n",
    "# print('Mean ROC AUC: %.3f' % mean(scores))"
   ]
  },
  {
   "cell_type": "code",
   "execution_count": 97,
   "metadata": {},
   "outputs": [],
   "source": [
    "#TODO - Random forest without filtered data and filtered with z-score"
   ]
  }
 ],
 "metadata": {
  "kernelspec": {
   "display_name": "codeacademy",
   "language": "python",
   "name": "python3"
  },
  "language_info": {
   "codemirror_mode": {
    "name": "ipython",
    "version": 3
   },
   "file_extension": ".py",
   "mimetype": "text/x-python",
   "name": "python",
   "nbconvert_exporter": "python",
   "pygments_lexer": "ipython3",
   "version": "3.12.7"
  }
 },
 "nbformat": 4,
 "nbformat_minor": 2
}
