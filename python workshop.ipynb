{
 "cells": [
  {
   "cell_type": "markdown",
   "metadata": {},
   "source": [
    "# SET 1\n"
   ]
  },
  {
   "cell_type": "markdown",
   "metadata": {},
   "source": [
    "## 1 \n",
    "You are given an array (which will have a length of at least 3, but could be very\n",
    "large) containing integers. The array is either entirely comprised of odd integers or\n",
    "entirely comprised of even integers except for a single integer N.\n",
    "\n",
    "Write a method that takes the array as an argument and returns this “outlier” N.\n",
    "\n",
    "Sample test cases:\n",
    "[2, 4, 0, 100, 4, 11, 2602, 36]\n",
    "Should return: 11 (the only odd number)\n",
    "\n",
    "[160, 3, 1719, 19, 11, 13, -21]\n",
    "Should return: 160 (the only even number)\n",
    "\n",
    "find_outlier([2, 4, 6, 8, 10, 3])\n",
    "Should return: 3"
   ]
  },
  {
   "cell_type": "code",
   "execution_count": 20,
   "metadata": {},
   "outputs": [
    {
     "name": "stdout",
     "output_type": "stream",
     "text": [
      "[11]\n",
      "[160]\n",
      "[3]\n"
     ]
    }
   ],
   "source": [
    "my_list = [2, 4, 0, 100, 4, 11, 2602, 36]\n",
    "my_list_2 = [160, 3, 1719, 19, 11, 13, -21]\n",
    "my_list_3 = [2, 4, 6, 8, 10, 3]\n",
    "# # even or uneven: \n",
    "# for x in my_list:\n",
    "#     if x % 2 != 0:\n",
    "#          print(x)\n",
    "\n",
    "def method (x):\n",
    "    odd = []\n",
    "    even = []\n",
    "    for value in x:\n",
    "        if value % 2 != 0:\n",
    "            odd.append(value)\n",
    "        else:\n",
    "            even.append(value) \n",
    "    if (len(odd)) == 1:\n",
    "        print (odd)\n",
    "    else:\n",
    "        print (even)\n",
    "\n",
    "method (my_list)\n",
    "method (my_list_2)\n",
    "method (my_list_3)\n"
   ]
  },
  {
   "cell_type": "markdown",
   "metadata": {},
   "source": [
    "Option 2"
   ]
  },
  {
   "cell_type": "code",
   "execution_count": 53,
   "metadata": {},
   "outputs": [
    {
     "data": {
      "text/plain": [
       "3"
      ]
     },
     "execution_count": 53,
     "metadata": {},
     "output_type": "execute_result"
    }
   ],
   "source": [
    "def find_outlier(integers):\n",
    "    new_integers = [int(integer%2) for integer in integers]\n",
    "    # print (new_integers)\n",
    "    # print(new_integers.count(0))\n",
    "    # print(new_integers.index(1))\n",
    "    if new_integers.count(0) == 1:\n",
    "        return integers[new_integers.index(0)]\n",
    "    else:\n",
    "        return integers[new_integers.index(1)]\n",
    "    \n",
    "find_outlier([2, 4, 6, 8, 10, 3])\n"
   ]
  },
  {
   "cell_type": "markdown",
   "metadata": {},
   "source": [
    "## 2\n",
    "\n",
    "Your goal in this task is to implement a difference function, which subtracts one\n",
    "list from another and returns the result.\n",
    "\n",
    "It should remove all values from list a, which are present in list b.\n",
    "\n",
    "Lets call the function array_diff ( a , b )\n",
    "    \n",
    "Sample test cases:\n",
    "array_diff([1,2],[1]) will return [2]\n",
    "array_diff([1,2,2], [2]) will return [1]"
   ]
  },
  {
   "cell_type": "code",
   "execution_count": null,
   "metadata": {},
   "outputs": [
    {
     "data": {
      "text/plain": [
       "1"
      ]
     },
     "execution_count": 44,
     "metadata": {},
     "output_type": "execute_result"
    }
   ],
   "source": [
    "# array_1 = [[1,2],[1]]\n",
    "# array_2 = [[1,2,2], [2]]\n",
    "\n",
    "# print (array_1[0][1])\n",
    "\n",
    "def array_diff (a,b):\n",
    "    result = []\n",
    "    for x in a:\n",
    "        if x not in b :\n",
    "            result.append (x)\n",
    "    print (result)   \n",
    "            \n",
    "# TRY WITH RETURN, NOT WORKING\n",
    "# def array_diff (a,b):    \n",
    "#     for x in a:\n",
    "#         if x not in b :\n",
    "#             return (x)   \n",
    "\n",
    "array_diff([1,2],[1]) \n",
    "array_diff([1,2,2], [2])\n",
    "# array_diff([1,2,2], [2])\n"
   ]
  },
  {
   "cell_type": "markdown",
   "metadata": {},
   "source": [
    "## 3\n",
    "\n",
    "Given: an array containing hashes of names\n",
    "Return: a string formatted as a list of names separated by commas except for the last\n",
    "two names, which should be separated by an ampersand.\n",
    "\n",
    "Example:\n",
    "\n",
    "namelist([ {‘name’: ‘Bart’}, {‘name’: ‘Lisa’}, {‘name’: ‘Maggie’} ])\n",
    "returns ‘Bart, Lisa & Maggie‘\n",
    "\n",
    "namelist([ {‘name’: ‘Bart’}, {‘name’: ‘Lisa’} ])\n",
    "returns ‘Bart & Lisa‘\n",
    "\n",
    "namelist([ {‘name’: ‘Bart’} ])\n",
    "returns ‘Bart‘\n",
    "\n",
    "namelist([])\n",
    "returns ”"
   ]
  },
  {
   "cell_type": "code",
   "execution_count": 4,
   "metadata": {},
   "outputs": [
    {
     "data": {
      "text/plain": [
       "'Bart & Lisa'"
      ]
     },
     "execution_count": 4,
     "metadata": {},
     "output_type": "execute_result"
    }
   ],
   "source": [
    "final_string = []\n",
    "def name_string (a):\n",
    "    index = 0\n",
    "    while index < len(a):\n",
    "        if len(a) == 1:\n",
    "            final_string.append(f'{a[0]['name']}')\n",
    "        elif len(a) == 2:\n",
    "            final_string.append(f'{a[0]['name']}, {a[1]['name']}')\n",
    "        else:\n",
    "            #in index [0]== , in index [-1]==, count number of index between last and first. count lenght removing first and last \n",
    "            final_string.append(f'{a[0]['name']}, {a[1]['name']} & {a[-1]['name']}')\n",
    "\n",
    "        index = index + 1\n",
    "\n",
    "\n",
    "\n",
    "    #1) determine length of list\n",
    "    #2) index the list according to the lenght: index(0) = name, index (1 second to last), index (-1). \n",
    "    # Conditionals for len 1, 2 or more than 2. \n",
    "    # For more than 2 use index(0), index >0 and index < -1, index (-1) . \n",
    "    # if len > 2\n",
    "    # [0] print , between first and last print as many as count, [-1]\n",
    "    #3) assign values to each index\n",
    "    #4) last index (-1) will finish with '&...'\n",
    "name_string ([\n",
    "    {'name':'Bart'},\n",
    "    {'name':'Lisa'},\n",
    "    {'name':'Maggie'}\n",
    "])\n",
    "def namelist(names):\n",
    "    names = [item['name'] for item in names]\n",
    "    if names:\n",
    "        ','.join(names)\n",
    "        if len(names)>2:\n",
    "            return ( ', '.join(names[:-1]) + \" & \" + str(names[-1]))\n",
    "        elif len(names)==2:\n",
    "            return( ' & '.join(names))\n",
    "        elif len(names)==1:\n",
    "            return (names[0])\n",
    "            \n",
    "    return ''\n",
    "\n",
    "namelist ([\n",
    "    {'name':'Bart'},\n",
    "    {'name':'Lisa'},\n",
    "    {'name':'Maggie'}])\n",
    "namelist ([{'name': 'Bart'}, {'name': 'Lisa'}])\n",
    "          "
   ]
  },
  {
   "cell_type": "markdown",
   "metadata": {},
   "source": [
    "## 4\n",
    "In this task, create a function that takes a list of non-negative integers and strings\n",
    "and returns a new list with the strings filtered out.\n",
    "\n",
    "Example\n",
    "filter_list([1,2,’a’,’b’]) == [1,2]\n",
    "filter_list([1,’a’,’b’,0,15]) == [1,0,15]\n",
    "filter_list([1,2,’aasf’,’1′,’123′,123]) == [1,2,123]"
   ]
  },
  {
   "cell_type": "code",
   "execution_count": 5,
   "metadata": {},
   "outputs": [
    {
     "name": "stdout",
     "output_type": "stream",
     "text": [
      "[1, 2]\n",
      "[1, 0, 15]\n",
      "[1, 2, 123]\n"
     ]
    }
   ],
   "source": [
    "def filter_list (list):\n",
    "    filtered_list = []\n",
    "    for elements in list:\n",
    "        if not isinstance(elements, str):\n",
    "            filtered_list.append(elements)\n",
    "    print (filtered_list)\n",
    "\n",
    "\n",
    "filter_list([1,2,'a','b']) \n",
    "filter_list([1,'a','b',0,15])\n",
    "filter_list([1,2,'aasf','1','123',123])"
   ]
  },
  {
   "cell_type": "markdown",
   "metadata": {},
   "source": [
    "## 5\n",
    "Given an array, find the int that appears an odd number of times.\n",
    "There will always be only one integer that appears an odd number of times.\n",
    "\n",
    "Example\n",
    "find_it([20,1,-1,2,-2,3,3,5,5,1,2,4,20,4,-1,-2,5]) RETURNS 5"
   ]
  },
  {
   "cell_type": "code",
   "execution_count": 54,
   "metadata": {},
   "outputs": [
    {
     "name": "stdout",
     "output_type": "stream",
     "text": [
      "5\n"
     ]
    }
   ],
   "source": [
    "from collections import Counter\n",
    "def find_it (number_list):\n",
    "    counter = Counter (number_list)\n",
    "    # print (counter)\n",
    "    # print(counter [5])\n",
    "    result = []\n",
    "    for x in counter: # x accounts for key in tuple\n",
    "        if not counter[x] %2 == 0: # counter[x] accounts for value\n",
    "            print (x) \n",
    "\n",
    "\n",
    "# check key and value, check if value is an odd number, if it is, return key\n",
    "\n",
    "find_it([20,1,-1,2,-2,3,3,5,5,1,2,4,20,4,-1,-2,5])\n",
    "# list_try = [20,1,-1,2,-2,3,3,5,5,1,2,4,20,4,-1,-2,5]\n",
    "# counter = Counter(list_try)\n",
    "# print(counter)"
   ]
  },
  {
   "cell_type": "code",
   "execution_count": null,
   "metadata": {},
   "outputs": [],
   "source": []
  }
 ],
 "metadata": {
  "kernelspec": {
   "display_name": "codeacademy",
   "language": "python",
   "name": "python3"
  },
  "language_info": {
   "codemirror_mode": {
    "name": "ipython",
    "version": 3
   },
   "file_extension": ".py",
   "mimetype": "text/x-python",
   "name": "python",
   "nbconvert_exporter": "python",
   "pygments_lexer": "ipython3",
   "version": "3.12.7"
  }
 },
 "nbformat": 4,
 "nbformat_minor": 2
}
