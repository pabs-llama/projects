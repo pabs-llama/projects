{
 "cells": [
  {
   "cell_type": "markdown",
   "metadata": {},
   "source": [
    "# SET 1\n"
   ]
  },
  {
   "cell_type": "markdown",
   "metadata": {},
   "source": [
    "1. You are given an array (which will have a length of at least 3, but could be very\n",
    "large) containing integers. The array is either entirely comprised of odd integers or\n",
    "entirely comprised of even integers except for a single integer N.\n",
    "\n",
    "Write a method that takes the array as an argument and returns this “outlier” N.\n",
    "\n",
    "Sample test cases:\n",
    "[2, 4, 0, 100, 4, 11, 2602, 36]\n",
    "Should return: 11 (the only odd number)\n",
    "\n",
    "[160, 3, 1719, 19, 11, 13, -21]\n",
    "Should return: 160 (the only even number)\n",
    "\n",
    "find_outlier([2, 4, 6, 8, 10, 3])\n",
    "Should return: 3"
   ]
  },
  {
   "cell_type": "code",
   "execution_count": 20,
   "metadata": {},
   "outputs": [
    {
     "name": "stdout",
     "output_type": "stream",
     "text": [
      "[11]\n",
      "[160]\n",
      "[3]\n"
     ]
    }
   ],
   "source": [
    "my_list = [2, 4, 0, 100, 4, 11, 2602, 36]\n",
    "my_list_2 = [160, 3, 1719, 19, 11, 13, -21]\n",
    "my_list_3 = [2, 4, 6, 8, 10, 3]\n",
    "# # even or uneven: \n",
    "# for x in my_list:\n",
    "#     if x % 2 != 0:\n",
    "#          print(x)\n",
    "\n",
    "def method (x):\n",
    "    odd = []\n",
    "    even = []\n",
    "    for value in x:\n",
    "        if value % 2 != 0:\n",
    "            odd.append(value)\n",
    "        else:\n",
    "            even.append(value) \n",
    "    if (len(odd)) == 1:\n",
    "        print (odd)\n",
    "    else:\n",
    "        print (even)\n",
    "\n",
    "method (my_list)\n",
    "method (my_list_2)\n",
    "method (my_list_3)\n"
   ]
  },
  {
   "cell_type": "markdown",
   "metadata": {},
   "source": [
    "Option 2"
   ]
  },
  {
   "cell_type": "code",
   "execution_count": 53,
   "metadata": {},
   "outputs": [
    {
     "data": {
      "text/plain": [
       "3"
      ]
     },
     "execution_count": 53,
     "metadata": {},
     "output_type": "execute_result"
    }
   ],
   "source": [
    "def find_outlier(integers):\n",
    "    new_integers = [int(integer%2) for integer in integers]\n",
    "    # print (new_integers)\n",
    "    # print(new_integers.count(0))\n",
    "    # print(new_integers.index(1))\n",
    "    if new_integers.count(0) == 1:\n",
    "        return integers[new_integers.index(0)]\n",
    "    else:\n",
    "        return integers[new_integers.index(1)]\n",
    "    \n",
    "find_outlier([2, 4, 6, 8, 10, 3])\n"
   ]
  },
  {
   "cell_type": "markdown",
   "metadata": {},
   "source": [
    "# 2\n",
    "\n",
    "Your goal in this task is to implement a difference function, which subtracts one\n",
    "list from another and returns the result.\n",
    "\n",
    "It should remove all values from list a, which are present in list b.\n",
    "\n",
    "Lets call the function array_diff ( a , b )\n",
    "    \n",
    "Sample test cases:\n",
    "array_diff([1,2],[1]) will return [2]\n",
    "array_diff([1,2,2], [2]) will return [1]"
   ]
  },
  {
   "cell_type": "code",
   "execution_count": null,
   "metadata": {},
   "outputs": [
    {
     "data": {
      "text/plain": [
       "1"
      ]
     },
     "execution_count": 44,
     "metadata": {},
     "output_type": "execute_result"
    }
   ],
   "source": [
    "# array_1 = [[1,2],[1]]\n",
    "# array_2 = [[1,2,2], [2]]\n",
    "\n",
    "# print (array_1[0][1])\n",
    "\n",
    "def array_diff (a,b):\n",
    "    result = []\n",
    "    for x in a:\n",
    "        if x not in b :\n",
    "            result.append (x)\n",
    "    print (result)   \n",
    "            \n",
    "# TRY WITH RETURN, NOT WORKING\n",
    "# def array_diff (a,b):    \n",
    "#     for x in a:\n",
    "#         if x not in b :\n",
    "#             return (x)   \n",
    "\n",
    "array_diff([1,2],[1]) \n",
    "array_diff([1,2,2], [2])\n",
    "# array_diff([1,2,2], [2])\n"
   ]
  },
  {
   "cell_type": "markdown",
   "metadata": {},
   "source": [
    "# 3. \n",
    "\n",
    "Given: an array containing hashes of names\n",
    "Return: a string formatted as a list of names separated by commas except for the last\n",
    "two names, which should be separated by an ampersand.\n",
    "\n",
    "Example:\n",
    "\n",
    "namelist([ {‘name’: ‘Bart’}, {‘name’: ‘Lisa’}, {‘name’: ‘Maggie’} ])\n",
    "returns ‘Bart, Lisa & Maggie‘\n",
    "\n",
    "namelist([ {‘name’: ‘Bart’}, {‘name’: ‘Lisa’} ])\n",
    "returns ‘Bart & Lisa‘\n",
    "\n",
    "namelist([ {‘name’: ‘Bart’} ])\n",
    "returns ‘Bart‘\n",
    "\n",
    "namelist([])\n",
    "returns ”"
   ]
  },
  {
   "cell_type": "code",
   "execution_count": null,
   "metadata": {},
   "outputs": [
    {
     "name": "stdout",
     "output_type": "stream",
     "text": [
      "7\n"
     ]
    },
    {
     "ename": "TypeError",
     "evalue": "'<' not supported between instances of 'int' and 'list'",
     "output_type": "error",
     "traceback": [
      "\u001b[0;31m---------------------------------------------------------------------------\u001b[0m",
      "\u001b[0;31mTypeError\u001b[0m                                 Traceback (most recent call last)",
      "Cell \u001b[0;32mIn[85], line 40\u001b[0m\n\u001b[1;32m     30\u001b[0m \u001b[38;5;28mprint\u001b[39m (\u001b[38;5;28mlen\u001b[39m(list_x))\n\u001b[1;32m     32\u001b[0m     \u001b[38;5;66;03m#1) determine length of list\u001b[39;00m\n\u001b[1;32m     33\u001b[0m     \u001b[38;5;66;03m#2) index the list according to the lenght: index(0) = name, index (1 second to last), index (-1). \u001b[39;00m\n\u001b[1;32m     34\u001b[0m     \u001b[38;5;66;03m# Conditionals for len 1, 2 or more than 2. \u001b[39;00m\n\u001b[0;32m   (...)\u001b[0m\n\u001b[1;32m     38\u001b[0m     \u001b[38;5;66;03m#3) assign values to each index\u001b[39;00m\n\u001b[1;32m     39\u001b[0m     \u001b[38;5;66;03m#4) last index (-1) will finish with '&...'\u001b[39;00m\n\u001b[0;32m---> 40\u001b[0m \u001b[43mname_string\u001b[49m\u001b[43m \u001b[49m\u001b[43m(\u001b[49m\u001b[43m[\u001b[49m\n\u001b[1;32m     41\u001b[0m \u001b[43m    \u001b[49m\u001b[43m{\u001b[49m\u001b[38;5;124;43m'\u001b[39;49m\u001b[38;5;124;43mname\u001b[39;49m\u001b[38;5;124;43m'\u001b[39;49m\u001b[43m:\u001b[49m\u001b[38;5;124;43m'\u001b[39;49m\u001b[38;5;124;43mBart\u001b[39;49m\u001b[38;5;124;43m'\u001b[39;49m\u001b[43m}\u001b[49m\u001b[43m,\u001b[49m\n\u001b[1;32m     42\u001b[0m \u001b[43m    \u001b[49m\u001b[43m{\u001b[49m\u001b[38;5;124;43m'\u001b[39;49m\u001b[38;5;124;43mname\u001b[39;49m\u001b[38;5;124;43m'\u001b[39;49m\u001b[43m:\u001b[49m\u001b[38;5;124;43m'\u001b[39;49m\u001b[38;5;124;43mLisa\u001b[39;49m\u001b[38;5;124;43m'\u001b[39;49m\u001b[43m}\u001b[49m\u001b[43m,\u001b[49m\n\u001b[1;32m     43\u001b[0m \u001b[43m    \u001b[49m\u001b[43m{\u001b[49m\u001b[38;5;124;43m'\u001b[39;49m\u001b[38;5;124;43mname\u001b[39;49m\u001b[38;5;124;43m'\u001b[39;49m\u001b[43m:\u001b[49m\u001b[38;5;124;43m'\u001b[39;49m\u001b[38;5;124;43mMaggie\u001b[39;49m\u001b[38;5;124;43m'\u001b[39;49m\u001b[43m}\u001b[49m\n\u001b[1;32m     44\u001b[0m \u001b[43m]\u001b[49m\u001b[43m)\u001b[49m\n",
      "Cell \u001b[0;32mIn[84], line 18\u001b[0m, in \u001b[0;36mname_string\u001b[0;34m(a)\u001b[0m\n\u001b[1;32m     16\u001b[0m \u001b[38;5;28;01mdef\u001b[39;00m \u001b[38;5;21mname_string\u001b[39m (a):\n\u001b[1;32m     17\u001b[0m     index \u001b[38;5;241m=\u001b[39m \u001b[38;5;241m0\u001b[39m\n\u001b[0;32m---> 18\u001b[0m     \u001b[38;5;28;01mwhile\u001b[39;00m \u001b[43mindex\u001b[49m\u001b[43m \u001b[49m\u001b[38;5;241;43m<\u001b[39;49m\u001b[43m \u001b[49m\u001b[43m(\u001b[49m\u001b[43ma\u001b[49m\u001b[43m)\u001b[49m:\n\u001b[1;32m     19\u001b[0m         \u001b[38;5;28;01mif\u001b[39;00m \u001b[38;5;28mlen\u001b[39m(a) \u001b[38;5;241m==\u001b[39m \u001b[38;5;241m1\u001b[39m:\n\u001b[1;32m     20\u001b[0m             \u001b[38;5;28mprint\u001b[39m (\u001b[38;5;124mf\u001b[39m\u001b[38;5;124m'\u001b[39m\u001b[38;5;132;01m{\u001b[39;00ma[index][\u001b[38;5;124m'\u001b[39m\u001b[38;5;124mname\u001b[39m\u001b[38;5;124m'\u001b[39m]\u001b[38;5;132;01m}\u001b[39;00m\u001b[38;5;124m'\u001b[39m)\n",
      "\u001b[0;31mTypeError\u001b[0m: '<' not supported between instances of 'int' and 'list'"
     ]
    }
   ],
   "source": [
    "final_string = []\n",
    "def name_string (a):\n",
    "    index = 0\n",
    "    while index < len(a):\n",
    "        if len(a) == 1:\n",
    "            final_string.append(f'{a[0]['name']}')\n",
    "        elif len(a) == 2:\n",
    "            final_string.append(f'{a[0]['name']}, {a[1]['name']}')\n",
    "        else:\n",
    "            #in index [0]== , in index [-1]==, count number of index between last and first. count lenght removing first and last \n",
    "            final_string.append(f'{a[0]['name']}, {a[1]['name']} & {a[-1]['name']}')\n",
    "\n",
    "        index = index + 1\n",
    "\n",
    "\n",
    "\n",
    "    #1) determine length of list\n",
    "    #2) index the list according to the lenght: index(0) = name, index (1 second to last), index (-1). \n",
    "    # Conditionals for len 1, 2 or more than 2. \n",
    "    # For more than 2 use index(0), index >0 and index < -1, index (-1) . \n",
    "    # if len > 2\n",
    "    # [0] print , between first and last print as many as count, [-1]\n",
    "    #3) assign values to each index\n",
    "    #4) last index (-1) will finish with '&...'\n",
    "name_string ([\n",
    "    {'name':'Bart'},\n",
    "    {'name':'Lisa'},\n",
    "    {'name':'Maggie'}\n",
    "])\n",
    "def namelist(names):\n",
    "    names = [item['name'] for item in names]\n",
    "    if names:\n",
    "        ','.join(names)\n",
    "        if len(names)>2:\n",
    "            return ( ', '.join(names[:-1]) + \" & \" + str(names[-1]))\n",
    "        elif len(names)==2:\n",
    "            return( ' & '.join(names))\n",
    "        elif len(names)==1:\n",
    "            return (names[0])\n",
    "            \n",
    "    return ''"
   ]
  },
  {
   "cell_type": "code",
   "execution_count": null,
   "metadata": {},
   "outputs": [],
   "source": []
  }
 ],
 "metadata": {
  "kernelspec": {
   "display_name": "codeacademy",
   "language": "python",
   "name": "python3"
  },
  "language_info": {
   "codemirror_mode": {
    "name": "ipython",
    "version": 3
   },
   "file_extension": ".py",
   "mimetype": "text/x-python",
   "name": "python",
   "nbconvert_exporter": "python",
   "pygments_lexer": "ipython3",
   "version": "3.12.7"
  }
 },
 "nbformat": 4,
 "nbformat_minor": 2
}
