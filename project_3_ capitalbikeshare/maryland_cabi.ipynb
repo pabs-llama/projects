{
 "cells": [
  {
   "cell_type": "code",
   "execution_count": 2,
   "metadata": {},
   "outputs": [],
   "source": [
    "import pandas as pd\n",
    "import numpy  as np\n",
    "import matplotlib.pyplot as plt\n",
    "import statistics as st\n",
    "import seaborn as sns\n",
    "import datetime \n",
    "from geopy import distance\n",
    "import folium\n",
    "from folium.plugins import MarkerCluster\n",
    "from folium.features import GeoJsonTooltip\n",
    "from branca.colormap import LinearColormap\n",
    "from collections import Counter\n",
    "import json\n",
    "from shapely.geometry import Point\n",
    "import geopandas as gpd\n",
    "from shapely.geometry import shape"
   ]
  },
  {
   "cell_type": "code",
   "execution_count": 3,
   "metadata": {},
   "outputs": [],
   "source": [
    "data_types = {\n",
    "    \"rideable_type\": \"category\", \n",
    "    \"start_station_name\": \"category\", \n",
    "    \"end_station_name\": \"category\", \n",
    "    \"member_casual\":\"category\",\n",
    "    # \"ride_id\":\"uint32\",\n",
    "    \"time_of_day\":\"category\",\n",
    "    \"trip_type\":\"category\"}\n"
   ]
  },
  {
   "cell_type": "code",
   "execution_count": 4,
   "metadata": {},
   "outputs": [],
   "source": [
    "rides_maryland = pd.read_csv(\"bikes_clean.csv\", dtype = data_types, parse_dates= [\"started_at\", \"ended_at\"], low_memory=False)\n"
   ]
  },
  {
   "cell_type": "code",
   "execution_count": 5,
   "metadata": {},
   "outputs": [],
   "source": [
    "with open (\"Maryland_Physical_Boundaries_-_County_Boundaries_(Detailed).geojson\") as i:\n",
    "    maryland = json.loads(i.read())\n",
    "\n",
    "features = maryland[\"features\"]\n",
    "\n",
    "#GDF\n",
    "maryland_gdf = gpd.GeoDataFrame(\n",
    "    pd.DataFrame([feature['properties'] for feature in features]),  # Extract properties as attributes\n",
    "    geometry=[shape(feature['geometry']) for feature in features],  # Convert geometries\n",
    "    crs=\"EPSG:4326\")"
   ]
  },
  {
   "cell_type": "markdown",
   "metadata": {},
   "source": [
    "# join gdf and filter maryland rides"
   ]
  },
  {
   "cell_type": "code",
   "execution_count": 7,
   "metadata": {},
   "outputs": [],
   "source": [
    "# Create a GeoDataFrame for the start stations\n",
    "geometry = [Point(xy) for xy in zip(rides_maryland['start_lng'], rides_maryland['start_lat'])]\n",
    "bikes_gdf = gpd.GeoDataFrame(rides_maryland, geometry=geometry, crs=\"EPSG:4326\")\n",
    "\n",
    "# # Perform spatial join with the maryland gdf\n",
    "bikes_maryland_join = gpd.sjoin(bikes_gdf, maryland_gdf, how=\"left\", predicate=\"within\")"
   ]
  },
  {
   "cell_type": "code",
   "execution_count": 8,
   "metadata": {},
   "outputs": [],
   "source": [
    "rides_maryland = bikes_maryland_join.dropna(subset=\"COUNTY\")\n"
   ]
  },
  {
   "cell_type": "code",
   "execution_count": 10,
   "metadata": {},
   "outputs": [],
   "source": [
    "rides_maryland = rides_maryland.copy()"
   ]
  },
  {
   "cell_type": "code",
   "execution_count": 11,
   "metadata": {},
   "outputs": [],
   "source": [
    "rides_maryland['year'] = rides_maryland['started_at'].dt.year\n",
    "rides_maryland['dow'] = rides_maryland['started_at'].dt.dayofweek\n",
    "rides_maryland[\"weekday\"] = rides_maryland[\"started_at\"].dt.day_name()"
   ]
  },
  {
   "cell_type": "code",
   "execution_count": 12,
   "metadata": {},
   "outputs": [],
   "source": [
    "rides_maryland = rides_maryland.drop(columns= ['index_right','OBJECTID','DISTRICT', 'COUNTY_FIP', 'COUNTYNUM','CREATION_D', 'LAST_UPDAT'])"
   ]
  },
  {
   "cell_type": "code",
   "execution_count": 14,
   "metadata": {},
   "outputs": [
    {
     "data": {
      "text/html": [
       "<div>\n",
       "<style scoped>\n",
       "    .dataframe tbody tr th:only-of-type {\n",
       "        vertical-align: middle;\n",
       "    }\n",
       "\n",
       "    .dataframe tbody tr th {\n",
       "        vertical-align: top;\n",
       "    }\n",
       "\n",
       "    .dataframe thead th {\n",
       "        text-align: right;\n",
       "    }\n",
       "</style>\n",
       "<table border=\"1\" class=\"dataframe\">\n",
       "  <thead>\n",
       "    <tr style=\"text-align: right;\">\n",
       "      <th></th>\n",
       "      <th>COUNTY</th>\n",
       "      <th>ride_count</th>\n",
       "    </tr>\n",
       "  </thead>\n",
       "  <tbody>\n",
       "    <tr>\n",
       "      <th>0</th>\n",
       "      <td>Montgomery</td>\n",
       "      <td>168967</td>\n",
       "    </tr>\n",
       "    <tr>\n",
       "      <th>1</th>\n",
       "      <td>Prince George's</td>\n",
       "      <td>74195</td>\n",
       "    </tr>\n",
       "  </tbody>\n",
       "</table>\n",
       "</div>"
      ],
      "text/plain": [
       "            COUNTY  ride_count\n",
       "0       Montgomery      168967\n",
       "1  Prince George's       74195"
      ]
     },
     "execution_count": 14,
     "metadata": {},
     "output_type": "execute_result"
    }
   ],
   "source": [
    "# # Count rides per county\n",
    "rides_per_county = rides_maryland.groupby(\"COUNTY\").size().reset_index(name=\"ride_count\")  \n",
    "rides_per_county"
   ]
  },
  {
   "cell_type": "code",
   "execution_count": 29,
   "metadata": {},
   "outputs": [],
   "source": [
    "# Convert 'weekday' to a categorical type with the correct order\n",
    "weekday_order = [\"Monday\", \"Tuesday\", \"Wednesday\", \"Thursday\", \"Friday\", \"Saturday\", \"Sunday\"]\n",
    "rides_maryland[\"weekday\"] = pd.Categorical(rides_maryland[\"weekday\"], categories=weekday_order, ordered=True)\n"
   ]
  },
  {
   "cell_type": "code",
   "execution_count": 30,
   "metadata": {},
   "outputs": [],
   "source": [
    "rides_maryland.to_csv(\"cabi_maryland.csv\", index=False)"
   ]
  },
  {
   "cell_type": "markdown",
   "metadata": {},
   "source": [
    "# filtering per year"
   ]
  },
  {
   "cell_type": "code",
   "execution_count": 31,
   "metadata": {},
   "outputs": [],
   "source": [
    "year_2021= rides_maryland[rides_maryland[\"year\"]==2021]\n",
    "year_2022= rides_maryland[rides_maryland[\"year\"]==2022]\n",
    "rides_maryland_2023= rides_maryland[rides_maryland[\"year\"]==2023]"
   ]
  },
  {
   "cell_type": "code",
   "execution_count": 32,
   "metadata": {},
   "outputs": [
    {
     "data": {
      "text/plain": [
       "year\n",
       "2023    98071\n",
       "2021    72587\n",
       "2022    72504\n",
       "Name: count, dtype: int64"
      ]
     },
     "execution_count": 32,
     "metadata": {},
     "output_type": "execute_result"
    }
   ],
   "source": [
    "rides_maryland[\"year\"].value_counts()"
   ]
  },
  {
   "cell_type": "markdown",
   "metadata": {},
   "source": [
    "# filtering unique stations (classic and docked ebikes) from undocked e-bikes "
   ]
  },
  {
   "cell_type": "code",
   "execution_count": 33,
   "metadata": {},
   "outputs": [
    {
     "data": {
      "text/html": [
       "<div>\n",
       "<style scoped>\n",
       "    .dataframe tbody tr th:only-of-type {\n",
       "        vertical-align: middle;\n",
       "    }\n",
       "\n",
       "    .dataframe tbody tr th {\n",
       "        vertical-align: top;\n",
       "    }\n",
       "\n",
       "    .dataframe thead th {\n",
       "        text-align: right;\n",
       "    }\n",
       "</style>\n",
       "<table border=\"1\" class=\"dataframe\">\n",
       "  <thead>\n",
       "    <tr style=\"text-align: right;\">\n",
       "      <th></th>\n",
       "      <th>start_station_name</th>\n",
       "      <th>start_lat</th>\n",
       "      <th>start_lng</th>\n",
       "    </tr>\n",
       "  </thead>\n",
       "  <tbody>\n",
       "    <tr>\n",
       "      <th>5</th>\n",
       "      <td>10th &amp; Monroe St NE</td>\n",
       "      <td>38.973495</td>\n",
       "      <td>-77.020706</td>\n",
       "    </tr>\n",
       "    <tr>\n",
       "      <th>8</th>\n",
       "      <td>10th &amp; U St NW</td>\n",
       "      <td>38.983053</td>\n",
       "      <td>-76.998549</td>\n",
       "    </tr>\n",
       "    <tr>\n",
       "      <th>14</th>\n",
       "      <td>11th &amp; C St SE</td>\n",
       "      <td>39.000126</td>\n",
       "      <td>-77.079726</td>\n",
       "    </tr>\n",
       "    <tr>\n",
       "      <th>15</th>\n",
       "      <td>11th &amp; Clifton St NW</td>\n",
       "      <td>39.012635</td>\n",
       "      <td>-77.066359</td>\n",
       "    </tr>\n",
       "    <tr>\n",
       "      <th>21</th>\n",
       "      <td>11th &amp; O St NW</td>\n",
       "      <td>39.012635</td>\n",
       "      <td>-77.066359</td>\n",
       "    </tr>\n",
       "    <tr>\n",
       "      <th>...</th>\n",
       "      <td>...</td>\n",
       "      <td>...</td>\n",
       "      <td>...</td>\n",
       "    </tr>\n",
       "    <tr>\n",
       "      <th>850</th>\n",
       "      <td>Wisconsin Ave &amp; Ingomar St NW</td>\n",
       "      <td>39.012635</td>\n",
       "      <td>-77.066359</td>\n",
       "    </tr>\n",
       "    <tr>\n",
       "      <th>851</th>\n",
       "      <td>Wisconsin Ave &amp; Newark St NW</td>\n",
       "      <td>38.931240</td>\n",
       "      <td>-76.951919</td>\n",
       "    </tr>\n",
       "    <tr>\n",
       "      <th>853</th>\n",
       "      <td>Wisconsin Ave &amp; Rodman St NW</td>\n",
       "      <td>38.989793</td>\n",
       "      <td>-77.028654</td>\n",
       "    </tr>\n",
       "    <tr>\n",
       "      <th>855</th>\n",
       "      <td>Woodglen Dr &amp; Executive Blvd</td>\n",
       "      <td>39.043182</td>\n",
       "      <td>-77.113494</td>\n",
       "    </tr>\n",
       "    <tr>\n",
       "      <th>857</th>\n",
       "      <td>Woodmont Ave &amp; Strathmore St</td>\n",
       "      <td>38.979872</td>\n",
       "      <td>-77.093512</td>\n",
       "    </tr>\n",
       "  </tbody>\n",
       "</table>\n",
       "<p>198 rows × 3 columns</p>\n",
       "</div>"
      ],
      "text/plain": [
       "                start_station_name  start_lat  start_lng\n",
       "5              10th & Monroe St NE  38.973495 -77.020706\n",
       "8                   10th & U St NW  38.983053 -76.998549\n",
       "14                  11th & C St SE  39.000126 -77.079726\n",
       "15            11th & Clifton St NW  39.012635 -77.066359\n",
       "21                  11th & O St NW  39.012635 -77.066359\n",
       "..                             ...        ...        ...\n",
       "850  Wisconsin Ave & Ingomar St NW  39.012635 -77.066359\n",
       "851   Wisconsin Ave & Newark St NW  38.931240 -76.951919\n",
       "853   Wisconsin Ave & Rodman St NW  38.989793 -77.028654\n",
       "855   Woodglen Dr & Executive Blvd  39.043182 -77.113494\n",
       "857   Woodmont Ave & Strathmore St  38.979872 -77.093512\n",
       "\n",
       "[198 rows x 3 columns]"
      ]
     },
     "execution_count": 33,
     "metadata": {},
     "output_type": "execute_result"
    }
   ],
   "source": [
    "# unique_station_coordinates.groupby(\"start_station_name\")[\"start_lat\"].mean()\n",
    "avg_lat_per_station = rides_maryland.groupby(\"start_station_name\", as_index=False, observed=False)[\"start_lat\"].mean()\n",
    "avg_lng_per_station = rides_maryland.groupby(\"start_station_name\", as_index=False, observed = False)[\"start_lng\"].mean()\n",
    "\n",
    "maryland_unique_bike_stations = avg_lat_per_station.merge(avg_lng_per_station)\n",
    "maryland_unique_bike_stations = maryland_unique_bike_stations.dropna(subset=\"start_lat\")\n",
    "maryland_unique_bike_stations"
   ]
  },
  {
   "cell_type": "code",
   "execution_count": 34,
   "metadata": {},
   "outputs": [
    {
     "data": {
      "text/plain": [
       "rideable_type\n",
       "electric_bike    48641\n",
       "classic_bike     46467\n",
       "docked_bike       2963\n",
       "Name: count, dtype: int64"
      ]
     },
     "execution_count": 34,
     "metadata": {},
     "output_type": "execute_result"
    }
   ],
   "source": [
    "rides_maryland_2023[\"rideable_type\"].value_counts()"
   ]
  },
  {
   "cell_type": "code",
   "execution_count": 40,
   "metadata": {},
   "outputs": [],
   "source": [
    "undocked_bikes = rides_maryland_2023[rides_maryland_2023[\"rideable_type\"] == \"electric_bike\" ]"
   ]
  },
  {
   "cell_type": "code",
   "execution_count": 45,
   "metadata": {},
   "outputs": [
    {
     "name": "stdout",
     "output_type": "stream",
     "text": [
      "Average rides in Maryland for each day of the week in 2023 weekday\n",
      "Monday       18.057534\n",
      "Tuesday      19.668493\n",
      "Wednesday    19.419178\n",
      "Thursday     19.512329\n",
      "Friday       19.117808\n",
      "Saturday     19.057534\n",
      "Sunday       18.430137\n",
      "Name: count, dtype: float64\n"
     ]
    }
   ],
   "source": [
    "# Count rides per weekday\n",
    "rides_per_day = undocked_bikes[\"weekday\"].value_counts().sort_index()\n",
    "\n",
    "# Calculate average rides per weekday\n",
    "# nunique() gives the number of unique dates in the dataset.\n",
    "# Dividing by nunique() provides the average rides per weekday.\n",
    "average_rides = rides_per_day /undocked_bikes[\"started_at\"].dt.date.nunique()\n",
    "print(\"Average rides in Maryland for each day of the week in 2023\",average_rides)"
   ]
  },
  {
   "cell_type": "code",
   "execution_count": 48,
   "metadata": {},
   "outputs": [
    {
     "data": {
      "text/plain": [
       "<Axes: xlabel='weekday'>"
      ]
     },
     "execution_count": 48,
     "metadata": {},
     "output_type": "execute_result"
    },
    {
     "data": {
      "image/png": "[encoded data removed]",
      "text/plain": [
       "<Figure size 640x480 with 1 Axes>"
      ]
     },
     "metadata": {},
     "output_type": "display_data"
    }
   ],
   "source": [
    "sns.barplot(x=average_rides.index, y=average_rides.values, palette=\"coolwarm\", hue=average_rides.index)"
   ]
  },
  {
   "cell_type": "markdown",
   "metadata": {},
   "source": [
    "undocked bikes shows rides, not stations. can think of a timelapse per hour to see how the bikes are placed at a given time. Mapping all the undocled ebikes in a year at once will give the impression there are lot more in circulation than they actually are"
   ]
  }
 ],
 "metadata": {
  "kernelspec": {
   "display_name": "codeacademy",
   "language": "python",
   "name": "python3"
  },
  "language_info": {
   "codemirror_mode": {
    "name": "ipython",
    "version": 3
   },
   "file_extension": ".py",
   "mimetype": "text/x-python",
   "name": "python",
   "nbconvert_exporter": "python",
   "pygments_lexer": "ipython3",
   "version": "3.12.7"
  }
 },
 "nbformat": 4,
 "nbformat_minor": 2
}
