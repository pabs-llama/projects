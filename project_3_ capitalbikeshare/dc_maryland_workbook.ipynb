{
 "cells": [
  {
   "cell_type": "code",
   "execution_count": 1,
   "metadata": {},
   "outputs": [],
   "source": [
    "import pandas as pd\n",
    "import numpy  as np\n",
    "import matplotlib.pyplot as plt\n",
    "import statistics as st\n",
    "import seaborn as sns\n",
    "import datetime \n",
    "from geopy import distance\n",
    "import folium\n",
    "from folium.plugins import MarkerCluster\n",
    "from folium.features import GeoJsonTooltip\n",
    "from branca.colormap import LinearColormap\n",
    "from collections import Counter\n",
    "import json\n",
    "from shapely.geometry import Point\n",
    "import geopandas as gpd\n",
    "from shapely.geometry import shape"
   ]
  },
  {
   "cell_type": "code",
   "execution_count": 2,
   "metadata": {},
   "outputs": [],
   "source": [
    "data_types = {\n",
    "    \"rideable_type\": \"category\", \n",
    "    \"start_station_name\": \"category\", \n",
    "    \"end_station_name\": \"category\", \n",
    "    \"member_casual\":\"category\",\n",
    "    # \"ride_id\":\"uint32\",\n",
    "    \"time_of_day\":\"category\",\n",
    "    \"trip_type\":\"category\"}"
   ]
  },
  {
   "cell_type": "code",
   "execution_count": null,
   "metadata": {},
   "outputs": [],
   "source": [
    "dc_maryland_gdf = pd.read_csv(\"dc_maryland_gdf_full_updated.csv\",parse_dates= [\"started_at\", \"ended_at\"],dtype=data_types, low_memory=False)"
   ]
  },
  {
   "cell_type": "code",
   "execution_count": null,
   "metadata": {},
   "outputs": [],
   "source": [
    "dc_maryland_gdf[\"rideable_type\"] = dc_maryland_gdf[\"rideable_type\"].astype(\"category\")\n",
    "dc_maryland_gdf[\"start_station_name\"] = dc_maryland_gdf[\"start_station_name\"].astype(\"category\")\n",
    "dc_maryland_gdf[\"end_station_name\"] = dc_maryland_gdf[\"end_station_name\"].astype(\"category\")\n",
    "dc_maryland_gdf[\"member_casual\"] = dc_maryland_gdf[\"member_casual\"].astype(\"category\")"
   ]
  },
  {
   "cell_type": "code",
   "execution_count": 8,
   "metadata": {},
   "outputs": [
    {
     "data": {
      "text/plain": [
       "Index(['Unnamed: 0', 'ride_id', 'rideable_type', 'started_at', 'ended_at',\n",
       "       'start_station_name', 'start_station_id', 'end_station_name',\n",
       "       'end_station_id', 'member_casual', 'start_lat', 'start_lng', 'end_lat',\n",
       "       'end_lng', 'start_time', 'end_time', 'start_hour', 'end_hour',\n",
       "       'trip_duration_minutes', 'time_of_day', 'geometry', 'year', 'month',\n",
       "       'WARD', 'NAME', 'COUNTY'],\n",
       "      dtype='object')"
      ]
     },
     "execution_count": 8,
     "metadata": {},
     "output_type": "execute_result"
    }
   ],
   "source": [
    "bikes.columns"
   ]
  },
  {
   "cell_type": "code",
   "execution_count": 10,
   "metadata": {},
   "outputs": [],
   "source": [
    "bikes = bikes.drop(columns=\"Unnamed: 0\")"
   ]
  },
  {
   "cell_type": "code",
   "execution_count": 22,
   "metadata": {},
   "outputs": [],
   "source": [
    "bikes['area'] = np.where(bikes['WARD'].notnull(), 'DC', 'Maryland')"
   ]
  },
  {
   "cell_type": "code",
   "execution_count": 24,
   "metadata": {},
   "outputs": [
    {
     "data": {
      "text/html": [
       "<div>\n",
       "<style scoped>\n",
       "    .dataframe tbody tr th:only-of-type {\n",
       "        vertical-align: middle;\n",
       "    }\n",
       "\n",
       "    .dataframe tbody tr th {\n",
       "        vertical-align: top;\n",
       "    }\n",
       "\n",
       "    .dataframe thead th {\n",
       "        text-align: right;\n",
       "    }\n",
       "</style>\n",
       "<table border=\"1\" class=\"dataframe\">\n",
       "  <thead>\n",
       "    <tr style=\"text-align: right;\">\n",
       "      <th></th>\n",
       "      <th>area</th>\n",
       "      <th>ride_count</th>\n",
       "    </tr>\n",
       "  </thead>\n",
       "  <tbody>\n",
       "    <tr>\n",
       "      <th>0</th>\n",
       "      <td>DC</td>\n",
       "      <td>126675</td>\n",
       "    </tr>\n",
       "    <tr>\n",
       "      <th>1</th>\n",
       "      <td>Maryland</td>\n",
       "      <td>3469</td>\n",
       "    </tr>\n",
       "  </tbody>\n",
       "</table>\n",
       "</div>"
      ],
      "text/plain": [
       "       area  ride_count\n",
       "0        DC      126675\n",
       "1  Maryland        3469"
      ]
     },
     "execution_count": 24,
     "metadata": {},
     "output_type": "execute_result"
    }
   ],
   "source": [
    "# # Count rides per area\n",
    "rides_per_ward = bikes.groupby(\"area\").size().reset_index(name=\"ride_count\")  \n",
    "rides_per_ward"
   ]
  }
 ],
 "metadata": {
  "kernelspec": {
   "display_name": "codeacademy",
   "language": "python",
   "name": "python3"
  },
  "language_info": {
   "codemirror_mode": {
    "name": "ipython",
    "version": 3
   },
   "file_extension": ".py",
   "mimetype": "text/x-python",
   "name": "python",
   "nbconvert_exporter": "python",
   "pygments_lexer": "ipython3",
   "version": "3.12.7"
  }
 },
 "nbformat": 4,
 "nbformat_minor": 2
}
