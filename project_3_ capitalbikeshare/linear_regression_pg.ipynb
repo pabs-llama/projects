{
 "cells": [
  {
   "cell_type": "markdown",
   "metadata": {},
   "source": [
    "Machine learning\n",
    "\n",
    "predict number of rides at a given station/area\n",
    "determine how many stations will be needed if the amount of rides increases?\n",
    "\n",
    "Goal \n",
    "improve bikeshare connectivity in Prince George, Maryland.\n",
    "KPIS\n",
    "Geographic & Accessibility KPIs\n",
    "These show spatial patterns of bikeshare use.\n",
    "Top Origin & Destination Stations – Identify the most frequently used stations.\n",
    "Most Popular Routes – Determine the most common start-to-end station pairs.\n",
    "Trips per Square Mile – Identify high- and low-density usage areas.\n",
    "Coverage & Accessibility – Percentage of the city covered by bikeshare stations.\n",
    "Ward-to-Ward Trip Flow – Count trips between different wards to see mobility patterns.\n"
   ]
  },
  {
   "cell_type": "code",
   "execution_count": 2,
   "metadata": {},
   "outputs": [],
   "source": [
    "import pandas as pd\n",
    "import numpy  as np\n",
    "import matplotlib.pyplot as plt\n",
    "import statistics as st\n",
    "import seaborn as sns\n",
    "import datetime \n",
    "from geopy import distance\n",
    "import folium\n",
    "from folium.plugins import MarkerCluster\n",
    "from folium.features import GeoJsonTooltip\n",
    "from branca.colormap import LinearColormap\n",
    "from collections import Counter\n",
    "import json\n",
    "from shapely.geometry import Point\n",
    "import geopandas as gpd\n",
    "from shapely.geometry import shape\n",
    "from shapely.wkt import loads "
   ]
  },
  {
   "cell_type": "markdown",
   "metadata": {},
   "source": [
    "Predicting Ride Demand (Number of Rides per Station per Hour/Day)\n",
    "\n",
    "Features: Station proximity, metro distance,, time of day, weekday/weekend. In/out? (how many are starting and ending on a given station at a given time). Population? others: distance to city center, distance to major points of interest (tourist attractions, business districts, universities) distance to parks & recreational areas, distance to high density residential areas\n",
    "\n",
    "Model: Poisson Regression, Time Series Regression (ARIMA, XGBoost), Neural Networks.\n",
    "\n",
    "Insight: Helps predict peak usage times and optimize bike availability.\n",
    "\n",
    "the df should have station name, time of day or weekday, distance to the closest station, distance to metro. First I should see if there's a correlation between this\n",
    "\n",
    "Im starting with the premise that not only weather or time, but station location influence the amount of rides"
   ]
  },
  {
   "cell_type": "markdown",
   "metadata": {},
   "source": []
  },
  {
   "cell_type": "code",
   "execution_count": 3,
   "metadata": {},
   "outputs": [],
   "source": [
    "data_types = {\n",
    "    \"rideable_type\": \"category\", \n",
    "    \"start_station_name\": \"category\", \n",
    "    \"end_station_name\": \"category\", \n",
    "    \"member_casual\":\"category\",\n",
    "    # \"ride_id\":\"uint32\",\n",
    "    \"time_of_day\":\"category\",\n",
    "    \"trip_type\":\"category\"}"
   ]
  },
  {
   "cell_type": "code",
   "execution_count": 4,
   "metadata": {},
   "outputs": [],
   "source": [
    "prince_george = pd.read_csv(\"prince_georgy_cabi.csv\",parse_dates= [\"started_at\", \"ended_at\"],dtype=data_types, low_memory=False)"
   ]
  },
  {
   "cell_type": "markdown",
   "metadata": {},
   "source": [
    "1. Defining the Problem\n",
    "Target Variable: Number of rides per station per time unit (hour/day/week).\n",
    "Features:\n",
    "Station Proximity: Average distance to nearest stations.\n",
    "Metro Distance: Distance to the nearest metro station.\n",
    "Time Factors: Hour of the day, day of the week, season.\n",
    "Area: DC vs. Maryland (as a categorical variable).\n",
    "2. Data Preprocessing\n",
    "Aggregate the data by station and time interval (hourly or daily).\n",
    "Encode categorical features (e.g., one-hot encoding for area).\n",
    "Normalize numerical features like distance.\n",
    "Handle missing values if any exist.\n",
    "3. Choose a Model\n",
    "Linear Regression (for simple relationships).\n",
    "Poisson Regression (good for count data like demand).\n",
    "Random Forest / XGBoost (for non-linear relationships and interactions).\n",
    "4. Model Training & Evaluation\n",
    "Train the model on historical data.\n",
    "Use RMSE or Mean Absolute Error (MAE) for evaluation.\n",
    "Tune hyperparameters (if using tree-based models)."
   ]
  },
  {
   "cell_type": "code",
   "execution_count": 5,
   "metadata": {},
   "outputs": [],
   "source": [
    "prince_george.columns\n",
    "prince_george = prince_george.drop(columns=[\"Unnamed: 0\",\"AREA_COVER\", \"index_right\",'ACREAGE',\n",
    "       'IMPRT_DATE', 'SHAPE_AREA', 'SHAPE_LEN'])"
   ]
  },
  {
   "cell_type": "code",
   "execution_count": 6,
   "metadata": {},
   "outputs": [],
   "source": [
    "prince_george_fixed = prince_george[prince_george[\"start_station_name\"].isin(['1301 McCormick Dr / Wayne K. Curry Admin Bldg',\n",
    " '40th Ave & Bladensburg Rd',\n",
    " 'Baltimore Ave & Jefferson St',\n",
    " 'Baltimore Ave & Van Buren St / Riverdale Park Station',\n",
    " 'Baltimore Avenue and Hotel Drive at UMD',\n",
    " 'Bladensburg Waterfront Park',\n",
    " 'Bowdoin Ave & Calvert Rd/ College Park Metro',\n",
    " 'Bowdoin Ave & Calvert Rd/ College Park Station',\n",
    " 'Capitol Heights Metro',\n",
    " 'Chillum Rd & Riggs Rd / Riggs Plaza',\n",
    " 'Crescent Rd & Ridge Rd',\n",
    " 'Fleet St & Waterfront St',\n",
    " 'Greenbelt Station Parkway',\n",
    " 'Guilford Drive & Rowalt Drive / UMD',\n",
    " 'Hyattsville Library / Adelphi Rd & Toledo Rd',\n",
    " \"Largo Rd & Campus Way / Prince Georges's Comm Col\",\n",
    " 'Largo Town Center Metro',\n",
    " 'National Harbor Carousel',\n",
    " 'New Hampshire Ave & East-West Hwy',\n",
    " 'Northwestern High School',\n",
    " 'Oglethorpe St & 42nd Ave',\n",
    " 'Oxon Hill Park & Ride',\n",
    " 'Perry & 35th St',\n",
    " \"Prince George's Plaza Metro\",\n",
    " 'Queens Chapel & Hamilton St',\n",
    " 'Rhode Island Ave & 39th St / Brentwood Arts Exchange',\n",
    " 'Rhode Island Avenue /Charles Armentrout Drive - Melrose Skate Park ',\n",
    " 'Riggs Rd & East West Hwy',\n",
    " 'Riverdale Park Town Center',\n",
    " 'Roosevelt Center & Crescent Rd',\n",
    " 'Southern Ave Metro',\n",
    " 'Tanger Outlets',\n",
    " 'The Mall at Prince Georges',\n",
    " 'Walker Mill Road/ Walker Mill Regional Park ',\n",
    " 'West Hyattsville Metro'])|prince_george[\"start_station_name\"].isna()]"
   ]
  },
  {
   "cell_type": "code",
   "execution_count": 19,
   "metadata": {},
   "outputs": [
    {
     "data": {
      "text/plain": [
       "rideable_type                 0\n",
       "started_at                    0\n",
       "ended_at                      0\n",
       "start_station_name        62863\n",
       "end_station_name          63953\n",
       "member_casual                 0\n",
       "start_lat                     0\n",
       "start_lng                     0\n",
       "end_lat                     168\n",
       "end_lng                     168\n",
       "trip_duration_minutes     77832\n",
       "time_of_day               77832\n",
       "year                          0\n",
       "geometry                      0\n",
       "WARD                     130316\n",
       "NAME_left                130316\n",
       "COUNTY                        0\n",
       "area                          0\n",
       "NAME_right                    0\n",
       "dtype: int64"
      ]
     },
     "execution_count": 19,
     "metadata": {},
     "output_type": "execute_result"
    }
   ],
   "source": [
    "prince_george_fixed.isna().sum()"
   ]
  },
  {
   "cell_type": "code",
   "execution_count": 20,
   "metadata": {},
   "outputs": [
    {
     "data": {
      "text/plain": [
       "rideable_type\n",
       "electric_bike    93496\n",
       "classic_bike     32922\n",
       "docked_bike       3898\n",
       "Name: count, dtype: int64"
      ]
     },
     "execution_count": 20,
     "metadata": {},
     "output_type": "execute_result"
    }
   ],
   "source": [
    "prince_george_fixed[\"rideable_type\"].value_counts()"
   ]
  },
  {
   "cell_type": "code",
   "execution_count": 9,
   "metadata": {},
   "outputs": [],
   "source": [
    "ebikes = prince_george[prince_george[\"rideable_type\"] == \"electric_bike\"]"
   ]
  },
  {
   "cell_type": "code",
   "execution_count": 10,
   "metadata": {},
   "outputs": [],
   "source": [
    "docked = prince_george[(prince_george[\"rideable_type\"] == \"classic_bike\")&(prince_george[\"rideable_type\"] == \"docked_bike\")]"
   ]
  },
  {
   "cell_type": "code",
   "execution_count": 11,
   "metadata": {},
   "outputs": [
    {
     "data": {
      "text/plain": [
       "rideable_type            0\n",
       "started_at               0\n",
       "ended_at                 0\n",
       "start_station_name       0\n",
       "end_station_name         0\n",
       "member_casual            0\n",
       "start_lat                0\n",
       "start_lng                0\n",
       "end_lat                  0\n",
       "end_lng                  0\n",
       "trip_duration_minutes    0\n",
       "time_of_day              0\n",
       "year                     0\n",
       "geometry                 0\n",
       "WARD                     0\n",
       "NAME_left                0\n",
       "COUNTY                   0\n",
       "area                     0\n",
       "NAME_right               0\n",
       "dtype: int64"
      ]
     },
     "execution_count": 11,
     "metadata": {},
     "output_type": "execute_result"
    }
   ],
   "source": [
    "docked.isna().sum()"
   ]
  },
  {
   "cell_type": "code",
   "execution_count": 12,
   "metadata": {},
   "outputs": [
    {
     "data": {
      "text/plain": [
       "rideable_type                0\n",
       "started_at                   0\n",
       "ended_at                     0\n",
       "start_station_name       62863\n",
       "end_station_name         63445\n",
       "member_casual                0\n",
       "start_lat                    0\n",
       "start_lng                    0\n",
       "end_lat                      0\n",
       "end_lng                      0\n",
       "trip_duration_minutes    66921\n",
       "time_of_day              66921\n",
       "year                         0\n",
       "geometry                     0\n",
       "WARD                     93566\n",
       "NAME_left                93566\n",
       "COUNTY                       0\n",
       "area                         0\n",
       "NAME_right                   0\n",
       "dtype: int64"
      ]
     },
     "execution_count": 12,
     "metadata": {},
     "output_type": "execute_result"
    }
   ],
   "source": [
    "ebikes.isna().sum()"
   ]
  },
  {
   "cell_type": "markdown",
   "metadata": {},
   "source": [
    "all the station missing values correspond to ebikes."
   ]
  },
  {
   "cell_type": "code",
   "execution_count": 30,
   "metadata": {},
   "outputs": [
    {
     "data": {
      "text/plain": [
       "35"
      ]
     },
     "execution_count": 30,
     "metadata": {},
     "output_type": "execute_result"
    }
   ],
   "source": [
    "# unique stations\n",
    "avg_lat_per_station = prince_george_fixed.groupby(\"start_station_name\", as_index=False, observed=False)[\"start_lat\"].mean()\n",
    "avg_lng_per_station = prince_george_fixed.groupby(\"start_station_name\", as_index=False, observed = False)[\"start_lng\"].mean()\n",
    "\n",
    "pg_unique_stations= avg_lat_per_station.merge(avg_lng_per_station)\n",
    "pg_unique_stations = pg_unique_stations.dropna(subset=[\"start_lat\",\"start_lng\"])\n",
    "len(pg_unique_stations)"
   ]
  },
  {
   "cell_type": "code",
   "execution_count": 31,
   "metadata": {},
   "outputs": [],
   "source": [
    "from sklearn.neighbors import NearestNeighbors\n",
    "\n",
    "# Assume df_stations has columns: [\"station_name\", \"latitude\", \"longitude\"]\n",
    "coords = pg_unique_stations[[\"start_lat\", \"start_lng\"]].values\n",
    "\n",
    "# Use Nearest Neighbors to find closest stations\n",
    "nbrs = NearestNeighbors(n_neighbors=5, algorithm='ball_tree').fit(coords)\n",
    "distances, _ = nbrs.kneighbors(coords)\n",
    "\n",
    "# Exclude distance to itself (first column is 0)\n",
    "pg_unique_stations[\"avg_nearest_distance\"] = np.mean(distances[:, 1:], axis=1)"
   ]
  },
  {
   "cell_type": "code",
   "execution_count": null,
   "metadata": {},
   "outputs": [
    {
     "data": {
      "text/html": [
       "<div>\n",
       "<style scoped>\n",
       "    .dataframe tbody tr th:only-of-type {\n",
       "        vertical-align: middle;\n",
       "    }\n",
       "\n",
       "    .dataframe tbody tr th {\n",
       "        vertical-align: top;\n",
       "    }\n",
       "\n",
       "    .dataframe thead th {\n",
       "        text-align: right;\n",
       "    }\n",
       "</style>\n",
       "<table border=\"1\" class=\"dataframe\">\n",
       "  <thead>\n",
       "    <tr style=\"text-align: right;\">\n",
       "      <th></th>\n",
       "      <th>start_station_name</th>\n",
       "      <th>start_lat</th>\n",
       "      <th>start_lng</th>\n",
       "      <th>avg_nearest_distance</th>\n",
       "    </tr>\n",
       "  </thead>\n",
       "  <tbody>\n",
       "    <tr>\n",
       "      <th>0</th>\n",
       "      <td>10th &amp; Monroe St NE</td>\n",
       "      <td>38.966361</td>\n",
       "      <td>-76.953635</td>\n",
       "      <td>0.002236</td>\n",
       "    </tr>\n",
       "    <tr>\n",
       "      <th>1</th>\n",
       "      <td>11th &amp; Kenyon St NW</td>\n",
       "      <td>38.943080</td>\n",
       "      <td>-76.925301</td>\n",
       "      <td>0.012896</td>\n",
       "    </tr>\n",
       "    <tr>\n",
       "      <th>2</th>\n",
       "      <td>11th &amp; O St NW</td>\n",
       "      <td>38.973556</td>\n",
       "      <td>-76.995467</td>\n",
       "      <td>0.000690</td>\n",
       "    </tr>\n",
       "    <tr>\n",
       "      <th>3</th>\n",
       "      <td>12th &amp; Irving St NE</td>\n",
       "      <td>38.946864</td>\n",
       "      <td>-76.961685</td>\n",
       "      <td>0.003548</td>\n",
       "    </tr>\n",
       "    <tr>\n",
       "      <th>4</th>\n",
       "      <td>12th St &amp; Pennsylvania Ave SE</td>\n",
       "      <td>38.932141</td>\n",
       "      <td>-76.956020</td>\n",
       "      <td>0.001050</td>\n",
       "    </tr>\n",
       "    <tr>\n",
       "      <th>...</th>\n",
       "      <td>...</td>\n",
       "      <td>...</td>\n",
       "      <td>...</td>\n",
       "      <td>...</td>\n",
       "    </tr>\n",
       "    <tr>\n",
       "      <th>84</th>\n",
       "      <td>The Mall at Prince Georges</td>\n",
       "      <td>38.968849</td>\n",
       "      <td>-76.954184</td>\n",
       "      <td>0.000680</td>\n",
       "    </tr>\n",
       "    <tr>\n",
       "      <th>85</th>\n",
       "      <td>Van Ness Metro / UDC</td>\n",
       "      <td>38.931240</td>\n",
       "      <td>-76.951919</td>\n",
       "      <td>0.002099</td>\n",
       "    </tr>\n",
       "    <tr>\n",
       "      <th>86</th>\n",
       "      <td>Walker Mill Road/ Walker Mill Regional Park</td>\n",
       "      <td>38.875772</td>\n",
       "      <td>-76.868774</td>\n",
       "      <td>0.038215</td>\n",
       "    </tr>\n",
       "    <tr>\n",
       "      <th>87</th>\n",
       "      <td>West Hyattsville Metro</td>\n",
       "      <td>38.955336</td>\n",
       "      <td>-76.968051</td>\n",
       "      <td>0.008135</td>\n",
       "    </tr>\n",
       "    <tr>\n",
       "      <th>88</th>\n",
       "      <td>Wisconsin Ave &amp; Newark St NW</td>\n",
       "      <td>38.931240</td>\n",
       "      <td>-76.951919</td>\n",
       "      <td>0.002099</td>\n",
       "    </tr>\n",
       "  </tbody>\n",
       "</table>\n",
       "<p>89 rows × 4 columns</p>\n",
       "</div>"
      ],
      "text/plain": [
       "                              start_station_name  start_lat  start_lng  \\\n",
       "0                            10th & Monroe St NE  38.966361 -76.953635   \n",
       "1                            11th & Kenyon St NW  38.943080 -76.925301   \n",
       "2                                 11th & O St NW  38.973556 -76.995467   \n",
       "3                            12th & Irving St NE  38.946864 -76.961685   \n",
       "4                  12th St & Pennsylvania Ave SE  38.932141 -76.956020   \n",
       "..                                           ...        ...        ...   \n",
       "84                    The Mall at Prince Georges  38.968849 -76.954184   \n",
       "85                          Van Ness Metro / UDC  38.931240 -76.951919   \n",
       "86  Walker Mill Road/ Walker Mill Regional Park   38.875772 -76.868774   \n",
       "87                        West Hyattsville Metro  38.955336 -76.968051   \n",
       "88                  Wisconsin Ave & Newark St NW  38.931240 -76.951919   \n",
       "\n",
       "    avg_nearest_distance  \n",
       "0               0.002236  \n",
       "1               0.012896  \n",
       "2               0.000690  \n",
       "3               0.003548  \n",
       "4               0.001050  \n",
       "..                   ...  \n",
       "84              0.000680  \n",
       "85              0.002099  \n",
       "86              0.038215  \n",
       "87              0.008135  \n",
       "88              0.002099  \n",
       "\n",
       "[89 rows x 4 columns]"
      ]
     },
     "execution_count": 15,
     "metadata": {},
     "output_type": "execute_result"
    }
   ],
   "source": [
    "pg_unique_stations"
   ]
  },
  {
   "cell_type": "markdown",
   "metadata": {},
   "source": [
    "list of unique stations 2021-2024 in prince george . As determined in dc_maryland_updated_2024\n",
    "['1301 McCormick Dr / Wayne K. Curry Admin Bldg',\n",
    " '40th Ave & Bladensburg Rd',\n",
    " 'Baltimore Ave & Jefferson St',\n",
    " 'Baltimore Ave & Van Buren St / Riverdale Park Station',\n",
    " 'Baltimore Avenue and Hotel Drive at UMD',\n",
    " 'Bladensburg Waterfront Park',\n",
    " 'Bowdoin Ave & Calvert Rd/ College Park Metro',\n",
    " 'Bowdoin Ave & Calvert Rd/ College Park Station',\n",
    " 'Capitol Heights Metro',\n",
    " 'Chillum Rd & Riggs Rd / Riggs Plaza',\n",
    " 'Crescent Rd & Ridge Rd',\n",
    " 'Fleet St & Waterfront St',\n",
    " 'Greenbelt Station Parkway',\n",
    " 'Guilford Drive & Rowalt Drive / UMD',\n",
    " 'Hyattsville Library / Adelphi Rd & Toledo Rd',\n",
    " \"Largo Rd & Campus Way / Prince Georges's Comm Col\",\n",
    " 'Largo Town Center Metro',\n",
    " 'National Harbor Carousel',\n",
    " 'New Hampshire Ave & East-West Hwy',\n",
    " 'Northwestern High School',\n",
    " 'Oglethorpe St & 42nd Ave',\n",
    " 'Oxon Hill Park & Ride',\n",
    " 'Perry & 35th St',\n",
    " \"Prince George's Plaza Metro\",\n",
    " 'Queens Chapel & Hamilton St',\n",
    " 'Rhode Island Ave & 39th St / Brentwood Arts Exchange',\n",
    " 'Rhode Island Avenue /Charles Armentrout Drive - Melrose Skate Park ',\n",
    " 'Riggs Rd & East West Hwy',\n",
    " 'Riverdale Park Town Center',\n",
    " 'Roosevelt Center & Crescent Rd',\n",
    " 'Southern Ave Metro',\n",
    " 'Tanger Outlets',\n",
    " 'The Mall at Prince Georges',\n",
    " 'Walker Mill Road/ Walker Mill Regional Park ',\n",
    " 'West Hyattsville Metro']"
   ]
  },
  {
   "cell_type": "code",
   "execution_count": 16,
   "metadata": {},
   "outputs": [],
   "source": [
    "with open (\"Maryland_Physical_Boundaries_-_County_Boundaries_(Detailed).geojson\") as i:\n",
    "    maryland = json.loads(i.read())\n",
    "\n",
    "features = maryland[\"features\"]\n",
    "\n",
    "#GDF\n",
    "maryland_gdf = gpd.GeoDataFrame(\n",
    "    pd.DataFrame([feature['properties'] for feature in features]),  # Extract properties as attributes\n",
    "    geometry=[shape(feature['geometry']) for feature in features],  # Convert geometries\n",
    "    crs=\"EPSG:4326\")"
   ]
  },
  {
   "cell_type": "code",
   "execution_count": 17,
   "metadata": {},
   "outputs": [
    {
     "ename": "SyntaxError",
     "evalue": "invalid syntax (1508729547.py, line 1)",
     "output_type": "error",
     "traceback": [
      "\u001b[0;36m  Cell \u001b[0;32mIn[17], line 1\u001b[0;36m\u001b[0m\n\u001b[0;31m    maryland_gdf[]\u001b[0m\n\u001b[0m                 ^\u001b[0m\n\u001b[0;31mSyntaxError\u001b[0m\u001b[0;31m:\u001b[0m invalid syntax\n"
     ]
    }
   ],
   "source": [
    "maryland_gdf[]"
   ]
  }
 ],
 "metadata": {
  "kernelspec": {
   "display_name": "codeacademy",
   "language": "python",
   "name": "python3"
  },
  "language_info": {
   "codemirror_mode": {
    "name": "ipython",
    "version": 3
   },
   "file_extension": ".py",
   "mimetype": "text/x-python",
   "name": "python",
   "nbconvert_exporter": "python",
   "pygments_lexer": "ipython3",
   "version": "3.12.7"
  }
 },
 "nbformat": 4,
 "nbformat_minor": 2
}
