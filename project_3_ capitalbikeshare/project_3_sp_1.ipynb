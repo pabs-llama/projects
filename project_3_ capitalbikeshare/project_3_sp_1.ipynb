{
 "cells": [
  {
   "cell_type": "code",
   "execution_count": 2,
   "metadata": {},
   "outputs": [],
   "source": [
    "import pandas as pd\n",
    "import numpy  as np\n",
    "import matplotlib.pyplot as plt\n",
    "import statistics as st\n",
    "import seaborn as sns\n",
    "import datetime \n",
    "from geopy import distance"
   ]
  },
  {
   "cell_type": "code",
   "execution_count": 3,
   "metadata": {},
   "outputs": [],
   "source": [
    "data_types = {\n",
    "    \"rideable_type\": \"category\", \n",
    "    \"start_station_name\": \"category\", \n",
    "    \"end_station_name\": \"category\", \n",
    "    \"member_casual\":\"category\",\n",
    "    # \"ride_id\":\"uint32\",\n",
    "    \"time_of_day\":\"category\",\n",
    "    \"trip_type\":\"category\"}\n",
    "\n",
    "# data_types = {\n",
    "#     (\"rideable_type\",\"start_station_name\",\"end_station_name\",\"member_casual\", \"time_of_day\",\"trip_type\") : \"category\",\n",
    "#     \"ride_id\":\"uint32\"\n",
    "#     }"
   ]
  },
  {
   "cell_type": "code",
   "execution_count": 4,
   "metadata": {},
   "outputs": [],
   "source": [
    "# bikes = pd.read_csv(\"bikes_clean.csv\", dtype = data_types, parse_dates= [\"started_at\", \"ended_at\"], low_memory=False)"
   ]
  },
  {
   "cell_type": "code",
   "execution_count": 5,
   "metadata": {},
   "outputs": [],
   "source": [
    "# bikes3.info()"
   ]
  },
  {
   "cell_type": "code",
   "execution_count": 6,
   "metadata": {},
   "outputs": [],
   "source": [
    "bikes = pd.read_csv(\"/Users/pablosoriano/Documents/Data Science/Code Academy/projects/project_3_ capitalbikeshare/CBS_2021-2023_Full.csv\", dtype = data_types, parse_dates= [\"started_at\", \"ended_at\"], low_memory=False)\n",
    "# bikes3 = pd.read_csv(\"/Users/pablosoriano/Documents/Data Science/Code Academy/projects/project_3_ capitalbikeshare/bikes_clean.csv\", low_memory=False)"
   ]
  },
  {
   "cell_type": "markdown",
   "metadata": {},
   "source": [
    "#TODO -  make samples of the whole data set to reduce the processing time. Could do 1000 (random) rows per month => 12.000 rows per year ==> 36.000 rows in total"
   ]
  },
  {
   "cell_type": "markdown",
   "metadata": {},
   "source": [
    "# Data Wrangling"
   ]
  },
  {
   "cell_type": "code",
   "execution_count": 7,
   "metadata": {},
   "outputs": [
    {
     "data": {
      "text/html": [
       "<div>\n",
       "<style scoped>\n",
       "    .dataframe tbody tr th:only-of-type {\n",
       "        vertical-align: middle;\n",
       "    }\n",
       "\n",
       "    .dataframe tbody tr th {\n",
       "        vertical-align: top;\n",
       "    }\n",
       "\n",
       "    .dataframe thead th {\n",
       "        text-align: right;\n",
       "    }\n",
       "</style>\n",
       "<table border=\"1\" class=\"dataframe\">\n",
       "  <thead>\n",
       "    <tr style=\"text-align: right;\">\n",
       "      <th></th>\n",
       "      <th>ride_id</th>\n",
       "      <th>rideable_type</th>\n",
       "      <th>started_at</th>\n",
       "      <th>ended_at</th>\n",
       "      <th>start_station_name</th>\n",
       "      <th>start_station_id</th>\n",
       "      <th>end_station_name</th>\n",
       "      <th>end_station_id</th>\n",
       "      <th>start_lat</th>\n",
       "      <th>start_lng</th>\n",
       "      <th>end_lat</th>\n",
       "      <th>end_lng</th>\n",
       "      <th>member_casual</th>\n",
       "    </tr>\n",
       "  </thead>\n",
       "  <tbody>\n",
       "    <tr>\n",
       "      <th>0</th>\n",
       "      <td>5CB9DFCECF79AF84</td>\n",
       "      <td>classic_bike</td>\n",
       "      <td>2021-01-01 00:08:33</td>\n",
       "      <td>2021-01-01 00:33:53</td>\n",
       "      <td>Maine Ave &amp; 9th St SW</td>\n",
       "      <td>31646.0</td>\n",
       "      <td>Rosslyn Metro / Wilson Blvd &amp; Ft Myer Dr</td>\n",
       "      <td>31015.0</td>\n",
       "      <td>38.880440</td>\n",
       "      <td>-77.025236</td>\n",
       "      <td>38.894600</td>\n",
       "      <td>-77.072305</td>\n",
       "      <td>member</td>\n",
       "    </tr>\n",
       "    <tr>\n",
       "      <th>1</th>\n",
       "      <td>629E059504606547</td>\n",
       "      <td>electric_bike</td>\n",
       "      <td>2021-01-01 00:13:43</td>\n",
       "      <td>2021-01-01 00:29:34</td>\n",
       "      <td>10th &amp; U St NW</td>\n",
       "      <td>31111.0</td>\n",
       "      <td>NaN</td>\n",
       "      <td>NaN</td>\n",
       "      <td>38.917193</td>\n",
       "      <td>-77.025894</td>\n",
       "      <td>38.960000</td>\n",
       "      <td>-77.020000</td>\n",
       "      <td>casual</td>\n",
       "    </tr>\n",
       "    <tr>\n",
       "      <th>2</th>\n",
       "      <td>E74069873161EE33</td>\n",
       "      <td>electric_bike</td>\n",
       "      <td>2021-01-01 00:14:32</td>\n",
       "      <td>2021-01-01 00:28:45</td>\n",
       "      <td>17th &amp; Corcoran St NW</td>\n",
       "      <td>31214.0</td>\n",
       "      <td>14th &amp; Belmont St NW</td>\n",
       "      <td>31119.0</td>\n",
       "      <td>38.912138</td>\n",
       "      <td>-77.038568</td>\n",
       "      <td>38.920870</td>\n",
       "      <td>-77.031691</td>\n",
       "      <td>member</td>\n",
       "    </tr>\n",
       "    <tr>\n",
       "      <th>3</th>\n",
       "      <td>91F95E512CABC46A</td>\n",
       "      <td>classic_bike</td>\n",
       "      <td>2021-01-01 00:15:45</td>\n",
       "      <td>2021-01-01 00:21:20</td>\n",
       "      <td>Wilson Blvd. &amp; N. Vermont St.</td>\n",
       "      <td>31926.0</td>\n",
       "      <td>Wilson Blvd. &amp; N. Vermont St.</td>\n",
       "      <td>31926.0</td>\n",
       "      <td>38.879477</td>\n",
       "      <td>-77.114563</td>\n",
       "      <td>38.879477</td>\n",
       "      <td>-77.114563</td>\n",
       "      <td>member</td>\n",
       "    </tr>\n",
       "    <tr>\n",
       "      <th>4</th>\n",
       "      <td>DA46A05139C0EA2F</td>\n",
       "      <td>classic_bike</td>\n",
       "      <td>2021-01-01 00:17:46</td>\n",
       "      <td>2021-01-01 00:21:00</td>\n",
       "      <td>11th &amp; Park Rd NW</td>\n",
       "      <td>31651.0</td>\n",
       "      <td>14th &amp; Newton St NW</td>\n",
       "      <td>31649.0</td>\n",
       "      <td>38.931322</td>\n",
       "      <td>-77.028247</td>\n",
       "      <td>38.931991</td>\n",
       "      <td>-77.032956</td>\n",
       "      <td>member</td>\n",
       "    </tr>\n",
       "    <tr>\n",
       "      <th>5</th>\n",
       "      <td>0FD3B4B2152425C3</td>\n",
       "      <td>electric_bike</td>\n",
       "      <td>2021-01-01 00:18:16</td>\n",
       "      <td>2021-01-01 00:29:05</td>\n",
       "      <td>NaN</td>\n",
       "      <td>NaN</td>\n",
       "      <td>Georgia Ave &amp; Kennedy St NW</td>\n",
       "      <td>31415.0</td>\n",
       "      <td>38.930000</td>\n",
       "      <td>-77.030000</td>\n",
       "      <td>38.956738</td>\n",
       "      <td>-77.027940</td>\n",
       "      <td>casual</td>\n",
       "    </tr>\n",
       "    <tr>\n",
       "      <th>6</th>\n",
       "      <td>0535306B61EF92F9</td>\n",
       "      <td>classic_bike</td>\n",
       "      <td>2021-01-01 00:19:06</td>\n",
       "      <td>2021-01-01 00:36:28</td>\n",
       "      <td>Bladensburg Rd &amp; Benning Rd NE</td>\n",
       "      <td>31617.0</td>\n",
       "      <td>Good Hope Rd &amp; MLK Ave SE</td>\n",
       "      <td>31802.0</td>\n",
       "      <td>38.900413</td>\n",
       "      <td>-76.982872</td>\n",
       "      <td>38.867373</td>\n",
       "      <td>-76.988039</td>\n",
       "      <td>casual</td>\n",
       "    </tr>\n",
       "    <tr>\n",
       "      <th>7</th>\n",
       "      <td>78894BDABD9F21DD</td>\n",
       "      <td>electric_bike</td>\n",
       "      <td>2021-01-01 00:20:40</td>\n",
       "      <td>2021-01-01 00:35:36</td>\n",
       "      <td>Columbia Rd &amp; Georgia Ave NW</td>\n",
       "      <td>31115.0</td>\n",
       "      <td>NaN</td>\n",
       "      <td>NaN</td>\n",
       "      <td>38.928081</td>\n",
       "      <td>-77.023768</td>\n",
       "      <td>38.900000</td>\n",
       "      <td>-77.020000</td>\n",
       "      <td>casual</td>\n",
       "    </tr>\n",
       "    <tr>\n",
       "      <th>8</th>\n",
       "      <td>CB36F43FA77E4A35</td>\n",
       "      <td>docked_bike</td>\n",
       "      <td>2021-01-01 00:21:19</td>\n",
       "      <td>2021-01-01 00:33:31</td>\n",
       "      <td>15th &amp; F St NE</td>\n",
       "      <td>31632.0</td>\n",
       "      <td>1st &amp; M St SE</td>\n",
       "      <td>31650.0</td>\n",
       "      <td>38.897195</td>\n",
       "      <td>-76.983575</td>\n",
       "      <td>38.876893</td>\n",
       "      <td>-77.006072</td>\n",
       "      <td>casual</td>\n",
       "    </tr>\n",
       "    <tr>\n",
       "      <th>9</th>\n",
       "      <td>874D92427D41BC30</td>\n",
       "      <td>classic_bike</td>\n",
       "      <td>2021-01-01 00:21:39</td>\n",
       "      <td>2021-01-01 00:31:07</td>\n",
       "      <td>14th &amp; Otis Pl NW</td>\n",
       "      <td>31131.0</td>\n",
       "      <td>14th &amp; R St NW</td>\n",
       "      <td>31202.0</td>\n",
       "      <td>38.934405</td>\n",
       "      <td>-77.032687</td>\n",
       "      <td>38.913046</td>\n",
       "      <td>-77.032008</td>\n",
       "      <td>member</td>\n",
       "    </tr>\n",
       "  </tbody>\n",
       "</table>\n",
       "</div>"
      ],
      "text/plain": [
       "            ride_id  rideable_type          started_at            ended_at  \\\n",
       "0  5CB9DFCECF79AF84   classic_bike 2021-01-01 00:08:33 2021-01-01 00:33:53   \n",
       "1  629E059504606547  electric_bike 2021-01-01 00:13:43 2021-01-01 00:29:34   \n",
       "2  E74069873161EE33  electric_bike 2021-01-01 00:14:32 2021-01-01 00:28:45   \n",
       "3  91F95E512CABC46A   classic_bike 2021-01-01 00:15:45 2021-01-01 00:21:20   \n",
       "4  DA46A05139C0EA2F   classic_bike 2021-01-01 00:17:46 2021-01-01 00:21:00   \n",
       "5  0FD3B4B2152425C3  electric_bike 2021-01-01 00:18:16 2021-01-01 00:29:05   \n",
       "6  0535306B61EF92F9   classic_bike 2021-01-01 00:19:06 2021-01-01 00:36:28   \n",
       "7  78894BDABD9F21DD  electric_bike 2021-01-01 00:20:40 2021-01-01 00:35:36   \n",
       "8  CB36F43FA77E4A35    docked_bike 2021-01-01 00:21:19 2021-01-01 00:33:31   \n",
       "9  874D92427D41BC30   classic_bike 2021-01-01 00:21:39 2021-01-01 00:31:07   \n",
       "\n",
       "               start_station_name start_station_id  \\\n",
       "0           Maine Ave & 9th St SW          31646.0   \n",
       "1                  10th & U St NW          31111.0   \n",
       "2           17th & Corcoran St NW          31214.0   \n",
       "3   Wilson Blvd. & N. Vermont St.          31926.0   \n",
       "4               11th & Park Rd NW          31651.0   \n",
       "5                             NaN              NaN   \n",
       "6  Bladensburg Rd & Benning Rd NE          31617.0   \n",
       "7    Columbia Rd & Georgia Ave NW          31115.0   \n",
       "8                  15th & F St NE          31632.0   \n",
       "9               14th & Otis Pl NW          31131.0   \n",
       "\n",
       "                           end_station_name end_station_id  start_lat  \\\n",
       "0  Rosslyn Metro / Wilson Blvd & Ft Myer Dr        31015.0  38.880440   \n",
       "1                                       NaN            NaN  38.917193   \n",
       "2                      14th & Belmont St NW        31119.0  38.912138   \n",
       "3             Wilson Blvd. & N. Vermont St.        31926.0  38.879477   \n",
       "4                       14th & Newton St NW        31649.0  38.931322   \n",
       "5               Georgia Ave & Kennedy St NW        31415.0  38.930000   \n",
       "6                 Good Hope Rd & MLK Ave SE        31802.0  38.900413   \n",
       "7                                       NaN            NaN  38.928081   \n",
       "8                             1st & M St SE        31650.0  38.897195   \n",
       "9                            14th & R St NW        31202.0  38.934405   \n",
       "\n",
       "   start_lng    end_lat    end_lng member_casual  \n",
       "0 -77.025236  38.894600 -77.072305        member  \n",
       "1 -77.025894  38.960000 -77.020000        casual  \n",
       "2 -77.038568  38.920870 -77.031691        member  \n",
       "3 -77.114563  38.879477 -77.114563        member  \n",
       "4 -77.028247  38.931991 -77.032956        member  \n",
       "5 -77.030000  38.956738 -77.027940        casual  \n",
       "6 -76.982872  38.867373 -76.988039        casual  \n",
       "7 -77.023768  38.900000 -77.020000        casual  \n",
       "8 -76.983575  38.876893 -77.006072        casual  \n",
       "9 -77.032687  38.913046 -77.032008        member  "
      ]
     },
     "execution_count": 7,
     "metadata": {},
     "output_type": "execute_result"
    }
   ],
   "source": [
    "bikes.head(10)"
   ]
  },
  {
   "cell_type": "code",
   "execution_count": 8,
   "metadata": {},
   "outputs": [
    {
     "data": {
      "text/plain": [
       "(10693997, 13)"
      ]
     },
     "execution_count": 8,
     "metadata": {},
     "output_type": "execute_result"
    }
   ],
   "source": [
    "bikes.shape"
   ]
  },
  {
   "cell_type": "code",
   "execution_count": 9,
   "metadata": {},
   "outputs": [],
   "source": [
    "# Convert categorical columns to category type for memory efficiency\n",
    "# bikes2= bikes.copy()\n",
    "# bikes2[\"rideable_type\"] = bikes2[\"rideable_type\"].astype(\"category\")\n",
    "# bikes2[\"start_station_name\"] = bikes2[\"start_station_name\"].astype(\"category\")\n",
    "# bikes2[\"end_station_name\"] = bikes2[\"end_station_name\"].astype(\"category\")\n",
    "# bikes2[\"member_casual\"] = bikes2[\"member_casual\"].astype(\"category\")\n",
    "\n",
    "# Regenerate the entire ride_id column with sequential integers and convert it\n",
    "# to a memory-efficient data type (uint32)\n",
    "bikes['ride_id'] = pd.Series(range(1, len(bikes) + 1), dtype='uint32')"
   ]
  },
  {
   "cell_type": "code",
   "execution_count": 10,
   "metadata": {},
   "outputs": [
    {
     "name": "stdout",
     "output_type": "stream",
     "text": [
      "<class 'pandas.core.frame.DataFrame'>\n",
      "RangeIndex: 10693997 entries, 0 to 10693996\n",
      "Data columns (total 13 columns):\n",
      " #   Column              Dtype         \n",
      "---  ------              -----         \n",
      " 0   ride_id             uint32        \n",
      " 1   rideable_type       category      \n",
      " 2   started_at          datetime64[ns]\n",
      " 3   ended_at            datetime64[ns]\n",
      " 4   start_station_name  category      \n",
      " 5   start_station_id    object        \n",
      " 6   end_station_name    category      \n",
      " 7   end_station_id      object        \n",
      " 8   start_lat           float64       \n",
      " 9   start_lng           float64       \n",
      " 10  end_lat             float64       \n",
      " 11  end_lng             float64       \n",
      " 12  member_casual       category      \n",
      "dtypes: category(4), datetime64[ns](2), float64(4), object(2), uint32(1)\n",
      "memory usage: 754.8+ MB\n"
     ]
    }
   ],
   "source": [
    "bikes.info()"
   ]
  },
  {
   "cell_type": "markdown",
   "metadata": {},
   "source": [
    "## handling missing / incomplete data"
   ]
  },
  {
   "cell_type": "code",
   "execution_count": 11,
   "metadata": {},
   "outputs": [
    {
     "data": {
      "text/plain": [
       "ride_id                    0\n",
       "rideable_type              0\n",
       "started_at                 0\n",
       "ended_at                   0\n",
       "start_station_name    742776\n",
       "start_station_id      742776\n",
       "end_station_name      811282\n",
       "end_station_id        811282\n",
       "start_lat                  2\n",
       "start_lng                  2\n",
       "end_lat                16765\n",
       "end_lng                16765\n",
       "member_casual              0\n",
       "dtype: int64"
      ]
     },
     "execution_count": 11,
     "metadata": {},
     "output_type": "execute_result"
    }
   ],
   "source": [
    "# missing values\n",
    "bikes.isna().any()\n",
    "bikes.isna().sum()"
   ]
  },
  {
   "cell_type": "markdown",
   "metadata": {},
   "source": [
    "determine the latitude/long coordinates for each station\n",
    "do a for loop creating a range of max and min, latitude and longitud, for each station. \n",
    "Use this range to input missing values."
   ]
  },
  {
   "cell_type": "code",
   "execution_count": 12,
   "metadata": {},
   "outputs": [],
   "source": [
    "# bikes[bikes[\"end_station_id\"]==31015.0]\n",
    "# # transform coordinates into float\n",
    "# bikes2= bikes.copy()\n",
    "\n",
    "# # bikes2.astype({\"start_lat\": float})\n",
    "# bikes2.astype({\"start_lat\": float, \"start_lng\": float, \"end_lat\":float, \"end_lng\":float})"
   ]
  },
  {
   "cell_type": "markdown",
   "metadata": {},
   "source": [
    "## formatting"
   ]
  },
  {
   "cell_type": "code",
   "execution_count": 13,
   "metadata": {},
   "outputs": [],
   "source": [
    "bikes[\"start_station_id\"]=bikes[\"start_station_id\"].str.replace(\".0\",\"\")\n",
    "bikes[\"end_station_id\"]=bikes[\"end_station_id\"].str.replace(\".0\",\"\")"
   ]
  },
  {
   "cell_type": "markdown",
   "metadata": {},
   "source": [
    "## unique values"
   ]
  },
  {
   "cell_type": "code",
   "execution_count": 14,
   "metadata": {},
   "outputs": [],
   "source": [
    "# # unique values before formatting\n",
    "# # Filter the DataFrame for object columns\n",
    "# non_numeric = bikes.select_dtypes(\"object\")\n",
    "\n",
    "# # Loop through columns\n",
    "# for x in non_numeric.columns:\n",
    "  \n",
    "#   # Print the number of unique values\n",
    "#   print(f\"Number of unique values in {x} column: \", non_numeric[x].nunique())\n",
    "\n",
    "# # Filter the DataFrame for object columns\n",
    "# non_numeric = bikes2.select_dtypes(\"object\")\n",
    "\n",
    "# # Loop through columns\n",
    "# for x in non_numeric.columns:\n",
    "  \n",
    "#   # Print the number of unique values\n",
    "#   print(f\"Number of unique values in {x} column: \", non_numeric[x].nunique())\n",
    "\n",
    "  ##NOTE - removing the '.0\" at the end of station id reduced the amount of unique values by 600\n"
   ]
  },
  {
   "cell_type": "code",
   "execution_count": 15,
   "metadata": {},
   "outputs": [
    {
     "data": {
      "text/plain": [
       "ride_id                    0\n",
       "rideable_type              0\n",
       "started_at                 0\n",
       "ended_at                   0\n",
       "start_station_name    742776\n",
       "start_station_id      742776\n",
       "end_station_name      811282\n",
       "end_station_id        811282\n",
       "start_lat                  2\n",
       "start_lng                  2\n",
       "end_lat                16765\n",
       "end_lng                16765\n",
       "member_casual              0\n",
       "dtype: int64"
      ]
     },
     "execution_count": 15,
     "metadata": {},
     "output_type": "execute_result"
    }
   ],
   "source": [
    "bikes.isna().any()\n",
    "bikes.isna().sum()"
   ]
  },
  {
   "cell_type": "markdown",
   "metadata": {},
   "source": [
    "## Dealing with missing values"
   ]
  },
  {
   "cell_type": "code",
   "execution_count": 16,
   "metadata": {},
   "outputs": [],
   "source": [
    "# # Determine a range of latitude and longitud (max and min) for each station\n",
    "# coordinate_columns = bikes2[[\"start_lat\",\"start_lng\",\"end_lat\",\"end_lng\"]]\n",
    "\n",
    "# # bikes2[bikes2[\"start_station_name\"]==\"10th & U St NW\"].nlargest(1, \"start_lat\")\n",
    "# print(\"max_latitude: \", bikes2[bikes2[\"start_station_name\"]==\"10th & U St NW\"].nlargest(1,\"start_lat\")[\"start_lat\"])\n",
    "# print(\"min_latitude: \",bikes2[bikes2[\"start_station_name\"]==\"10th & U St NW\"].nsmallest(1,\"start_lat\")[\"start_lat\"])\n",
    "\n",
    "# # filter = bikes2[\"start_station_name\"]==\"10th & U St NW\"\n",
    "# # filter"
   ]
  },
  {
   "cell_type": "markdown",
   "metadata": {},
   "source": [
    "## Step 1: Create a Station Boundary Lookup\n",
    "Create a DataFrame containing the station IDs along with their latitude and longitude ranges.\n",
    "\n",
    "\n",
    "\n"
   ]
  },
  {
   "cell_type": "code",
   "execution_count": 17,
   "metadata": {},
   "outputs": [],
   "source": [
    "# station_bounds = bikes2.groupby(\"start_station_id\").agg({\n",
    "#     \"start_lat\": [\"min\", \"max\"],\n",
    "#     \"start_lng\": [\"min\", \"max\"]\n",
    "# }).reset_index()\n",
    "\n",
    "# # Flatten multi-level column names\n",
    "# station_bounds.columns = [\"start_station_id\", \"min_lat\", \"max_lat\", \"min_lng\", \"max_lng\"]"
   ]
  },
  {
   "cell_type": "code",
   "execution_count": 18,
   "metadata": {},
   "outputs": [],
   "source": [
    "# station_bounds[\"centroid_lat\"] = (station_bounds[\"min_lat\"] + station_bounds[\"max_lat\"]) / 2\n",
    "# station_bounds[\"centroid_lng\"] = (station_bounds[\"min_lng\"] + station_bounds[\"max_lng\"]) / 2\n",
    "# station_bounds"
   ]
  },
  {
   "cell_type": "markdown",
   "metadata": {},
   "source": [
    "## Step 2: Define a Function to Match Coordinates\n",
    "Create a function that takes the latitude and longitude of a row and finds the start_station_id that falls within the corresponding range."
   ]
  },
  {
   "cell_type": "markdown",
   "metadata": {},
   "source": [
    "how is it possible that there are more unique values in the id columns than in the name columns? they should be the same. one possible explanation is that one station_name has multiple station_id's"
   ]
  },
  {
   "cell_type": "code",
   "execution_count": 19,
   "metadata": {},
   "outputs": [],
   "source": [
    "# def find_station_id(lat, lng, station_bounds):\n",
    "#     # Filter the station bounds for matches\n",
    "#     matches = station_bounds[\n",
    "#         (station_bounds[\"min_lat\"] <= lat) & \n",
    "#         (station_bounds[\"max_lat\"] >= lat) & \n",
    "#         (station_bounds[\"min_lng\"] <= lng) & \n",
    "#         (station_bounds[\"max_lng\"] >= lng)]\n",
    "#     print(f\"Lat: {lat}, Lng: {lng}, Matches:\\n{matches}\")\n",
    "    \n",
    "#     # If exactly one match, return the station ID\n",
    "#     if len(matches) == 1:\n",
    "#         return matches[\"start_station_id\"].iloc[0]\n",
    "#     elif len(matches) > 1:\n",
    "#         # Calculate distances to the centroid of each matching station\n",
    "#         matches[\"distance\"] = np.sqrt(\n",
    "#             (matches[\"centroid_lat\"] - lat) ** 2 + \n",
    "#             (matches[\"centroid_lng\"] - lng) ** 2\n",
    "#         )\n",
    "#         # Return the station ID with the smallest distance\n",
    "#         return matches.loc[matches[\"distance\"].idxmin(), \"start_station_id\"]\n",
    "#     return None\n",
    "\n",
    "# test_row = bikes2.iloc[0]\n",
    "# print(find_station_id(test_row[\"start_lat\"], test_row[\"start_lng\"], station_bounds))\n"
   ]
  },
  {
   "cell_type": "markdown",
   "metadata": {},
   "source": [
    "## Step 3: Apply the Function to Fill Missing Values\n",
    "Use the .apply() method to fill the missing start_station_id values."
   ]
  },
  {
   "cell_type": "code",
   "execution_count": 20,
   "metadata": {},
   "outputs": [],
   "source": [
    "# bikes2[\"start_station_id\"] = bikes2.apply(\n",
    "#     lambda row: find_station_id(row[\"start_lat\"], row[\"start_lng\"], station_bounds)\n",
    "#     if pd.isnull(row[\"start_station_id\"]) else row[\"start_station_id\"],\n",
    "#     axis=1\n",
    "# )"
   ]
  },
  {
   "cell_type": "code",
   "execution_count": 21,
   "metadata": {},
   "outputs": [],
   "source": [
    "# test_row = bikes2.iloc[0]  # Replace with a specific row index\n",
    "# print(find_station_id(test_row[\"start_lat\"], test_row[\"start_lng\"], station_bounds))"
   ]
  },
  {
   "cell_type": "code",
   "execution_count": 22,
   "metadata": {},
   "outputs": [],
   "source": [
    "# missing_count = bikes2[\"start_station_id\"].isnull().sum()\n",
    "# print(f\"Remaining missing start_station_id values: {missing_count}\")"
   ]
  },
  {
   "cell_type": "code",
   "execution_count": 23,
   "metadata": {},
   "outputs": [],
   "source": [
    "# print(f\"Latitudes: {bikes2['start_lat'].min()} - {bikes2['start_lat'].max()}\")\n",
    "# print(f\"Longitudes: {bikes2['start_lng'].min()} - {bikes2['start_lng'].max()}\")\n",
    "\n",
    "# print(f\"Station Bounds Latitude: {station_bounds['min_lat'].min()} - {station_bounds['max_lat'].max()}\")\n",
    "# print(f\"Station Bounds Longitude: {station_bounds['min_lng'].min()} - {station_bounds['max_lng'].max()}\")"
   ]
  },
  {
   "cell_type": "markdown",
   "metadata": {},
   "source": [
    "# KNN"
   ]
  },
  {
   "cell_type": "code",
   "execution_count": 24,
   "metadata": {},
   "outputs": [],
   "source": [
    "# from sklearn.preprocessing import LabelEncoder\n",
    "\n",
    "# # Initialize the LabelEncoder\n",
    "# encoder = LabelEncoder()\n",
    "\n",
    "# # Encode the non-null values of start_station_id\n",
    "# bikes2[\"start_station_id_encoded\"] = bikes2[\"start_station_id\"]\n",
    "# bikes2.loc[bikes2[\"start_station_id\"].notnull(), \"start_station_id_encoded\"] = encoder.fit_transform(\n",
    "#     bikes2.loc[bikes2[\"start_station_id\"].notnull(), \"start_station_id\"])"
   ]
  },
  {
   "cell_type": "code",
   "execution_count": 25,
   "metadata": {},
   "outputs": [],
   "source": [
    "# from sklearn.impute import KNNImputer\n",
    "\n",
    "#REVIEW - TAKES WAY TO LONG TO DO IT LIKE THIS, 4 HS AND STILL GOING\n",
    "# # Prepare the data for imputation\n",
    "# knn_data = bikes2[[\"start_lat\", \"start_lng\", \"start_station_id_encoded\"]]\n",
    "\n",
    "# # Initialize the KNN Imputer\n",
    "# knn_imputer = KNNImputer(n_neighbors=3, weights=\"distance\")\n",
    "\n",
    "\n",
    "# # Perform the imputation\n",
    "# knn_imputed = knn_imputer.fit_transform(knn_data)\n",
    "\n",
    "# # Update the imputed values in the DataFrame\n",
    "# bikes2[\"start_station_id_encoded\"] = knn_imputed[:, 2]"
   ]
  },
  {
   "cell_type": "markdown",
   "metadata": {},
   "source": [
    "# Use grid cell to impute missing values"
   ]
  },
  {
   "cell_type": "code",
   "execution_count": 26,
   "metadata": {},
   "outputs": [],
   "source": [
    "bikes2 = bikes.copy()"
   ]
  },
  {
   "cell_type": "code",
   "execution_count": 27,
   "metadata": {},
   "outputs": [],
   "source": [
    "# bikes2[\"start_lat_filled\"] = bikes2[\"start_lat\"].fillna(0)\n",
    "# bikes2[\"start_lng_filled\"] = bikes2[\"start_lng\"].fillna(0)\n",
    "\n",
    "# # Create grid cells using the filled coordinates\n",
    "# grid_size = 0.001  # Approx. ~100mts\n",
    "# bikes2[\"grid_cell\"] = (\n",
    "#     (bikes2[\"start_lat_filled\"] // grid_size).astype(int).astype(str) + \"_\" +\n",
    "#     (bikes2[\"start_lng_filled\"] // grid_size).astype(int).astype(str)\n",
    "# )\n",
    "\n",
    "# bikes2[\"grid_cell\"].head()\n"
   ]
  },
  {
   "cell_type": "code",
   "execution_count": 28,
   "metadata": {},
   "outputs": [],
   "source": [
    "# known = bikes2.dropna(subset=[\"start_station_id\"])\n",
    "\n",
    "# # Map each grid cell to the most frequent station ID\n",
    "# grid_to_station = known.groupby(\"grid_cell\")[\"start_station_id\"].agg(lambda x: x.mode()[0]).to_dict()\n",
    "\n",
    "# grid_to_station"
   ]
  },
  {
   "cell_type": "code",
   "execution_count": 29,
   "metadata": {},
   "outputs": [],
   "source": [
    "# bikes2.loc[bikes2[\"start_station_id\"].isnull(), \"start_station_id\"] = bikes2[\"grid_cell\"].map(grid_to_station)"
   ]
  },
  {
   "cell_type": "code",
   "execution_count": 30,
   "metadata": {},
   "outputs": [],
   "source": [
    "# print(f\"missing values before imputation: {bikes[\"start_station_id\"].isna().sum()}\")\n",
    "# print(f\"missing values after imputation: {bikes2[\"start_station_id\"].isna().sum()}\")"
   ]
  },
  {
   "cell_type": "code",
   "execution_count": 31,
   "metadata": {},
   "outputs": [],
   "source": [
    "# bikes2[\"end_station_id\"].isna().sum()"
   ]
  },
  {
   "cell_type": "code",
   "execution_count": 32,
   "metadata": {},
   "outputs": [],
   "source": [
    "# ## missing values for end station id\n",
    "\n",
    "# bikes2[\"end_lat_filled\"] = bikes2[\"end_lat\"].fillna(0)\n",
    "# bikes2[\"end_lng_filled\"] = bikes2[\"end_lng\"].fillna(0)\n",
    "\n",
    "# # Create grid cells using the filled coordinates\n",
    "# grid_size = 0.001  # Approx. 100 meters\n",
    "# bikes2[\"grid_cell_end\"] = (\n",
    "#     (bikes2[\"end_lat_filled\"] // grid_size).astype(int).astype(str) + \"_\" +\n",
    "#     (bikes2[\"end_lng_filled\"] // grid_size).astype(int).astype(str)\n",
    "# )\n",
    "\n",
    "# bikes2[\"grid_cell_end\"].head()\n",
    "# known = bikes2.dropna(subset=[\"end_station_id\"])\n",
    "\n",
    "# # Map each grid cell to the most frequent station ID\n",
    "# grid_to_station = known.groupby(\"grid_cell_end\")[\"end_station_id\"].agg(lambda x: x.mode()[0]).to_dict()\n",
    "\n",
    "# grid_to_station\n",
    "# bikes2.loc[bikes2[\"end_station_id\"].isnull(), \"end_station_id\"] = bikes2[\"grid_cell_end\"].map(grid_to_station)"
   ]
  },
  {
   "cell_type": "code",
   "execution_count": 33,
   "metadata": {},
   "outputs": [],
   "source": [
    "# print(f\"missing values before imputation: {bikes[\"end_station_id\"].isna().sum()}\")\n",
    "# print(f\"missing values after imputation: {bikes2[\"end_station_id\"].isna().sum()}\")"
   ]
  },
  {
   "cell_type": "code",
   "execution_count": 34,
   "metadata": {},
   "outputs": [],
   "source": [
    "# bikes2[\"end_station_id\"].isna().sum()"
   ]
  },
  {
   "cell_type": "code",
   "execution_count": null,
   "metadata": {},
   "outputs": [
    {
     "data": {
      "text/plain": [
       "np.int64(0)"
      ]
     },
     "execution_count": 37,
     "metadata": {},
     "output_type": "execute_result"
    }
   ],
   "source": [
    "# bikes2.duplicated().sum()"
   ]
  },
  {
   "cell_type": "code",
   "execution_count": 38,
   "metadata": {},
   "outputs": [
    {
     "data": {
      "text/html": [
       "<div>\n",
       "<style scoped>\n",
       "    .dataframe tbody tr th:only-of-type {\n",
       "        vertical-align: middle;\n",
       "    }\n",
       "\n",
       "    .dataframe tbody tr th {\n",
       "        vertical-align: top;\n",
       "    }\n",
       "\n",
       "    .dataframe thead th {\n",
       "        text-align: right;\n",
       "    }\n",
       "</style>\n",
       "<table border=\"1\" class=\"dataframe\">\n",
       "  <thead>\n",
       "    <tr style=\"text-align: right;\">\n",
       "      <th></th>\n",
       "      <th>ride_id</th>\n",
       "      <th>rideable_type</th>\n",
       "      <th>started_at</th>\n",
       "      <th>ended_at</th>\n",
       "      <th>start_station_name</th>\n",
       "      <th>start_station_id</th>\n",
       "      <th>end_station_name</th>\n",
       "      <th>end_station_id</th>\n",
       "      <th>start_lat</th>\n",
       "      <th>start_lng</th>\n",
       "      <th>end_lat</th>\n",
       "      <th>end_lng</th>\n",
       "      <th>member_casual</th>\n",
       "    </tr>\n",
       "  </thead>\n",
       "  <tbody>\n",
       "    <tr>\n",
       "      <th>0</th>\n",
       "      <td>1</td>\n",
       "      <td>classic_bike</td>\n",
       "      <td>2021-01-01 00:08:33</td>\n",
       "      <td>2021-01-01 00:33:53</td>\n",
       "      <td>Maine Ave &amp; 9th St SW</td>\n",
       "      <td>31646</td>\n",
       "      <td>Rosslyn Metro / Wilson Blvd &amp; Ft Myer Dr</td>\n",
       "      <td>31015</td>\n",
       "      <td>38.880440</td>\n",
       "      <td>-77.025236</td>\n",
       "      <td>38.894600</td>\n",
       "      <td>-77.072305</td>\n",
       "      <td>member</td>\n",
       "    </tr>\n",
       "    <tr>\n",
       "      <th>1</th>\n",
       "      <td>2</td>\n",
       "      <td>electric_bike</td>\n",
       "      <td>2021-01-01 00:13:43</td>\n",
       "      <td>2021-01-01 00:29:34</td>\n",
       "      <td>10th &amp; U St NW</td>\n",
       "      <td>31111</td>\n",
       "      <td>NaN</td>\n",
       "      <td>NaN</td>\n",
       "      <td>38.917193</td>\n",
       "      <td>-77.025894</td>\n",
       "      <td>38.960000</td>\n",
       "      <td>-77.020000</td>\n",
       "      <td>casual</td>\n",
       "    </tr>\n",
       "    <tr>\n",
       "      <th>2</th>\n",
       "      <td>3</td>\n",
       "      <td>electric_bike</td>\n",
       "      <td>2021-01-01 00:14:32</td>\n",
       "      <td>2021-01-01 00:28:45</td>\n",
       "      <td>17th &amp; Corcoran St NW</td>\n",
       "      <td>31214</td>\n",
       "      <td>14th &amp; Belmont St NW</td>\n",
       "      <td>31119</td>\n",
       "      <td>38.912138</td>\n",
       "      <td>-77.038568</td>\n",
       "      <td>38.920870</td>\n",
       "      <td>-77.031691</td>\n",
       "      <td>member</td>\n",
       "    </tr>\n",
       "    <tr>\n",
       "      <th>3</th>\n",
       "      <td>4</td>\n",
       "      <td>classic_bike</td>\n",
       "      <td>2021-01-01 00:15:45</td>\n",
       "      <td>2021-01-01 00:21:20</td>\n",
       "      <td>Wilson Blvd. &amp; N. Vermont St.</td>\n",
       "      <td>31926</td>\n",
       "      <td>Wilson Blvd. &amp; N. Vermont St.</td>\n",
       "      <td>31926</td>\n",
       "      <td>38.879477</td>\n",
       "      <td>-77.114563</td>\n",
       "      <td>38.879477</td>\n",
       "      <td>-77.114563</td>\n",
       "      <td>member</td>\n",
       "    </tr>\n",
       "    <tr>\n",
       "      <th>4</th>\n",
       "      <td>5</td>\n",
       "      <td>classic_bike</td>\n",
       "      <td>2021-01-01 00:17:46</td>\n",
       "      <td>2021-01-01 00:21:00</td>\n",
       "      <td>11th &amp; Park Rd NW</td>\n",
       "      <td>31651</td>\n",
       "      <td>14th &amp; Newton St NW</td>\n",
       "      <td>31649</td>\n",
       "      <td>38.931322</td>\n",
       "      <td>-77.028247</td>\n",
       "      <td>38.931991</td>\n",
       "      <td>-77.032956</td>\n",
       "      <td>member</td>\n",
       "    </tr>\n",
       "  </tbody>\n",
       "</table>\n",
       "</div>"
      ],
      "text/plain": [
       "   ride_id  rideable_type          started_at            ended_at  \\\n",
       "0        1   classic_bike 2021-01-01 00:08:33 2021-01-01 00:33:53   \n",
       "1        2  electric_bike 2021-01-01 00:13:43 2021-01-01 00:29:34   \n",
       "2        3  electric_bike 2021-01-01 00:14:32 2021-01-01 00:28:45   \n",
       "3        4   classic_bike 2021-01-01 00:15:45 2021-01-01 00:21:20   \n",
       "4        5   classic_bike 2021-01-01 00:17:46 2021-01-01 00:21:00   \n",
       "\n",
       "              start_station_name start_station_id  \\\n",
       "0          Maine Ave & 9th St SW            31646   \n",
       "1                 10th & U St NW            31111   \n",
       "2          17th & Corcoran St NW            31214   \n",
       "3  Wilson Blvd. & N. Vermont St.            31926   \n",
       "4              11th & Park Rd NW            31651   \n",
       "\n",
       "                           end_station_name end_station_id  start_lat  \\\n",
       "0  Rosslyn Metro / Wilson Blvd & Ft Myer Dr          31015  38.880440   \n",
       "1                                       NaN            NaN  38.917193   \n",
       "2                      14th & Belmont St NW          31119  38.912138   \n",
       "3             Wilson Blvd. & N. Vermont St.          31926  38.879477   \n",
       "4                       14th & Newton St NW          31649  38.931322   \n",
       "\n",
       "   start_lng    end_lat    end_lng member_casual  \n",
       "0 -77.025236  38.894600 -77.072305        member  \n",
       "1 -77.025894  38.960000 -77.020000        casual  \n",
       "2 -77.038568  38.920870 -77.031691        member  \n",
       "3 -77.114563  38.879477 -77.114563        member  \n",
       "4 -77.028247  38.931991 -77.032956        member  "
      ]
     },
     "execution_count": 38,
     "metadata": {},
     "output_type": "execute_result"
    }
   ],
   "source": [
    "bikes2.head()"
   ]
  },
  {
   "cell_type": "code",
   "execution_count": 39,
   "metadata": {},
   "outputs": [],
   "source": [
    "bikes3= bikes.copy()"
   ]
  },
  {
   "cell_type": "code",
   "execution_count": 40,
   "metadata": {},
   "outputs": [],
   "source": [
    "# bikes3 = bikes3.drop([\"start_lat\", \"start_lng\",\"end_lat\",\"end_lng\",\"grid_cell_end\", \"grid_cell\"], axis=1)"
   ]
  },
  {
   "cell_type": "code",
   "execution_count": 41,
   "metadata": {},
   "outputs": [],
   "source": [
    "# bikes3 = bikes3.rename(columns={\"start_lat_filled\":\"start_lat\", \"start_lng_filled\":\"start_lng\", \"end_lng_filled\":\"end_lng\", \"end_lat_filled\":\"end_lat\"})"
   ]
  },
  {
   "cell_type": "markdown",
   "metadata": {},
   "source": [
    "# EDA"
   ]
  },
  {
   "cell_type": "markdown",
   "metadata": {},
   "source": [
    "## working with dates and times"
   ]
  },
  {
   "cell_type": "code",
   "execution_count": 42,
   "metadata": {},
   "outputs": [],
   "source": [
    "bikes3[\"start_time\"]=bikes3[\"started_at\"].dt.time\n",
    "bikes3[\"end_time\"]=bikes3[\"ended_at\"].dt.time\n",
    "bikes3[\"start_hour\"]=bikes3[\"started_at\"].dt.hour\n",
    "bikes3[\"end_hour\"]=bikes3[\"ended_at\"].dt.hour\n",
    "bikes3['year'] = bikes3['started_at'].dt.year\n",
    "bikes3['month'] = bikes3['started_at'].dt.month\n",
    "bikes3['day'] = bikes3['started_at'].dt.day\n",
    "bikes3['dow'] = bikes3['started_at'].dt.dayofweek\n",
    "bikes3['weekend'] = np.where(bikes3['dow'].isin([5, 6]), 1, 0)\n",
    "\n"
   ]
  },
  {
   "cell_type": "code",
   "execution_count": 43,
   "metadata": {},
   "outputs": [
    {
     "name": "stdout",
     "output_type": "stream",
     "text": [
      "trip duration mode: [6.0]\n",
      "trip duration avg: 22.906806220349605\n"
     ]
    }
   ],
   "source": [
    "# create trip duration column\n",
    "bikes3[\"trip_duration_minutes\"] = np.round((bikes3[\"ended_at\"] - bikes3[\"started_at\"]) / np.timedelta64(1,\"m\"),0)\n",
    "\n",
    "\n",
    "\n",
    "# check avg and mode bike rides\n",
    "\n",
    "print(f\"trip duration mode: {list(bikes3[\"trip_duration_minutes\"].mode())}\")\n",
    "print(f\"trip duration avg: {bikes3[\"trip_duration_minutes\"].mean()}\")\n",
    "\n",
    "# create categories for morning, afternoon, evening, night\n",
    "\n",
    "bikes3['time_of_day'] = bikes3['start_hour'].apply(lambda value: 'morning' if value in (4,5,6,7,8,9,10,11)\n",
    "                                                        else 'afternoon' if value in (12,13,14,15,16)\n",
    "                                                        else 'evening' if value in (17,18,19,20,21) \n",
    "                                                        else 'night')\n",
    "\n",
    "bikes3['time_of_day'] = pd.Categorical(bikes3['time_of_day'],\n",
    "categories=[\"morning\",\"afternoon\",\"evening\",\"night\"])\n",
    "\n",
    "\n"
   ]
  },
  {
   "cell_type": "code",
   "execution_count": 44,
   "metadata": {},
   "outputs": [],
   "source": [
    "bikes3['time_of_day'] = pd.Categorical(bikes3['time_of_day'],\n",
    "categories=[\"morning\",\"afternoon\",\"evening\",\"night\"])"
   ]
  },
  {
   "cell_type": "code",
   "execution_count": 45,
   "metadata": {},
   "outputs": [
    {
     "data": {
      "text/html": [
       "<div>\n",
       "<style scoped>\n",
       "    .dataframe tbody tr th:only-of-type {\n",
       "        vertical-align: middle;\n",
       "    }\n",
       "\n",
       "    .dataframe tbody tr th {\n",
       "        vertical-align: top;\n",
       "    }\n",
       "\n",
       "    .dataframe thead th {\n",
       "        text-align: right;\n",
       "    }\n",
       "</style>\n",
       "<table border=\"1\" class=\"dataframe\">\n",
       "  <thead>\n",
       "    <tr style=\"text-align: right;\">\n",
       "      <th></th>\n",
       "      <th>ride_id</th>\n",
       "      <th>rideable_type</th>\n",
       "      <th>started_at</th>\n",
       "      <th>ended_at</th>\n",
       "      <th>start_station_name</th>\n",
       "      <th>start_station_id</th>\n",
       "      <th>end_station_name</th>\n",
       "      <th>end_station_id</th>\n",
       "      <th>start_lat</th>\n",
       "      <th>start_lng</th>\n",
       "      <th>...</th>\n",
       "      <th>end_time</th>\n",
       "      <th>start_hour</th>\n",
       "      <th>end_hour</th>\n",
       "      <th>year</th>\n",
       "      <th>month</th>\n",
       "      <th>day</th>\n",
       "      <th>dow</th>\n",
       "      <th>weekend</th>\n",
       "      <th>trip_duration_minutes</th>\n",
       "      <th>time_of_day</th>\n",
       "    </tr>\n",
       "  </thead>\n",
       "  <tbody>\n",
       "    <tr>\n",
       "      <th>4640386</th>\n",
       "      <td>4640387</td>\n",
       "      <td>electric_bike</td>\n",
       "      <td>2022-07-27 17:59:56</td>\n",
       "      <td>2022-07-27 18:10:14</td>\n",
       "      <td>7th &amp; S St NW</td>\n",
       "      <td>31130</td>\n",
       "      <td>15th St &amp; Constitution Ave NW</td>\n",
       "      <td>31321</td>\n",
       "      <td>38.914145</td>\n",
       "      <td>-77.021652</td>\n",
       "      <td>...</td>\n",
       "      <td>18:10:14</td>\n",
       "      <td>17</td>\n",
       "      <td>18</td>\n",
       "      <td>2022</td>\n",
       "      <td>7</td>\n",
       "      <td>27</td>\n",
       "      <td>2</td>\n",
       "      <td>0</td>\n",
       "      <td>10.0</td>\n",
       "      <td>evening</td>\n",
       "    </tr>\n",
       "    <tr>\n",
       "      <th>537648</th>\n",
       "      <td>537649</td>\n",
       "      <td>classic_bike</td>\n",
       "      <td>2021-04-27 07:05:37</td>\n",
       "      <td>2021-04-27 07:10:58</td>\n",
       "      <td>20th St &amp; Florida Ave NW</td>\n",
       "      <td>31110</td>\n",
       "      <td>24th &amp; N St NW</td>\n",
       "      <td>31255</td>\n",
       "      <td>38.915400</td>\n",
       "      <td>-77.044600</td>\n",
       "      <td>...</td>\n",
       "      <td>07:10:58</td>\n",
       "      <td>7</td>\n",
       "      <td>7</td>\n",
       "      <td>2021</td>\n",
       "      <td>4</td>\n",
       "      <td>27</td>\n",
       "      <td>1</td>\n",
       "      <td>0</td>\n",
       "      <td>5.0</td>\n",
       "      <td>morning</td>\n",
       "    </tr>\n",
       "    <tr>\n",
       "      <th>743206</th>\n",
       "      <td>743207</td>\n",
       "      <td>classic_bike</td>\n",
       "      <td>2021-05-22 11:37:30</td>\n",
       "      <td>2021-05-22 11:47:10</td>\n",
       "      <td>New Jersey Ave &amp; R St NW</td>\n",
       "      <td>31509</td>\n",
       "      <td>California St &amp; Florida Ave NW</td>\n",
       "      <td>31116</td>\n",
       "      <td>38.912659</td>\n",
       "      <td>-77.017669</td>\n",
       "      <td>...</td>\n",
       "      <td>11:47:10</td>\n",
       "      <td>11</td>\n",
       "      <td>11</td>\n",
       "      <td>2021</td>\n",
       "      <td>5</td>\n",
       "      <td>22</td>\n",
       "      <td>5</td>\n",
       "      <td>1</td>\n",
       "      <td>10.0</td>\n",
       "      <td>morning</td>\n",
       "    </tr>\n",
       "    <tr>\n",
       "      <th>4743898</th>\n",
       "      <td>4743899</td>\n",
       "      <td>classic_bike</td>\n",
       "      <td>2022-08-05 08:05:02</td>\n",
       "      <td>2022-08-05 08:21:48</td>\n",
       "      <td>14th &amp; Belmont St NW</td>\n",
       "      <td>31119</td>\n",
       "      <td>North Capitol St &amp; G Pl NE</td>\n",
       "      <td>31637</td>\n",
       "      <td>38.921074</td>\n",
       "      <td>-77.031887</td>\n",
       "      <td>...</td>\n",
       "      <td>08:21:48</td>\n",
       "      <td>8</td>\n",
       "      <td>8</td>\n",
       "      <td>2022</td>\n",
       "      <td>8</td>\n",
       "      <td>5</td>\n",
       "      <td>4</td>\n",
       "      <td>0</td>\n",
       "      <td>17.0</td>\n",
       "      <td>morning</td>\n",
       "    </tr>\n",
       "    <tr>\n",
       "      <th>10099491</th>\n",
       "      <td>10099492</td>\n",
       "      <td>electric_bike</td>\n",
       "      <td>2023-11-04 07:10:55</td>\n",
       "      <td>2023-11-04 07:18:11</td>\n",
       "      <td>15th &amp; Euclid St NW</td>\n",
       "      <td>31117</td>\n",
       "      <td>14th &amp; Irving St NW</td>\n",
       "      <td>31124</td>\n",
       "      <td>38.923516</td>\n",
       "      <td>-77.035092</td>\n",
       "      <td>...</td>\n",
       "      <td>07:18:11</td>\n",
       "      <td>7</td>\n",
       "      <td>7</td>\n",
       "      <td>2023</td>\n",
       "      <td>11</td>\n",
       "      <td>4</td>\n",
       "      <td>5</td>\n",
       "      <td>1</td>\n",
       "      <td>7.0</td>\n",
       "      <td>morning</td>\n",
       "    </tr>\n",
       "    <tr>\n",
       "      <th>2532564</th>\n",
       "      <td>2532565</td>\n",
       "      <td>classic_bike</td>\n",
       "      <td>2021-11-26 10:41:38</td>\n",
       "      <td>2021-11-26 10:58:35</td>\n",
       "      <td>21st St &amp; G st NW</td>\n",
       "      <td>31328</td>\n",
       "      <td>15th &amp; W St NW</td>\n",
       "      <td>31125</td>\n",
       "      <td>38.898302</td>\n",
       "      <td>-77.046913</td>\n",
       "      <td>...</td>\n",
       "      <td>10:58:35</td>\n",
       "      <td>10</td>\n",
       "      <td>10</td>\n",
       "      <td>2021</td>\n",
       "      <td>11</td>\n",
       "      <td>26</td>\n",
       "      <td>4</td>\n",
       "      <td>0</td>\n",
       "      <td>17.0</td>\n",
       "      <td>morning</td>\n",
       "    </tr>\n",
       "    <tr>\n",
       "      <th>6520744</th>\n",
       "      <td>6520745</td>\n",
       "      <td>classic_bike</td>\n",
       "      <td>2023-02-14 07:14:11</td>\n",
       "      <td>2023-02-14 07:35:43</td>\n",
       "      <td>39th &amp; Veazey St NW</td>\n",
       "      <td>31308</td>\n",
       "      <td>19th St &amp; Pennsylvania Ave NW</td>\n",
       "      <td>31100</td>\n",
       "      <td>38.943837</td>\n",
       "      <td>-77.077078</td>\n",
       "      <td>...</td>\n",
       "      <td>07:35:43</td>\n",
       "      <td>7</td>\n",
       "      <td>7</td>\n",
       "      <td>2023</td>\n",
       "      <td>2</td>\n",
       "      <td>14</td>\n",
       "      <td>1</td>\n",
       "      <td>0</td>\n",
       "      <td>22.0</td>\n",
       "      <td>morning</td>\n",
       "    </tr>\n",
       "    <tr>\n",
       "      <th>9708904</th>\n",
       "      <td>9708905</td>\n",
       "      <td>electric_bike</td>\n",
       "      <td>2023-10-09 21:38:11</td>\n",
       "      <td>2023-10-09 21:56:21</td>\n",
       "      <td>Union Market</td>\n",
       "      <td>31517</td>\n",
       "      <td>14th &amp; Harvard St NW</td>\n",
       "      <td>31105</td>\n",
       "      <td>38.907971</td>\n",
       "      <td>-76.997008</td>\n",
       "      <td>...</td>\n",
       "      <td>21:56:21</td>\n",
       "      <td>21</td>\n",
       "      <td>21</td>\n",
       "      <td>2023</td>\n",
       "      <td>10</td>\n",
       "      <td>9</td>\n",
       "      <td>0</td>\n",
       "      <td>0</td>\n",
       "      <td>18.0</td>\n",
       "      <td>evening</td>\n",
       "    </tr>\n",
       "    <tr>\n",
       "      <th>3211490</th>\n",
       "      <td>3211491</td>\n",
       "      <td>classic_bike</td>\n",
       "      <td>2022-03-25 09:23:32</td>\n",
       "      <td>2022-03-25 09:56:20</td>\n",
       "      <td>14th &amp; Newton St NW</td>\n",
       "      <td>31649</td>\n",
       "      <td>3000 Connecticut Ave NW / National Zoo</td>\n",
       "      <td>31307</td>\n",
       "      <td>38.931991</td>\n",
       "      <td>-77.032956</td>\n",
       "      <td>...</td>\n",
       "      <td>09:56:20</td>\n",
       "      <td>9</td>\n",
       "      <td>9</td>\n",
       "      <td>2022</td>\n",
       "      <td>3</td>\n",
       "      <td>25</td>\n",
       "      <td>4</td>\n",
       "      <td>0</td>\n",
       "      <td>33.0</td>\n",
       "      <td>morning</td>\n",
       "    </tr>\n",
       "    <tr>\n",
       "      <th>6446486</th>\n",
       "      <td>6446487</td>\n",
       "      <td>classic_bike</td>\n",
       "      <td>2023-02-03 13:17:47</td>\n",
       "      <td>2023-02-03 13:24:28</td>\n",
       "      <td>3rd &amp; H St NW</td>\n",
       "      <td>31604</td>\n",
       "      <td>Metro Center / 12th &amp; G St NW</td>\n",
       "      <td>31230</td>\n",
       "      <td>38.899408</td>\n",
       "      <td>-77.015289</td>\n",
       "      <td>...</td>\n",
       "      <td>13:24:28</td>\n",
       "      <td>13</td>\n",
       "      <td>13</td>\n",
       "      <td>2023</td>\n",
       "      <td>2</td>\n",
       "      <td>3</td>\n",
       "      <td>4</td>\n",
       "      <td>0</td>\n",
       "      <td>7.0</td>\n",
       "      <td>afternoon</td>\n",
       "    </tr>\n",
       "  </tbody>\n",
       "</table>\n",
       "<p>10 rows × 24 columns</p>\n",
       "</div>"
      ],
      "text/plain": [
       "           ride_id  rideable_type          started_at            ended_at  \\\n",
       "4640386    4640387  electric_bike 2022-07-27 17:59:56 2022-07-27 18:10:14   \n",
       "537648      537649   classic_bike 2021-04-27 07:05:37 2021-04-27 07:10:58   \n",
       "743206      743207   classic_bike 2021-05-22 11:37:30 2021-05-22 11:47:10   \n",
       "4743898    4743899   classic_bike 2022-08-05 08:05:02 2022-08-05 08:21:48   \n",
       "10099491  10099492  electric_bike 2023-11-04 07:10:55 2023-11-04 07:18:11   \n",
       "2532564    2532565   classic_bike 2021-11-26 10:41:38 2021-11-26 10:58:35   \n",
       "6520744    6520745   classic_bike 2023-02-14 07:14:11 2023-02-14 07:35:43   \n",
       "9708904    9708905  electric_bike 2023-10-09 21:38:11 2023-10-09 21:56:21   \n",
       "3211490    3211491   classic_bike 2022-03-25 09:23:32 2022-03-25 09:56:20   \n",
       "6446486    6446487   classic_bike 2023-02-03 13:17:47 2023-02-03 13:24:28   \n",
       "\n",
       "                start_station_name start_station_id  \\\n",
       "4640386              7th & S St NW            31130   \n",
       "537648    20th St & Florida Ave NW            31110   \n",
       "743206    New Jersey Ave & R St NW            31509   \n",
       "4743898       14th & Belmont St NW            31119   \n",
       "10099491       15th & Euclid St NW            31117   \n",
       "2532564          21st St & G st NW            31328   \n",
       "6520744        39th & Veazey St NW            31308   \n",
       "9708904               Union Market            31517   \n",
       "3211490        14th & Newton St NW            31649   \n",
       "6446486              3rd & H St NW            31604   \n",
       "\n",
       "                                end_station_name end_station_id  start_lat  \\\n",
       "4640386            15th St & Constitution Ave NW          31321  38.914145   \n",
       "537648                            24th & N St NW          31255  38.915400   \n",
       "743206            California St & Florida Ave NW          31116  38.912659   \n",
       "4743898               North Capitol St & G Pl NE          31637  38.921074   \n",
       "10099491                     14th & Irving St NW          31124  38.923516   \n",
       "2532564                           15th & W St NW          31125  38.898302   \n",
       "6520744            19th St & Pennsylvania Ave NW          31100  38.943837   \n",
       "9708904                     14th & Harvard St NW          31105  38.907971   \n",
       "3211490   3000 Connecticut Ave NW / National Zoo          31307  38.931991   \n",
       "6446486            Metro Center / 12th & G St NW          31230  38.899408   \n",
       "\n",
       "          start_lng  ...  end_time  start_hour end_hour  year month  day  dow  \\\n",
       "4640386  -77.021652  ...  18:10:14          17       18  2022     7   27    2   \n",
       "537648   -77.044600  ...  07:10:58           7        7  2021     4   27    1   \n",
       "743206   -77.017669  ...  11:47:10          11       11  2021     5   22    5   \n",
       "4743898  -77.031887  ...  08:21:48           8        8  2022     8    5    4   \n",
       "10099491 -77.035092  ...  07:18:11           7        7  2023    11    4    5   \n",
       "2532564  -77.046913  ...  10:58:35          10       10  2021    11   26    4   \n",
       "6520744  -77.077078  ...  07:35:43           7        7  2023     2   14    1   \n",
       "9708904  -76.997008  ...  21:56:21          21       21  2023    10    9    0   \n",
       "3211490  -77.032956  ...  09:56:20           9        9  2022     3   25    4   \n",
       "6446486  -77.015289  ...  13:24:28          13       13  2023     2    3    4   \n",
       "\n",
       "          weekend  trip_duration_minutes  time_of_day  \n",
       "4640386         0                   10.0      evening  \n",
       "537648          0                    5.0      morning  \n",
       "743206          1                   10.0      morning  \n",
       "4743898         0                   17.0      morning  \n",
       "10099491        1                    7.0      morning  \n",
       "2532564         0                   17.0      morning  \n",
       "6520744         0                   22.0      morning  \n",
       "9708904         0                   18.0      evening  \n",
       "3211490         0                   33.0      morning  \n",
       "6446486         0                    7.0    afternoon  \n",
       "\n",
       "[10 rows x 24 columns]"
      ]
     },
     "execution_count": 45,
     "metadata": {},
     "output_type": "execute_result"
    }
   ],
   "source": [
    "sample = bikes3.sample(n=10, axis=0)\n",
    "sample"
   ]
  },
  {
   "cell_type": "code",
   "execution_count": 46,
   "metadata": {},
   "outputs": [
    {
     "name": "stdout",
     "output_type": "stream",
     "text": [
      "Max trip duration : 54540.0\n",
      "Min trip duration : -5626.0\n"
     ]
    }
   ],
   "source": [
    "# create categories for trip duration (short / medium / long)\n",
    "print(f\"Max trip duration : {bikes3[\"trip_duration_minutes\"].max()}\")\n",
    "print(f\"Min trip duration : {bikes3[\"trip_duration_minutes\"].min()}\")\n",
    "\n",
    "#TODO - will have to work on the outliers\n"
   ]
  },
  {
   "cell_type": "code",
   "execution_count": 47,
   "metadata": {},
   "outputs": [
    {
     "data": {
      "text/html": [
       "<div>\n",
       "<style scoped>\n",
       "    .dataframe tbody tr th:only-of-type {\n",
       "        vertical-align: middle;\n",
       "    }\n",
       "\n",
       "    .dataframe tbody tr th {\n",
       "        vertical-align: top;\n",
       "    }\n",
       "\n",
       "    .dataframe thead th {\n",
       "        text-align: right;\n",
       "    }\n",
       "</style>\n",
       "<table border=\"1\" class=\"dataframe\">\n",
       "  <thead>\n",
       "    <tr style=\"text-align: right;\">\n",
       "      <th></th>\n",
       "      <th>ride_id</th>\n",
       "      <th>rideable_type</th>\n",
       "      <th>started_at</th>\n",
       "      <th>ended_at</th>\n",
       "      <th>start_station_name</th>\n",
       "      <th>start_station_id</th>\n",
       "      <th>end_station_name</th>\n",
       "      <th>end_station_id</th>\n",
       "      <th>start_lat</th>\n",
       "      <th>start_lng</th>\n",
       "      <th>...</th>\n",
       "      <th>end_time</th>\n",
       "      <th>start_hour</th>\n",
       "      <th>end_hour</th>\n",
       "      <th>year</th>\n",
       "      <th>month</th>\n",
       "      <th>day</th>\n",
       "      <th>dow</th>\n",
       "      <th>weekend</th>\n",
       "      <th>trip_duration_minutes</th>\n",
       "      <th>time_of_day</th>\n",
       "    </tr>\n",
       "  </thead>\n",
       "  <tbody>\n",
       "    <tr>\n",
       "      <th>24607</th>\n",
       "      <td>24608</td>\n",
       "      <td>electric_bike</td>\n",
       "      <td>2021-01-09 11:49:53</td>\n",
       "      <td>2021-01-09 11:15:56</td>\n",
       "      <td>NaN</td>\n",
       "      <td>NaN</td>\n",
       "      <td>3rd &amp; G St SE</td>\n",
       "      <td>31625</td>\n",
       "      <td>38.880000</td>\n",
       "      <td>-77.000000</td>\n",
       "      <td>...</td>\n",
       "      <td>11:15:56</td>\n",
       "      <td>11</td>\n",
       "      <td>11</td>\n",
       "      <td>2021</td>\n",
       "      <td>1</td>\n",
       "      <td>9</td>\n",
       "      <td>5</td>\n",
       "      <td>1</td>\n",
       "      <td>-34.0</td>\n",
       "      <td>morning</td>\n",
       "    </tr>\n",
       "    <tr>\n",
       "      <th>41839</th>\n",
       "      <td>41840</td>\n",
       "      <td>electric_bike</td>\n",
       "      <td>2021-01-13 19:52:48</td>\n",
       "      <td>2021-01-13 19:52:13</td>\n",
       "      <td>NaN</td>\n",
       "      <td>NaN</td>\n",
       "      <td>NaN</td>\n",
       "      <td>NaN</td>\n",
       "      <td>38.930000</td>\n",
       "      <td>-77.060000</td>\n",
       "      <td>...</td>\n",
       "      <td>19:52:13</td>\n",
       "      <td>19</td>\n",
       "      <td>19</td>\n",
       "      <td>2021</td>\n",
       "      <td>1</td>\n",
       "      <td>13</td>\n",
       "      <td>2</td>\n",
       "      <td>0</td>\n",
       "      <td>-1.0</td>\n",
       "      <td>evening</td>\n",
       "    </tr>\n",
       "    <tr>\n",
       "      <th>96231</th>\n",
       "      <td>96232</td>\n",
       "      <td>electric_bike</td>\n",
       "      <td>2021-01-30 12:52:31</td>\n",
       "      <td>2021-01-30 12:51:19</td>\n",
       "      <td>NaN</td>\n",
       "      <td>NaN</td>\n",
       "      <td>NaN</td>\n",
       "      <td>NaN</td>\n",
       "      <td>38.930000</td>\n",
       "      <td>-77.010000</td>\n",
       "      <td>...</td>\n",
       "      <td>12:51:19</td>\n",
       "      <td>12</td>\n",
       "      <td>12</td>\n",
       "      <td>2021</td>\n",
       "      <td>1</td>\n",
       "      <td>30</td>\n",
       "      <td>5</td>\n",
       "      <td>1</td>\n",
       "      <td>-1.0</td>\n",
       "      <td>afternoon</td>\n",
       "    </tr>\n",
       "    <tr>\n",
       "      <th>131049</th>\n",
       "      <td>131050</td>\n",
       "      <td>electric_bike</td>\n",
       "      <td>2021-02-11 21:42:55</td>\n",
       "      <td>2021-02-11 21:41:29</td>\n",
       "      <td>NaN</td>\n",
       "      <td>NaN</td>\n",
       "      <td>NaN</td>\n",
       "      <td>NaN</td>\n",
       "      <td>38.920000</td>\n",
       "      <td>-77.040000</td>\n",
       "      <td>...</td>\n",
       "      <td>21:41:29</td>\n",
       "      <td>21</td>\n",
       "      <td>21</td>\n",
       "      <td>2021</td>\n",
       "      <td>2</td>\n",
       "      <td>11</td>\n",
       "      <td>3</td>\n",
       "      <td>0</td>\n",
       "      <td>-1.0</td>\n",
       "      <td>evening</td>\n",
       "    </tr>\n",
       "    <tr>\n",
       "      <th>149468</th>\n",
       "      <td>149469</td>\n",
       "      <td>classic_bike</td>\n",
       "      <td>2021-02-20 16:00:51</td>\n",
       "      <td>2021-02-20 16:00:11</td>\n",
       "      <td>14th &amp; Belmont St NW</td>\n",
       "      <td>31119</td>\n",
       "      <td>14th &amp; Belmont St NW</td>\n",
       "      <td>31119</td>\n",
       "      <td>38.921074</td>\n",
       "      <td>-77.031887</td>\n",
       "      <td>...</td>\n",
       "      <td>16:00:11</td>\n",
       "      <td>16</td>\n",
       "      <td>16</td>\n",
       "      <td>2021</td>\n",
       "      <td>2</td>\n",
       "      <td>20</td>\n",
       "      <td>5</td>\n",
       "      <td>1</td>\n",
       "      <td>-1.0</td>\n",
       "      <td>afternoon</td>\n",
       "    </tr>\n",
       "    <tr>\n",
       "      <th>...</th>\n",
       "      <td>...</td>\n",
       "      <td>...</td>\n",
       "      <td>...</td>\n",
       "      <td>...</td>\n",
       "      <td>...</td>\n",
       "      <td>...</td>\n",
       "      <td>...</td>\n",
       "      <td>...</td>\n",
       "      <td>...</td>\n",
       "      <td>...</td>\n",
       "      <td>...</td>\n",
       "      <td>...</td>\n",
       "      <td>...</td>\n",
       "      <td>...</td>\n",
       "      <td>...</td>\n",
       "      <td>...</td>\n",
       "      <td>...</td>\n",
       "      <td>...</td>\n",
       "      <td>...</td>\n",
       "      <td>...</td>\n",
       "      <td>...</td>\n",
       "    </tr>\n",
       "    <tr>\n",
       "      <th>10431568</th>\n",
       "      <td>10431569</td>\n",
       "      <td>electric_bike</td>\n",
       "      <td>2023-12-02 14:00:51</td>\n",
       "      <td>2023-12-02 13:56:26</td>\n",
       "      <td>NaN</td>\n",
       "      <td>NaN</td>\n",
       "      <td>Washington &amp; Independence Ave SW/HHS</td>\n",
       "      <td>31272</td>\n",
       "      <td>38.890000</td>\n",
       "      <td>-77.010000</td>\n",
       "      <td>...</td>\n",
       "      <td>13:56:26</td>\n",
       "      <td>14</td>\n",
       "      <td>13</td>\n",
       "      <td>2023</td>\n",
       "      <td>12</td>\n",
       "      <td>2</td>\n",
       "      <td>5</td>\n",
       "      <td>1</td>\n",
       "      <td>-4.0</td>\n",
       "      <td>afternoon</td>\n",
       "    </tr>\n",
       "    <tr>\n",
       "      <th>10539567</th>\n",
       "      <td>10539568</td>\n",
       "      <td>electric_bike</td>\n",
       "      <td>2023-12-12 15:12:59</td>\n",
       "      <td>2023-12-12 15:08:43</td>\n",
       "      <td>NaN</td>\n",
       "      <td>NaN</td>\n",
       "      <td>California St &amp; Florida Ave NW</td>\n",
       "      <td>31116</td>\n",
       "      <td>38.920000</td>\n",
       "      <td>-77.040000</td>\n",
       "      <td>...</td>\n",
       "      <td>15:08:43</td>\n",
       "      <td>15</td>\n",
       "      <td>15</td>\n",
       "      <td>2023</td>\n",
       "      <td>12</td>\n",
       "      <td>12</td>\n",
       "      <td>1</td>\n",
       "      <td>0</td>\n",
       "      <td>-4.0</td>\n",
       "      <td>afternoon</td>\n",
       "    </tr>\n",
       "    <tr>\n",
       "      <th>10554917</th>\n",
       "      <td>10554918</td>\n",
       "      <td>electric_bike</td>\n",
       "      <td>2023-12-13 19:24:14</td>\n",
       "      <td>2023-12-13 19:17:37</td>\n",
       "      <td>NaN</td>\n",
       "      <td>NaN</td>\n",
       "      <td>4th &amp; M St SE</td>\n",
       "      <td>31652</td>\n",
       "      <td>38.880000</td>\n",
       "      <td>-77.000000</td>\n",
       "      <td>...</td>\n",
       "      <td>19:17:37</td>\n",
       "      <td>19</td>\n",
       "      <td>19</td>\n",
       "      <td>2023</td>\n",
       "      <td>12</td>\n",
       "      <td>13</td>\n",
       "      <td>2</td>\n",
       "      <td>0</td>\n",
       "      <td>-7.0</td>\n",
       "      <td>evening</td>\n",
       "    </tr>\n",
       "    <tr>\n",
       "      <th>10603007</th>\n",
       "      <td>10603008</td>\n",
       "      <td>electric_bike</td>\n",
       "      <td>2023-12-18 16:36:56</td>\n",
       "      <td>2023-12-18 16:33:12</td>\n",
       "      <td>NaN</td>\n",
       "      <td>NaN</td>\n",
       "      <td>14th &amp; Irving St NW</td>\n",
       "      <td>31124</td>\n",
       "      <td>38.930000</td>\n",
       "      <td>-77.030000</td>\n",
       "      <td>...</td>\n",
       "      <td>16:33:12</td>\n",
       "      <td>16</td>\n",
       "      <td>16</td>\n",
       "      <td>2023</td>\n",
       "      <td>12</td>\n",
       "      <td>18</td>\n",
       "      <td>0</td>\n",
       "      <td>0</td>\n",
       "      <td>-4.0</td>\n",
       "      <td>afternoon</td>\n",
       "    </tr>\n",
       "    <tr>\n",
       "      <th>10614030</th>\n",
       "      <td>10614031</td>\n",
       "      <td>electric_bike</td>\n",
       "      <td>2023-12-19 18:36:02</td>\n",
       "      <td>2023-12-19 18:34:33</td>\n",
       "      <td>NaN</td>\n",
       "      <td>NaN</td>\n",
       "      <td>Massachusetts Ave &amp; Dupont Circle NW</td>\n",
       "      <td>31200</td>\n",
       "      <td>38.910000</td>\n",
       "      <td>-77.040000</td>\n",
       "      <td>...</td>\n",
       "      <td>18:34:33</td>\n",
       "      <td>18</td>\n",
       "      <td>18</td>\n",
       "      <td>2023</td>\n",
       "      <td>12</td>\n",
       "      <td>19</td>\n",
       "      <td>1</td>\n",
       "      <td>0</td>\n",
       "      <td>-1.0</td>\n",
       "      <td>evening</td>\n",
       "    </tr>\n",
       "  </tbody>\n",
       "</table>\n",
       "<p>582 rows × 24 columns</p>\n",
       "</div>"
      ],
      "text/plain": [
       "           ride_id  rideable_type          started_at            ended_at  \\\n",
       "24607        24608  electric_bike 2021-01-09 11:49:53 2021-01-09 11:15:56   \n",
       "41839        41840  electric_bike 2021-01-13 19:52:48 2021-01-13 19:52:13   \n",
       "96231        96232  electric_bike 2021-01-30 12:52:31 2021-01-30 12:51:19   \n",
       "131049      131050  electric_bike 2021-02-11 21:42:55 2021-02-11 21:41:29   \n",
       "149468      149469   classic_bike 2021-02-20 16:00:51 2021-02-20 16:00:11   \n",
       "...            ...            ...                 ...                 ...   \n",
       "10431568  10431569  electric_bike 2023-12-02 14:00:51 2023-12-02 13:56:26   \n",
       "10539567  10539568  electric_bike 2023-12-12 15:12:59 2023-12-12 15:08:43   \n",
       "10554917  10554918  electric_bike 2023-12-13 19:24:14 2023-12-13 19:17:37   \n",
       "10603007  10603008  electric_bike 2023-12-18 16:36:56 2023-12-18 16:33:12   \n",
       "10614030  10614031  electric_bike 2023-12-19 18:36:02 2023-12-19 18:34:33   \n",
       "\n",
       "            start_station_name start_station_id  \\\n",
       "24607                      NaN              NaN   \n",
       "41839                      NaN              NaN   \n",
       "96231                      NaN              NaN   \n",
       "131049                     NaN              NaN   \n",
       "149468    14th & Belmont St NW            31119   \n",
       "...                        ...              ...   \n",
       "10431568                   NaN              NaN   \n",
       "10539567                   NaN              NaN   \n",
       "10554917                   NaN              NaN   \n",
       "10603007                   NaN              NaN   \n",
       "10614030                   NaN              NaN   \n",
       "\n",
       "                              end_station_name end_station_id  start_lat  \\\n",
       "24607                            3rd & G St SE          31625  38.880000   \n",
       "41839                                      NaN            NaN  38.930000   \n",
       "96231                                      NaN            NaN  38.930000   \n",
       "131049                                     NaN            NaN  38.920000   \n",
       "149468                    14th & Belmont St NW          31119  38.921074   \n",
       "...                                        ...            ...        ...   \n",
       "10431568  Washington & Independence Ave SW/HHS          31272  38.890000   \n",
       "10539567        California St & Florida Ave NW          31116  38.920000   \n",
       "10554917                         4th & M St SE          31652  38.880000   \n",
       "10603007                   14th & Irving St NW          31124  38.930000   \n",
       "10614030  Massachusetts Ave & Dupont Circle NW          31200  38.910000   \n",
       "\n",
       "          start_lng  ...  end_time  start_hour end_hour  year month  day  dow  \\\n",
       "24607    -77.000000  ...  11:15:56          11       11  2021     1    9    5   \n",
       "41839    -77.060000  ...  19:52:13          19       19  2021     1   13    2   \n",
       "96231    -77.010000  ...  12:51:19          12       12  2021     1   30    5   \n",
       "131049   -77.040000  ...  21:41:29          21       21  2021     2   11    3   \n",
       "149468   -77.031887  ...  16:00:11          16       16  2021     2   20    5   \n",
       "...             ...  ...       ...         ...      ...   ...   ...  ...  ...   \n",
       "10431568 -77.010000  ...  13:56:26          14       13  2023    12    2    5   \n",
       "10539567 -77.040000  ...  15:08:43          15       15  2023    12   12    1   \n",
       "10554917 -77.000000  ...  19:17:37          19       19  2023    12   13    2   \n",
       "10603007 -77.030000  ...  16:33:12          16       16  2023    12   18    0   \n",
       "10614030 -77.040000  ...  18:34:33          18       18  2023    12   19    1   \n",
       "\n",
       "          weekend  trip_duration_minutes  time_of_day  \n",
       "24607           1                  -34.0      morning  \n",
       "41839           0                   -1.0      evening  \n",
       "96231           1                   -1.0    afternoon  \n",
       "131049          0                   -1.0      evening  \n",
       "149468          1                   -1.0    afternoon  \n",
       "...           ...                    ...          ...  \n",
       "10431568        1                   -4.0    afternoon  \n",
       "10539567        0                   -4.0    afternoon  \n",
       "10554917        0                   -7.0      evening  \n",
       "10603007        0                   -4.0    afternoon  \n",
       "10614030        0                   -1.0      evening  \n",
       "\n",
       "[582 rows x 24 columns]"
      ]
     },
     "execution_count": 47,
     "metadata": {},
     "output_type": "execute_result"
    }
   ],
   "source": [
    "bikes3[bikes3[\"trip_duration_minutes\"] < 0]\n",
    "#REVIEW - there are some trips where the start and end time seems to be inverted, thus giving negative values of trip time. Will correct it by accepting only"
   ]
  },
  {
   "cell_type": "code",
   "execution_count": 48,
   "metadata": {},
   "outputs": [
    {
     "data": {
      "text/plain": [
       "np.float64(5626.0)"
      ]
     },
     "execution_count": 48,
     "metadata": {},
     "output_type": "execute_result"
    }
   ],
   "source": [
    "abs(bikes3[\"trip_duration_minutes\"].min())"
   ]
  },
  {
   "cell_type": "code",
   "execution_count": 49,
   "metadata": {},
   "outputs": [],
   "source": [
    "# bikes3.to_csv(\"bikes_clean.csv\", index=False)"
   ]
  },
  {
   "cell_type": "markdown",
   "metadata": {},
   "source": [
    "# dropping rows where trip duration is negative"
   ]
  },
  {
   "cell_type": "code",
   "execution_count": 50,
   "metadata": {},
   "outputs": [],
   "source": [
    "bikes3 = bikes3.drop(bikes3[bikes3[\"trip_duration_minutes\"] < 0].index)"
   ]
  },
  {
   "cell_type": "code",
   "execution_count": 51,
   "metadata": {},
   "outputs": [
    {
     "name": "stdout",
     "output_type": "stream",
     "text": [
      "Max trip duration : 54540.0\n",
      "Min trip duration : 0.0\n"
     ]
    }
   ],
   "source": [
    "print(f\"Max trip duration : {bikes3[\"trip_duration_minutes\"].max()}\")\n",
    "print(f\"Min trip duration : {bikes3[\"trip_duration_minutes\"].min()}\")"
   ]
  },
  {
   "cell_type": "markdown",
   "metadata": {},
   "source": [
    "## filtering"
   ]
  },
  {
   "cell_type": "code",
   "execution_count": 52,
   "metadata": {},
   "outputs": [],
   "source": [
    "# Compute the first and third quantiles and IQR \n",
    "q1 = np.quantile(bikes3[\"trip_duration_minutes\"], 0.25)\n",
    "q3 = np.quantile(bikes3[\"trip_duration_minutes\"], 0.75)\n",
    "iqr = q3 - q1\n",
    "\n",
    "# Calculate the lower and upper cutoffs for outliers\n",
    "lower = q1 - 1.5 * iqr\n",
    "upper = q3 + 1.5 * iqr\n",
    "\n",
    "bikes_filtered = bikes3[(bikes3[\"trip_duration_minutes\"] > lower) & (bikes3[\"trip_duration_minutes\"] < upper)]"
   ]
  },
  {
   "cell_type": "code",
   "execution_count": 53,
   "metadata": {},
   "outputs": [
    {
     "data": {
      "text/plain": [
       "np.float64(-12.5)"
      ]
     },
     "execution_count": 53,
     "metadata": {},
     "output_type": "execute_result"
    }
   ],
   "source": [
    "lower"
   ]
  },
  {
   "cell_type": "code",
   "execution_count": 54,
   "metadata": {},
   "outputs": [
    {
     "data": {
      "text/plain": [
       "np.float64(76.0)"
      ]
     },
     "execution_count": 54,
     "metadata": {},
     "output_type": "execute_result"
    }
   ],
   "source": [
    "pctil_99 = q3 = np.quantile(bikes3[\"trip_duration_minutes\"], 0.97)\n",
    "pctil_99"
   ]
  },
  {
   "cell_type": "code",
   "execution_count": 55,
   "metadata": {},
   "outputs": [],
   "source": [
    "bikes_filtered99= bikes3[(bikes3[\"trip_duration_minutes\"] > lower) & (bikes3[\"trip_duration_minutes\"] < pctil_99)]"
   ]
  },
  {
   "cell_type": "code",
   "execution_count": 56,
   "metadata": {},
   "outputs": [
    {
     "name": "stdout",
     "output_type": "stream",
     "text": [
      "number of rows before iqr filter: 10693415\n",
      "number of rows after iqr filter: 9770553\n",
      "number of rows after pctil99 filter: 10365837\n",
      "difference between iqr and pctil 99 : -595284\n",
      "7.0\n"
     ]
    }
   ],
   "source": [
    "print(f\"number of rows before iqr filter: {len(bikes3)}\")\n",
    "print(f'number of rows after iqr filter: {len(bikes_filtered)}')\n",
    "print(f'number of rows after pctil99 filter: {len(bikes_filtered99)}')\n",
    "print(f'difference between iqr and pctil 99 : {len(bikes_filtered)-len(bikes_filtered99)}')\n",
    "print(q1)"
   ]
  },
  {
   "cell_type": "code",
   "execution_count": 57,
   "metadata": {},
   "outputs": [
    {
     "name": "stdout",
     "output_type": "stream",
     "text": [
      "Percentage of data outside the whiskers (outliers): 8.63%\n"
     ]
    }
   ],
   "source": [
    "outliers = (bikes3[\"trip_duration_minutes\"] < lower) | (bikes3[\"trip_duration_minutes\"] > upper)\n",
    "outlier_percentage = np.sum(outliers) / len(bikes3) * 100\n",
    "print(f\"Percentage of data outside the whiskers (outliers): {outlier_percentage:.2f}%\")"
   ]
  },
  {
   "cell_type": "markdown",
   "metadata": {},
   "source": [
    "For a perfectly normal distribution:\n",
    "\n",
    "About 0.7% of the data points are expected to lie outside the whiskers.\n",
    "This is because approximately 99.3% of data in a normal distribution falls within \n",
    "±2.698𝜎(where 𝜎 is the standard deviation), which corresponds to the range covered by the whiskers.\n",
    "\n",
    "For other distributions:\n",
    "The percentage of outliers can vary widely depending on the shape and spread of the distribution. Skewed, heavy-tailed, or multimodal distributions can result in more data points lying outside the whiskers."
   ]
  },
  {
   "cell_type": "code",
   "execution_count": 58,
   "metadata": {},
   "outputs": [
    {
     "name": "stdout",
     "output_type": "stream",
     "text": [
      "Max trip duration : 39.0\n",
      "Min trip duration : 0.0\n"
     ]
    }
   ],
   "source": [
    "print(f\"Max trip duration : {bikes_filtered[\"trip_duration_minutes\"].max()}\")\n",
    "print(f\"Min trip duration : {bikes_filtered[\"trip_duration_minutes\"].min()}\")"
   ]
  },
  {
   "cell_type": "code",
   "execution_count": 59,
   "metadata": {},
   "outputs": [],
   "source": [
    "# from scipy.stats import zscore\n",
    "\n",
    "# bikes3['z_score'] = zscore(bikes3['trip_duration_minutes'])\n",
    "# # outliers = bikes3[bikes3['z_score'].abs() > 3] \n",
    "# bikes_filtered_z= bikes3[bikes3[\"z_score\"].abs()<3]\n",
    "\n",
    "# print(f\"number of rows before z-score filter: {len(bikes3)}\")\n",
    "# print(f'number of rows after z-score filter: {len(bikes_filtered_z)}')\n",
    "# print(f\"Max trip duration : {bikes_filtered_z[\"trip_duration_minutes\"].max()}\")\n",
    "# print(f\"Min trip duration : {bikes_filtered_z[\"trip_duration_minutes\"].min()}\")"
   ]
  },
  {
   "cell_type": "code",
   "execution_count": 60,
   "metadata": {},
   "outputs": [
    {
     "name": "stdout",
     "output_type": "stream",
     "text": [
      "7.0\n",
      "11.0\n",
      "20.0\n"
     ]
    }
   ],
   "source": [
    "print(bikes3[\"trip_duration_minutes\"].quantile(0.25))\n",
    "print(bikes3[\"trip_duration_minutes\"].quantile(0.50))\n",
    "print(bikes3[\"trip_duration_minutes\"].quantile(0.75))\n"
   ]
  },
  {
   "cell_type": "code",
   "execution_count": 61,
   "metadata": {},
   "outputs": [],
   "source": [
    "# plt.boxplot(bikes3[\"trip_duration_minutes\"])\n",
    "# sns.catplot(data=bikes3,kind=\"box\", y=\"trip_duration_minutes\").set(ylim=(0,100))"
   ]
  },
  {
   "cell_type": "code",
   "execution_count": 62,
   "metadata": {},
   "outputs": [
    {
     "data": {
      "text/plain": [
       "trip_type\n",
       "short_duration         6767279\n",
       "medium_duration        2425111\n",
       "extra_long_duration     729120\n",
       "long_duration           665323\n",
       "Name: count, dtype: int64"
      ]
     },
     "execution_count": 62,
     "metadata": {},
     "output_type": "execute_result"
    }
   ],
   "source": [
    "#1 Create duration labels\n",
    "duration_labels = [\"short_duration\", \"medium_duration\", \"long_duration\", \"extra_long_duration\"]\n",
    "\n",
    "#2 Create duration ranges list\n",
    "duration_ranges = [0, 15, 30, 45, np.inf]\n",
    "\n",
    "#3 Create trip_type\n",
    "bikes3[\"trip_type\"] = pd.cut(bikes3[\"trip_duration_minutes\"],\n",
    "                                  bins= duration_ranges,\n",
    "                                  labels=duration_labels)\n",
    "\n",
    "bikes3[[\"trip_type\", \"trip_duration_minutes\"]]\n",
    "\n",
    "bikes3[\"trip_type\"].value_counts()"
   ]
  },
  {
   "cell_type": "code",
   "execution_count": 63,
   "metadata": {},
   "outputs": [],
   "source": [
    "# make trip_type categorical and assign it an order\n",
    "bikes3['trip_type'] = pd.Categorical(bikes3['trip_type'],\n",
    "categories=['short_duration', 'medium_duration', 'long_duration', \"extra_long_duration\"])"
   ]
  },
  {
   "cell_type": "code",
   "execution_count": 64,
   "metadata": {},
   "outputs": [
    {
     "data": {
      "text/plain": [
       "<Axes: xlabel='trip_type', ylabel='count'>"
      ]
     },
     "execution_count": 64,
     "metadata": {},
     "output_type": "execute_result"
    },
    {
     "data": {
      "image/png": "[encoded data removed]",
      "text/plain": [
       "<Figure size 640x480 with 1 Axes>"
      ]
     },
     "metadata": {},
     "output_type": "display_data"
    }
   ],
   "source": [
    "sns.countplot(data=bikes3, x=\"trip_type\")"
   ]
  },
  {
   "cell_type": "markdown",
   "metadata": {},
   "source": [
    "Which hours has the highest frequency of usage?"
   ]
  },
  {
   "cell_type": "code",
   "execution_count": 65,
   "metadata": {},
   "outputs": [],
   "source": [
    "start_time_value_counts = bikes3[\"start_hour\"].value_counts()\n",
    "peak_time = start_time_value_counts.idxmax()"
   ]
  },
  {
   "cell_type": "code",
   "execution_count": 66,
   "metadata": {},
   "outputs": [
    {
     "name": "stdout",
     "output_type": "stream",
     "text": [
      "peak time : 17 hs\n"
     ]
    }
   ],
   "source": [
    "print(f\"peak time : {peak_time} hs\")"
   ]
  },
  {
   "cell_type": "code",
   "execution_count": 67,
   "metadata": {},
   "outputs": [
    {
     "data": {
      "text/plain": [
       "([<matplotlib.axis.XTick at 0x1f9a713a0>,\n",
       "  <matplotlib.axis.XTick at 0x1f9a70b60>,\n",
       "  <matplotlib.axis.XTick at 0x1f9a76840>,\n",
       "  <matplotlib.axis.XTick at 0x1f9a705c0>,\n",
       "  <matplotlib.axis.XTick at 0x1d0568410>,\n",
       "  <matplotlib.axis.XTick at 0x1d05a34a0>,\n",
       "  <matplotlib.axis.XTick at 0x1f9a73d10>,\n",
       "  <matplotlib.axis.XTick at 0x142a134d0>,\n",
       "  <matplotlib.axis.XTick at 0x1f9a76ba0>,\n",
       "  <matplotlib.axis.XTick at 0x1d054e930>,\n",
       "  <matplotlib.axis.XTick at 0x1d054f200>,\n",
       "  <matplotlib.axis.XTick at 0x1d054fbf0>],\n",
       " [Text(0, 0, '0'),\n",
       "  Text(2, 0, '2'),\n",
       "  Text(4, 0, '4'),\n",
       "  Text(6, 0, '6'),\n",
       "  Text(8, 0, '8'),\n",
       "  Text(10, 0, '10'),\n",
       "  Text(12, 0, '12'),\n",
       "  Text(14, 0, '14'),\n",
       "  Text(16, 0, '16'),\n",
       "  Text(18, 0, '18'),\n",
       "  Text(20, 0, '20'),\n",
       "  Text(22, 0, '22')])"
      ]
     },
     "execution_count": 67,
     "metadata": {},
     "output_type": "execute_result"
    },
    {
     "data": {
      "image/png": "[encoded data removed]",
      "text/plain": [
       "<Figure size 500x500 with 1 Axes>"
      ]
     },
     "metadata": {},
     "output_type": "display_data"
    }
   ],
   "source": [
    "sns.relplot(kind=\"line\", data= start_time_value_counts)\n",
    "plt.xticks(np.arange(0, 24, 2))"
   ]
  },
  {
   "cell_type": "code",
   "execution_count": 68,
   "metadata": {},
   "outputs": [],
   "source": [
    "avg_rides_per_hour = bikes3.groupby(\"start_hour\")[\"ride_id\"].mean()"
   ]
  },
  {
   "cell_type": "code",
   "execution_count": 69,
   "metadata": {},
   "outputs": [
    {
     "data": {
      "text/plain": [
       "([<matplotlib.axis.XTick at 0x1f9a76150>,\n",
       "  <matplotlib.axis.XTick at 0x1f9a18f20>,\n",
       "  <matplotlib.axis.XTick at 0x1d051fe30>,\n",
       "  <matplotlib.axis.XTick at 0x1d054d3a0>,\n",
       "  <matplotlib.axis.XTick at 0x10b085f40>,\n",
       "  <matplotlib.axis.XTick at 0x1f9a7cb00>,\n",
       "  <matplotlib.axis.XTick at 0x1f9a71280>,\n",
       "  <matplotlib.axis.XTick at 0x1a6902a50>,\n",
       "  <matplotlib.axis.XTick at 0x1f9a7f5c0>,\n",
       "  <matplotlib.axis.XTick at 0x1f9a9eb70>,\n",
       "  <matplotlib.axis.XTick at 0x1f9a9f4d0>,\n",
       "  <matplotlib.axis.XTick at 0x1f9a9fe30>],\n",
       " [Text(0, 0, '0'),\n",
       "  Text(2, 0, '2'),\n",
       "  Text(4, 0, '4'),\n",
       "  Text(6, 0, '6'),\n",
       "  Text(8, 0, '8'),\n",
       "  Text(10, 0, '10'),\n",
       "  Text(12, 0, '12'),\n",
       "  Text(14, 0, '14'),\n",
       "  Text(16, 0, '16'),\n",
       "  Text(18, 0, '18'),\n",
       "  Text(20, 0, '20'),\n",
       "  Text(22, 0, '22')])"
      ]
     },
     "execution_count": 69,
     "metadata": {},
     "output_type": "execute_result"
    },
    {
     "data": {
      "image/png": "[encoded data removed]",
      "text/plain": [
       "<Figure size 500x500 with 1 Axes>"
      ]
     },
     "metadata": {},
     "output_type": "display_data"
    }
   ],
   "source": [
    "sns.relplot(kind=\"line\", data= avg_rides_per_hour )\n",
    "plt.xticks(np.arange(0, 24, 2))"
   ]
  },
  {
   "cell_type": "code",
   "execution_count": 70,
   "metadata": {},
   "outputs": [],
   "source": [
    "week_days = bikes3[bikes3[\"dow\"].isin([0,1,2,3,4])]\n",
    "weekends = bikes3[bikes3[\"dow\"].isin([5,6])]"
   ]
  },
  {
   "cell_type": "code",
   "execution_count": 71,
   "metadata": {},
   "outputs": [
    {
     "data": {
      "text/plain": [
       "([<matplotlib.axis.XTick at 0x1f9a7d9d0>,\n",
       "  <matplotlib.axis.XTick at 0x1f9ac9af0>,\n",
       "  <matplotlib.axis.XTick at 0x1f9acbe60>,\n",
       "  <matplotlib.axis.XTick at 0x1f9a183b0>,\n",
       "  <matplotlib.axis.XTick at 0x1d06c1d60>,\n",
       "  <matplotlib.axis.XTick at 0x1d06c2630>,\n",
       "  <matplotlib.axis.XTick at 0x1f9a9f2c0>,\n",
       "  <matplotlib.axis.XTick at 0x1f9a33f50>,\n",
       "  <matplotlib.axis.XTick at 0x1f9ab0320>,\n",
       "  <matplotlib.axis.XTick at 0x1d06854f0>,\n",
       "  <matplotlib.axis.XTick at 0x1d0685dc0>,\n",
       "  <matplotlib.axis.XTick at 0x1d06866c0>],\n",
       " [Text(0, 0, '0'),\n",
       "  Text(2, 0, '2'),\n",
       "  Text(4, 0, '4'),\n",
       "  Text(6, 0, '6'),\n",
       "  Text(8, 0, '8'),\n",
       "  Text(10, 0, '10'),\n",
       "  Text(12, 0, '12'),\n",
       "  Text(14, 0, '14'),\n",
       "  Text(16, 0, '16'),\n",
       "  Text(18, 0, '18'),\n",
       "  Text(20, 0, '20'),\n",
       "  Text(22, 0, '22')])"
      ]
     },
     "execution_count": 71,
     "metadata": {},
     "output_type": "execute_result"
    },
    {
     "data": {
      "image/png": "[encoded data removed]",
      "text/plain": [
       "<Figure size 500x500 with 1 Axes>"
      ]
     },
     "metadata": {},
     "output_type": "display_data"
    }
   ],
   "source": [
    "# avg rides weekdays\n",
    "avg_rides_per_hour_week_days = week_days.groupby(\"start_hour\")[\"ride_id\"].mean()\n",
    "sns.relplot(kind=\"line\", data= avg_rides_per_hour_week_days )\n",
    "plt.xticks(np.arange(0, 24, 2))"
   ]
  },
  {
   "cell_type": "code",
   "execution_count": 72,
   "metadata": {},
   "outputs": [
    {
     "data": {
      "text/plain": [
       "([<matplotlib.axis.XTick at 0x1d0670ad0>,\n",
       "  <matplotlib.axis.XTick at 0x1d06707d0>,\n",
       "  <matplotlib.axis.XTick at 0x1d06736e0>,\n",
       "  <matplotlib.axis.XTick at 0x1d063d8e0>,\n",
       "  <matplotlib.axis.XTick at 0x1d063e390>,\n",
       "  <matplotlib.axis.XTick at 0x1d063ec90>,\n",
       "  <matplotlib.axis.XTick at 0x1f9a9e150>,\n",
       "  <matplotlib.axis.XTick at 0x1f9a7f8c0>,\n",
       "  <matplotlib.axis.XTick at 0x1d063c6b0>,\n",
       "  <matplotlib.axis.XTick at 0x1d061b560>,\n",
       "  <matplotlib.axis.XTick at 0x1d061bf20>,\n",
       "  <matplotlib.axis.XTick at 0x1d061b740>],\n",
       " [Text(0, 0, '0'),\n",
       "  Text(2, 0, '2'),\n",
       "  Text(4, 0, '4'),\n",
       "  Text(6, 0, '6'),\n",
       "  Text(8, 0, '8'),\n",
       "  Text(10, 0, '10'),\n",
       "  Text(12, 0, '12'),\n",
       "  Text(14, 0, '14'),\n",
       "  Text(16, 0, '16'),\n",
       "  Text(18, 0, '18'),\n",
       "  Text(20, 0, '20'),\n",
       "  Text(22, 0, '22')])"
      ]
     },
     "execution_count": 72,
     "metadata": {},
     "output_type": "execute_result"
    },
    {
     "data": {
      "image/png": "[encoded data removed]",
      "text/plain": [
       "<Figure size 500x500 with 1 Axes>"
      ]
     },
     "metadata": {},
     "output_type": "display_data"
    }
   ],
   "source": [
    "# avg rides weekends\n",
    "avg_rides_per_hour_weekends = weekends.groupby(\"start_hour\")[\"ride_id\"].mean()\n",
    "sns.relplot(kind=\"line\", data= avg_rides_per_hour_weekends)\n",
    "plt.xticks(np.arange(0, 24, 2))"
   ]
  },
  {
   "cell_type": "code",
   "execution_count": 73,
   "metadata": {},
   "outputs": [
    {
     "data": {
      "text/plain": [
       "([<matplotlib.axis.XTick at 0x1f9a72840>,\n",
       "  <matplotlib.axis.XTick at 0x1d06e57c0>,\n",
       "  <matplotlib.axis.XTick at 0x1d07149b0>,\n",
       "  <matplotlib.axis.XTick at 0x1d07151f0>,\n",
       "  <matplotlib.axis.XTick at 0x1d0715bb0>,\n",
       "  <matplotlib.axis.XTick at 0x1d0716450>,\n",
       "  <matplotlib.axis.XTick at 0x1f9ab1a00>,\n",
       "  <matplotlib.axis.XTick at 0x1438e5010>,\n",
       "  <matplotlib.axis.XTick at 0x1f9aca4e0>,\n",
       "  <matplotlib.axis.XTick at 0x1f9a72000>,\n",
       "  <matplotlib.axis.XTick at 0x1d0770e30>,\n",
       "  <matplotlib.axis.XTick at 0x1d07716d0>],\n",
       " [Text(0, 0, '0'),\n",
       "  Text(2, 0, '2'),\n",
       "  Text(4, 0, '4'),\n",
       "  Text(6, 0, '6'),\n",
       "  Text(8, 0, '8'),\n",
       "  Text(10, 0, '10'),\n",
       "  Text(12, 0, '12'),\n",
       "  Text(14, 0, '14'),\n",
       "  Text(16, 0, '16'),\n",
       "  Text(18, 0, '18'),\n",
       "  Text(20, 0, '20'),\n",
       "  Text(22, 0, '22')])"
      ]
     },
     "execution_count": 73,
     "metadata": {},
     "output_type": "execute_result"
    },
    {
     "data": {
      "image/png": "[encoded data removed]",
      "text/plain": [
       "<Figure size 573.236x500 with 1 Axes>"
      ]
     },
     "metadata": {},
     "output_type": "display_data"
    }
   ],
   "source": [
    "avg_rides_per_hour = bikes3.groupby([\"start_hour\",\"weekend\"], as_index=False)[\"ride_id\"].mean()\n",
    "\n",
    "g= sns.relplot(kind=\"line\", data= avg_rides_per_hour, x=\"start_hour\",y=\"ride_id\", hue = \"weekend\")\n",
    "# plt.legend(['week_day', 'weekends'])\n",
    "plt.xticks(np.arange(0, 24, 2))\n",
    "# g.legend.remove()\n",
    "# g.add_legend(title=\"weekends\", label_order=[\"yes\",\"no\"])\n",
    "# # g.legend.set_title(\"wakaka\")\n",
    "# # g.legend.set_label(\"yes\")\n"
   ]
  },
  {
   "cell_type": "code",
   "execution_count": 74,
   "metadata": {},
   "outputs": [
    {
     "data": {
      "text/plain": [
       "time_of_day  trip_type          \n",
       "morning      short_duration         1908460\n",
       "             medium_duration         590845\n",
       "             extra_long_duration     157936\n",
       "             long_duration           142269\n",
       "afternoon    short_duration         2074869\n",
       "             medium_duration         845310\n",
       "             extra_long_duration     328781\n",
       "             long_duration           276817\n",
       "evening      short_duration         2265592\n",
       "             medium_duration         823980\n",
       "             long_duration           209223\n",
       "             extra_long_duration     207602\n",
       "night        short_duration          518358\n",
       "             medium_duration         164976\n",
       "             long_duration            37014\n",
       "             extra_long_duration      34801\n",
       "Name: count, dtype: int64"
      ]
     },
     "execution_count": 74,
     "metadata": {},
     "output_type": "execute_result"
    }
   ],
   "source": [
    "# daily trends\n",
    "# what types of trip are most popular in the different times of day?\n",
    "time_of_day_trip_type = bikes3.groupby(\"time_of_day\",observed=False)[\"trip_type\"].value_counts()\n",
    "time_of_day_trip_type"
   ]
  },
  {
   "cell_type": "code",
   "execution_count": 75,
   "metadata": {},
   "outputs": [
    {
     "name": "stdout",
     "output_type": "stream",
     "text": [
      "preferred trip type in night: short_duration \n",
      "preferred trip type in morning: short_duration \n",
      "preferred trip type in afternoon: short_duration \n",
      "preferred trip type in evening: short_duration \n"
     ]
    }
   ],
   "source": [
    "unique_times_of_day = bikes3[\"time_of_day\"].unique()\n",
    "time_of_day_trip_type[\"afternoon\"].idxmax()\n",
    "\n",
    "for time in unique_times_of_day:\n",
    "    print(f\"preferred trip type in {time}: {time_of_day_trip_type[time].idxmax()} \")"
   ]
  },
  {
   "cell_type": "markdown",
   "metadata": {},
   "source": [
    "does the duration of the trip influence the rideable type ?"
   ]
  },
  {
   "cell_type": "code",
   "execution_count": 76,
   "metadata": {},
   "outputs": [
    {
     "data": {
      "text/plain": [
       "rideable_type\n",
       "classic_bike     7710232\n",
       "electric_bike    2443713\n",
       "docked_bike       539470\n",
       "Name: count, dtype: int64"
      ]
     },
     "execution_count": 76,
     "metadata": {},
     "output_type": "execute_result"
    }
   ],
   "source": [
    "bikes3[\"rideable_type\"].value_counts()"
   ]
  },
  {
   "cell_type": "markdown",
   "metadata": {},
   "source": [
    "Pedal bikes must be checked out and returned to a station. E-bikes may be docked at fixed stations or parked anywhere within the defined service area; however, users incur an additional fee when an e-bike is not parked at a station.\n",
    "Are ebikes parked anywhere assigned to a station?"
   ]
  },
  {
   "cell_type": "code",
   "execution_count": 77,
   "metadata": {},
   "outputs": [],
   "source": [
    "docked = bikes3[bikes3[\"rideable_type\"] == \"docked\"]\n",
    "ebike = bikes3[bikes3[\"rideable_type\"] == \"electric_bike\"]\n",
    "classic = bikes3[bikes3[\"rideable_type\"] == \"classic_bike\"]\n",
    "\n",
    "\n"
   ]
  },
  {
   "cell_type": "code",
   "execution_count": 78,
   "metadata": {},
   "outputs": [
    {
     "name": "stdout",
     "output_type": "stream",
     "text": [
      "Null values for docked bikes start station ID: 0\n",
      "Null values for docked bikes end station ID: 0\n",
      "Null values for ebikes start station ID: 742364\n",
      "Null values for ebikes end station ID: 786198\n",
      "Null values for classic start station ID: 19893\n",
      "Null values for classic end station ID: 10\n"
     ]
    }
   ],
   "source": [
    "print(f\"Null values for docked bikes start station ID: {docked[\"start_station_id\"].isna().sum()}\")\n",
    "print(f\"Null values for docked bikes end station ID: {docked[\"end_station_id\"].isna().sum()}\")\n",
    "print(f\"Null values for ebikes start station ID: {ebike[\"start_station_id\"].isna().sum()}\")\n",
    "print(f\"Null values for ebikes end station ID: {ebike[\"end_station_id\"].isna().sum()}\")\n",
    "print(f\"Null values for classic start station ID: {classic[\"end_station_id\"].isna().sum()}\")\n",
    "print(f\"Null values for classic end station ID: {classic[\"start_station_id\"].isna().sum()}\")\n",
    "\n",
    "\n",
    "\n"
   ]
  },
  {
   "cell_type": "markdown",
   "metadata": {},
   "source": [
    "with orignal values ( no imputation)"
   ]
  },
  {
   "cell_type": "code",
   "execution_count": 79,
   "metadata": {},
   "outputs": [],
   "source": [
    "docked_og = bikes[bikes[\"rideable_type\"] == \"docked\"]\n",
    "ebike_og = bikes[bikes[\"rideable_type\"] == \"electric_bike\"]\n",
    "classic_og = bikes[bikes[\"rideable_type\"] == \"classic_bike\"]"
   ]
  },
  {
   "cell_type": "code",
   "execution_count": 80,
   "metadata": {},
   "outputs": [
    {
     "name": "stdout",
     "output_type": "stream",
     "text": [
      "Null values for docked bikes start station ID: 0\n",
      "Null values for docked bikes end station ID: 0\n",
      "Null values for ebikes start station ID: 742766\n",
      "Null values for ebikes end station ID: 786251\n",
      "Null values for classic start station ID: 19895\n",
      "Null values for classic end station ID: 10\n"
     ]
    }
   ],
   "source": [
    "print(f\"Null values for docked bikes start station ID: {docked_og[\"start_station_id\"].isna().sum()}\")\n",
    "print(f\"Null values for docked bikes end station ID: {docked_og[\"end_station_id\"].isna().sum()}\")\n",
    "print(f\"Null values for ebikes start station ID: {ebike_og[\"start_station_id\"].isna().sum()}\")\n",
    "print(f\"Null values for ebikes end station ID: {ebike_og[\"end_station_id\"].isna().sum()}\")\n",
    "print(f\"Null values for classic start station ID: {classic_og[\"end_station_id\"].isna().sum()}\")\n",
    "print(f\"Null values for classic end station ID: {classic_og[\"start_station_id\"].isna().sum()}\")"
   ]
  },
  {
   "cell_type": "markdown",
   "metadata": {},
   "source": [
    "The rideable type ebike refers to ebikes that are NOT docked, thus they are not associated with a start or end station id .\n",
    "\n",
    "Out of the 2.443.713 e-bike rides, 1.529.017 have null values for start and/or end station ID (%62)\n"
   ]
  },
  {
   "cell_type": "markdown",
   "metadata": {},
   "source": [
    "how many of the start/ end station id missing values are not from ebikes?"
   ]
  },
  {
   "cell_type": "code",
   "execution_count": 81,
   "metadata": {},
   "outputs": [],
   "source": [
    "bike_drop = bikes.dropna()"
   ]
  },
  {
   "cell_type": "code",
   "execution_count": 82,
   "metadata": {},
   "outputs": [],
   "source": [
    "ebike_drop = bike_drop[bike_drop[\"rideable_type\"] == \"electric_bike\"]\n"
   ]
  },
  {
   "cell_type": "code",
   "execution_count": 83,
   "metadata": {},
   "outputs": [
    {
     "data": {
      "text/html": [
       "<div>\n",
       "<style scoped>\n",
       "    .dataframe tbody tr th:only-of-type {\n",
       "        vertical-align: middle;\n",
       "    }\n",
       "\n",
       "    .dataframe tbody tr th {\n",
       "        vertical-align: top;\n",
       "    }\n",
       "\n",
       "    .dataframe thead th {\n",
       "        text-align: right;\n",
       "    }\n",
       "</style>\n",
       "<table border=\"1\" class=\"dataframe\">\n",
       "  <thead>\n",
       "    <tr style=\"text-align: right;\">\n",
       "      <th></th>\n",
       "      <th>ride_id</th>\n",
       "      <th>rideable_type</th>\n",
       "      <th>started_at</th>\n",
       "      <th>ended_at</th>\n",
       "      <th>start_station_name</th>\n",
       "      <th>start_station_id</th>\n",
       "      <th>end_station_name</th>\n",
       "      <th>end_station_id</th>\n",
       "      <th>start_lat</th>\n",
       "      <th>start_lng</th>\n",
       "      <th>end_lat</th>\n",
       "      <th>end_lng</th>\n",
       "      <th>member_casual</th>\n",
       "    </tr>\n",
       "  </thead>\n",
       "  <tbody>\n",
       "    <tr>\n",
       "      <th>69</th>\n",
       "      <td>70</td>\n",
       "      <td>electric_bike</td>\n",
       "      <td>2021-01-01 01:16:38</td>\n",
       "      <td>2021-01-01 01:39:50</td>\n",
       "      <td>Massachusetts Ave &amp; 6th St NE</td>\n",
       "      <td>31657</td>\n",
       "      <td>Massachusetts Ave &amp; 6th St NE</td>\n",
       "      <td>31657</td>\n",
       "      <td>38.892966</td>\n",
       "      <td>-76.998287</td>\n",
       "      <td>38.892975</td>\n",
       "      <td>-76.998299</td>\n",
       "      <td>casual</td>\n",
       "    </tr>\n",
       "    <tr>\n",
       "      <th>169</th>\n",
       "      <td>170</td>\n",
       "      <td>electric_bike</td>\n",
       "      <td>2021-01-01 05:10:44</td>\n",
       "      <td>2021-01-01 05:22:59</td>\n",
       "      <td>12th St &amp; Pennsylvania Ave SE</td>\n",
       "      <td>31644</td>\n",
       "      <td>New Jersey Ave &amp; N St NW/Dunbar HS</td>\n",
       "      <td>31636</td>\n",
       "      <td>38.882483</td>\n",
       "      <td>-76.990114</td>\n",
       "      <td>38.907378</td>\n",
       "      <td>-77.015331</td>\n",
       "      <td>casual</td>\n",
       "    </tr>\n",
       "    <tr>\n",
       "      <th>178</th>\n",
       "      <td>179</td>\n",
       "      <td>electric_bike</td>\n",
       "      <td>2021-01-01 05:34:21</td>\n",
       "      <td>2021-01-01 06:04:04</td>\n",
       "      <td>Massachusetts Ave &amp; 6th St NE</td>\n",
       "      <td>31657</td>\n",
       "      <td>Massachusetts Ave &amp; 6th St NE</td>\n",
       "      <td>31657</td>\n",
       "      <td>38.892954</td>\n",
       "      <td>-76.998307</td>\n",
       "      <td>38.892941</td>\n",
       "      <td>-76.998283</td>\n",
       "      <td>casual</td>\n",
       "    </tr>\n",
       "    <tr>\n",
       "      <th>180</th>\n",
       "      <td>181</td>\n",
       "      <td>electric_bike</td>\n",
       "      <td>2021-01-01 05:39:38</td>\n",
       "      <td>2021-01-01 06:02:29</td>\n",
       "      <td>36th &amp; Calvert St NW / Glover Park</td>\n",
       "      <td>31304</td>\n",
       "      <td>John McCormack Dr &amp; Michigan Ave NE</td>\n",
       "      <td>31502</td>\n",
       "      <td>38.922520</td>\n",
       "      <td>-77.070270</td>\n",
       "      <td>38.934647</td>\n",
       "      <td>-76.995548</td>\n",
       "      <td>casual</td>\n",
       "    </tr>\n",
       "    <tr>\n",
       "      <th>190</th>\n",
       "      <td>191</td>\n",
       "      <td>electric_bike</td>\n",
       "      <td>2021-01-01 06:31:08</td>\n",
       "      <td>2021-01-01 07:29:26</td>\n",
       "      <td>14th &amp; Girard St NW</td>\n",
       "      <td>31123</td>\n",
       "      <td>15th &amp; Euclid St  NW</td>\n",
       "      <td>31117</td>\n",
       "      <td>38.925368</td>\n",
       "      <td>-77.032410</td>\n",
       "      <td>38.923311</td>\n",
       "      <td>-77.035200</td>\n",
       "      <td>casual</td>\n",
       "    </tr>\n",
       "    <tr>\n",
       "      <th>...</th>\n",
       "      <td>...</td>\n",
       "      <td>...</td>\n",
       "      <td>...</td>\n",
       "      <td>...</td>\n",
       "      <td>...</td>\n",
       "      <td>...</td>\n",
       "      <td>...</td>\n",
       "      <td>...</td>\n",
       "      <td>...</td>\n",
       "      <td>...</td>\n",
       "      <td>...</td>\n",
       "      <td>...</td>\n",
       "      <td>...</td>\n",
       "    </tr>\n",
       "    <tr>\n",
       "      <th>10693941</th>\n",
       "      <td>10693942</td>\n",
       "      <td>electric_bike</td>\n",
       "      <td>2023-12-31 23:39:40</td>\n",
       "      <td>2023-12-31 23:58:58</td>\n",
       "      <td>10th &amp; G St NW</td>\n",
       "      <td>31274</td>\n",
       "      <td>Jefferson Dr &amp; 14th St SW</td>\n",
       "      <td>31247</td>\n",
       "      <td>38.898469</td>\n",
       "      <td>-77.026178</td>\n",
       "      <td>38.888553</td>\n",
       "      <td>-77.032427</td>\n",
       "      <td>casual</td>\n",
       "    </tr>\n",
       "    <tr>\n",
       "      <th>10693958</th>\n",
       "      <td>10693959</td>\n",
       "      <td>electric_bike</td>\n",
       "      <td>2023-12-31 23:44:48</td>\n",
       "      <td>2023-12-31 23:54:36</td>\n",
       "      <td>Florida Ave &amp; R St NW</td>\n",
       "      <td>31503</td>\n",
       "      <td>15th &amp; Euclid St NW</td>\n",
       "      <td>31117</td>\n",
       "      <td>38.912511</td>\n",
       "      <td>-77.013356</td>\n",
       "      <td>38.923330</td>\n",
       "      <td>-77.035200</td>\n",
       "      <td>casual</td>\n",
       "    </tr>\n",
       "    <tr>\n",
       "      <th>10693968</th>\n",
       "      <td>10693969</td>\n",
       "      <td>electric_bike</td>\n",
       "      <td>2023-12-31 23:47:30</td>\n",
       "      <td>2023-12-31 23:55:25</td>\n",
       "      <td>Lamont &amp; Mt Pleasant NW</td>\n",
       "      <td>31107</td>\n",
       "      <td>11th &amp; Park Rd NW</td>\n",
       "      <td>31651</td>\n",
       "      <td>38.932013</td>\n",
       "      <td>-77.038846</td>\n",
       "      <td>38.931322</td>\n",
       "      <td>-77.028247</td>\n",
       "      <td>casual</td>\n",
       "    </tr>\n",
       "    <tr>\n",
       "      <th>10693971</th>\n",
       "      <td>10693972</td>\n",
       "      <td>electric_bike</td>\n",
       "      <td>2023-12-31 23:48:01</td>\n",
       "      <td>2023-12-31 23:52:54</td>\n",
       "      <td>7th St &amp; Florida Ave NW</td>\n",
       "      <td>31109</td>\n",
       "      <td>Rhode Island Ave &amp; V St NE</td>\n",
       "      <td>31513</td>\n",
       "      <td>38.916146</td>\n",
       "      <td>-77.022062</td>\n",
       "      <td>38.918155</td>\n",
       "      <td>-77.004746</td>\n",
       "      <td>casual</td>\n",
       "    </tr>\n",
       "    <tr>\n",
       "      <th>10693981</th>\n",
       "      <td>10693982</td>\n",
       "      <td>electric_bike</td>\n",
       "      <td>2023-12-31 23:52:37</td>\n",
       "      <td>2024-01-01 01:15:48</td>\n",
       "      <td>Smithsonian-National Mall / Jefferson Dr &amp; 12t...</td>\n",
       "      <td>31248</td>\n",
       "      <td>Independence Ave &amp; L'Enfant Plaza SW/DOE</td>\n",
       "      <td>31633</td>\n",
       "      <td>38.888776</td>\n",
       "      <td>-77.028765</td>\n",
       "      <td>38.887312</td>\n",
       "      <td>-77.025762</td>\n",
       "      <td>casual</td>\n",
       "    </tr>\n",
       "  </tbody>\n",
       "</table>\n",
       "<p>544069 rows × 13 columns</p>\n",
       "</div>"
      ],
      "text/plain": [
       "           ride_id  rideable_type          started_at            ended_at  \\\n",
       "69              70  electric_bike 2021-01-01 01:16:38 2021-01-01 01:39:50   \n",
       "169            170  electric_bike 2021-01-01 05:10:44 2021-01-01 05:22:59   \n",
       "178            179  electric_bike 2021-01-01 05:34:21 2021-01-01 06:04:04   \n",
       "180            181  electric_bike 2021-01-01 05:39:38 2021-01-01 06:02:29   \n",
       "190            191  electric_bike 2021-01-01 06:31:08 2021-01-01 07:29:26   \n",
       "...            ...            ...                 ...                 ...   \n",
       "10693941  10693942  electric_bike 2023-12-31 23:39:40 2023-12-31 23:58:58   \n",
       "10693958  10693959  electric_bike 2023-12-31 23:44:48 2023-12-31 23:54:36   \n",
       "10693968  10693969  electric_bike 2023-12-31 23:47:30 2023-12-31 23:55:25   \n",
       "10693971  10693972  electric_bike 2023-12-31 23:48:01 2023-12-31 23:52:54   \n",
       "10693981  10693982  electric_bike 2023-12-31 23:52:37 2024-01-01 01:15:48   \n",
       "\n",
       "                                         start_station_name start_station_id  \\\n",
       "69                            Massachusetts Ave & 6th St NE            31657   \n",
       "169                           12th St & Pennsylvania Ave SE            31644   \n",
       "178                           Massachusetts Ave & 6th St NE            31657   \n",
       "180                      36th & Calvert St NW / Glover Park            31304   \n",
       "190                                     14th & Girard St NW            31123   \n",
       "...                                                     ...              ...   \n",
       "10693941                                     10th & G St NW            31274   \n",
       "10693958                              Florida Ave & R St NW            31503   \n",
       "10693968                            Lamont & Mt Pleasant NW            31107   \n",
       "10693971                            7th St & Florida Ave NW            31109   \n",
       "10693981  Smithsonian-National Mall / Jefferson Dr & 12t...            31248   \n",
       "\n",
       "                                  end_station_name end_station_id  start_lat  \\\n",
       "69                   Massachusetts Ave & 6th St NE          31657  38.892966   \n",
       "169             New Jersey Ave & N St NW/Dunbar HS          31636  38.882483   \n",
       "178                  Massachusetts Ave & 6th St NE          31657  38.892954   \n",
       "180            John McCormack Dr & Michigan Ave NE          31502  38.922520   \n",
       "190                           15th & Euclid St  NW          31117  38.925368   \n",
       "...                                            ...            ...        ...   \n",
       "10693941                 Jefferson Dr & 14th St SW          31247  38.898469   \n",
       "10693958                       15th & Euclid St NW          31117  38.912511   \n",
       "10693968                         11th & Park Rd NW          31651  38.932013   \n",
       "10693971                Rhode Island Ave & V St NE          31513  38.916146   \n",
       "10693981  Independence Ave & L'Enfant Plaza SW/DOE          31633  38.888776   \n",
       "\n",
       "          start_lng    end_lat    end_lng member_casual  \n",
       "69       -76.998287  38.892975 -76.998299        casual  \n",
       "169      -76.990114  38.907378 -77.015331        casual  \n",
       "178      -76.998307  38.892941 -76.998283        casual  \n",
       "180      -77.070270  38.934647 -76.995548        casual  \n",
       "190      -77.032410  38.923311 -77.035200        casual  \n",
       "...             ...        ...        ...           ...  \n",
       "10693941 -77.026178  38.888553 -77.032427        casual  \n",
       "10693958 -77.013356  38.923330 -77.035200        casual  \n",
       "10693968 -77.038846  38.931322 -77.028247        casual  \n",
       "10693971 -77.022062  38.918155 -77.004746        casual  \n",
       "10693981 -77.028765  38.887312 -77.025762        casual  \n",
       "\n",
       "[544069 rows x 13 columns]"
      ]
     },
     "execution_count": 83,
     "metadata": {},
     "output_type": "execute_result"
    }
   ],
   "source": [
    "ebike_drop[ebike_drop[\"member_casual\"] == \"casual\"]"
   ]
  },
  {
   "cell_type": "code",
   "execution_count": 84,
   "metadata": {},
   "outputs": [
    {
     "data": {
      "text/plain": [
       "<seaborn.axisgrid.FacetGrid at 0x1d0760c80>"
      ]
     },
     "execution_count": 84,
     "metadata": {},
     "output_type": "execute_result"
    },
    {
     "data": {
      "image/png": "[encoded data removed]",
      "text/plain": [
       "<Figure size 689x500 with 1 Axes>"
      ]
     },
     "metadata": {},
     "output_type": "display_data"
    }
   ],
   "source": [
    "sns.catplot(data=bikes3, kind=\"count\", x = \"rideable_type\", hue= \"trip_type\")"
   ]
  },
  {
   "cell_type": "code",
   "execution_count": 85,
   "metadata": {},
   "outputs": [
    {
     "name": "stdout",
     "output_type": "stream",
     "text": [
      "busiest morning station: 31229\n",
      "busiest afternoon station: 31288\n",
      "busiest evening station: 31623\n",
      "busiest night station: 31114\n"
     ]
    }
   ],
   "source": [
    "# busiest destinations\n",
    "# which stations are busiest at the different times of day?\n",
    "\n",
    "morning_time = bikes3[bikes3[\"time_of_day\"]==\"morning\"]\n",
    "morning_time_value_counts=morning_time[\"start_station_id\"].value_counts()\n",
    "busiest_station_morning= morning_time_value_counts.idxmax()\n",
    "print(f\"busiest morning station: {busiest_station_morning}\")\n",
    "\n",
    "afternoon_time = bikes3[bikes3[\"time_of_day\"]==\"afternoon\"]\n",
    "afternoon_time_value_counts=afternoon_time[\"start_station_id\"].value_counts()\n",
    "busiest_station_afternoon= afternoon_time_value_counts.idxmax()\n",
    "print(f\"busiest afternoon station: {busiest_station_afternoon}\")\n",
    "\n",
    "evening_time = bikes3[bikes3[\"time_of_day\"]==\"evening\"]\n",
    "evening_time_value_counts=evening_time[\"start_station_id\"].value_counts()\n",
    "busiest_station_evening= evening_time_value_counts.idxmax()\n",
    "print(f\"busiest evening station: {busiest_station_evening}\")\n",
    "\n",
    "night_time = bikes3[bikes3[\"time_of_day\"]==\"night\"]\n",
    "night_time_value_counts=night_time[\"start_station_id\"].value_counts()\n",
    "busiest_station_night= night_time_value_counts.idxmax()\n",
    "print(f\"busiest night station: {busiest_station_night}\")"
   ]
  },
  {
   "cell_type": "code",
   "execution_count": 86,
   "metadata": {},
   "outputs": [],
   "source": [
    "top_stations = bikes3[\"start_station_id\"].value_counts()\n",
    "top50_stations_list = top_stations.head(50).index\n",
    "top50_stations_list= list(top50_stations_list)\n"
   ]
  },
  {
   "cell_type": "code",
   "execution_count": 87,
   "metadata": {},
   "outputs": [
    {
     "name": "stdout",
     "output_type": "stream",
     "text": [
      "busiest time of day in Station nr 31229: evening \n",
      "busiest time of day in Station nr 31623: evening \n",
      "busiest time of day in Station nr 31201: evening \n",
      "busiest time of day in Station nr 31258: afternoon \n",
      "busiest time of day in Station nr 31247: afternoon \n",
      "busiest time of day in Station nr 31603: evening \n",
      "busiest time of day in Station nr 31288: afternoon \n",
      "busiest time of day in Station nr 31600: evening \n",
      "busiest time of day in Station nr 31101: morning \n",
      "busiest time of day in Station nr 31248: afternoon \n",
      "busiest time of day in Station nr 31613: afternoon \n",
      "busiest time of day in Station nr 31289: afternoon \n",
      "busiest time of day in Station nr 31200: afternoon \n",
      "busiest time of day in Station nr 31281: evening \n",
      "busiest time of day in Station nr 31202: evening \n",
      "busiest time of day in Station nr 31266: morning \n",
      "busiest time of day in Station nr 31627: evening \n",
      "busiest time of day in Station nr 31214: evening \n",
      "busiest time of day in Station nr 31125: evening \n",
      "busiest time of day in Station nr 31203: evening \n",
      "busiest time of day in Station nr 31628: evening \n",
      "busiest time of day in Station nr 31241: morning \n",
      "busiest time of day in Station nr 31615: evening \n",
      "busiest time of day in Station nr 31114: evening \n",
      "busiest time of day in Station nr 31108: morning \n",
      "busiest time of day in Station nr 31212: evening \n",
      "busiest time of day in Station nr 31124: evening \n",
      "busiest time of day in Station nr 31104: evening \n",
      "busiest time of day in Station nr 31249: afternoon \n",
      "busiest time of day in Station nr 31232: evening \n",
      "busiest time of day in Station nr 31324: morning \n",
      "busiest time of day in Station nr 31128: afternoon \n",
      "busiest time of day in Station nr 31228: evening \n",
      "busiest time of day in Station nr 31116: evening \n",
      "busiest time of day in Station nr 31265: evening \n",
      "busiest time of day in Station nr 31653: afternoon \n",
      "busiest time of day in Station nr 31646: afternoon \n",
      "busiest time of day in Station nr 31321: afternoon \n",
      "busiest time of day in Station nr 31246: afternoon \n",
      "busiest time of day in Station nr 31290: afternoon \n",
      "busiest time of day in Station nr 31609: evening \n",
      "busiest time of day in Station nr 31236: afternoon \n",
      "busiest time of day in Station nr 31655: evening \n",
      "busiest time of day in Station nr 31296: evening \n",
      "busiest time of day in Station nr 31505: evening \n",
      "busiest time of day in Station nr 31532: evening \n",
      "busiest time of day in Station nr 31119: evening \n",
      "busiest time of day in Station nr 31234: evening \n",
      "busiest time of day in Station nr 31616: evening \n",
      "busiest time of day in Station nr 31662: evening \n"
     ]
    }
   ],
   "source": [
    "# check when is each station the busiest\n",
    "top50_stations = bikes3[bikes3[\"start_station_id\"].isin(top50_stations_list)]\n",
    "top50_value_counts = top50_stations.groupby(\"start_station_id\")[\"time_of_day\"].value_counts(sort=False)\n",
    "top50_value_counts.head(50)\n",
    "# = bikes3.groupby(\"start_station_id\")[\"time_of_day\"].value_counts()\n",
    "#TODO - check per station which is the busiest time\n",
    "\n",
    "\n",
    "for station in top50_stations_list:\n",
    "    print(f\"busiest time of day in Station nr {station}: {top50_value_counts[station].idxmax()} \")\n"
   ]
  },
  {
   "cell_type": "code",
   "execution_count": 88,
   "metadata": {},
   "outputs": [],
   "source": [
    "# grid_counts = bikes2[\"grid_cell\"].value_counts()\n",
    "\n",
    "# print(\"Top 5 grid cells by number of rows:\")\n",
    "# print(grid_counts.head())\n",
    "\n",
    "# # Histogram of grid cell sizes\n",
    "# grid_counts.hist(bins=50)\n",
    "# plt.title(\"Distribution of Rows per Grid Cell\")\n",
    "# plt.xlabel(\"Number of Rows\")\n",
    "# plt.ylabel(\"Frequency\")\n",
    "# plt.show()"
   ]
  },
  {
   "cell_type": "code",
   "execution_count": 89,
   "metadata": {},
   "outputs": [],
   "source": [
    "# plt.scatter(bikes2[\"start_lng\"], bikes2[\"start_lat\"], s=1, alpha=0.5)\n",
    "# plt.title(\"Station Coordinate Distribution\")\n",
    "# plt.xlabel(\"Longitude\")\n",
    "# plt.ylabel(\"Latitude\")\n",
    "# plt.show()"
   ]
  },
  {
   "cell_type": "markdown",
   "metadata": {},
   "source": [
    "2. Strategies to Handle the Skew\n",
    "Option 1: Adaptive Grid Sizes\n",
    "Use smaller grid sizes in densely populated areas and larger sizes in sparse areas:\n",
    "\n",
    "Identify Dense Areas: Determine grid cells with counts above a certain threshold.\n",
    "Subdivide Dense Cells: Use a smaller grid size for those specific cells."
   ]
  },
  {
   "cell_type": "code",
   "execution_count": 90,
   "metadata": {},
   "outputs": [],
   "source": [
    "# # Define a threshold for dense cells\n",
    "# dense_threshold = grid_counts.quantile(0.95)  # Top 5% of grid cells\n",
    "\n",
    "# # Identify dense grid cells\n",
    "# dense_cells = grid_counts[grid_counts > dense_threshold].index\n",
    "\n",
    "# # Flag rows in dense cells\n",
    "# bikes2[\"is_dense\"] = bikes2[\"grid_cell\"].isin(dense_cells)\n",
    "\n",
    "# # Subdivide dense cells with a smaller grid size\n",
    "# dense_grid_size = chosen_grid_size / 2\n",
    "# bikes2.loc[bikes2[\"is_dense\"], \"sub_grid_cell\"] = (\n",
    "#     (bikes2[\"start_lat\"] // dense_grid_size).astype(int).astype(str) + \"_\" +\n",
    "#     (bikes2[\"start_lng\"] // dense_grid_size).astype(int).astype(str)\n",
    "# )\n",
    "\n",
    "# # Use the refined grid cell where applicable\n",
    "# bikes2[\"final_grid_cell\"] = bikes2[\"sub_grid_cell\"].fillna(bikes2[\"grid_cell\"])"
   ]
  },
  {
   "cell_type": "code",
   "execution_count": 91,
   "metadata": {},
   "outputs": [],
   "source": [
    "#TODO - season and public holidays features"
   ]
  },
  {
   "cell_type": "markdown",
   "metadata": {},
   "source": [
    "# Calculate trip distance"
   ]
  },
  {
   "cell_type": "code",
   "execution_count": 92,
   "metadata": {},
   "outputs": [],
   "source": [
    "from geopy.distance import geodesic"
   ]
  },
  {
   "cell_type": "code",
   "execution_count": 93,
   "metadata": {},
   "outputs": [],
   "source": [
    "bikes_sample = bikes3.sample(n=5)"
   ]
  },
  {
   "cell_type": "code",
   "execution_count": 94,
   "metadata": {},
   "outputs": [],
   "source": [
    "# start_coords1 = (bikes_sample['start_lat'], bikes_sample['start_lng'])\n",
    "# end_coords1 = (bikes_sample['end_lat'], bikes_sample['end_lng'])\n",
    "# bikes_sample[\"trip_distance\"] = distance.distance(start_coords1, end_coords1).km"
   ]
  },
  {
   "cell_type": "markdown",
   "metadata": {},
   "source": [
    "Here's the problem:\n",
    "\n",
    "Input as entire columns, not individual rows:\n",
    "\n",
    "bikes_sample['start_lat'] and bikes_sample['start_lng'] are entire columns of the DataFrame, not single values.\n",
    "The distance.distance() function expects tuples of coordinates, e.g., (latitude, longitude), where each coordinate is a single value. However, you're passing an entire column for each coordinate, which results in invalid input.\n",
    "Broadcasting issue:\n",
    "\n",
    "distance.distance(start_coords1, end_coords1) cannot calculate distances for multiple points simultaneously unless explicitly vectorized. This function expects two tuples for a single pair of coordinates, not arrays or lists.\n",
    "Correct Approach\n",
    "To fix this, you need to calculate the distance row-by-row."
   ]
  },
  {
   "cell_type": "code",
   "execution_count": 95,
   "metadata": {},
   "outputs": [],
   "source": [
    "def calculate_distance(row):\n",
    "    start_coords = (row['start_lat'], row['start_lng'])\n",
    "    end_coords = (row['end_lat'], row['end_lng'])\n",
    "    return geodesic(start_coords, end_coords).kilometers\n",
    "\n",
    "bikes_sample['distance_km'] = bikes_sample.apply(calculate_distance, axis=1)\n"
   ]
  },
  {
   "cell_type": "code",
   "execution_count": 96,
   "metadata": {},
   "outputs": [],
   "source": [
    "bikes_sample[\"distance_km\"] = round(bikes_sample['distance_km'],2)"
   ]
  },
  {
   "cell_type": "code",
   "execution_count": 97,
   "metadata": {},
   "outputs": [
    {
     "data": {
      "text/html": [
       "<div>\n",
       "<style scoped>\n",
       "    .dataframe tbody tr th:only-of-type {\n",
       "        vertical-align: middle;\n",
       "    }\n",
       "\n",
       "    .dataframe tbody tr th {\n",
       "        vertical-align: top;\n",
       "    }\n",
       "\n",
       "    .dataframe thead th {\n",
       "        text-align: right;\n",
       "    }\n",
       "</style>\n",
       "<table border=\"1\" class=\"dataframe\">\n",
       "  <thead>\n",
       "    <tr style=\"text-align: right;\">\n",
       "      <th></th>\n",
       "      <th>ride_id</th>\n",
       "      <th>rideable_type</th>\n",
       "      <th>started_at</th>\n",
       "      <th>ended_at</th>\n",
       "      <th>start_station_name</th>\n",
       "      <th>start_station_id</th>\n",
       "      <th>end_station_name</th>\n",
       "      <th>end_station_id</th>\n",
       "      <th>start_lat</th>\n",
       "      <th>start_lng</th>\n",
       "      <th>...</th>\n",
       "      <th>end_hour</th>\n",
       "      <th>year</th>\n",
       "      <th>month</th>\n",
       "      <th>day</th>\n",
       "      <th>dow</th>\n",
       "      <th>weekend</th>\n",
       "      <th>trip_duration_minutes</th>\n",
       "      <th>time_of_day</th>\n",
       "      <th>trip_type</th>\n",
       "      <th>distance_km</th>\n",
       "    </tr>\n",
       "  </thead>\n",
       "  <tbody>\n",
       "    <tr>\n",
       "      <th>6786831</th>\n",
       "      <td>6786832</td>\n",
       "      <td>classic_bike</td>\n",
       "      <td>2023-03-19 12:07:26</td>\n",
       "      <td>2023-03-19 12:11:17</td>\n",
       "      <td>Hains Point/Buckeye &amp; Ohio Dr SW</td>\n",
       "      <td>31273</td>\n",
       "      <td>Hains Point/Buckeye &amp; Ohio Dr SW</td>\n",
       "      <td>31273</td>\n",
       "      <td>38.878433</td>\n",
       "      <td>-77.030230</td>\n",
       "      <td>...</td>\n",
       "      <td>12</td>\n",
       "      <td>2023</td>\n",
       "      <td>3</td>\n",
       "      <td>19</td>\n",
       "      <td>6</td>\n",
       "      <td>1</td>\n",
       "      <td>4.0</td>\n",
       "      <td>afternoon</td>\n",
       "      <td>short_duration</td>\n",
       "      <td>0.00</td>\n",
       "    </tr>\n",
       "    <tr>\n",
       "      <th>7578362</th>\n",
       "      <td>7578363</td>\n",
       "      <td>electric_bike</td>\n",
       "      <td>2023-05-19 22:48:06</td>\n",
       "      <td>2023-05-19 22:55:56</td>\n",
       "      <td>New York Ave &amp; 15th St NW</td>\n",
       "      <td>31222</td>\n",
       "      <td>New Hampshire Ave &amp; Ward Pl NW</td>\n",
       "      <td>31212</td>\n",
       "      <td>38.899088</td>\n",
       "      <td>-77.033357</td>\n",
       "      <td>...</td>\n",
       "      <td>22</td>\n",
       "      <td>2023</td>\n",
       "      <td>5</td>\n",
       "      <td>19</td>\n",
       "      <td>4</td>\n",
       "      <td>0</td>\n",
       "      <td>8.0</td>\n",
       "      <td>night</td>\n",
       "      <td>short_duration</td>\n",
       "      <td>1.42</td>\n",
       "    </tr>\n",
       "    <tr>\n",
       "      <th>6352045</th>\n",
       "      <td>6352046</td>\n",
       "      <td>classic_bike</td>\n",
       "      <td>2023-01-19 17:06:18</td>\n",
       "      <td>2023-01-19 17:18:08</td>\n",
       "      <td>22nd &amp; H St NW</td>\n",
       "      <td>31127</td>\n",
       "      <td>17th &amp; Corcoran St NW</td>\n",
       "      <td>31214</td>\n",
       "      <td>38.898925</td>\n",
       "      <td>-77.048852</td>\n",
       "      <td>...</td>\n",
       "      <td>17</td>\n",
       "      <td>2023</td>\n",
       "      <td>1</td>\n",
       "      <td>19</td>\n",
       "      <td>3</td>\n",
       "      <td>0</td>\n",
       "      <td>12.0</td>\n",
       "      <td>evening</td>\n",
       "      <td>short_duration</td>\n",
       "      <td>1.71</td>\n",
       "    </tr>\n",
       "    <tr>\n",
       "      <th>3960061</th>\n",
       "      <td>3960062</td>\n",
       "      <td>classic_bike</td>\n",
       "      <td>2022-06-04 22:44:02</td>\n",
       "      <td>2022-06-05 00:02:13</td>\n",
       "      <td>18th &amp; C St NW</td>\n",
       "      <td>31284</td>\n",
       "      <td>18th &amp; C St NW</td>\n",
       "      <td>31284</td>\n",
       "      <td>38.893511</td>\n",
       "      <td>-77.041544</td>\n",
       "      <td>...</td>\n",
       "      <td>0</td>\n",
       "      <td>2022</td>\n",
       "      <td>6</td>\n",
       "      <td>4</td>\n",
       "      <td>5</td>\n",
       "      <td>1</td>\n",
       "      <td>78.0</td>\n",
       "      <td>night</td>\n",
       "      <td>extra_long_duration</td>\n",
       "      <td>0.00</td>\n",
       "    </tr>\n",
       "    <tr>\n",
       "      <th>781142</th>\n",
       "      <td>781143</td>\n",
       "      <td>classic_bike</td>\n",
       "      <td>2021-05-26 19:22:12</td>\n",
       "      <td>2021-05-26 19:32:34</td>\n",
       "      <td>15th St &amp; Pennsylvania Ave NW</td>\n",
       "      <td>31129</td>\n",
       "      <td>8th &amp; O St NW</td>\n",
       "      <td>31281</td>\n",
       "      <td>38.896465</td>\n",
       "      <td>-77.033381</td>\n",
       "      <td>...</td>\n",
       "      <td>19</td>\n",
       "      <td>2021</td>\n",
       "      <td>5</td>\n",
       "      <td>26</td>\n",
       "      <td>2</td>\n",
       "      <td>0</td>\n",
       "      <td>10.0</td>\n",
       "      <td>evening</td>\n",
       "      <td>short_duration</td>\n",
       "      <td>1.64</td>\n",
       "    </tr>\n",
       "  </tbody>\n",
       "</table>\n",
       "<p>5 rows × 26 columns</p>\n",
       "</div>"
      ],
      "text/plain": [
       "         ride_id  rideable_type          started_at            ended_at  \\\n",
       "6786831  6786832   classic_bike 2023-03-19 12:07:26 2023-03-19 12:11:17   \n",
       "7578362  7578363  electric_bike 2023-05-19 22:48:06 2023-05-19 22:55:56   \n",
       "6352045  6352046   classic_bike 2023-01-19 17:06:18 2023-01-19 17:18:08   \n",
       "3960061  3960062   classic_bike 2022-06-04 22:44:02 2022-06-05 00:02:13   \n",
       "781142    781143   classic_bike 2021-05-26 19:22:12 2021-05-26 19:32:34   \n",
       "\n",
       "                       start_station_name start_station_id  \\\n",
       "6786831  Hains Point/Buckeye & Ohio Dr SW            31273   \n",
       "7578362         New York Ave & 15th St NW            31222   \n",
       "6352045                    22nd & H St NW            31127   \n",
       "3960061                    18th & C St NW            31284   \n",
       "781142      15th St & Pennsylvania Ave NW            31129   \n",
       "\n",
       "                         end_station_name end_station_id  start_lat  \\\n",
       "6786831  Hains Point/Buckeye & Ohio Dr SW          31273  38.878433   \n",
       "7578362    New Hampshire Ave & Ward Pl NW          31212  38.899088   \n",
       "6352045             17th & Corcoran St NW          31214  38.898925   \n",
       "3960061                    18th & C St NW          31284  38.893511   \n",
       "781142                      8th & O St NW          31281  38.896465   \n",
       "\n",
       "         start_lng  ...  end_hour  year month day dow  weekend  \\\n",
       "6786831 -77.030230  ...        12  2023     3  19   6        1   \n",
       "7578362 -77.033357  ...        22  2023     5  19   4        0   \n",
       "6352045 -77.048852  ...        17  2023     1  19   3        0   \n",
       "3960061 -77.041544  ...         0  2022     6   4   5        1   \n",
       "781142  -77.033381  ...        19  2021     5  26   2        0   \n",
       "\n",
       "         trip_duration_minutes  time_of_day            trip_type  distance_km  \n",
       "6786831                    4.0    afternoon       short_duration         0.00  \n",
       "7578362                    8.0        night       short_duration         1.42  \n",
       "6352045                   12.0      evening       short_duration         1.71  \n",
       "3960061                   78.0        night  extra_long_duration         0.00  \n",
       "781142                    10.0      evening       short_duration         1.64  \n",
       "\n",
       "[5 rows x 26 columns]"
      ]
     },
     "execution_count": 97,
     "metadata": {},
     "output_type": "execute_result"
    }
   ],
   "source": [
    "bikes_sample"
   ]
  },
  {
   "cell_type": "code",
   "execution_count": 99,
   "metadata": {},
   "outputs": [],
   "source": [
    "bikes_dropped = bikes3.dropna(subset=[\"start_lat\",\"start_lng\", \"end_lat\",\"end_lng\"])"
   ]
  },
  {
   "cell_type": "markdown",
   "metadata": {},
   "source": [
    "create a sample with 1000 rows per month"
   ]
  },
  {
   "cell_type": "code",
   "execution_count": 100,
   "metadata": {},
   "outputs": [],
   "source": [
    "samples = []\n",
    "\n",
    "# Loop over years and months to sample 1,000 rows for each month\n",
    "for year in range(2021, 2024):  # Covering 2021, 2022, and 2023\n",
    "    for month in range(1, 13):  # Months from 1 to 12\n",
    "        # Filter for the specific year and month\n",
    "        filtered_data = bikes_dropped[(bikes_dropped[\"year\"] == year) & (bikes_dropped[\"month\"] == month)]\n",
    "        \n",
    "        # Sample 1,000 rows if there are enough rows available\n",
    "        if len(filtered_data) >= 1000:\n",
    "            sample = filtered_data.sample(n=1000, random_state=42)\n",
    "        else:  # If less than 1,000 rows, take all available rows\n",
    "            sample = filtered_data\n",
    "            \n",
    "        samples.append(sample)\n",
    "\n",
    "# Combine all the samples into a single DataFrame\n",
    "bikes_monthly_sample = pd.concat(samples, ignore_index=True)\n",
    "\n"
   ]
  },
  {
   "cell_type": "markdown",
   "metadata": {},
   "source": [
    "The ideal sample size depends on several factors, including the variability of your data, the analyses you plan to perform, and the level of precision you require.\n",
    "Statistical Guidelines\n",
    "Statistical sampling often considers these factors:\n",
    "\n",
    "Confidence Level: How confident do you want to be that your sample represents the population? Common values: 95% or 99%.\n",
    "Margin of Error: How much error are you willing to tolerate in your estimates? Typical values: 5% or 1%.\n",
    "Population Variability: How diverse is the dataset? Higher variability requires a larger sample.\n",
    "For a population of 10 million and a 95% confidence level with a 5% margin of error, you need about 385 samples for statistical inferences. However, you're taking 36,000 samples, which is far larger than statistically required, so it should be representative.\n",
    "\n",
    "If your system can handle a slightly larger dataset, you might consider sampling 50,000-100,000 rows (~0.5%-1% of the population) to reduce the risk of missing rare patterns.\n",
    "\n"
   ]
  },
  {
   "cell_type": "code",
   "execution_count": 101,
   "metadata": {},
   "outputs": [
    {
     "data": {
      "text/html": [
       "<div>\n",
       "<style scoped>\n",
       "    .dataframe tbody tr th:only-of-type {\n",
       "        vertical-align: middle;\n",
       "    }\n",
       "\n",
       "    .dataframe tbody tr th {\n",
       "        vertical-align: top;\n",
       "    }\n",
       "\n",
       "    .dataframe thead th {\n",
       "        text-align: right;\n",
       "    }\n",
       "</style>\n",
       "<table border=\"1\" class=\"dataframe\">\n",
       "  <thead>\n",
       "    <tr style=\"text-align: right;\">\n",
       "      <th></th>\n",
       "      <th>ride_id</th>\n",
       "      <th>rideable_type</th>\n",
       "      <th>started_at</th>\n",
       "      <th>ended_at</th>\n",
       "      <th>start_station_name</th>\n",
       "      <th>start_station_id</th>\n",
       "      <th>end_station_name</th>\n",
       "      <th>end_station_id</th>\n",
       "      <th>start_lat</th>\n",
       "      <th>start_lng</th>\n",
       "      <th>...</th>\n",
       "      <th>start_hour</th>\n",
       "      <th>end_hour</th>\n",
       "      <th>year</th>\n",
       "      <th>month</th>\n",
       "      <th>day</th>\n",
       "      <th>dow</th>\n",
       "      <th>weekend</th>\n",
       "      <th>trip_duration_minutes</th>\n",
       "      <th>time_of_day</th>\n",
       "      <th>trip_type</th>\n",
       "    </tr>\n",
       "  </thead>\n",
       "  <tbody>\n",
       "    <tr>\n",
       "      <th>0</th>\n",
       "      <td>19856</td>\n",
       "      <td>classic_bike</td>\n",
       "      <td>2021-01-07 17:26:56</td>\n",
       "      <td>2021-01-07 17:40:19</td>\n",
       "      <td>Wilson Blvd &amp; N Edgewood St</td>\n",
       "      <td>31019</td>\n",
       "      <td>Potomac &amp; M St NW</td>\n",
       "      <td>31295</td>\n",
       "      <td>38.889000</td>\n",
       "      <td>-77.092500</td>\n",
       "      <td>...</td>\n",
       "      <td>17</td>\n",
       "      <td>17</td>\n",
       "      <td>2021</td>\n",
       "      <td>1</td>\n",
       "      <td>7</td>\n",
       "      <td>3</td>\n",
       "      <td>0</td>\n",
       "      <td>13.0</td>\n",
       "      <td>evening</td>\n",
       "      <td>short_duration</td>\n",
       "    </tr>\n",
       "    <tr>\n",
       "      <th>1</th>\n",
       "      <td>90818</td>\n",
       "      <td>classic_bike</td>\n",
       "      <td>2021-01-28 14:55:49</td>\n",
       "      <td>2021-01-28 14:59:57</td>\n",
       "      <td>15th &amp; Euclid St  NW</td>\n",
       "      <td>31117</td>\n",
       "      <td>New Hampshire Ave &amp; T St NW</td>\n",
       "      <td>31229</td>\n",
       "      <td>38.923330</td>\n",
       "      <td>-77.035200</td>\n",
       "      <td>...</td>\n",
       "      <td>14</td>\n",
       "      <td>14</td>\n",
       "      <td>2021</td>\n",
       "      <td>1</td>\n",
       "      <td>28</td>\n",
       "      <td>3</td>\n",
       "      <td>0</td>\n",
       "      <td>4.0</td>\n",
       "      <td>afternoon</td>\n",
       "      <td>short_duration</td>\n",
       "    </tr>\n",
       "    <tr>\n",
       "      <th>2</th>\n",
       "      <td>74003</td>\n",
       "      <td>classic_bike</td>\n",
       "      <td>2021-01-22 18:21:07</td>\n",
       "      <td>2021-01-22 18:31:46</td>\n",
       "      <td>8th &amp; Eye St SE / Barracks Row</td>\n",
       "      <td>31608</td>\n",
       "      <td>Lincoln Park / 13th &amp; East Capitol St NE</td>\n",
       "      <td>31619</td>\n",
       "      <td>38.879200</td>\n",
       "      <td>-76.995300</td>\n",
       "      <td>...</td>\n",
       "      <td>18</td>\n",
       "      <td>18</td>\n",
       "      <td>2021</td>\n",
       "      <td>1</td>\n",
       "      <td>22</td>\n",
       "      <td>4</td>\n",
       "      <td>0</td>\n",
       "      <td>11.0</td>\n",
       "      <td>evening</td>\n",
       "      <td>short_duration</td>\n",
       "    </tr>\n",
       "    <tr>\n",
       "      <th>3</th>\n",
       "      <td>70281</td>\n",
       "      <td>classic_bike</td>\n",
       "      <td>2021-01-21 19:02:52</td>\n",
       "      <td>2021-01-21 19:19:27</td>\n",
       "      <td>Army Navy Dr &amp; S Joyce St</td>\n",
       "      <td>31006</td>\n",
       "      <td>Crystal Dr &amp; 23rd St S</td>\n",
       "      <td>31011</td>\n",
       "      <td>38.863700</td>\n",
       "      <td>-77.063300</td>\n",
       "      <td>...</td>\n",
       "      <td>19</td>\n",
       "      <td>19</td>\n",
       "      <td>2021</td>\n",
       "      <td>1</td>\n",
       "      <td>21</td>\n",
       "      <td>3</td>\n",
       "      <td>0</td>\n",
       "      <td>17.0</td>\n",
       "      <td>evening</td>\n",
       "      <td>medium_duration</td>\n",
       "    </tr>\n",
       "    <tr>\n",
       "      <th>4</th>\n",
       "      <td>34315</td>\n",
       "      <td>classic_bike</td>\n",
       "      <td>2021-01-11 19:12:30</td>\n",
       "      <td>2021-01-11 19:18:39</td>\n",
       "      <td>20th &amp; E St NW</td>\n",
       "      <td>31204</td>\n",
       "      <td>25th St &amp; Pennsylvania Ave NW</td>\n",
       "      <td>31237</td>\n",
       "      <td>38.896300</td>\n",
       "      <td>-77.045000</td>\n",
       "      <td>...</td>\n",
       "      <td>19</td>\n",
       "      <td>19</td>\n",
       "      <td>2021</td>\n",
       "      <td>1</td>\n",
       "      <td>11</td>\n",
       "      <td>0</td>\n",
       "      <td>0</td>\n",
       "      <td>6.0</td>\n",
       "      <td>evening</td>\n",
       "      <td>short_duration</td>\n",
       "    </tr>\n",
       "    <tr>\n",
       "      <th>...</th>\n",
       "      <td>...</td>\n",
       "      <td>...</td>\n",
       "      <td>...</td>\n",
       "      <td>...</td>\n",
       "      <td>...</td>\n",
       "      <td>...</td>\n",
       "      <td>...</td>\n",
       "      <td>...</td>\n",
       "      <td>...</td>\n",
       "      <td>...</td>\n",
       "      <td>...</td>\n",
       "      <td>...</td>\n",
       "      <td>...</td>\n",
       "      <td>...</td>\n",
       "      <td>...</td>\n",
       "      <td>...</td>\n",
       "      <td>...</td>\n",
       "      <td>...</td>\n",
       "      <td>...</td>\n",
       "      <td>...</td>\n",
       "      <td>...</td>\n",
       "    </tr>\n",
       "    <tr>\n",
       "      <th>35995</th>\n",
       "      <td>10680370</td>\n",
       "      <td>classic_bike</td>\n",
       "      <td>2023-12-30 10:41:16</td>\n",
       "      <td>2023-12-30 10:55:37</td>\n",
       "      <td>Potomac Ave &amp; Half St SW</td>\n",
       "      <td>31648</td>\n",
       "      <td>4th St &amp; Madison Dr NW</td>\n",
       "      <td>31288</td>\n",
       "      <td>38.869683</td>\n",
       "      <td>-77.010815</td>\n",
       "      <td>...</td>\n",
       "      <td>10</td>\n",
       "      <td>10</td>\n",
       "      <td>2023</td>\n",
       "      <td>12</td>\n",
       "      <td>30</td>\n",
       "      <td>5</td>\n",
       "      <td>1</td>\n",
       "      <td>14.0</td>\n",
       "      <td>morning</td>\n",
       "      <td>short_duration</td>\n",
       "    </tr>\n",
       "    <tr>\n",
       "      <th>35996</th>\n",
       "      <td>10537096</td>\n",
       "      <td>electric_bike</td>\n",
       "      <td>2023-12-12 09:43:19</td>\n",
       "      <td>2023-12-12 09:51:51</td>\n",
       "      <td>18th St &amp; Wyoming Ave NW</td>\n",
       "      <td>31114</td>\n",
       "      <td>19th St &amp; Pennsylvania Ave NW</td>\n",
       "      <td>31100</td>\n",
       "      <td>38.918788</td>\n",
       "      <td>-77.041578</td>\n",
       "      <td>...</td>\n",
       "      <td>9</td>\n",
       "      <td>9</td>\n",
       "      <td>2023</td>\n",
       "      <td>12</td>\n",
       "      <td>12</td>\n",
       "      <td>1</td>\n",
       "      <td>0</td>\n",
       "      <td>9.0</td>\n",
       "      <td>morning</td>\n",
       "      <td>short_duration</td>\n",
       "    </tr>\n",
       "    <tr>\n",
       "      <th>35997</th>\n",
       "      <td>10637906</td>\n",
       "      <td>electric_bike</td>\n",
       "      <td>2023-12-22 15:32:13</td>\n",
       "      <td>2023-12-22 15:41:43</td>\n",
       "      <td>15th St &amp; New York Ave NW</td>\n",
       "      <td>31222</td>\n",
       "      <td>Massachusetts Ave &amp; Dupont Circle NW</td>\n",
       "      <td>31200</td>\n",
       "      <td>38.899006</td>\n",
       "      <td>-77.033428</td>\n",
       "      <td>...</td>\n",
       "      <td>15</td>\n",
       "      <td>15</td>\n",
       "      <td>2023</td>\n",
       "      <td>12</td>\n",
       "      <td>22</td>\n",
       "      <td>4</td>\n",
       "      <td>0</td>\n",
       "      <td>10.0</td>\n",
       "      <td>afternoon</td>\n",
       "      <td>short_duration</td>\n",
       "    </tr>\n",
       "    <tr>\n",
       "      <th>35998</th>\n",
       "      <td>10623291</td>\n",
       "      <td>classic_bike</td>\n",
       "      <td>2023-12-20 18:37:35</td>\n",
       "      <td>2023-12-20 18:46:47</td>\n",
       "      <td>4th &amp; E St SW</td>\n",
       "      <td>31244</td>\n",
       "      <td>Metro Center / 12th &amp; G St NW</td>\n",
       "      <td>31230</td>\n",
       "      <td>38.884120</td>\n",
       "      <td>-77.017445</td>\n",
       "      <td>...</td>\n",
       "      <td>18</td>\n",
       "      <td>18</td>\n",
       "      <td>2023</td>\n",
       "      <td>12</td>\n",
       "      <td>20</td>\n",
       "      <td>2</td>\n",
       "      <td>0</td>\n",
       "      <td>9.0</td>\n",
       "      <td>evening</td>\n",
       "      <td>short_duration</td>\n",
       "    </tr>\n",
       "    <tr>\n",
       "      <th>35999</th>\n",
       "      <td>10567094</td>\n",
       "      <td>electric_bike</td>\n",
       "      <td>2023-12-14 22:04:29</td>\n",
       "      <td>2023-12-14 22:11:05</td>\n",
       "      <td>11th &amp; V St NW</td>\n",
       "      <td>31332</td>\n",
       "      <td>20th &amp; Columbia Rd NW</td>\n",
       "      <td>31133</td>\n",
       "      <td>38.918186</td>\n",
       "      <td>-77.026814</td>\n",
       "      <td>...</td>\n",
       "      <td>22</td>\n",
       "      <td>22</td>\n",
       "      <td>2023</td>\n",
       "      <td>12</td>\n",
       "      <td>14</td>\n",
       "      <td>3</td>\n",
       "      <td>0</td>\n",
       "      <td>7.0</td>\n",
       "      <td>night</td>\n",
       "      <td>short_duration</td>\n",
       "    </tr>\n",
       "  </tbody>\n",
       "</table>\n",
       "<p>36000 rows × 25 columns</p>\n",
       "</div>"
      ],
      "text/plain": [
       "        ride_id  rideable_type          started_at            ended_at  \\\n",
       "0         19856   classic_bike 2021-01-07 17:26:56 2021-01-07 17:40:19   \n",
       "1         90818   classic_bike 2021-01-28 14:55:49 2021-01-28 14:59:57   \n",
       "2         74003   classic_bike 2021-01-22 18:21:07 2021-01-22 18:31:46   \n",
       "3         70281   classic_bike 2021-01-21 19:02:52 2021-01-21 19:19:27   \n",
       "4         34315   classic_bike 2021-01-11 19:12:30 2021-01-11 19:18:39   \n",
       "...         ...            ...                 ...                 ...   \n",
       "35995  10680370   classic_bike 2023-12-30 10:41:16 2023-12-30 10:55:37   \n",
       "35996  10537096  electric_bike 2023-12-12 09:43:19 2023-12-12 09:51:51   \n",
       "35997  10637906  electric_bike 2023-12-22 15:32:13 2023-12-22 15:41:43   \n",
       "35998  10623291   classic_bike 2023-12-20 18:37:35 2023-12-20 18:46:47   \n",
       "35999  10567094  electric_bike 2023-12-14 22:04:29 2023-12-14 22:11:05   \n",
       "\n",
       "                   start_station_name start_station_id  \\\n",
       "0         Wilson Blvd & N Edgewood St            31019   \n",
       "1                15th & Euclid St  NW            31117   \n",
       "2      8th & Eye St SE / Barracks Row            31608   \n",
       "3           Army Navy Dr & S Joyce St            31006   \n",
       "4                      20th & E St NW            31204   \n",
       "...                               ...              ...   \n",
       "35995        Potomac Ave & Half St SW            31648   \n",
       "35996        18th St & Wyoming Ave NW            31114   \n",
       "35997       15th St & New York Ave NW            31222   \n",
       "35998                   4th & E St SW            31244   \n",
       "35999                  11th & V St NW            31332   \n",
       "\n",
       "                                end_station_name end_station_id  start_lat  \\\n",
       "0                              Potomac & M St NW          31295  38.889000   \n",
       "1                    New Hampshire Ave & T St NW          31229  38.923330   \n",
       "2      Lincoln Park / 13th & East Capitol St NE           31619  38.879200   \n",
       "3                         Crystal Dr & 23rd St S          31011  38.863700   \n",
       "4                  25th St & Pennsylvania Ave NW          31237  38.896300   \n",
       "...                                          ...            ...        ...   \n",
       "35995                     4th St & Madison Dr NW          31288  38.869683   \n",
       "35996              19th St & Pennsylvania Ave NW          31100  38.918788   \n",
       "35997       Massachusetts Ave & Dupont Circle NW          31200  38.899006   \n",
       "35998              Metro Center / 12th & G St NW          31230  38.884120   \n",
       "35999                      20th & Columbia Rd NW          31133  38.918186   \n",
       "\n",
       "       start_lng  ...  start_hour  end_hour  year month day  dow  weekend  \\\n",
       "0     -77.092500  ...          17        17  2021     1   7    3        0   \n",
       "1     -77.035200  ...          14        14  2021     1  28    3        0   \n",
       "2     -76.995300  ...          18        18  2021     1  22    4        0   \n",
       "3     -77.063300  ...          19        19  2021     1  21    3        0   \n",
       "4     -77.045000  ...          19        19  2021     1  11    0        0   \n",
       "...          ...  ...         ...       ...   ...   ...  ..  ...      ...   \n",
       "35995 -77.010815  ...          10        10  2023    12  30    5        1   \n",
       "35996 -77.041578  ...           9         9  2023    12  12    1        0   \n",
       "35997 -77.033428  ...          15        15  2023    12  22    4        0   \n",
       "35998 -77.017445  ...          18        18  2023    12  20    2        0   \n",
       "35999 -77.026814  ...          22        22  2023    12  14    3        0   \n",
       "\n",
       "       trip_duration_minutes  time_of_day        trip_type  \n",
       "0                       13.0      evening   short_duration  \n",
       "1                        4.0    afternoon   short_duration  \n",
       "2                       11.0      evening   short_duration  \n",
       "3                       17.0      evening  medium_duration  \n",
       "4                        6.0      evening   short_duration  \n",
       "...                      ...          ...              ...  \n",
       "35995                   14.0      morning   short_duration  \n",
       "35996                    9.0      morning   short_duration  \n",
       "35997                   10.0    afternoon   short_duration  \n",
       "35998                    9.0      evening   short_duration  \n",
       "35999                    7.0        night   short_duration  \n",
       "\n",
       "[36000 rows x 25 columns]"
      ]
     },
     "execution_count": 101,
     "metadata": {},
     "output_type": "execute_result"
    }
   ],
   "source": [
    "bikes_monthly_sample"
   ]
  },
  {
   "cell_type": "code",
   "execution_count": 102,
   "metadata": {},
   "outputs": [],
   "source": [
    "def calculate_distance(row):\n",
    "    start_coords = (row['start_lat'], row['start_lng'])\n",
    "    end_coords = (row['end_lat'], row['end_lng'])\n",
    "    return geodesic(start_coords, end_coords).kilometers\n",
    "\n",
    "bikes_monthly_sample['distance_km'] = bikes_monthly_sample.apply(calculate_distance, axis=1)\n",
    "bikes_monthly_sample[\"distance_km\"] = round(bikes_monthly_sample['distance_km'],2)"
   ]
  },
  {
   "cell_type": "code",
   "execution_count": 103,
   "metadata": {},
   "outputs": [
    {
     "data": {
      "text/html": [
       "<div>\n",
       "<style scoped>\n",
       "    .dataframe tbody tr th:only-of-type {\n",
       "        vertical-align: middle;\n",
       "    }\n",
       "\n",
       "    .dataframe tbody tr th {\n",
       "        vertical-align: top;\n",
       "    }\n",
       "\n",
       "    .dataframe thead th {\n",
       "        text-align: right;\n",
       "    }\n",
       "</style>\n",
       "<table border=\"1\" class=\"dataframe\">\n",
       "  <thead>\n",
       "    <tr style=\"text-align: right;\">\n",
       "      <th></th>\n",
       "      <th>ride_id</th>\n",
       "      <th>rideable_type</th>\n",
       "      <th>started_at</th>\n",
       "      <th>ended_at</th>\n",
       "      <th>start_station_name</th>\n",
       "      <th>start_station_id</th>\n",
       "      <th>end_station_name</th>\n",
       "      <th>end_station_id</th>\n",
       "      <th>start_lat</th>\n",
       "      <th>start_lng</th>\n",
       "      <th>...</th>\n",
       "      <th>end_hour</th>\n",
       "      <th>year</th>\n",
       "      <th>month</th>\n",
       "      <th>day</th>\n",
       "      <th>dow</th>\n",
       "      <th>weekend</th>\n",
       "      <th>trip_duration_minutes</th>\n",
       "      <th>time_of_day</th>\n",
       "      <th>trip_type</th>\n",
       "      <th>distance_km</th>\n",
       "    </tr>\n",
       "  </thead>\n",
       "  <tbody>\n",
       "    <tr>\n",
       "      <th>0</th>\n",
       "      <td>19856</td>\n",
       "      <td>classic_bike</td>\n",
       "      <td>2021-01-07 17:26:56</td>\n",
       "      <td>2021-01-07 17:40:19</td>\n",
       "      <td>Wilson Blvd &amp; N Edgewood St</td>\n",
       "      <td>31019</td>\n",
       "      <td>Potomac &amp; M St NW</td>\n",
       "      <td>31295</td>\n",
       "      <td>38.88900</td>\n",
       "      <td>-77.0925</td>\n",
       "      <td>...</td>\n",
       "      <td>17</td>\n",
       "      <td>2021</td>\n",
       "      <td>1</td>\n",
       "      <td>7</td>\n",
       "      <td>3</td>\n",
       "      <td>0</td>\n",
       "      <td>13.0</td>\n",
       "      <td>evening</td>\n",
       "      <td>short_duration</td>\n",
       "      <td>2.99</td>\n",
       "    </tr>\n",
       "    <tr>\n",
       "      <th>1</th>\n",
       "      <td>90818</td>\n",
       "      <td>classic_bike</td>\n",
       "      <td>2021-01-28 14:55:49</td>\n",
       "      <td>2021-01-28 14:59:57</td>\n",
       "      <td>15th &amp; Euclid St  NW</td>\n",
       "      <td>31117</td>\n",
       "      <td>New Hampshire Ave &amp; T St NW</td>\n",
       "      <td>31229</td>\n",
       "      <td>38.92333</td>\n",
       "      <td>-77.0352</td>\n",
       "      <td>...</td>\n",
       "      <td>14</td>\n",
       "      <td>2021</td>\n",
       "      <td>1</td>\n",
       "      <td>28</td>\n",
       "      <td>3</td>\n",
       "      <td>0</td>\n",
       "      <td>4.0</td>\n",
       "      <td>afternoon</td>\n",
       "      <td>short_duration</td>\n",
       "      <td>0.90</td>\n",
       "    </tr>\n",
       "    <tr>\n",
       "      <th>2</th>\n",
       "      <td>74003</td>\n",
       "      <td>classic_bike</td>\n",
       "      <td>2021-01-22 18:21:07</td>\n",
       "      <td>2021-01-22 18:31:46</td>\n",
       "      <td>8th &amp; Eye St SE / Barracks Row</td>\n",
       "      <td>31608</td>\n",
       "      <td>Lincoln Park / 13th &amp; East Capitol St NE</td>\n",
       "      <td>31619</td>\n",
       "      <td>38.87920</td>\n",
       "      <td>-76.9953</td>\n",
       "      <td>...</td>\n",
       "      <td>18</td>\n",
       "      <td>2021</td>\n",
       "      <td>1</td>\n",
       "      <td>22</td>\n",
       "      <td>4</td>\n",
       "      <td>0</td>\n",
       "      <td>11.0</td>\n",
       "      <td>evening</td>\n",
       "      <td>short_duration</td>\n",
       "      <td>1.39</td>\n",
       "    </tr>\n",
       "    <tr>\n",
       "      <th>3</th>\n",
       "      <td>70281</td>\n",
       "      <td>classic_bike</td>\n",
       "      <td>2021-01-21 19:02:52</td>\n",
       "      <td>2021-01-21 19:19:27</td>\n",
       "      <td>Army Navy Dr &amp; S Joyce St</td>\n",
       "      <td>31006</td>\n",
       "      <td>Crystal Dr &amp; 23rd St S</td>\n",
       "      <td>31011</td>\n",
       "      <td>38.86370</td>\n",
       "      <td>-77.0633</td>\n",
       "      <td>...</td>\n",
       "      <td>19</td>\n",
       "      <td>2021</td>\n",
       "      <td>1</td>\n",
       "      <td>21</td>\n",
       "      <td>3</td>\n",
       "      <td>0</td>\n",
       "      <td>17.0</td>\n",
       "      <td>evening</td>\n",
       "      <td>medium_duration</td>\n",
       "      <td>1.64</td>\n",
       "    </tr>\n",
       "    <tr>\n",
       "      <th>4</th>\n",
       "      <td>34315</td>\n",
       "      <td>classic_bike</td>\n",
       "      <td>2021-01-11 19:12:30</td>\n",
       "      <td>2021-01-11 19:18:39</td>\n",
       "      <td>20th &amp; E St NW</td>\n",
       "      <td>31204</td>\n",
       "      <td>25th St &amp; Pennsylvania Ave NW</td>\n",
       "      <td>31237</td>\n",
       "      <td>38.89630</td>\n",
       "      <td>-77.0450</td>\n",
       "      <td>...</td>\n",
       "      <td>19</td>\n",
       "      <td>2021</td>\n",
       "      <td>1</td>\n",
       "      <td>11</td>\n",
       "      <td>0</td>\n",
       "      <td>0</td>\n",
       "      <td>6.0</td>\n",
       "      <td>evening</td>\n",
       "      <td>short_duration</td>\n",
       "      <td>1.11</td>\n",
       "    </tr>\n",
       "  </tbody>\n",
       "</table>\n",
       "<p>5 rows × 26 columns</p>\n",
       "</div>"
      ],
      "text/plain": [
       "   ride_id rideable_type          started_at            ended_at  \\\n",
       "0    19856  classic_bike 2021-01-07 17:26:56 2021-01-07 17:40:19   \n",
       "1    90818  classic_bike 2021-01-28 14:55:49 2021-01-28 14:59:57   \n",
       "2    74003  classic_bike 2021-01-22 18:21:07 2021-01-22 18:31:46   \n",
       "3    70281  classic_bike 2021-01-21 19:02:52 2021-01-21 19:19:27   \n",
       "4    34315  classic_bike 2021-01-11 19:12:30 2021-01-11 19:18:39   \n",
       "\n",
       "               start_station_name start_station_id  \\\n",
       "0     Wilson Blvd & N Edgewood St            31019   \n",
       "1            15th & Euclid St  NW            31117   \n",
       "2  8th & Eye St SE / Barracks Row            31608   \n",
       "3       Army Navy Dr & S Joyce St            31006   \n",
       "4                  20th & E St NW            31204   \n",
       "\n",
       "                            end_station_name end_station_id  start_lat  \\\n",
       "0                          Potomac & M St NW          31295   38.88900   \n",
       "1                New Hampshire Ave & T St NW          31229   38.92333   \n",
       "2  Lincoln Park / 13th & East Capitol St NE           31619   38.87920   \n",
       "3                     Crystal Dr & 23rd St S          31011   38.86370   \n",
       "4              25th St & Pennsylvania Ave NW          31237   38.89630   \n",
       "\n",
       "   start_lng  ...  end_hour  year month day dow  weekend  \\\n",
       "0   -77.0925  ...        17  2021     1   7   3        0   \n",
       "1   -77.0352  ...        14  2021     1  28   3        0   \n",
       "2   -76.9953  ...        18  2021     1  22   4        0   \n",
       "3   -77.0633  ...        19  2021     1  21   3        0   \n",
       "4   -77.0450  ...        19  2021     1  11   0        0   \n",
       "\n",
       "   trip_duration_minutes  time_of_day        trip_type  distance_km  \n",
       "0                   13.0      evening   short_duration         2.99  \n",
       "1                    4.0    afternoon   short_duration         0.90  \n",
       "2                   11.0      evening   short_duration         1.39  \n",
       "3                   17.0      evening  medium_duration         1.64  \n",
       "4                    6.0      evening   short_duration         1.11  \n",
       "\n",
       "[5 rows x 26 columns]"
      ]
     },
     "execution_count": 103,
     "metadata": {},
     "output_type": "execute_result"
    }
   ],
   "source": [
    "bikes_monthly_sample.head()"
   ]
  },
  {
   "cell_type": "code",
   "execution_count": 104,
   "metadata": {},
   "outputs": [
    {
     "data": {
      "text/plain": [
       "count    36000.000000\n",
       "mean         1.868928\n",
       "std          1.506826\n",
       "min          0.000000\n",
       "25%          0.880000\n",
       "50%          1.530000\n",
       "75%          2.490000\n",
       "max         20.450000\n",
       "Name: distance_km, dtype: float64"
      ]
     },
     "execution_count": 104,
     "metadata": {},
     "output_type": "execute_result"
    }
   ],
   "source": [
    "bikes_monthly_sample[\"distance_km\"].describe()"
   ]
  },
  {
   "cell_type": "code",
   "execution_count": 105,
   "metadata": {},
   "outputs": [
    {
     "data": {
      "text/plain": [
       "count    36000.000000\n",
       "mean        19.938833\n",
       "std        139.432917\n",
       "min          0.000000\n",
       "25%          7.000000\n",
       "50%         11.000000\n",
       "75%         20.000000\n",
       "max      24284.000000\n",
       "Name: trip_duration_minutes, dtype: float64"
      ]
     },
     "execution_count": 105,
     "metadata": {},
     "output_type": "execute_result"
    }
   ],
   "source": [
    "bikes_monthly_sample[\"trip_duration_minutes\"].describe()"
   ]
  },
  {
   "cell_type": "code",
   "execution_count": 106,
   "metadata": {},
   "outputs": [],
   "source": [
    "zero_km = bikes_monthly_sample[bikes_monthly_sample[\"distance_km\"] == 0]\n",
    "\n"
   ]
  },
  {
   "cell_type": "code",
   "execution_count": 107,
   "metadata": {},
   "outputs": [
    {
     "data": {
      "text/plain": [
       "trip_type\n",
       "short_duration         837\n",
       "extra_long_duration    518\n",
       "medium_duration        317\n",
       "long_duration          211\n",
       "Name: count, dtype: int64"
      ]
     },
     "execution_count": 107,
     "metadata": {},
     "output_type": "execute_result"
    }
   ],
   "source": [
    "zero_km[\"trip_type\"].value_counts()"
   ]
  },
  {
   "cell_type": "code",
   "execution_count": null,
   "metadata": {},
   "outputs": [],
   "source": [
    "zero_to_one = bikes_monthly_sample[(bikes_monthly_sample[\"distance_km\"] >= 0.0) & (bikes_monthly_sample[\"distance_km\"] <= 1.0)]"
   ]
  },
  {
   "cell_type": "code",
   "execution_count": 108,
   "metadata": {},
   "outputs": [
    {
     "data": {
      "text/plain": [
       "0    0.0\n",
       "Name: distance_km, dtype: float64"
      ]
     },
     "execution_count": 108,
     "metadata": {},
     "output_type": "execute_result"
    }
   ],
   "source": [
    "bikes_monthly_sample[\"distance_km\"].mode()"
   ]
  },
  {
   "cell_type": "code",
   "execution_count": 109,
   "metadata": {},
   "outputs": [
    {
     "data": {
      "text/plain": [
       "0    8.0\n",
       "Name: trip_duration_minutes, dtype: float64"
      ]
     },
     "execution_count": 109,
     "metadata": {},
     "output_type": "execute_result"
    }
   ],
   "source": [
    "bikes_monthly_sample[\"trip_duration_minutes\"].mode()"
   ]
  },
  {
   "cell_type": "code",
   "execution_count": 110,
   "metadata": {},
   "outputs": [
    {
     "data": {
      "text/plain": [
       "[(0.0, 100.0)]"
      ]
     },
     "execution_count": 110,
     "metadata": {},
     "output_type": "execute_result"
    },
    {
     "data": {
      "image/png": "[encoded data removed]",
      "text/plain": [
       "<Figure size 640x480 with 1 Axes>"
      ]
     },
     "metadata": {},
     "output_type": "display_data"
    }
   ],
   "source": [
    "sns.scatterplot(data=bikes_monthly_sample, x=\"trip_duration_minutes\", y=\"distance_km\").set(xlim=(0,100))"
   ]
  },
  {
   "cell_type": "markdown",
   "metadata": {},
   "source": [
    "to ride certain distance you need a certain amount of time, but the time alone doesn't that a distance was covered\n",
    "The distance is from point A to final destination point b, but there could be many stops in between, or do a whole loop and come back to start station, so final distance = 0, but time_duration could be much larger. "
   ]
  },
  {
   "cell_type": "code",
   "execution_count": 123,
   "metadata": {},
   "outputs": [
    {
     "data": {
      "text/plain": [
       "([<matplotlib.axis.XTick at 0x1faba33e0>,\n",
       "  <matplotlib.axis.XTick at 0x1fb276450>,\n",
       "  <matplotlib.axis.XTick at 0x1fb276480>,\n",
       "  <matplotlib.axis.XTick at 0x1fb3af0b0>,\n",
       "  <matplotlib.axis.XTick at 0x1fb3afa10>,\n",
       "  <matplotlib.axis.XTick at 0x1fb3783e0>,\n",
       "  <matplotlib.axis.XTick at 0x1fb378950>,\n",
       "  <matplotlib.axis.XTick at 0x1fb3af650>,\n",
       "  <matplotlib.axis.XTick at 0x1fb378770>,\n",
       "  <matplotlib.axis.XTick at 0x1fb379700>,\n",
       "  <matplotlib.axis.XTick at 0x1fb379d00>],\n",
       " [Text(0, 0, '0'),\n",
       "  Text(1, 0, '1'),\n",
       "  Text(2, 0, '2'),\n",
       "  Text(3, 0, '3'),\n",
       "  Text(4, 0, '4'),\n",
       "  Text(5, 0, '5'),\n",
       "  Text(6, 0, '6'),\n",
       "  Text(7, 0, '7'),\n",
       "  Text(8, 0, '8'),\n",
       "  Text(9, 0, '9'),\n",
       "  Text(10, 0, '10')])"
      ]
     },
     "execution_count": 123,
     "metadata": {},
     "output_type": "execute_result"
    },
    {
     "data": {
      "image/png": "[encoded data removed]",
      "text/plain": [
       "<Figure size 640x480 with 1 Axes>"
      ]
     },
     "metadata": {},
     "output_type": "display_data"
    }
   ],
   "source": [
    "sns.histplot(data=bikes_monthly_sample, x=\"distance_km\",bins=60).set(xlim=(0,11))\n",
    "plt.xticks(np.arange(0, 11, 1))"
   ]
  },
  {
   "cell_type": "markdown",
   "metadata": {},
   "source": [
    "#NOTE - the avg distance can gives us an idea of how close should stations be located"
   ]
  },
  {
   "cell_type": "markdown",
   "metadata": {},
   "source": [
    "\n",
    "what's the distance between stations in concentrated and peripheral areas? \n"
   ]
  },
  {
   "cell_type": "code",
   "execution_count": 112,
   "metadata": {},
   "outputs": [
    {
     "data": {
      "image/png": "[encoded data removed]",
      "text/plain": [
       "<Figure size 500x500 with 1 Axes>"
      ]
     },
     "metadata": {},
     "output_type": "display_data"
    }
   ],
   "source": [
    "# which days do people ride longer distances?\n",
    "avg_rides_per_hour = bikes_monthly_sample.groupby(\"dow\", as_index=False)[\"distance_km\"].mean()\n",
    "\n",
    "avg_rides_per_hour\n",
    "g= sns.relplot(kind=\"line\", data= avg_rides_per_hour, x=\"dow\",y=\"distance_km\")\n",
    "# # plt.legend(['week_day', 'weekends'])\n",
    "# plt.xticks(np.arange(0, 24, 2))"
   ]
  },
  {
   "cell_type": "code",
   "execution_count": null,
   "metadata": {},
   "outputs": [],
   "source": [
    "# 108.000 rows sample (3000 per month)\n",
    "samples = []\n",
    "\n",
    "# Loop over years and months to sample 1,000 rows for each month\n",
    "for year in range(2021, 2024):  # Covering 2021, 2022, and 2023\n",
    "    for month in range(1, 13):  # Months from 1 to 12\n",
    "        # Filter for the specific year and month\n",
    "        filtered_data = bikes_dropped[(bikes_dropped[\"year\"] == year) & (bikes_dropped[\"month\"] == month)]\n",
    "        \n",
    "        # Sample 1,000 rows if there are enough rows available\n",
    "        if len(filtered_data) >= 3000:\n",
    "            sample = filtered_data.sample(n=3000, random_state=42)\n",
    "        else:  # If less than 3,000 rows, take all available rows\n",
    "            sample = filtered_data\n",
    "            \n",
    "        samples.append(sample)\n",
    "\n",
    "# Combine all the samples into a single DataFrame\n",
    "bikes_monthly_sample_3000 = pd.concat(samples, ignore_index=True)"
   ]
  },
  {
   "cell_type": "code",
   "execution_count": 127,
   "metadata": {},
   "outputs": [],
   "source": [
    "# csv to work with mapping\n",
    "\n",
    "bikes_monthly_sample_3000.to_csv(\"bikes_sample.csv\", index=False)"
   ]
  }
 ],
 "metadata": {
  "kernelspec": {
   "display_name": "codeacademy",
   "language": "python",
   "name": "python3"
  },
  "language_info": {
   "codemirror_mode": {
    "name": "ipython",
    "version": 3
   },
   "file_extension": ".py",
   "mimetype": "text/x-python",
   "name": "python",
   "nbconvert_exporter": "python",
   "pygments_lexer": "ipython3",
   "version": "3.12.7"
  }
 },
 "nbformat": 4,
 "nbformat_minor": 2
}
