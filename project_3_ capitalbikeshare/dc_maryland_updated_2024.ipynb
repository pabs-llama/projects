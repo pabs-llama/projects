{
 "cells": [
  {
   "cell_type": "markdown",
   "metadata": {},
   "source": [
    "want to compare the increase of cabi rides between maryland and dc\n",
    "\n",
    "2022,2023,2024\n",
    "\n",
    "steps\n",
    "filter the data set for stations and rides in dc and maryland:\n",
    "1) take the complete dataset, turn it into geodataframe\n",
    "2) join it with maryland gdf\n",
    "3) make plot to compare the difference of growth between them\n",
    "\n",
    "dive deeper into maryland / prince george county for 2023 -2024"
   ]
  },
  {
   "cell_type": "code",
   "execution_count": 2,
   "metadata": {},
   "outputs": [],
   "source": [
    "import pandas as pd\n",
    "import numpy  as np\n",
    "import matplotlib.pyplot as plt\n",
    "import statistics as st\n",
    "import seaborn as sns\n",
    "import datetime \n",
    "from geopy import distance\n",
    "import folium\n",
    "from folium.plugins import MarkerCluster\n",
    "from folium.features import GeoJsonTooltip\n",
    "from branca.colormap import LinearColormap\n",
    "from collections import Counter\n",
    "import json\n",
    "from shapely.geometry import Point\n",
    "import geopandas as gpd\n",
    "from shapely.geometry import shape"
   ]
  },
  {
   "cell_type": "code",
   "execution_count": 3,
   "metadata": {},
   "outputs": [],
   "source": [
    "data_types = {\n",
    "    \"rideable_type\": \"category\", \n",
    "    \"start_station_name\": \"category\", \n",
    "    \"end_station_name\": \"category\", \n",
    "    \"member_casual\":\"category\",\n",
    "    # \"ride_id\":\"uint32\",\n",
    "    \"time_of_day\":\"category\",\n",
    "    \"trip_type\":\"category\"}"
   ]
  },
  {
   "cell_type": "code",
   "execution_count": 4,
   "metadata": {},
   "outputs": [],
   "source": [
    "bikes = pd.read_csv(\"bikes_clean.csv\",parse_dates= [\"started_at\", \"ended_at\"], low_memory=False)"
   ]
  },
  {
   "cell_type": "code",
   "execution_count": 5,
   "metadata": {},
   "outputs": [],
   "source": [
    "cabi_2024 = pd.read_csv(\"cabi_2024.csv\")"
   ]
  },
  {
   "cell_type": "code",
   "execution_count": 7,
   "metadata": {},
   "outputs": [],
   "source": [
    "cabi_updated = pd.concat([bikes, cabi_2024],ignore_index=True,axis=0)"
   ]
  },
  {
   "cell_type": "code",
   "execution_count": 8,
   "metadata": {},
   "outputs": [
    {
     "data": {
      "text/plain": [
       "(16808320, 20)"
      ]
     },
     "execution_count": 8,
     "metadata": {},
     "output_type": "execute_result"
    }
   ],
   "source": [
    "cabi_updated.shape"
   ]
  },
  {
   "cell_type": "code",
   "execution_count": 9,
   "metadata": {},
   "outputs": [],
   "source": [
    "# # Create a GeoDataFrame for the start stations\n",
    "geometry = [Point(xy) for xy in zip(cabi_updated['start_lng'], cabi_updated['start_lat'])]\n",
    "cabi_updated_gdf = gpd.GeoDataFrame(cabi_updated, geometry=geometry, crs=\"EPSG:4326\")\n",
    "\n"
   ]
  },
  {
   "cell_type": "code",
   "execution_count": 11,
   "metadata": {},
   "outputs": [
    {
     "name": "stdout",
     "output_type": "stream",
     "text": [
      "<class 'geopandas.geodataframe.GeoDataFrame'>\n",
      "RangeIndex: 16808320 entries, 0 to 16808319\n",
      "Data columns (total 21 columns):\n",
      " #   Column                 Dtype   \n",
      "---  ------                 -----   \n",
      " 0   ride_id                object  \n",
      " 1   rideable_type          object  \n",
      " 2   started_at             object  \n",
      " 3   ended_at               object  \n",
      " 4   start_station_name     object  \n",
      " 5   start_station_id       object  \n",
      " 6   end_station_name       object  \n",
      " 7   end_station_id         object  \n",
      " 8   member_casual          object  \n",
      " 9   start_lat              float64 \n",
      " 10  start_lng              float64 \n",
      " 11  end_lat                float64 \n",
      " 12  end_lng                float64 \n",
      " 13  start_time             object  \n",
      " 14  end_time               object  \n",
      " 15  start_hour             float64 \n",
      " 16  end_hour               float64 \n",
      " 17  trip_duration_minutes  float64 \n",
      " 18  time_of_day            object  \n",
      " 19  Unnamed: 0             float64 \n",
      " 20  geometry               geometry\n",
      "dtypes: float64(8), geometry(1), object(12)\n",
      "memory usage: 2.6+ GB\n"
     ]
    }
   ],
   "source": [
    "cabi_updated_gdf.info()"
   ]
  },
  {
   "cell_type": "code",
   "execution_count": 12,
   "metadata": {},
   "outputs": [],
   "source": [
    "cabi_updated_gdf['ride_id'] = pd.Series(range(1, len(bikes) + 1), dtype='uint32')"
   ]
  },
  {
   "cell_type": "code",
   "execution_count": 15,
   "metadata": {},
   "outputs": [
    {
     "data": {
      "text/html": [
       "<div>\n",
       "<style scoped>\n",
       "    .dataframe tbody tr th:only-of-type {\n",
       "        vertical-align: middle;\n",
       "    }\n",
       "\n",
       "    .dataframe tbody tr th {\n",
       "        vertical-align: top;\n",
       "    }\n",
       "\n",
       "    .dataframe thead th {\n",
       "        text-align: right;\n",
       "    }\n",
       "</style>\n",
       "<table border=\"1\" class=\"dataframe\">\n",
       "  <thead>\n",
       "    <tr style=\"text-align: right;\">\n",
       "      <th></th>\n",
       "      <th>ride_id</th>\n",
       "      <th>rideable_type</th>\n",
       "      <th>started_at</th>\n",
       "      <th>ended_at</th>\n",
       "      <th>start_station_name</th>\n",
       "      <th>start_station_id</th>\n",
       "      <th>end_station_name</th>\n",
       "      <th>end_station_id</th>\n",
       "      <th>member_casual</th>\n",
       "      <th>start_lat</th>\n",
       "      <th>...</th>\n",
       "      <th>end_lat</th>\n",
       "      <th>end_lng</th>\n",
       "      <th>start_time</th>\n",
       "      <th>end_time</th>\n",
       "      <th>start_hour</th>\n",
       "      <th>end_hour</th>\n",
       "      <th>trip_duration_minutes</th>\n",
       "      <th>time_of_day</th>\n",
       "      <th>Unnamed: 0</th>\n",
       "      <th>geometry</th>\n",
       "    </tr>\n",
       "  </thead>\n",
       "  <tbody>\n",
       "    <tr>\n",
       "      <th>0</th>\n",
       "      <td>1.0</td>\n",
       "      <td>classic_bike</td>\n",
       "      <td>2021-01-01 00:08:33</td>\n",
       "      <td>2021-01-01 00:33:53</td>\n",
       "      <td>Maine Ave &amp; 9th St SW</td>\n",
       "      <td>31646</td>\n",
       "      <td>Rosslyn Metro / Wilson Blvd &amp; Ft Myer Dr</td>\n",
       "      <td>31015</td>\n",
       "      <td>member</td>\n",
       "      <td>38.880440</td>\n",
       "      <td>...</td>\n",
       "      <td>38.894600</td>\n",
       "      <td>-77.072305</td>\n",
       "      <td>00:08:33</td>\n",
       "      <td>00:33:53</td>\n",
       "      <td>0.0</td>\n",
       "      <td>0.0</td>\n",
       "      <td>25.0</td>\n",
       "      <td>night</td>\n",
       "      <td>NaN</td>\n",
       "      <td>POINT (-77.02524 38.88044)</td>\n",
       "    </tr>\n",
       "    <tr>\n",
       "      <th>1</th>\n",
       "      <td>2.0</td>\n",
       "      <td>electric_bike</td>\n",
       "      <td>2021-01-01 00:13:43</td>\n",
       "      <td>2021-01-01 00:29:34</td>\n",
       "      <td>10th &amp; U St NW</td>\n",
       "      <td>31111</td>\n",
       "      <td>NaN</td>\n",
       "      <td>31515</td>\n",
       "      <td>casual</td>\n",
       "      <td>38.917193</td>\n",
       "      <td>...</td>\n",
       "      <td>38.960000</td>\n",
       "      <td>-77.020000</td>\n",
       "      <td>00:13:43</td>\n",
       "      <td>00:29:34</td>\n",
       "      <td>0.0</td>\n",
       "      <td>0.0</td>\n",
       "      <td>16.0</td>\n",
       "      <td>night</td>\n",
       "      <td>NaN</td>\n",
       "      <td>POINT (-77.02589 38.91719)</td>\n",
       "    </tr>\n",
       "    <tr>\n",
       "      <th>2</th>\n",
       "      <td>3.0</td>\n",
       "      <td>electric_bike</td>\n",
       "      <td>2021-01-01 00:14:32</td>\n",
       "      <td>2021-01-01 00:28:45</td>\n",
       "      <td>17th &amp; Corcoran St NW</td>\n",
       "      <td>31214</td>\n",
       "      <td>14th &amp; Belmont St NW</td>\n",
       "      <td>31119</td>\n",
       "      <td>member</td>\n",
       "      <td>38.912138</td>\n",
       "      <td>...</td>\n",
       "      <td>38.920870</td>\n",
       "      <td>-77.031691</td>\n",
       "      <td>00:14:32</td>\n",
       "      <td>00:28:45</td>\n",
       "      <td>0.0</td>\n",
       "      <td>0.0</td>\n",
       "      <td>14.0</td>\n",
       "      <td>night</td>\n",
       "      <td>NaN</td>\n",
       "      <td>POINT (-77.03857 38.91214)</td>\n",
       "    </tr>\n",
       "    <tr>\n",
       "      <th>3</th>\n",
       "      <td>4.0</td>\n",
       "      <td>classic_bike</td>\n",
       "      <td>2021-01-01 00:15:45</td>\n",
       "      <td>2021-01-01 00:21:20</td>\n",
       "      <td>Wilson Blvd. &amp; N. Vermont St.</td>\n",
       "      <td>31926</td>\n",
       "      <td>Wilson Blvd. &amp; N. Vermont St.</td>\n",
       "      <td>31926</td>\n",
       "      <td>member</td>\n",
       "      <td>38.879477</td>\n",
       "      <td>...</td>\n",
       "      <td>38.879477</td>\n",
       "      <td>-77.114563</td>\n",
       "      <td>00:15:45</td>\n",
       "      <td>00:21:20</td>\n",
       "      <td>0.0</td>\n",
       "      <td>0.0</td>\n",
       "      <td>6.0</td>\n",
       "      <td>night</td>\n",
       "      <td>NaN</td>\n",
       "      <td>POINT (-77.11456 38.87948)</td>\n",
       "    </tr>\n",
       "    <tr>\n",
       "      <th>4</th>\n",
       "      <td>5.0</td>\n",
       "      <td>classic_bike</td>\n",
       "      <td>2021-01-01 00:17:46</td>\n",
       "      <td>2021-01-01 00:21:00</td>\n",
       "      <td>11th &amp; Park Rd NW</td>\n",
       "      <td>31651</td>\n",
       "      <td>14th &amp; Newton St NW</td>\n",
       "      <td>31649</td>\n",
       "      <td>member</td>\n",
       "      <td>38.931322</td>\n",
       "      <td>...</td>\n",
       "      <td>38.931991</td>\n",
       "      <td>-77.032956</td>\n",
       "      <td>00:17:46</td>\n",
       "      <td>00:21:00</td>\n",
       "      <td>0.0</td>\n",
       "      <td>0.0</td>\n",
       "      <td>3.0</td>\n",
       "      <td>night</td>\n",
       "      <td>NaN</td>\n",
       "      <td>POINT (-77.02825 38.93132)</td>\n",
       "    </tr>\n",
       "  </tbody>\n",
       "</table>\n",
       "<p>5 rows × 21 columns</p>\n",
       "</div>"
      ],
      "text/plain": [
       "   ride_id  rideable_type           started_at             ended_at  \\\n",
       "0      1.0   classic_bike  2021-01-01 00:08:33  2021-01-01 00:33:53   \n",
       "1      2.0  electric_bike  2021-01-01 00:13:43  2021-01-01 00:29:34   \n",
       "2      3.0  electric_bike  2021-01-01 00:14:32  2021-01-01 00:28:45   \n",
       "3      4.0   classic_bike  2021-01-01 00:15:45  2021-01-01 00:21:20   \n",
       "4      5.0   classic_bike  2021-01-01 00:17:46  2021-01-01 00:21:00   \n",
       "\n",
       "              start_station_name start_station_id  \\\n",
       "0          Maine Ave & 9th St SW            31646   \n",
       "1                 10th & U St NW            31111   \n",
       "2          17th & Corcoran St NW            31214   \n",
       "3  Wilson Blvd. & N. Vermont St.            31926   \n",
       "4              11th & Park Rd NW            31651   \n",
       "\n",
       "                           end_station_name end_station_id member_casual  \\\n",
       "0  Rosslyn Metro / Wilson Blvd & Ft Myer Dr          31015        member   \n",
       "1                                       NaN          31515        casual   \n",
       "2                      14th & Belmont St NW          31119        member   \n",
       "3             Wilson Blvd. & N. Vermont St.          31926        member   \n",
       "4                       14th & Newton St NW          31649        member   \n",
       "\n",
       "   start_lat  ...    end_lat    end_lng  start_time  end_time start_hour  \\\n",
       "0  38.880440  ...  38.894600 -77.072305    00:08:33  00:33:53        0.0   \n",
       "1  38.917193  ...  38.960000 -77.020000    00:13:43  00:29:34        0.0   \n",
       "2  38.912138  ...  38.920870 -77.031691    00:14:32  00:28:45        0.0   \n",
       "3  38.879477  ...  38.879477 -77.114563    00:15:45  00:21:20        0.0   \n",
       "4  38.931322  ...  38.931991 -77.032956    00:17:46  00:21:00        0.0   \n",
       "\n",
       "   end_hour  trip_duration_minutes  time_of_day Unnamed: 0  \\\n",
       "0       0.0                   25.0        night        NaN   \n",
       "1       0.0                   16.0        night        NaN   \n",
       "2       0.0                   14.0        night        NaN   \n",
       "3       0.0                    6.0        night        NaN   \n",
       "4       0.0                    3.0        night        NaN   \n",
       "\n",
       "                     geometry  \n",
       "0  POINT (-77.02524 38.88044)  \n",
       "1  POINT (-77.02589 38.91719)  \n",
       "2  POINT (-77.03857 38.91214)  \n",
       "3  POINT (-77.11456 38.87948)  \n",
       "4  POINT (-77.02825 38.93132)  \n",
       "\n",
       "[5 rows x 21 columns]"
      ]
     },
     "execution_count": 15,
     "metadata": {},
     "output_type": "execute_result"
    }
   ],
   "source": [
    "cabi_updated_gdf.head()"
   ]
  },
  {
   "cell_type": "code",
   "execution_count": 22,
   "metadata": {},
   "outputs": [],
   "source": [
    "cabi_updated_gdf['started_at'] = pd.to_datetime(cabi_updated_gdf['started_at'])#, format='%Y-%m-%d %H:%M:%S')"
   ]
  },
  {
   "cell_type": "code",
   "execution_count": 23,
   "metadata": {},
   "outputs": [],
   "source": [
    "cabi_updated_gdf['ended_at'] = pd.to_datetime(cabi_updated_gdf['ended_at'])"
   ]
  },
  {
   "cell_type": "code",
   "execution_count": 24,
   "metadata": {},
   "outputs": [],
   "source": [
    "cabi_updated_gdf['year'] = cabi_updated_gdf['started_at'].dt.year"
   ]
  },
  {
   "cell_type": "code",
   "execution_count": 27,
   "metadata": {},
   "outputs": [],
   "source": [
    "cabi_updated_gdf['month'] = cabi_updated_gdf['started_at'].dt.month"
   ]
  },
  {
   "cell_type": "code",
   "execution_count": 26,
   "metadata": {},
   "outputs": [],
   "source": [
    "cabi_updated_gdf.to_csv(\"cabi_updated_gdf.csv\")"
   ]
  },
  {
   "cell_type": "code",
   "execution_count": 28,
   "metadata": {},
   "outputs": [],
   "source": [
    "# cabi updated gdf sample \n",
    "\n",
    "# 108.000 rows sample (3000 per month)\n",
    "samples = []\n",
    "\n",
    "# Loop over years and months to sample 1,000 rows for each month\n",
    "for year in range(2021, 2025):  # Covering 2021, 2022, and 2024\n",
    "    for month in range(1, 13):  # Months from 1 to 12\n",
    "        # Filter for the specific year and month\n",
    "        filtered_data = cabi_updated_gdf[(cabi_updated_gdf[\"year\"] == year) & (cabi_updated_gdf[\"month\"] == month)]\n",
    "        \n",
    "        # Sample 1,000 rows if there are enough rows available\n",
    "        if len(filtered_data) >= 3000:\n",
    "            sample = filtered_data.sample(n=3000, random_state=42)\n",
    "        else:  # If less than 3,000 rows, take all available rows\n",
    "            sample = filtered_data\n",
    "            \n",
    "        samples.append(sample)\n",
    "\n",
    "# Combine all the samples into a single DataFrame\n",
    "bikes_monthly_sample_3000 = pd.concat(samples, ignore_index=True)"
   ]
  },
  {
   "cell_type": "code",
   "execution_count": 29,
   "metadata": {},
   "outputs": [],
   "source": [
    "bikes_monthly_sample_3000.to_csv(\"bikes_sample_updated.csv\", index=False)"
   ]
  },
  {
   "cell_type": "markdown",
   "metadata": {},
   "source": []
  },
  {
   "cell_type": "code",
   "execution_count": 30,
   "metadata": {},
   "outputs": [],
   "source": [
    "# uploading ward info so I can filter out DC area\n",
    "with open (\"Wards_from_2022.geojson\") as i:\n",
    "    wards = json.loads(i.read())\n",
    "\n",
    "features =wards[\"features\"]\n",
    "\n",
    "ward_gdf = gpd.GeoDataFrame(\n",
    "    pd.DataFrame([feature['properties'] for feature in features]),  # Extract properties as attributes\n",
    "    geometry=[shape(feature['geometry']) for feature in features],  # Convert geometries\n",
    "    crs=\"EPSG:4326\" )"
   ]
  },
  {
   "cell_type": "code",
   "execution_count": 31,
   "metadata": {},
   "outputs": [],
   "source": [
    "dc_wards_gdf = gpd.sjoin(bikes_monthly_sample_3000, ward_gdf, how=\"left\", predicate=\"within\")"
   ]
  },
  {
   "cell_type": "code",
   "execution_count": 38,
   "metadata": {},
   "outputs": [],
   "source": [
    "dc_wards_gdf = dc_wards_gdf[['ride_id',\n",
    " 'rideable_type',\n",
    " 'started_at',\n",
    " 'ended_at',\n",
    " 'start_station_name',\n",
    " 'start_station_id',\n",
    " 'end_station_name',\n",
    " 'end_station_id',\n",
    " 'member_casual',\n",
    " 'start_lat',\n",
    " 'start_lng',\n",
    " 'end_lat',\n",
    " 'end_lng',\n",
    " 'start_time',\n",
    " 'end_time',\n",
    " 'start_hour',\n",
    " 'end_hour',\n",
    " 'trip_duration_minutes',\n",
    " 'time_of_day',\n",
    " 'Unnamed: 0',\n",
    " 'geometry',\n",
    " 'year',\n",
    " 'month',\n",
    " 'WARD',\"NAME\",\"SHAPEAREA\",\"SHAPELEN\"]]"
   ]
  },
  {
   "cell_type": "code",
   "execution_count": 39,
   "metadata": {},
   "outputs": [],
   "source": [
    "with open (\"Maryland_Physical_Boundaries_-_County_Boundaries_(Detailed).geojson\") as i:\n",
    "    maryland = json.loads(i.read())\n",
    "\n",
    "features = maryland[\"features\"]\n",
    "\n",
    "#GDF\n",
    "maryland_gdf = gpd.GeoDataFrame(\n",
    "    pd.DataFrame([feature['properties'] for feature in features]),  # Extract properties as attributes\n",
    "    geometry=[shape(feature['geometry']) for feature in features],  # Convert geometries\n",
    "    crs=\"EPSG:4326\")\n",
    "    "
   ]
  },
  {
   "cell_type": "code",
   "execution_count": 40,
   "metadata": {},
   "outputs": [],
   "source": [
    "# # Perform spatial join with the maryland gdf\n",
    "dc_maryland_gdf= gpd.sjoin(dc_wards_gdf, maryland_gdf, how=\"left\", predicate=\"within\")"
   ]
  },
  {
   "cell_type": "code",
   "execution_count": null,
   "metadata": {},
   "outputs": [
    {
     "data": {
      "text/html": [
       "<div>\n",
       "<style scoped>\n",
       "    .dataframe tbody tr th:only-of-type {\n",
       "        vertical-align: middle;\n",
       "    }\n",
       "\n",
       "    .dataframe tbody tr th {\n",
       "        vertical-align: top;\n",
       "    }\n",
       "\n",
       "    .dataframe thead th {\n",
       "        text-align: right;\n",
       "    }\n",
       "</style>\n",
       "<table border=\"1\" class=\"dataframe\">\n",
       "  <thead>\n",
       "    <tr style=\"text-align: right;\">\n",
       "      <th></th>\n",
       "      <th>NAME</th>\n",
       "      <th>COUNTY</th>\n",
       "    </tr>\n",
       "  </thead>\n",
       "  <tbody>\n",
       "    <tr>\n",
       "      <th>0</th>\n",
       "      <td>Ward 2</td>\n",
       "      <td>NaN</td>\n",
       "    </tr>\n",
       "    <tr>\n",
       "      <th>1</th>\n",
       "      <td>NaN</td>\n",
       "      <td>Prince George's</td>\n",
       "    </tr>\n",
       "    <tr>\n",
       "      <th>2</th>\n",
       "      <td>Ward 1</td>\n",
       "      <td>NaN</td>\n",
       "    </tr>\n",
       "    <tr>\n",
       "      <th>3</th>\n",
       "      <td>Ward 1</td>\n",
       "      <td>NaN</td>\n",
       "    </tr>\n",
       "    <tr>\n",
       "      <th>4</th>\n",
       "      <td>NaN</td>\n",
       "      <td>NaN</td>\n",
       "    </tr>\n",
       "    <tr>\n",
       "      <th>...</th>\n",
       "      <td>...</td>\n",
       "      <td>...</td>\n",
       "    </tr>\n",
       "    <tr>\n",
       "      <th>143995</th>\n",
       "      <td>Ward 4</td>\n",
       "      <td>NaN</td>\n",
       "    </tr>\n",
       "    <tr>\n",
       "      <th>143996</th>\n",
       "      <td>Ward 5</td>\n",
       "      <td>NaN</td>\n",
       "    </tr>\n",
       "    <tr>\n",
       "      <th>143997</th>\n",
       "      <td>NaN</td>\n",
       "      <td>NaN</td>\n",
       "    </tr>\n",
       "    <tr>\n",
       "      <th>143998</th>\n",
       "      <td>NaN</td>\n",
       "      <td>NaN</td>\n",
       "    </tr>\n",
       "    <tr>\n",
       "      <th>143999</th>\n",
       "      <td>Ward 6</td>\n",
       "      <td>NaN</td>\n",
       "    </tr>\n",
       "  </tbody>\n",
       "</table>\n",
       "<p>144000 rows × 2 columns</p>\n",
       "</div>"
      ],
      "text/plain": [
       "          NAME           COUNTY\n",
       "0       Ward 2              NaN\n",
       "1          NaN  Prince George's\n",
       "2       Ward 1              NaN\n",
       "3       Ward 1              NaN\n",
       "4          NaN              NaN\n",
       "...        ...              ...\n",
       "143995  Ward 4              NaN\n",
       "143996  Ward 5              NaN\n",
       "143997     NaN              NaN\n",
       "143998     NaN              NaN\n",
       "143999  Ward 6              NaN\n",
       "\n",
       "[144000 rows x 2 columns]"
      ]
     },
     "execution_count": 44,
     "metadata": {},
     "output_type": "execute_result"
    }
   ],
   "source": [
    "dc_maryland_gdf[[\"NAME\",\"COUNTY\"]]"
   ]
  },
  {
   "cell_type": "code",
   "execution_count": 47,
   "metadata": {},
   "outputs": [],
   "source": [
    "dc_maryland_gdf = dc_maryland_gdf[dc_maryland_gdf[\"NAME\"].notnull()| dc_maryland_gdf[\"COUNTY\"].notnull()]"
   ]
  },
  {
   "cell_type": "code",
   "execution_count": 49,
   "metadata": {},
   "outputs": [
    {
     "data": {
      "text/plain": [
       "Index(['ride_id', 'rideable_type', 'started_at', 'ended_at',\n",
       "       'start_station_name', 'start_station_id', 'end_station_name',\n",
       "       'end_station_id', 'member_casual', 'start_lat', 'start_lng', 'end_lat',\n",
       "       'end_lng', 'start_time', 'end_time', 'start_hour', 'end_hour',\n",
       "       'trip_duration_minutes', 'time_of_day', 'Unnamed: 0', 'geometry',\n",
       "       'year', 'month', 'WARD', 'NAME', 'SHAPEAREA', 'SHAPELEN', 'index_right',\n",
       "       'OBJECTID', 'COUNTY', 'DISTRICT', 'COUNTY_FIP', 'COUNTYNUM',\n",
       "       'CREATION_D', 'LAST_UPDAT', 'Shape_Length', 'Shape_Area'],\n",
       "      dtype='object')"
      ]
     },
     "execution_count": 49,
     "metadata": {},
     "output_type": "execute_result"
    }
   ],
   "source": [
    "dc_maryland_gdf.columns"
   ]
  },
  {
   "cell_type": "code",
   "execution_count": 53,
   "metadata": {},
   "outputs": [],
   "source": [
    "dc_maryland_gdf_sample = dc_maryland_gdf[['ride_id', 'rideable_type', 'started_at', 'ended_at',\n",
    "       'start_station_name', 'start_station_id', 'end_station_name',\n",
    "       'end_station_id', 'member_casual', 'start_lat', 'start_lng', 'end_lat',\n",
    "       'end_lng', 'start_time', 'end_time', 'start_hour', 'end_hour',\n",
    "       'trip_duration_minutes', 'time_of_day', 'geometry',\n",
    "       'year', 'month', 'WARD', 'NAME',\"COUNTY\"]]"
   ]
  },
  {
   "cell_type": "code",
   "execution_count": 54,
   "metadata": {},
   "outputs": [],
   "source": [
    "dc_maryland_gdf_sample.to_csv(\"dc_maryland_gdf_sampled.csv\")"
   ]
  }
 ],
 "metadata": {
  "kernelspec": {
   "display_name": "codeacademy",
   "language": "python",
   "name": "python3"
  },
  "language_info": {
   "codemirror_mode": {
    "name": "ipython",
    "version": 3
   },
   "file_extension": ".py",
   "mimetype": "text/x-python",
   "name": "python",
   "nbconvert_exporter": "python",
   "pygments_lexer": "ipython3",
   "version": "3.12.7"
  }
 },
 "nbformat": 4,
 "nbformat_minor": 2
}
