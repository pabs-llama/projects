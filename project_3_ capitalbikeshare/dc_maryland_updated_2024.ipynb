{
 "cells": [
  {
   "cell_type": "markdown",
   "metadata": {},
   "source": [
    "want to compare the increase of cabi rides between maryland and dc\n",
    "\n",
    "2022,2023,2024\n",
    "\n",
    "steps\n",
    "filter the data set for stations and rides in dc and maryland:\n",
    "1) take the complete dataset, turn it into geodataframe\n",
    "2) join it with maryland gdf\n",
    "3) make plot to compare the difference of growth between them\n",
    "\n",
    "dive deeper into maryland / prince george county for 2023 -2024"
   ]
  },
  {
   "cell_type": "code",
   "execution_count": 1,
   "metadata": {},
   "outputs": [],
   "source": [
    "import pandas as pd\n",
    "import numpy  as np\n",
    "import matplotlib.pyplot as plt\n",
    "import statistics as st\n",
    "import seaborn as sns\n",
    "import datetime \n",
    "from geopy import distance\n",
    "import folium\n",
    "from folium.plugins import MarkerCluster\n",
    "from folium.features import GeoJsonTooltip\n",
    "from branca.colormap import LinearColormap\n",
    "from collections import Counter\n",
    "import json\n",
    "from shapely.geometry import Point\n",
    "import geopandas as gpd\n",
    "from shapely.geometry import shape"
   ]
  },
  {
   "cell_type": "code",
   "execution_count": 2,
   "metadata": {},
   "outputs": [],
   "source": [
    "data_types = {\n",
    "    \"rideable_type\": \"category\", \n",
    "    \"start_station_name\": \"category\", \n",
    "    \"end_station_name\": \"category\", \n",
    "    \"member_casual\":\"category\",\n",
    "    # \"ride_id\":\"uint32\",\n",
    "    \"time_of_day\":\"category\",\n",
    "    \"trip_type\":\"category\"}"
   ]
  },
  {
   "cell_type": "code",
   "execution_count": 3,
   "metadata": {},
   "outputs": [],
   "source": [
    "bikes = pd.read_csv(\"bikes_clean.csv\",parse_dates= [\"started_at\", \"ended_at\"], dtype=data_types,low_memory=False)"
   ]
  },
  {
   "cell_type": "code",
   "execution_count": 4,
   "metadata": {},
   "outputs": [],
   "source": [
    "cabi_2024 = pd.read_csv(\"cabi_2024.csv\",parse_dates= [\"started_at\", \"ended_at\"], low_memory=False)"
   ]
  },
  {
   "cell_type": "code",
   "execution_count": 7,
   "metadata": {},
   "outputs": [],
   "source": [
    "cabi_updated = pd.concat([bikes, cabi_2024],ignore_index=True,axis=0)"
   ]
  },
  {
   "cell_type": "code",
   "execution_count": null,
   "metadata": {},
   "outputs": [
    {
     "data": {
      "text/plain": [
       "(16808320, 20)"
      ]
     },
     "execution_count": 8,
     "metadata": {},
     "output_type": "execute_result"
    }
   ],
   "source": [
    "cabi_updated.shape"
   ]
  },
  {
   "cell_type": "code",
   "execution_count": 8,
   "metadata": {},
   "outputs": [],
   "source": [
    "cabi_updated =cabi_updated.drop(columns = [\"ride_id\",\"start_station_id\",\"end_station_id\",\"start_time\",\"end_time\",\"start_hour\",\"end_hour\",\"Unnamed: 0\"])"
   ]
  },
  {
   "cell_type": "code",
   "execution_count": 9,
   "metadata": {},
   "outputs": [
    {
     "name": "stdout",
     "output_type": "stream",
     "text": [
      "<class 'pandas.core.frame.DataFrame'>\n",
      "RangeIndex: 16808320 entries, 0 to 16808319\n",
      "Data columns (total 12 columns):\n",
      " #   Column                 Dtype   \n",
      "---  ------                 -----   \n",
      " 0   rideable_type          object  \n",
      " 1   started_at             object  \n",
      " 2   ended_at               object  \n",
      " 3   start_station_name     object  \n",
      " 4   end_station_name       object  \n",
      " 5   member_casual          object  \n",
      " 6   start_lat              float64 \n",
      " 7   start_lng              float64 \n",
      " 8   end_lat                float64 \n",
      " 9   end_lng                float64 \n",
      " 10  trip_duration_minutes  float64 \n",
      " 11  time_of_day            category\n",
      "dtypes: category(1), float64(5), object(6)\n",
      "memory usage: 1.4+ GB\n"
     ]
    }
   ],
   "source": [
    "cabi_updated.info()"
   ]
  },
  {
   "cell_type": "code",
   "execution_count": 10,
   "metadata": {},
   "outputs": [],
   "source": [
    "cabi_updated[\"rideable_type\"] = cabi_updated[\"rideable_type\"].astype(\"category\")\n",
    "cabi_updated[\"start_station_name\"] = cabi_updated[\"start_station_name\"].astype(\"category\")\n",
    "cabi_updated[\"end_station_name\"] = cabi_updated[\"end_station_name\"].astype(\"category\")\n",
    "cabi_updated[\"member_casual\"] = cabi_updated[\"member_casual\"].astype(\"category\")\n"
   ]
  },
  {
   "cell_type": "code",
   "execution_count": 14,
   "metadata": {},
   "outputs": [],
   "source": [
    "cabi_updated['started_at'] = pd.to_datetime(cabi_updated['started_at'])\n",
    "cabi_updated['year'] = cabi_updated['started_at'].dt.year"
   ]
  },
  {
   "cell_type": "code",
   "execution_count": 17,
   "metadata": {},
   "outputs": [],
   "source": [
    "# selecting only 2022,2023,2024\n",
    "cabi_updated_2022_to_2024 = cabi_updated[(cabi_updated[\"year\"] == 2022)| (cabi_updated[\"year\"] == 2023)|(cabi_updated[\"year\"] == 2024)]"
   ]
  },
  {
   "cell_type": "code",
   "execution_count": 18,
   "metadata": {},
   "outputs": [],
   "source": [
    "cabi_updated_2022_to_2024['started_at'] = cabi_updated_2022_to_2024['started_at'].astype(\"object\")"
   ]
  },
  {
   "cell_type": "code",
   "execution_count": 19,
   "metadata": {},
   "outputs": [
    {
     "name": "stdout",
     "output_type": "stream",
     "text": [
      "<class 'pandas.core.frame.DataFrame'>\n",
      "Index: 14058439 entries, 2749881 to 16808319\n",
      "Data columns (total 13 columns):\n",
      " #   Column                 Dtype   \n",
      "---  ------                 -----   \n",
      " 0   rideable_type          category\n",
      " 1   started_at             object  \n",
      " 2   ended_at               object  \n",
      " 3   start_station_name     category\n",
      " 4   end_station_name       category\n",
      " 5   member_casual          category\n",
      " 6   start_lat              float64 \n",
      " 7   start_lng              float64 \n",
      " 8   end_lat                float64 \n",
      " 9   end_lng                float64 \n",
      " 10  trip_duration_minutes  float64 \n",
      " 11  time_of_day            category\n",
      " 12  year                   int32   \n",
      "dtypes: category(5), float64(5), int32(1), object(2)\n",
      "memory usage: 1005.6+ MB\n"
     ]
    }
   ],
   "source": [
    "cabi_updated.info()"
   ]
  },
  {
   "cell_type": "code",
   "execution_count": 20,
   "metadata": {},
   "outputs": [],
   "source": [
    "# # Create a GeoDataFrame for the start stations\n",
    "geometry = [Point(xy) for xy in zip(cabi_updated['start_lng'], cabi_updated['start_lat'])]\n",
    "cabi_updated_gdf = gpd.GeoDataFrame(cabi_updated, geometry=geometry, crs=\"EPSG:4326\")\n",
    "\n"
   ]
  },
  {
   "cell_type": "code",
   "execution_count": 21,
   "metadata": {},
   "outputs": [
    {
     "name": "stdout",
     "output_type": "stream",
     "text": [
      "<class 'geopandas.geodataframe.GeoDataFrame'>\n",
      "Index: 14058439 entries, 2749881 to 16808319\n",
      "Data columns (total 14 columns):\n",
      " #   Column                 Dtype   \n",
      "---  ------                 -----   \n",
      " 0   rideable_type          category\n",
      " 1   started_at             object  \n",
      " 2   ended_at               object  \n",
      " 3   start_station_name     category\n",
      " 4   end_station_name       category\n",
      " 5   member_casual          category\n",
      " 6   start_lat              float64 \n",
      " 7   start_lng              float64 \n",
      " 8   end_lat                float64 \n",
      " 9   end_lng                float64 \n",
      " 10  trip_duration_minutes  float64 \n",
      " 11  time_of_day            category\n",
      " 12  year                   int32   \n",
      " 13  geometry               geometry\n",
      "dtypes: category(5), float64(5), geometry(1), int32(1), object(2)\n",
      "memory usage: 1.1+ GB\n"
     ]
    }
   ],
   "source": [
    "cabi_updated_gdf.info()"
   ]
  },
  {
   "cell_type": "code",
   "execution_count": null,
   "metadata": {},
   "outputs": [],
   "source": [
    "# cabi_updated_gdf['started_at'] = pd.to_datetime(cabi_updated_gdf['started_at'])#, format='%Y-%m-%d %H:%M:%S')\n",
    "# cabi_updated_gdf['ended_at'] = pd.to_datetime(cabi_updated_gdf['ended_at'])\n",
    "# cabi_updated_gdf['year'] = cabi_updated_gdf['started_at'].dt.year\n",
    "# cabi_updated_gdf['month'] = cabi_updated_gdf['started_at'].dt.month"
   ]
  },
  {
   "cell_type": "code",
   "execution_count": null,
   "metadata": {},
   "outputs": [],
   "source": [
    "# cabi_updated_gdf.to_csv(\"cabi_updated_gdf.csv\")"
   ]
  },
  {
   "cell_type": "markdown",
   "metadata": {},
   "source": [
    "# sample"
   ]
  },
  {
   "cell_type": "code",
   "execution_count": null,
   "metadata": {},
   "outputs": [],
   "source": [
    "# # cabi updated gdf sample \n",
    "\n",
    "# # 108.000 rows sample (3000 per month)\n",
    "# samples = []\n",
    "\n",
    "# # Loop over years and months to sample 1,000 rows for each month\n",
    "# for year in range(2021, 2025):  # Covering 2021, 2022, and 2024\n",
    "#     for month in range(1, 13):  # Months from 1 to 12\n",
    "#         # Filter for the specific year and month\n",
    "#         filtered_data = cabi_updated_gdf[(cabi_updated_gdf[\"year\"] == year) & (cabi_updated_gdf[\"month\"] == month)]\n",
    "        \n",
    "#         # Sample 1,000 rows if there are enough rows available\n",
    "#         if len(filtered_data) >= 3000:\n",
    "#             sample = filtered_data.sample(n=3000, random_state=42)\n",
    "#         else:  # If less than 3,000 rows, take all available rows\n",
    "#             sample = filtered_data\n",
    "            \n",
    "#         samples.append(sample)\n",
    "\n",
    "# # Combine all the samples into a single DataFrame\n",
    "# bikes_monthly_sample_3000 = pd.concat(samples, ignore_index=True)"
   ]
  },
  {
   "cell_type": "code",
   "execution_count": null,
   "metadata": {},
   "outputs": [],
   "source": [
    "# bikes_monthly_sample_3000.to_csv(\"bikes_sample_updated.csv\", index=False)"
   ]
  },
  {
   "cell_type": "markdown",
   "metadata": {},
   "source": []
  },
  {
   "cell_type": "code",
   "execution_count": 22,
   "metadata": {},
   "outputs": [],
   "source": [
    "# uploading ward info so I can filter out DC area\n",
    "with open (\"Wards_from_2022.geojson\") as i:\n",
    "    wards = json.loads(i.read())\n",
    "\n",
    "features =wards[\"features\"]\n",
    "\n",
    "ward_gdf = gpd.GeoDataFrame(\n",
    "    pd.DataFrame([feature['properties'] for feature in features]),  # Extract properties as attributes\n",
    "    geometry=[shape(feature['geometry']) for feature in features],  # Convert geometries\n",
    "    crs=\"EPSG:4326\" )"
   ]
  },
  {
   "cell_type": "code",
   "execution_count": 23,
   "metadata": {},
   "outputs": [],
   "source": [
    "ward_gdf = ward_gdf[[\"WARD\",\"NAME\",\"geometry\"]]"
   ]
  },
  {
   "cell_type": "code",
   "execution_count": 24,
   "metadata": {},
   "outputs": [],
   "source": [
    "dc_wards_gdf = gpd.sjoin(cabi_updated_gdf, ward_gdf, how=\"left\", predicate=\"within\")"
   ]
  },
  {
   "cell_type": "code",
   "execution_count": 25,
   "metadata": {},
   "outputs": [],
   "source": [
    "with open (\"Maryland_Physical_Boundaries_-_County_Boundaries_(Detailed).geojson\") as i:\n",
    "    maryland = json.loads(i.read())\n",
    "\n",
    "features = maryland[\"features\"]\n",
    "\n",
    "#GDF\n",
    "maryland_gdf = gpd.GeoDataFrame(\n",
    "    pd.DataFrame([feature['properties'] for feature in features]),  # Extract properties as attributes\n",
    "    geometry=[shape(feature['geometry']) for feature in features],  # Convert geometries\n",
    "    crs=\"EPSG:4326\")\n",
    "    "
   ]
  },
  {
   "cell_type": "code",
   "execution_count": null,
   "metadata": {},
   "outputs": [],
   "source": [
    "maryland_gdf"
   ]
  },
  {
   "cell_type": "code",
   "execution_count": 26,
   "metadata": {},
   "outputs": [],
   "source": [
    "dc_wards_gdf = dc_wards_gdf.drop(columns=[\"index_right\"])"
   ]
  },
  {
   "cell_type": "code",
   "execution_count": 36,
   "metadata": {},
   "outputs": [
    {
     "data": {
      "text/html": [
       "<div>\n",
       "<style scoped>\n",
       "    .dataframe tbody tr th:only-of-type {\n",
       "        vertical-align: middle;\n",
       "    }\n",
       "\n",
       "    .dataframe tbody tr th {\n",
       "        vertical-align: top;\n",
       "    }\n",
       "\n",
       "    .dataframe thead th {\n",
       "        text-align: right;\n",
       "    }\n",
       "</style>\n",
       "<table border=\"1\" class=\"dataframe\">\n",
       "  <thead>\n",
       "    <tr style=\"text-align: right;\">\n",
       "      <th></th>\n",
       "      <th>rideable_type</th>\n",
       "      <th>started_at</th>\n",
       "      <th>ended_at</th>\n",
       "      <th>start_station_name</th>\n",
       "      <th>end_station_name</th>\n",
       "      <th>member_casual</th>\n",
       "      <th>start_lat</th>\n",
       "      <th>start_lng</th>\n",
       "      <th>end_lat</th>\n",
       "      <th>end_lng</th>\n",
       "      <th>trip_duration_minutes</th>\n",
       "      <th>time_of_day</th>\n",
       "      <th>year</th>\n",
       "      <th>geometry</th>\n",
       "      <th>WARD</th>\n",
       "      <th>NAME</th>\n",
       "    </tr>\n",
       "  </thead>\n",
       "  <tbody>\n",
       "    <tr>\n",
       "      <th>2749881</th>\n",
       "      <td>classic_bike</td>\n",
       "      <td>2022-01-01 00:04:52</td>\n",
       "      <td>2022-01-01 00:10:40</td>\n",
       "      <td>Thomas Circle</td>\n",
       "      <td>17th &amp; K St NW</td>\n",
       "      <td>casual</td>\n",
       "      <td>38.905900</td>\n",
       "      <td>-77.032500</td>\n",
       "      <td>38.902760</td>\n",
       "      <td>-77.038630</td>\n",
       "      <td>6.0</td>\n",
       "      <td>night</td>\n",
       "      <td>2022</td>\n",
       "      <td>POINT (-77.0325 38.9059)</td>\n",
       "      <td>2.0</td>\n",
       "      <td>Ward 2</td>\n",
       "    </tr>\n",
       "    <tr>\n",
       "      <th>2749882</th>\n",
       "      <td>electric_bike</td>\n",
       "      <td>2022-01-01 00:05:14</td>\n",
       "      <td>2022-01-01 00:15:39</td>\n",
       "      <td>14th &amp; R St NW</td>\n",
       "      <td>NaN</td>\n",
       "      <td>casual</td>\n",
       "      <td>38.913055</td>\n",
       "      <td>-77.031823</td>\n",
       "      <td>38.930000</td>\n",
       "      <td>-77.050000</td>\n",
       "      <td>10.0</td>\n",
       "      <td>night</td>\n",
       "      <td>2022</td>\n",
       "      <td>POINT (-77.03182 38.91306)</td>\n",
       "      <td>2.0</td>\n",
       "      <td>Ward 2</td>\n",
       "    </tr>\n",
       "    <tr>\n",
       "      <th>2749883</th>\n",
       "      <td>classic_bike</td>\n",
       "      <td>2022-01-01 00:06:00</td>\n",
       "      <td>2022-01-01 00:20:47</td>\n",
       "      <td>4th St &amp; Madison Dr NW</td>\n",
       "      <td>10th &amp; K St NW</td>\n",
       "      <td>casual</td>\n",
       "      <td>38.890496</td>\n",
       "      <td>-77.017246</td>\n",
       "      <td>38.902400</td>\n",
       "      <td>-77.026220</td>\n",
       "      <td>15.0</td>\n",
       "      <td>night</td>\n",
       "      <td>2022</td>\n",
       "      <td>POINT (-77.01725 38.8905)</td>\n",
       "      <td>2.0</td>\n",
       "      <td>Ward 2</td>\n",
       "    </tr>\n",
       "    <tr>\n",
       "      <th>2749884</th>\n",
       "      <td>classic_bike</td>\n",
       "      <td>2022-01-01 00:06:01</td>\n",
       "      <td>2022-01-01 00:20:39</td>\n",
       "      <td>4th St &amp; Madison Dr NW</td>\n",
       "      <td>10th &amp; K St NW</td>\n",
       "      <td>casual</td>\n",
       "      <td>38.890496</td>\n",
       "      <td>-77.017246</td>\n",
       "      <td>38.902400</td>\n",
       "      <td>-77.026220</td>\n",
       "      <td>15.0</td>\n",
       "      <td>night</td>\n",
       "      <td>2022</td>\n",
       "      <td>POINT (-77.01725 38.8905)</td>\n",
       "      <td>2.0</td>\n",
       "      <td>Ward 2</td>\n",
       "    </tr>\n",
       "    <tr>\n",
       "      <th>2749885</th>\n",
       "      <td>classic_bike</td>\n",
       "      <td>2022-01-01 00:06:19</td>\n",
       "      <td>2022-01-01 00:12:36</td>\n",
       "      <td>14th &amp; Newton St NW</td>\n",
       "      <td>14th &amp; V St NW</td>\n",
       "      <td>member</td>\n",
       "      <td>38.931991</td>\n",
       "      <td>-77.032956</td>\n",
       "      <td>38.917764</td>\n",
       "      <td>-77.032096</td>\n",
       "      <td>6.0</td>\n",
       "      <td>night</td>\n",
       "      <td>2022</td>\n",
       "      <td>POINT (-77.03296 38.93199)</td>\n",
       "      <td>1.0</td>\n",
       "      <td>Ward 1</td>\n",
       "    </tr>\n",
       "    <tr>\n",
       "      <th>...</th>\n",
       "      <td>...</td>\n",
       "      <td>...</td>\n",
       "      <td>...</td>\n",
       "      <td>...</td>\n",
       "      <td>...</td>\n",
       "      <td>...</td>\n",
       "      <td>...</td>\n",
       "      <td>...</td>\n",
       "      <td>...</td>\n",
       "      <td>...</td>\n",
       "      <td>...</td>\n",
       "      <td>...</td>\n",
       "      <td>...</td>\n",
       "      <td>...</td>\n",
       "      <td>...</td>\n",
       "      <td>...</td>\n",
       "    </tr>\n",
       "    <tr>\n",
       "      <th>16808315</th>\n",
       "      <td>electric_bike</td>\n",
       "      <td>2024-12-21 17:51:11.338000</td>\n",
       "      <td>2024-12-21 17:54:36.282</td>\n",
       "      <td>11th &amp; M St NW</td>\n",
       "      <td>NaN</td>\n",
       "      <td>member</td>\n",
       "      <td>38.905578</td>\n",
       "      <td>-77.027313</td>\n",
       "      <td>38.910000</td>\n",
       "      <td>-77.020000</td>\n",
       "      <td>NaN</td>\n",
       "      <td>NaN</td>\n",
       "      <td>2024</td>\n",
       "      <td>POINT (-77.02731 38.90558)</td>\n",
       "      <td>2.0</td>\n",
       "      <td>Ward 2</td>\n",
       "    </tr>\n",
       "    <tr>\n",
       "      <th>16808316</th>\n",
       "      <td>electric_bike</td>\n",
       "      <td>2024-12-07 10:44:26.102000</td>\n",
       "      <td>2024-12-07 10:52:42.706</td>\n",
       "      <td>11th &amp; M St NW</td>\n",
       "      <td>14th &amp; Belmont St NW</td>\n",
       "      <td>member</td>\n",
       "      <td>38.905578</td>\n",
       "      <td>-77.027313</td>\n",
       "      <td>38.921074</td>\n",
       "      <td>-77.031887</td>\n",
       "      <td>NaN</td>\n",
       "      <td>NaN</td>\n",
       "      <td>2024</td>\n",
       "      <td>POINT (-77.02731 38.90558)</td>\n",
       "      <td>2.0</td>\n",
       "      <td>Ward 2</td>\n",
       "    </tr>\n",
       "    <tr>\n",
       "      <th>16808317</th>\n",
       "      <td>electric_bike</td>\n",
       "      <td>2024-12-08 19:09:28.769000</td>\n",
       "      <td>2024-12-08 19:12:37.130</td>\n",
       "      <td>11th &amp; M St NW</td>\n",
       "      <td>NaN</td>\n",
       "      <td>member</td>\n",
       "      <td>38.905578</td>\n",
       "      <td>-77.027313</td>\n",
       "      <td>38.900000</td>\n",
       "      <td>-77.030000</td>\n",
       "      <td>NaN</td>\n",
       "      <td>NaN</td>\n",
       "      <td>2024</td>\n",
       "      <td>POINT (-77.02731 38.90558)</td>\n",
       "      <td>2.0</td>\n",
       "      <td>Ward 2</td>\n",
       "    </tr>\n",
       "    <tr>\n",
       "      <th>16808318</th>\n",
       "      <td>electric_bike</td>\n",
       "      <td>2024-12-26 11:52:51.207000</td>\n",
       "      <td>2024-12-26 11:57:38.459</td>\n",
       "      <td>11th &amp; M St NW</td>\n",
       "      <td>NaN</td>\n",
       "      <td>member</td>\n",
       "      <td>38.905578</td>\n",
       "      <td>-77.027313</td>\n",
       "      <td>38.900000</td>\n",
       "      <td>-77.030000</td>\n",
       "      <td>NaN</td>\n",
       "      <td>NaN</td>\n",
       "      <td>2024</td>\n",
       "      <td>POINT (-77.02731 38.90558)</td>\n",
       "      <td>2.0</td>\n",
       "      <td>Ward 2</td>\n",
       "    </tr>\n",
       "    <tr>\n",
       "      <th>16808319</th>\n",
       "      <td>electric_bike</td>\n",
       "      <td>2024-12-14 12:26:32.419000</td>\n",
       "      <td>2024-12-14 12:32:56.165</td>\n",
       "      <td>11th &amp; M St NW</td>\n",
       "      <td>NaN</td>\n",
       "      <td>member</td>\n",
       "      <td>38.905589</td>\n",
       "      <td>-77.027304</td>\n",
       "      <td>38.910000</td>\n",
       "      <td>-77.040000</td>\n",
       "      <td>NaN</td>\n",
       "      <td>NaN</td>\n",
       "      <td>2024</td>\n",
       "      <td>POINT (-77.0273 38.90559)</td>\n",
       "      <td>2.0</td>\n",
       "      <td>Ward 2</td>\n",
       "    </tr>\n",
       "  </tbody>\n",
       "</table>\n",
       "<p>14058439 rows × 16 columns</p>\n",
       "</div>"
      ],
      "text/plain": [
       "          rideable_type                  started_at                 ended_at  \\\n",
       "2749881    classic_bike         2022-01-01 00:04:52      2022-01-01 00:10:40   \n",
       "2749882   electric_bike         2022-01-01 00:05:14      2022-01-01 00:15:39   \n",
       "2749883    classic_bike         2022-01-01 00:06:00      2022-01-01 00:20:47   \n",
       "2749884    classic_bike         2022-01-01 00:06:01      2022-01-01 00:20:39   \n",
       "2749885    classic_bike         2022-01-01 00:06:19      2022-01-01 00:12:36   \n",
       "...                 ...                         ...                      ...   \n",
       "16808315  electric_bike  2024-12-21 17:51:11.338000  2024-12-21 17:54:36.282   \n",
       "16808316  electric_bike  2024-12-07 10:44:26.102000  2024-12-07 10:52:42.706   \n",
       "16808317  electric_bike  2024-12-08 19:09:28.769000  2024-12-08 19:12:37.130   \n",
       "16808318  electric_bike  2024-12-26 11:52:51.207000  2024-12-26 11:57:38.459   \n",
       "16808319  electric_bike  2024-12-14 12:26:32.419000  2024-12-14 12:32:56.165   \n",
       "\n",
       "              start_station_name      end_station_name member_casual  \\\n",
       "2749881            Thomas Circle        17th & K St NW        casual   \n",
       "2749882           14th & R St NW                   NaN        casual   \n",
       "2749883   4th St & Madison Dr NW        10th & K St NW        casual   \n",
       "2749884   4th St & Madison Dr NW        10th & K St NW        casual   \n",
       "2749885      14th & Newton St NW        14th & V St NW        member   \n",
       "...                          ...                   ...           ...   \n",
       "16808315          11th & M St NW                   NaN        member   \n",
       "16808316          11th & M St NW  14th & Belmont St NW        member   \n",
       "16808317          11th & M St NW                   NaN        member   \n",
       "16808318          11th & M St NW                   NaN        member   \n",
       "16808319          11th & M St NW                   NaN        member   \n",
       "\n",
       "          start_lat  start_lng    end_lat    end_lng  trip_duration_minutes  \\\n",
       "2749881   38.905900 -77.032500  38.902760 -77.038630                    6.0   \n",
       "2749882   38.913055 -77.031823  38.930000 -77.050000                   10.0   \n",
       "2749883   38.890496 -77.017246  38.902400 -77.026220                   15.0   \n",
       "2749884   38.890496 -77.017246  38.902400 -77.026220                   15.0   \n",
       "2749885   38.931991 -77.032956  38.917764 -77.032096                    6.0   \n",
       "...             ...        ...        ...        ...                    ...   \n",
       "16808315  38.905578 -77.027313  38.910000 -77.020000                    NaN   \n",
       "16808316  38.905578 -77.027313  38.921074 -77.031887                    NaN   \n",
       "16808317  38.905578 -77.027313  38.900000 -77.030000                    NaN   \n",
       "16808318  38.905578 -77.027313  38.900000 -77.030000                    NaN   \n",
       "16808319  38.905589 -77.027304  38.910000 -77.040000                    NaN   \n",
       "\n",
       "         time_of_day  year                    geometry  WARD    NAME  \n",
       "2749881        night  2022    POINT (-77.0325 38.9059)   2.0  Ward 2  \n",
       "2749882        night  2022  POINT (-77.03182 38.91306)   2.0  Ward 2  \n",
       "2749883        night  2022   POINT (-77.01725 38.8905)   2.0  Ward 2  \n",
       "2749884        night  2022   POINT (-77.01725 38.8905)   2.0  Ward 2  \n",
       "2749885        night  2022  POINT (-77.03296 38.93199)   1.0  Ward 1  \n",
       "...              ...   ...                         ...   ...     ...  \n",
       "16808315         NaN  2024  POINT (-77.02731 38.90558)   2.0  Ward 2  \n",
       "16808316         NaN  2024  POINT (-77.02731 38.90558)   2.0  Ward 2  \n",
       "16808317         NaN  2024  POINT (-77.02731 38.90558)   2.0  Ward 2  \n",
       "16808318         NaN  2024  POINT (-77.02731 38.90558)   2.0  Ward 2  \n",
       "16808319         NaN  2024   POINT (-77.0273 38.90559)   2.0  Ward 2  \n",
       "\n",
       "[14058439 rows x 16 columns]"
      ]
     },
     "execution_count": 36,
     "metadata": {},
     "output_type": "execute_result"
    }
   ],
   "source": [
    "dc_wards_gdf"
   ]
  },
  {
   "cell_type": "code",
   "execution_count": 27,
   "metadata": {},
   "outputs": [],
   "source": [
    "maryland_gdf=maryland_gdf[[\"COUNTY\",\"geometry\"]]"
   ]
  },
  {
   "cell_type": "code",
   "execution_count": 28,
   "metadata": {},
   "outputs": [],
   "source": [
    "# # Perform spatial join with the maryland gdf\n",
    "dc_maryland_gdf= gpd.sjoin(dc_wards_gdf, maryland_gdf, how=\"left\", predicate=\"within\")"
   ]
  },
  {
   "cell_type": "code",
   "execution_count": 29,
   "metadata": {},
   "outputs": [
    {
     "data": {
      "text/html": [
       "<div>\n",
       "<style scoped>\n",
       "    .dataframe tbody tr th:only-of-type {\n",
       "        vertical-align: middle;\n",
       "    }\n",
       "\n",
       "    .dataframe tbody tr th {\n",
       "        vertical-align: top;\n",
       "    }\n",
       "\n",
       "    .dataframe thead th {\n",
       "        text-align: right;\n",
       "    }\n",
       "</style>\n",
       "<table border=\"1\" class=\"dataframe\">\n",
       "  <thead>\n",
       "    <tr style=\"text-align: right;\">\n",
       "      <th></th>\n",
       "      <th>NAME</th>\n",
       "      <th>COUNTY</th>\n",
       "    </tr>\n",
       "  </thead>\n",
       "  <tbody>\n",
       "    <tr>\n",
       "      <th>2749881</th>\n",
       "      <td>Ward 2</td>\n",
       "      <td>NaN</td>\n",
       "    </tr>\n",
       "    <tr>\n",
       "      <th>2749882</th>\n",
       "      <td>Ward 2</td>\n",
       "      <td>NaN</td>\n",
       "    </tr>\n",
       "    <tr>\n",
       "      <th>2749883</th>\n",
       "      <td>Ward 2</td>\n",
       "      <td>NaN</td>\n",
       "    </tr>\n",
       "    <tr>\n",
       "      <th>2749884</th>\n",
       "      <td>Ward 2</td>\n",
       "      <td>NaN</td>\n",
       "    </tr>\n",
       "    <tr>\n",
       "      <th>2749885</th>\n",
       "      <td>Ward 1</td>\n",
       "      <td>NaN</td>\n",
       "    </tr>\n",
       "    <tr>\n",
       "      <th>...</th>\n",
       "      <td>...</td>\n",
       "      <td>...</td>\n",
       "    </tr>\n",
       "    <tr>\n",
       "      <th>16808315</th>\n",
       "      <td>Ward 2</td>\n",
       "      <td>NaN</td>\n",
       "    </tr>\n",
       "    <tr>\n",
       "      <th>16808316</th>\n",
       "      <td>Ward 2</td>\n",
       "      <td>NaN</td>\n",
       "    </tr>\n",
       "    <tr>\n",
       "      <th>16808317</th>\n",
       "      <td>Ward 2</td>\n",
       "      <td>NaN</td>\n",
       "    </tr>\n",
       "    <tr>\n",
       "      <th>16808318</th>\n",
       "      <td>Ward 2</td>\n",
       "      <td>NaN</td>\n",
       "    </tr>\n",
       "    <tr>\n",
       "      <th>16808319</th>\n",
       "      <td>Ward 2</td>\n",
       "      <td>NaN</td>\n",
       "    </tr>\n",
       "  </tbody>\n",
       "</table>\n",
       "<p>14058439 rows × 2 columns</p>\n",
       "</div>"
      ],
      "text/plain": [
       "            NAME COUNTY\n",
       "2749881   Ward 2    NaN\n",
       "2749882   Ward 2    NaN\n",
       "2749883   Ward 2    NaN\n",
       "2749884   Ward 2    NaN\n",
       "2749885   Ward 1    NaN\n",
       "...          ...    ...\n",
       "16808315  Ward 2    NaN\n",
       "16808316  Ward 2    NaN\n",
       "16808317  Ward 2    NaN\n",
       "16808318  Ward 2    NaN\n",
       "16808319  Ward 2    NaN\n",
       "\n",
       "[14058439 rows x 2 columns]"
      ]
     },
     "execution_count": 29,
     "metadata": {},
     "output_type": "execute_result"
    }
   ],
   "source": [
    "dc_maryland_gdf[[\"NAME\",\"COUNTY\"]]"
   ]
  },
  {
   "cell_type": "code",
   "execution_count": 32,
   "metadata": {},
   "outputs": [],
   "source": [
    "# filtering out values that are not in maryland or dc\n",
    "dc_maryland_gdf = dc_maryland_gdf[dc_maryland_gdf[\"NAME\"].notnull()| dc_maryland_gdf[\"COUNTY\"].notnull()]"
   ]
  },
  {
   "cell_type": "code",
   "execution_count": 33,
   "metadata": {},
   "outputs": [
    {
     "name": "stderr",
     "output_type": "stream",
     "text": [
      "/opt/anaconda3/envs/codeacademy/lib/python3.12/site-packages/geopandas/geodataframe.py:1819: SettingWithCopyWarning: \n",
      "A value is trying to be set on a copy of a slice from a DataFrame.\n",
      "Try using .loc[row_indexer,col_indexer] = value instead\n",
      "\n",
      "See the caveats in the documentation: https://pandas.pydata.org/pandas-docs/stable/user_guide/indexing.html#returning-a-view-versus-a-copy\n",
      "  super().__setitem__(key, value)\n"
     ]
    }
   ],
   "source": [
    "# new column to determine easy if it's dc or maryland\n",
    "dc_maryland_gdf['area'] = np.where(dc_maryland_gdf['WARD'].notnull(), 'DC', 'Maryland')"
   ]
  },
  {
   "cell_type": "code",
   "execution_count": 38,
   "metadata": {},
   "outputs": [],
   "source": [
    "df_2022 = dc_maryland_gdf[dc_maryland_gdf[\"year\"]==2022]\n",
    "df_2023 = dc_maryland_gdf[dc_maryland_gdf[\"year\"]==2023]\n",
    "df_2024 = dc_maryland_gdf[dc_maryland_gdf[\"year\"]==2024]"
   ]
  },
  {
   "cell_type": "code",
   "execution_count": null,
   "metadata": {},
   "outputs": [],
   "source": [
    "# dc_maryland_gdf.to_csv(\"dc_maryland_gdf_full_updated.csv\", index=False)"
   ]
  },
  {
   "cell_type": "code",
   "execution_count": 1,
   "metadata": {},
   "outputs": [
    {
     "ename": "NameError",
     "evalue": "name 'df_2022' is not defined",
     "output_type": "error",
     "traceback": [
      "\u001b[0;31m---------------------------------------------------------------------------\u001b[0m",
      "\u001b[0;31mNameError\u001b[0m                                 Traceback (most recent call last)",
      "Cell \u001b[0;32mIn[1], line 2\u001b[0m\n\u001b[1;32m      1\u001b[0m \u001b[38;5;66;03m#Total rides per year\u001b[39;00m\n\u001b[0;32m----> 2\u001b[0m \u001b[38;5;28mprint\u001b[39m(\u001b[38;5;124m\"\u001b[39m\u001b[38;5;124mtotal rides in 2022\u001b[39m\u001b[38;5;124m\"\u001b[39m, \u001b[38;5;28mlen\u001b[39m(\u001b[43mdf_2022\u001b[49m))\n\u001b[1;32m      3\u001b[0m \u001b[38;5;28mprint\u001b[39m(\u001b[38;5;124m\"\u001b[39m\u001b[38;5;124mtotal rides in 2023\u001b[39m\u001b[38;5;124m\"\u001b[39m, \u001b[38;5;28mlen\u001b[39m(df_2023))\n\u001b[1;32m      4\u001b[0m \u001b[38;5;28mprint\u001b[39m(\u001b[38;5;124m\"\u001b[39m\u001b[38;5;124mtotal rides in 2024\u001b[39m\u001b[38;5;124m\"\u001b[39m, \u001b[38;5;28mlen\u001b[39m(df_2024))\n",
      "\u001b[0;31mNameError\u001b[0m: name 'df_2022' is not defined"
     ]
    }
   ],
   "source": [
    "#Total rides per year\n",
    "print(\"total rides in 2022\", len(df_2022))\n",
    "print(\"total rides in 2023\", len(df_2023))\n",
    "print(\"total rides in 2024\", len(df_2024))\n"
   ]
  },
  {
   "cell_type": "code",
   "execution_count": null,
   "metadata": {},
   "outputs": [
    {
     "ename": "",
     "evalue": "",
     "output_type": "error",
     "traceback": [
      "\u001b[1;31mThe Kernel crashed while executing code in the current cell or a previous cell. \n",
      "\u001b[1;31mPlease review the code in the cell(s) to identify a possible cause of the failure. \n",
      "\u001b[1;31mClick <a href='https://aka.ms/vscodeJupyterKernelCrash'>here</a> for more info. \n",
      "\u001b[1;31mView Jupyter <a href='command:jupyter.viewOutput'>log</a> for further details."
     ]
    }
   ],
   "source": [
    "# Rides per year per area\n",
    "rides_DC = dc_maryland_gdf[dc_maryland_gdf[\"area\"]==\"DC\"]\n",
    "rides_maryland = dc_maryland_gdf[dc_maryland_gdf[\"area\"]==\"Maryland\"]"
   ]
  },
  {
   "cell_type": "code",
   "execution_count": 48,
   "metadata": {},
   "outputs": [
    {
     "name": "stdout",
     "output_type": "stream",
     "text": [
      "unique stations in 2022 490\n",
      "unique stations in 2023 564\n",
      "unique stations in 2022 596\n"
     ]
    }
   ],
   "source": [
    "#number of unique stations per year\n",
    "print(\"unique stations in 2022\", df_2022[\"start_station_name\"].nunique())\n",
    "print(\"unique stations in 2023\", df_2023[\"start_station_name\"].nunique())\n",
    "print(\"unique stations in 2022\", df_2024[\"start_station_name\"].nunique())"
   ]
  }
 ],
 "metadata": {
  "kernelspec": {
   "display_name": "codeacademy",
   "language": "python",
   "name": "python3"
  },
  "language_info": {
   "codemirror_mode": {
    "name": "ipython",
    "version": 3
   },
   "file_extension": ".py",
   "mimetype": "text/x-python",
   "name": "python",
   "nbconvert_exporter": "python",
   "pygments_lexer": "ipython3",
   "version": "3.12.7"
  }
 },
 "nbformat": 4,
 "nbformat_minor": 2
}
