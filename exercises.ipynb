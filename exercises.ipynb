{
 "cells": [
  {
   "cell_type": "markdown",
   "metadata": {},
   "source": [
    "# Exercise 1 to 5"
   ]
  },
  {
   "cell_type": "code",
   "execution_count": null,
   "metadata": {},
   "outputs": [
    {
     "name": "stdout",
     "output_type": "stream",
     "text": [
      "pablo\n",
      "35\n",
      "35 3\n",
      "You are older than 21\n",
      "You are older than julia\n"
     ]
    }
   ],
   "source": [
    "my_name = 'pablo'\n",
    "print(my_name)\n",
    "my_age = 35\n",
    "print(my_age)\n",
    "\n",
    "julia_age = 32\n",
    "age_diff = my_age - julia_age\n",
    "print(my_age, age_diff)\n",
    "\n",
    "if my_age > 21:\n",
    "    print ('You are older than 21')\n",
    "else:\n",
    "    print ('You are not older than 21')\n",
    "\n",
    "if my_age > julia_age:\n",
    "    print ('Julia is younger than you')\n",
    "elif my_age < julia_age:\n",
    "    print ('you are younger than Julia')\n",
    "else:\n",
    "    print ('you are the same as as Julia')"
   ]
  },
  {
   "cell_type": "markdown",
   "metadata": {},
   "source": [
    "# Exercise 6\n",
    "\n",
    "Create a list with all the names of your class (including mentors). Sort the list alphabetically, then print the first element of the list.\n",
    "On the next line, print the last element of the list.\n",
    "On the next line, print all the elements of the list (use a \"for\" loop).\n",
    "You should see the first element of the sorted list, the last element of the sorted list, and then all the elements in sorted order."
   ]
  },
  {
   "cell_type": "code",
   "execution_count": 28,
   "metadata": {},
   "outputs": [
    {
     "name": "stdout",
     "output_type": "stream",
     "text": [
      "alex\n",
      "tim\n",
      "alex\n",
      "emily\n",
      "jost\n",
      "lucas\n",
      "muayad\n",
      "pablo\n",
      "rakesh\n",
      "sudha\n",
      "tim\n"
     ]
    }
   ],
   "source": [
    "class_names = sorted(['pablo', 'alex', 'rakesh', 'sudha', 'tim', 'emily','muayad','jost','lucas'])\n",
    "print(class_names[0])\n",
    "print (class_names[-1])\n",
    "\n",
    "for x in class_names:\n",
    "    print (x)\n",
    "\n"
   ]
  },
  {
   "cell_type": "markdown",
   "metadata": {},
   "source": [
    "# Exercise 7 LOOPS\n",
    "\n",
    "Create a list with all the ages of the students in your class. Iterate through the list using a for loop, and then print every age. Add a conditional inside the loop to only print even numbers.\n",
    "You should see every age printed, then only the even numbers printed. If not, investigate and fix it.\n",
    "Then do the same using a while loop."
   ]
  },
  {
   "cell_type": "code",
   "execution_count": null,
   "metadata": {},
   "outputs": [
    {
     "name": "stdout",
     "output_type": "stream",
     "text": [
      "26\n",
      "38\n",
      "40\n"
     ]
    }
   ],
   "source": [
    "llamas_age = [35, 26, 38, 40, 35]\n",
    "# for x in llamas_age:\n",
    "#     print(x)\n",
    "\n",
    "for x in llamas_age:\n",
    "    if x % 2 == 0:\n",
    "        print (x)\n",
    "\n",
    "i = 0\n",
    "while i < len(llamas_age):\n",
    "    if llamas_age[i] %2 == 0:\n",
    "        print (llamas_age[i])\n",
    "\n",
    "    \n",
    "\n",
    "\n",
    "\n"
   ]
  },
  {
   "cell_type": "code",
   "execution_count": null,
   "metadata": {},
   "outputs": [],
   "source": []
  },
  {
   "cell_type": "markdown",
   "metadata": {},
   "source": [
    "# Exercise 8 (min)\n",
    "\n",
    "Write a list containing numbers and print the lowest number."
   ]
  },
  {
   "cell_type": "code",
   "execution_count": 30,
   "metadata": {},
   "outputs": [
    {
     "name": "stdout",
     "output_type": "stream",
     "text": [
      "-3\n"
     ]
    }
   ],
   "source": [
    "numbers_list = [20, 32, 40, 1200, 1, -3, 54]\n",
    "print(min(numbers_list))"
   ]
  },
  {
   "cell_type": "markdown",
   "metadata": {},
   "source": [
    "# Exercise 9 (max)\n",
    "Write a list containing numbers and print the highest number."
   ]
  },
  {
   "cell_type": "code",
   "execution_count": 31,
   "metadata": {},
   "outputs": [
    {
     "name": "stdout",
     "output_type": "stream",
     "text": [
      "1200\n"
     ]
    }
   ],
   "source": [
    "numbers_list = [20, 32, 40, 1200, 1, -3, 54]\n",
    "print(max(numbers_list))"
   ]
  },
  {
   "cell_type": "markdown",
   "metadata": {},
   "source": [
    "# Exercise 10 FOR LOOP\n",
    "\n",
    "Given below is a list of 10 customers with year of birth, however, the list can be as large as several thousands of customers.\n",
    "Use a loop to iterate over the list and print the age of each customer.\n"
   ]
  },
  {
   "cell_type": "code",
   "execution_count": 21,
   "metadata": {},
   "outputs": [
    {
     "name": "stdout",
     "output_type": "stream",
     "text": [
      "25\n",
      "29\n",
      "19\n",
      "14\n",
      "17\n",
      "18\n",
      "30\n",
      "28\n",
      "45\n",
      "16\n"
     ]
    }
   ],
   "source": [
    "year_of_birth= [1999, 1995, 2005, 2010, 2007, 2006, 1994, 1996, 1979, 2008]\n",
    "\n",
    "for year in year_of_birth:\n",
    "    print (2024 - year )\n",
    "\n",
    "# age = 2024 - 1999\n",
    "# print(age)\n",
    "\n",
    "    "
   ]
  },
  {
   "cell_type": "markdown",
   "metadata": {},
   "source": [
    "# Exercise 11 while loop - dict inside list -  \n",
    "\n",
    "Given below is a list of 10 customers with name and year of birth, however, the list can be as large as several thousands of customers.\n",
    "Use a loop to iterate over the list and print the name and age of each customer.\n",
    "Afterwards, for each customer try to print the sentence \"customer_name is customer_age years old\".\n",
    "customer_name and customer_age should correspond to each customer's name and age."
   ]
  },
  {
   "cell_type": "code",
   "execution_count": null,
   "metadata": {},
   "outputs": [
    {
     "name": "stdout",
     "output_type": "stream",
     "text": [
      "1999\n",
      "1995\n",
      "2005\n",
      "2010\n",
      "2007\n",
      "2006\n",
      "1994\n",
      "1996\n",
      "1979\n",
      "2008\n",
      "dict_values(['Bob', 1999])\n",
      "dict_values(['Jack', 1995])\n",
      "dict_values(['Lisa', 2005])\n",
      "dict_values(['Maria', 2010])\n",
      "dict_values(['Ben', 2007])\n",
      "dict_values(['Emma', 2006])\n",
      "dict_values(['Oscar', 1994])\n",
      "dict_values(['Amy', 1996])\n",
      "dict_values(['Paul', 1979])\n",
      "dict_values(['Etta', 2008])\n"
     ]
    }
   ],
   "source": [
    "customer_list = [\n",
    "                    {\"name\": \"Bob\", \"age\": 1999},\n",
    "                    {\"name\": \"Jack\", \"age\": 1995},\n",
    "                    {\"name\": \"Lisa\", \"age\": 2005},\n",
    "                    {\"name\": \"Maria\", \"age\": 2010},\n",
    "                    {\"name\": \"Ben\", \"age\": 2007},\n",
    "                    {\"name\": \"Emma\", \"age\": 2006},\n",
    "                    {\"name\": \"Oscar\", \"age\": 1994},\n",
    "                    {\"name\": \"Amy\", \"age\": 1996},\n",
    "                    {\"name\": \"Paul\", \"age\": 1979},\n",
    "                    {\"name\": \"Etta\", \"age\": 2008}\n",
    "                ]\n",
    "\n",
    "\n",
    "\n",
    "# BETTER THIS WAY\n",
    "for dict in customer_list:\n",
    "   print(dict['age'])\n",
    "\n",
    "# FOR ALL THE VALUES IN THE DICT\n",
    "for dict in customer_list:\n",
    "   print(dict.values())\n",
    "      \n",
    "\n"
   ]
  },
  {
   "cell_type": "code",
   "execution_count": 34,
   "metadata": {},
   "outputs": [
    {
     "name": "stdout",
     "output_type": "stream",
     "text": [
      "Bob is 25 years old\n",
      "Jack is 29 years old\n",
      "Lisa is 19 years old\n",
      "Maria is 14 years old\n",
      "Ben is 17 years old\n",
      "Emma is 18 years old\n",
      "Oscar is 30 years old\n",
      "Amy is 28 years old\n",
      "Paul is 45 years old\n",
      "Etta is 16 years old\n"
     ]
    }
   ],
   "source": [
    "customer_list = [\n",
    "                    {\"name\": \"Bob\", \"age\": 1999},\n",
    "                    {\"name\": \"Jack\", \"age\": 1995},\n",
    "                    {\"name\": \"Lisa\", \"age\": 2005},\n",
    "                    {\"name\": \"Maria\", \"age\": 2010},\n",
    "                    {\"name\": \"Ben\", \"age\": 2007},\n",
    "                    {\"name\": \"Emma\", \"age\": 2006},\n",
    "                    {\"name\": \"Oscar\", \"age\": 1994},\n",
    "                    {\"name\": \"Amy\", \"age\": 1996},\n",
    "                    {\"name\": \"Paul\", \"age\": 1979},\n",
    "                    {\"name\": \"Etta\", \"age\": 2008}\n",
    "                ]\n",
    "\n",
    "# LIST COMPREHENSION : loop simplified.  Getting a list of values from a list of dicts. Value 'x' can be anything. Better use 'd' to refer to 'dictionary'. \n",
    "# customer_name= [x['name'] for x in customer_list]\n",
    "# year_of_birth = [x['age'] for x in customer_list]\n",
    "# print(customer_name)\n",
    "\n",
    "\n",
    "# index = 0\n",
    "# while index < len(customer_list):\n",
    "#     customer_age = 2024 - year_of_birth[index]\n",
    "#     #f string\n",
    "#     print (f'{customer_name[index]} is {customer_age} years old')\n",
    "#     index += 1\n",
    "\n",
    "\n",
    "#SAME THING BUT WITH LOOP, NO NEED TO DEFINE THE VARIABLE BEFOREHAND\n",
    "# index = 0\n",
    "# while index < len(customer_list):\n",
    "#     customer_age = 2024 - customer_list[index]['age']\n",
    "#     print (f'{customer_list[index]['name']} is {customer_age} years old')\n",
    "#     index += 1\n",
    "\n",
    "index = 0\n",
    "while index < len(customer_list):\n",
    "    # customer_age = 2024 - customer_list[index]['age'] NO NEED TO DEFINE IT PREVIOUSLY\n",
    "    print (f'{customer_list[index]['name']} is {2024 - customer_list[index]['age']} years old')\n",
    "    index += 1\n",
    "\n",
    "\n",
    "\n",
    "\n",
    "\n"
   ]
  },
  {
   "cell_type": "markdown",
   "metadata": {},
   "source": [
    "another way"
   ]
  },
  {
   "cell_type": "code",
   "execution_count": 35,
   "metadata": {},
   "outputs": [
    {
     "name": "stdout",
     "output_type": "stream",
     "text": [
      "Bob is 25 years old\n",
      "Jack is 29 years old\n",
      "Lisa is 19 years old\n",
      "Maria is 14 years old\n",
      "Ben is 17 years old\n",
      "Emma is 18 years old\n",
      "Oscar is 30 years old\n",
      "Amy is 28 years old\n",
      "Paul is 45 years old\n",
      "Etta is 16 years old\n"
     ]
    }
   ],
   "source": [
    "index = 0\n",
    "while index < len(customer_list):\n",
    "    customer_age = 2024 - year_of_birth[index]\n",
    "    customer_name = [d['name'] for d in customer_list][index]\n",
    "    message = f'{customer_name} is {customer_age} years old'\n",
    "    print (message)\n",
    "    index += 1 \n",
    "\n",
    "# index += 1 == \n",
    "# index = index +1 \n",
    "# SAME THING"
   ]
  },
  {
   "cell_type": "markdown",
   "metadata": {},
   "source": [
    "# Select a Dictionary from the List of Python dictionaries\n"
   ]
  },
  {
   "cell_type": "code",
   "execution_count": 36,
   "metadata": {},
   "outputs": [
    {
     "name": "stdout",
     "output_type": "stream",
     "text": [
      "2005\n"
     ]
    }
   ],
   "source": [
    "# list_of_dictionaries[index_pos]['key']\n",
    "print(customer_list[2]['age']) \n",
    "\n"
   ]
  },
  {
   "cell_type": "markdown",
   "metadata": {},
   "source": [
    "# Exercise 12 sort and remove/pop\n",
    "Given a list of ages, remove the youngest and the oldest person."
   ]
  },
  {
   "cell_type": "code",
   "execution_count": null,
   "metadata": {},
   "outputs": [
    {
     "name": "stdout",
     "output_type": "stream",
     "text": [
      "[20, 24, 14, 12, 13, 25, 23, 11]\n"
     ]
    }
   ],
   "source": [
    "ages = [20, 24, 14, 9, 12, 13, 25, 23, 40, 11]\n",
    "\n",
    "# # with sort and pop\n",
    "\n",
    "ages = sorted(ages)\n",
    "\n",
    "ages.pop(0)\n",
    "ages.pop (-1)\n",
    "print (ages)\n",
    "\n",
    "# with max and min\n",
    "\n",
    "ages.remove(max(ages))\n",
    "ages.remove(min(ages))\n",
    "\n",
    "print(ages)\n"
   ]
  },
  {
   "cell_type": "markdown",
   "metadata": {},
   "source": [
    "# Exercise 13 \n",
    "You have two lists with ages of customers from different cities.\n",
    "The task is to create a new list with the common ages.\n"
   ]
  },
  {
   "cell_type": "code",
   "execution_count": 1,
   "metadata": {},
   "outputs": [
    {
     "name": "stdout",
     "output_type": "stream",
     "text": [
      "[10, 13, 15, 16, 18, 19]\n"
     ]
    }
   ],
   "source": [
    "berlin = [15, 13, 16, 18, 19, 10, 12 ]\n",
    "munich = [7, 13, 15, 20, 19, 18, 10, 16]    \n",
    "\n",
    "berlin_munich = list(set(berlin).intersection(munich))\n",
    "print(berlin_munich)\n",
    "\n",
    "\n",
    "\n",
    "\n",
    "\n",
    "#How to do it if you have sets\n",
    "# common = berlin.intersection(munich)"
   ]
  },
  {
   "cell_type": "markdown",
   "metadata": {},
   "source": [
    "Ex 14\n",
    "Remove duplicates from list"
   ]
  },
  {
   "cell_type": "code",
   "execution_count": 2,
   "metadata": {},
   "outputs": [
    {
     "name": "stdout",
     "output_type": "stream",
     "text": [
      "[15, 13, 16, 18, 19, 10]\n"
     ]
    }
   ],
   "source": [
    "#original list\n",
    "my_list= [15, 13, 16, 18, 19, 15, 10]\n",
    "#transform list into dictionary. Dictionaries cannot have duplicate keys\n",
    "# 1) The function dict.fromkeys() creates a dictionary from an iterable. The elements of the iterable become the keys of the new dictionary:\n",
    "# 2) cast the dict back into list\n",
    "my_list = list(dict.fromkeys(my_list))\n",
    "print(my_list)"
   ]
  },
  {
   "cell_type": "markdown",
   "metadata": {},
   "source": [
    "# Exercise 15 FUNCTIONS\n",
    "\n",
    "Write a function that works like below:\n",
    "\n",
    "Function name: welcome\n",
    "\n",
    "welcome('Evelyn') would print- 'Welcome Evelyn, have a nice day!'\n",
    "\n",
    "welcome('Jost'), would print - 'Welcome Jost, have a nice day!'\n",
    "\n"
   ]
  },
  {
   "cell_type": "code",
   "execution_count": null,
   "metadata": {},
   "outputs": [
    {
     "name": "stdout",
     "output_type": "stream",
     "text": [
      "Welcome Evelyn Perez, have a nice day\n",
      "Welcome Jost Gonzalez, have a nice day\n"
     ]
    }
   ],
   "source": [
    "# def welcome(name):\n",
    "#     print(f'Welcome {name}, have a nice day')\n",
    "\n",
    "# welcome('Evelyn')\n",
    "# welcome('Jost')\n",
    "\n",
    "def welcome (name, last_name):\n",
    "    print (f'Welcome {name} {last_name}, have a nice day')\n",
    "\n",
    "welcome ('Evelyn','Perez')\n",
    "welcome ( 'Jost','Gonzalez')\n",
    "\n",
    "\n",
    "    "
   ]
  },
  {
   "cell_type": "markdown",
   "metadata": {},
   "source": [
    "Exercise 16\n",
    "\n",
    "Write a function that takes a string as input and calculates the length.\n",
    "\n",
    "Function name: get_length\n",
    "\n",
    "get_length('Hello') would print / return 5.\n",
    "\n",
    "get_length('Hi') would print / return 2."
   ]
  },
  {
   "cell_type": "code",
   "execution_count": null,
   "metadata": {},
   "outputs": [
    {
     "name": "stdout",
     "output_type": "stream",
     "text": [
      "5\n",
      "2\n"
     ]
    }
   ],
   "source": [
    "def get_lenght (word):\n",
    "    print (len(word))\n",
    "\n",
    "get_lenght('Hello')\n",
    "get_lenght('Hi')"
   ]
  },
  {
   "cell_type": "markdown",
   "metadata": {},
   "source": [
    "Exercise 17\n",
    "Write a function which checks whether a number is even.\n",
    "\n",
    "Hint: Think about the modulus operator\n",
    "\n",
    "Function name: check_even\n",
    "\n",
    "check_even(6) would print / return 'Yes'\n",
    "\n",
    "check_even(5) would print / return 'No'\n"
   ]
  },
  {
   "cell_type": "code",
   "execution_count": null,
   "metadata": {},
   "outputs": [
    {
     "name": "stdout",
     "output_type": "stream",
     "text": [
      "Yes\n",
      "No\n"
     ]
    }
   ],
   "source": [
    "def check_even (number):\n",
    "    if number % 2 == 0:\n",
    "        print ('Yes')\n",
    "    else: \n",
    "        print ('No')\n",
    "\n",
    "check_even (6)\n",
    "check_even (5)"
   ]
  },
  {
   "cell_type": "markdown",
   "metadata": {},
   "source": [
    "Exercise 18\n",
    "Rewrite exercises 11, 12, 13, and 14 in a function."
   ]
  },
  {
   "cell_type": "code",
   "execution_count": 18,
   "metadata": {},
   "outputs": [
    {
     "name": "stdout",
     "output_type": "stream",
     "text": [
      "Bob is 25 years old\n"
     ]
    }
   ],
   "source": [
    "# EX 11 as function\n",
    "customer_list = [\n",
    "                    {\"name\": \"Bob\", \"age\": 1999},\n",
    "                    {\"name\": \"Jack\", \"age\": 1995},\n",
    "                    {\"name\": \"Lisa\", \"age\": 2005},\n",
    "                    {\"name\": \"Maria\", \"age\": 2010},\n",
    "                    {\"name\": \"Ben\", \"age\": 2007},\n",
    "                    {\"name\": \"Emma\", \"age\": 2006},\n",
    "                    {\"name\": \"Oscar\", \"age\": 1994},\n",
    "                    {\"name\": \"Amy\", \"age\": 1996},\n",
    "                    {\"name\": \"Paul\", \"age\": 1979},\n",
    "                    {\"name\": \"Etta\", \"age\": 2008}\n",
    "                ]\n",
    "\n",
    "\n",
    "# index = 0\n",
    "# while index < len(customer_list):\n",
    "#     customer_age = 2024 - customer_list[index]['age']\n",
    "#     print (f'{customer_list[index]['name']} is {customer_age} years old')\n",
    "#     index += 1\n",
    "\n",
    "def message (name, age):\n",
    "    print (f'{name} is {2024 - age} years old')\n",
    "\n",
    "# for i in range(0, len(customer_list)):\n",
    "#   message(customer_list[i]['name'], customer_list[i]['age'])\n",
    "message ('Bob', 1999)\n",
    "\n",
    "# WHILE LOOP WAS INFINITE.\n",
    "# index = 0\n",
    "# while index < len(customer_list):\n",
    "#     message(customer_list[index]['name'], customer_list[index]['age'])\n",
    "#     index =+1 \n"
   ]
  },
  {
   "cell_type": "code",
   "execution_count": 56,
   "metadata": {},
   "outputs": [
    {
     "name": "stdout",
     "output_type": "stream",
     "text": [
      "9\n",
      "40\n"
     ]
    }
   ],
   "source": [
    "# EX 12 BIS\n",
    "\n",
    "age_list = [20, 24, 14, 9, 12, 13, 25, 23, 40, 11]\n",
    "\n",
    "# ages = sorted(ages)\n",
    "\n",
    "# ages.pop(0)\n",
    "# ages.pop (-1)\n",
    "# print (ages)\n",
    "\n",
    "def func (age):\n",
    "    print (age)\n",
    "\n",
    "func (sorted(age_list).pop(0))\n",
    "func (sorted(age_list). pop(-1))\n",
    "\n"
   ]
  },
  {
   "cell_type": "code",
   "execution_count": 3,
   "metadata": {
    "tags": [
     "check"
    ]
   },
   "outputs": [
    {
     "name": "stdout",
     "output_type": "stream",
     "text": [
      "[15, 13, 16, 18, 19, 10]\n"
     ]
    }
   ],
   "source": [
    "#EX 13 bis\n",
    "\n",
    "berlin = [15, 13, 16, 18, 19, 10, 12 ]\n",
    "munich = [7, 13, 15, 20, 19, 18, 10, 16]\n",
    "\n",
    "def common_elements(x, y):\n",
    "    result = []\n",
    "    for element in berlin:\n",
    "        if element in munich:\n",
    "            result.append(element)\n",
    "    print (result)\n",
    "\n",
    "common_elements(berlin, munich)"
   ]
  },
  {
   "cell_type": "code",
   "execution_count": 17,
   "metadata": {},
   "outputs": [
    {
     "name": "stdout",
     "output_type": "stream",
     "text": [
      "[15, 13, 16, 18, 19, 10]\n"
     ]
    }
   ],
   "source": [
    "#EX 14 bis\n",
    "my_list= [15, 13, 16, 18, 19, 15, 10]\n",
    "\n",
    "def erase_duplicate (x):\n",
    "    print(list(dict.fromkeys(my_list)))\n",
    "\n",
    "erase_duplicate (my_list)  \n"
   ]
  },
  {
   "cell_type": "markdown",
   "metadata": {},
   "source": [
    "# Exercise 19\n",
    "Write a function that takes a list of integers and also a single integer as inputs. It should return true or false if the single integer value is present or not in the list."
   ]
  },
  {
   "cell_type": "code",
   "execution_count": 13,
   "metadata": {},
   "outputs": [
    {
     "name": "stdout",
     "output_type": "stream",
     "text": [
      "True\n"
     ]
    }
   ],
   "source": [
    "integer_list = [5,20,14,51,82,90]\n",
    "\n",
    "def my_func (x,y):\n",
    "    if y in integer_list:\n",
    "        print (True)\n",
    "    else:\n",
    "        print(False)\n",
    "            \n",
    "my_func (integer_list, 82)\n",
    "\n"
   ]
  },
  {
   "cell_type": "code",
   "execution_count": null,
   "metadata": {},
   "outputs": [],
   "source": []
  }
 ],
 "metadata": {
  "kernelspec": {
   "display_name": "codeacademy",
   "language": "python",
   "name": "python3"
  },
  "language_info": {
   "codemirror_mode": {
    "name": "ipython",
    "version": 3
   },
   "file_extension": ".py",
   "mimetype": "text/x-python",
   "name": "python",
   "nbconvert_exporter": "python",
   "pygments_lexer": "ipython3",
   "version": "3.12.7"
  }
 },
 "nbformat": 4,
 "nbformat_minor": 2
}
