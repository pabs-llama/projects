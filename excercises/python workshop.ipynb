{
 "cells": [
  {
   "cell_type": "markdown",
   "metadata": {},
   "source": [
    "# SET 1\n"
   ]
  },
  {
   "cell_type": "markdown",
   "metadata": {},
   "source": [
    "## 1 \n",
    "You are given an array (which will have a length of at least 3, but could be very\n",
    "large) containing integers. The array is either entirely comprised of odd integers or\n",
    "entirely comprised of even integers except for a single integer N.\n",
    "\n",
    "Write a method that takes the array as an argument and returns this “outlier” N.\n",
    "\n",
    "Sample test cases:\n",
    "[2, 4, 0, 100, 4, 11, 2602, 36]\n",
    "Should return: 11 (the only odd number)\n",
    "\n",
    "[160, 3, 1719, 19, 11, 13, -21]\n",
    "Should return: 160 (the only even number)\n",
    "\n",
    "find_outlier([2, 4, 6, 8, 10, 3])\n",
    "Should return: 3"
   ]
  },
  {
   "cell_type": "code",
   "execution_count": 12,
   "metadata": {},
   "outputs": [
    {
     "name": "stdout",
     "output_type": "stream",
     "text": [
      "[11]\n",
      "[160]\n",
      "[3]\n"
     ]
    }
   ],
   "source": [
    "my_list = [2, 4, 0, 100, 4, 11, 2602, 36]\n",
    "my_list_2 = [160, 3, 1719, 19, 11, 13, -21]\n",
    "my_list_3 = [2, 4, 6, 8, 10, 3]\n",
    "# # even or uneven: \n",
    "# for x in my_list:\n",
    "#     if x % 2 != 0:\n",
    "#          print(x)\n",
    "\n",
    "def method (x):\n",
    "    odd = []\n",
    "    even = []\n",
    "    for value in x:\n",
    "        if value % 2 != 0:\n",
    "            odd.append(value)\n",
    "        else:\n",
    "            even.append(value) \n",
    "    if (len(odd)) == 1:\n",
    "        print (odd)\n",
    "    else:\n",
    "        print (even)\n",
    "\n",
    "method (my_list)\n",
    "method (my_list_2)\n",
    "method (my_list_3)\n"
   ]
  },
  {
   "cell_type": "markdown",
   "metadata": {},
   "source": [
    "Option 2"
   ]
  },
  {
   "cell_type": "code",
   "execution_count": 13,
   "metadata": {},
   "outputs": [
    {
     "data": {
      "text/plain": [
       "3"
      ]
     },
     "execution_count": 13,
     "metadata": {},
     "output_type": "execute_result"
    }
   ],
   "source": [
    "def find_outlier(integers):\n",
    "    new_integers = [int(integer%2) for integer in integers]\n",
    "    # print (new_integers)\n",
    "    # print(new_integers.count(0))\n",
    "    # print(new_integers.index(1))\n",
    "    if new_integers.count(0) == 1:\n",
    "        return integers[new_integers.index(0)]\n",
    "    else:\n",
    "        return integers[new_integers.index(1)]\n",
    "    \n",
    "find_outlier([2, 4, 6, 8, 10, 3])\n"
   ]
  },
  {
   "cell_type": "markdown",
   "metadata": {},
   "source": [
    "## 2\n",
    "\n",
    "Your goal in this task is to implement a difference function, which subtracts one\n",
    "list from another and returns the result.\n",
    "\n",
    "It should remove all values from list a, which are present in list b.\n",
    "\n",
    "Lets call the function array_diff ( a , b )\n",
    "    \n",
    "Sample test cases:\n",
    "array_diff([1,2],[1]) will return [2]\n",
    "array_diff([1,2,2], [2]) will return [1]"
   ]
  },
  {
   "cell_type": "code",
   "execution_count": 14,
   "metadata": {},
   "outputs": [
    {
     "name": "stdout",
     "output_type": "stream",
     "text": [
      "[2]\n",
      "[1]\n"
     ]
    }
   ],
   "source": [
    "# array_1 = [[1,2],[1]]\n",
    "# array_2 = [[1,2,2], [2]]\n",
    "\n",
    "# print (array_1[0][1])\n",
    "\n",
    "def array_diff (a,b):\n",
    "    result = []\n",
    "    for x in a:\n",
    "        if x not in b :\n",
    "            result.append (x)\n",
    "    print (result)   \n",
    "            \n",
    "# TRY WITH RETURN, NOT WORKING\n",
    "# def array_diff (a,b):    \n",
    "#     for x in a:\n",
    "#         if x not in b :\n",
    "#             return (x)   \n",
    "\n",
    "array_diff([1,2],[1]) \n",
    "array_diff([1,2,2], [2])\n",
    "# array_diff([1,2,2], [2])\n"
   ]
  },
  {
   "cell_type": "markdown",
   "metadata": {},
   "source": [
    "## 3\n",
    "\n",
    "Given: an array containing hashes of names\n",
    "Return: a string formatted as a list of names separated by commas except for the last\n",
    "two names, which should be separated by an ampersand.\n",
    "\n",
    "Example:\n",
    "\n",
    "namelist([ {‘name’: ‘Bart’}, {‘name’: ‘Lisa’}, {‘name’: ‘Maggie’} ])\n",
    "returns ‘Bart, Lisa & Maggie‘\n",
    "\n",
    "namelist([ {‘name’: ‘Bart’}, {‘name’: ‘Lisa’} ])\n",
    "returns ‘Bart & Lisa‘\n",
    "\n",
    "namelist([ {‘name’: ‘Bart’} ])\n",
    "returns ‘Bart‘\n",
    "\n",
    "namelist([])\n",
    "returns ”"
   ]
  },
  {
   "cell_type": "code",
   "execution_count": 15,
   "metadata": {},
   "outputs": [
    {
     "data": {
      "text/plain": [
       "'Bart & Lisa'"
      ]
     },
     "execution_count": 15,
     "metadata": {},
     "output_type": "execute_result"
    }
   ],
   "source": [
    "final_string = []\n",
    "def name_string (a):\n",
    "    index = 0\n",
    "    while index < len(a):\n",
    "        if len(a) == 1:\n",
    "            final_string.append(f'{a[0]['name']}')\n",
    "        elif len(a) == 2:\n",
    "            final_string.append(f'{a[0]['name']}, {a[1]['name']}')\n",
    "        else:\n",
    "            #in index [0]== , in index [-1]==, count number of index between last and first. count lenght removing first and last \n",
    "            final_string.append(f'{a[0]['name']}, {a[1]['name']} & {a[-1]['name']}')\n",
    "\n",
    "        index = index + 1\n",
    "\n",
    "\n",
    "\n",
    "    #1) determine length of list\n",
    "    #2) index the list according to the lenght: index(0) = name, index (1 second to last), index (-1). \n",
    "    # Conditionals for len 1, 2 or more than 2. \n",
    "    # For more than 2 use index(0), index >0 and index < -1, index (-1) . \n",
    "    # if len > 2\n",
    "    # [0] print , between first and last print as many as count, [-1]\n",
    "    #3) assign values to each index\n",
    "    #4) last index (-1) will finish with '&...'\n",
    "name_string ([\n",
    "    {'name':'Bart'},\n",
    "    {'name':'Lisa'},\n",
    "    {'name':'Maggie'}\n",
    "])\n",
    "def namelist(names):\n",
    "    names = [item['name'] for item in names]\n",
    "    if names:\n",
    "        ','.join(names)\n",
    "        if len(names)>2:\n",
    "            return ( ', '.join(names[:-1]) + \" & \" + str(names[-1]))\n",
    "        elif len(names)==2:\n",
    "            return( ' & '.join(names))\n",
    "        elif len(names)==1:\n",
    "            return (names[0])\n",
    "            \n",
    "    return ''\n",
    "\n",
    "namelist ([\n",
    "    {'name':'Bart'},\n",
    "    {'name':'Lisa'},\n",
    "    {'name':'Maggie'}])\n",
    "namelist ([{'name': 'Bart'}, {'name': 'Lisa'}])\n",
    "          "
   ]
  },
  {
   "cell_type": "markdown",
   "metadata": {},
   "source": [
    "## 4\n",
    "In this task, create a function that takes a list of non-negative integers and strings\n",
    "and returns a new list with the strings filtered out.\n",
    "\n",
    "Example\n",
    "filter_list([1,2,’a’,’b’]) == [1,2]\n",
    "filter_list([1,’a’,’b’,0,15]) == [1,0,15]\n",
    "filter_list([1,2,’aasf’,’1′,’123′,123]) == [1,2,123]"
   ]
  },
  {
   "cell_type": "code",
   "execution_count": 16,
   "metadata": {},
   "outputs": [
    {
     "name": "stdout",
     "output_type": "stream",
     "text": [
      "[1, 2]\n",
      "[1, 0, 15]\n",
      "[1, 2, 123]\n"
     ]
    }
   ],
   "source": [
    "def filter_list (list):\n",
    "    filtered_list = []\n",
    "    for elements in list:\n",
    "        if not isinstance(elements, str):\n",
    "            filtered_list.append(elements)\n",
    "    print (filtered_list)\n",
    "\n",
    "\n",
    "filter_list([1,2,'a','b']) \n",
    "filter_list([1,'a','b',0,15])\n",
    "filter_list([1,2,'aasf','1','123',123])"
   ]
  },
  {
   "cell_type": "markdown",
   "metadata": {},
   "source": [
    "## 5\n",
    "Given an array, find the int that appears an odd number of times.\n",
    "There will always be only one integer that appears an odd number of times.\n",
    "\n",
    "Example\n",
    "find_it([20,1,-1,2,-2,3,3,5,5,1,2,4,20,4,-1,-2,5]) RETURNS 5"
   ]
  },
  {
   "cell_type": "code",
   "execution_count": 17,
   "metadata": {},
   "outputs": [
    {
     "name": "stdout",
     "output_type": "stream",
     "text": [
      "5\n"
     ]
    }
   ],
   "source": [
    "from collections import Counter\n",
    "def find_it (number_list):\n",
    "    counter = Counter (number_list)\n",
    "    result = []\n",
    "    for x in counter: # x accounts for key in tuple\n",
    "        if not counter[x] %2 == 0: # counter[x] accounts for value\n",
    "            print (x) \n",
    "\n",
    "find_it([20,1,-1,2,-2,3,3,5,5,1,2,4,20,4,-1,-2,5])\n"
   ]
  },
  {
   "cell_type": "markdown",
   "metadata": {},
   "source": [
    "## 6  case insensitive\n",
    "Check to see if a string has the same amount of ’x’s and ’o’s. The method must\n",
    "return a boolean and be case insensitive. The string can contain any char.\n",
    "\n",
    "Examples input/output:\n",
    "XO(“ooxx”) => true\n",
    "XO(“xooxx”) => false\n",
    "XO(“ooxXm”) => true\n",
    "XO(“zpzpzpp”) => true // when no ‘x’ and ‘o’ is present should return true\n",
    "XO(“zzoo”) => false"
   ]
  },
  {
   "cell_type": "code",
   "execution_count": null,
   "metadata": {},
   "outputs": [
    {
     "data": {
      "text/plain": [
       "True"
      ]
     },
     "execution_count": 49,
     "metadata": {},
     "output_type": "execute_result"
    }
   ],
   "source": [
    "def XO (ss):\n",
    "    if ss.lower().count('x') == ss.lower().count('o'):\n",
    "        return True \n",
    "    else: \n",
    "        return False\n",
    "\n",
    "\n",
    "\n",
    "print(XO('ooxx')) \n",
    "print(XO('xooxx')) \n",
    "print(XO('ooxXm')) \n",
    "print(XO('zpzpzpp')) \n",
    "print(XO('zzoo'))"
   ]
  },
  {
   "cell_type": "code",
   "execution_count": 34,
   "metadata": {},
   "outputs": [
    {
     "name": "stdout",
     "output_type": "stream",
     "text": [
      "congratulations!!!\n"
     ]
    }
   ],
   "source": [
    "\n",
    "def shout(word):\n",
    "    shout_word =  word + '!!!'\n",
    "    return (shout_word)\n",
    "\n",
    "yell = shout ('congratulations')\n",
    "\n",
    "print(yell)"
   ]
  },
  {
   "cell_type": "code",
   "execution_count": 32,
   "metadata": {},
   "outputs": [
    {
     "data": {
      "text/plain": [
       "False"
      ]
     },
     "execution_count": 32,
     "metadata": {},
     "output_type": "execute_result"
    }
   ],
   "source": [
    "def XI (s):\n",
    "  if s.lower().count('x') !=  s.lower().count('o'):\n",
    "    return False\n",
    "  return True\n",
    "    \n",
    "XI('ooxx') \n",
    "XI('xooxx') \n",
    "XI('ooxXm') \n",
    "XI('zpzpzpp') \n",
    "XI ('zzoo')"
   ]
  },
  {
   "cell_type": "markdown",
   "metadata": {},
   "source": [
    "## 7 \n",
    "ATM machines allow 4 or 6 digit PIN codes\n",
    "and PIN codes cannot contain anything but\n",
    "exactly 4 digits or exactly 6 digits.\n",
    "\n",
    "If the function is passed a valid PIN string, return\n",
    "true, else return false.\n",
    "\n",
    "eg:\n",
    "\n",
    "validate_pin(“1234”) == True\n",
    "validate_pin(“12345′′) == False\n",
    "validate_pin(“a234”) == False"
   ]
  },
  {
   "cell_type": "code",
   "execution_count": null,
   "metadata": {},
   "outputs": [],
   "source": [
    "def validate_pin (pin):\n",
    "    if len(pin) != 4 or len(pin) != 6:\n",
    "        return False\n",
    "    if pin \n",
    "          \n",
    "\n",
    "\n",
    "\n",
    "\n",
    "validate_pin('1234')\n",
    "validate_pin('12345')\n",
    "validate_pin('a234')"
   ]
  },
  {
   "cell_type": "markdown",
   "metadata": {},
   "source": [
    "## 8\n",
    "\n",
    "Simple, given a string of words, return the length of the shortest word(s).\n",
    "\n",
    "String will never be empty and you do not need to account for different data types."
   ]
  },
  {
   "cell_type": "markdown",
   "metadata": {},
   "source": [
    "## 9 \n",
    "\n",
    "Find the missing letter\n",
    "\n",
    "Write a method that takes an array of consecutive (increasing) letters as input and\n",
    "that returns the missing letter in the array.\n",
    "\n",
    "You will always get an valid array. And it will be always exactly one letter be missing.\n",
    "The length of the array will always be at least 2.\n",
    "The array will always contain letters in only one case.\n",
    "\n",
    "Example:\n",
    "[‘a’,‘b’,‘c’,‘d’,‘f’] -> ‘e’\n",
    "[‘O’,‘Q’,‘R’,‘S’] -> ‘P’\n",
    "\n",
    "(Use the English alphabet with 26 letters )"
   ]
  },
  {
   "cell_type": "markdown",
   "metadata": {},
   "source": [
    "## 10  \n",
    "\n",
    "Make a program that filters a list of strings and returns a list with only your\n",
    "friends name in it. If a name has exactly 4 letters in it, you can be sure that it has to\n",
    "be a friend of yours! Otherwise, you can be sure he /she is not.\n",
    "\n",
    "Ex: Input = [“Ryan”, “Kieran”, “Jason”, “Yous”], Output = [“Ryan”, “Yous”]\n",
    "\n",
    "Note: keep the original order of the names in the output."
   ]
  },
  {
   "cell_type": "code",
   "execution_count": null,
   "metadata": {},
   "outputs": [],
   "source": []
  }
 ],
 "metadata": {
  "kernelspec": {
   "display_name": "codeacademy",
   "language": "python",
   "name": "python3"
  },
  "language_info": {
   "codemirror_mode": {
    "name": "ipython",
    "version": 3
   },
   "file_extension": ".py",
   "mimetype": "text/x-python",
   "name": "python",
   "nbconvert_exporter": "python",
   "pygments_lexer": "ipython3",
   "version": "3.12.7"
  }
 },
 "nbformat": 4,
 "nbformat_minor": 2
}
