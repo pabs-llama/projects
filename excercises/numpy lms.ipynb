{
 "cells": [
  {
   "cell_type": "markdown",
   "metadata": {},
   "source": [
    "# 1\n",
    "There are 5 numbers in the data set: (8, 12, 16, 24, 4). What is the standard deviation? And, what will be the sum of deviations of individual data points from their mean?"
   ]
  },
  {
   "cell_type": "code",
   "execution_count": 3,
   "metadata": {},
   "outputs": [
    {
     "name": "stdout",
     "output_type": "stream",
     "text": [
      "6.881860213634101\n",
      "47.36\n"
     ]
    }
   ],
   "source": [
    "import numpy as np \n",
    "\n",
    "a = np.array([8,12,16,24,4])\n",
    "standard_deviation = np.std(a)\n",
    "print(standard_deviation)\n",
    "\n",
    "variance = standard_deviation**2\n",
    "print (variance)"
   ]
  },
  {
   "cell_type": "markdown",
   "metadata": {},
   "source": [
    "# 2\n",
    "\n",
    "If some outliers are introduced to the dataset, what will happen to the Standard Deviation? Will it increase, decrease or remain the same?\n",
    "\n",
    "INCREASES\n"
   ]
  },
  {
   "cell_type": "code",
   "execution_count": null,
   "metadata": {},
   "outputs": [
    {
     "name": "stdout",
     "output_type": "stream",
     "text": [
      "341.73912953166666\n"
     ]
    }
   ],
   "source": [
    "b = np.array([8,12,16,24,4,100,1000])\n",
    "standard_deviation = np.std(b)\n",
    "print(standard_deviation)"
   ]
  },
  {
   "cell_type": "markdown",
   "metadata": {},
   "source": [
    "Determine median for this distribution\n",
    "\n",
    "[10, 10, 10, 10, 11, 11, 12, 13, 14 ]\n",
    "[15, 15, 15, 16, 16, 16, 16, 16, 17, 18, 19, 19]\n",
    "[20, 20, 20, 21, 21, 21, 21, 21, 22, 22, 22, 23, 23, 23, 24, 24, 24]\n",
    "[26, 26, 26, 26, 26, 26, 26, 27, 27, 27, 27, 29, 29, 29, 29, 29, 29, 29, 29, 29]\n",
    "[30, 30, 30, 30, 30, 31, 31, 32, 32, 33, 33, 34, 34]\n",
    "[35, 35, 35, 37, 37, 37, 37, 39, 39, 39]\n",
    "[40, 40, 43, 43, 44, 44]\n",
    "[46, 46, 46, 47, 49]\n",
    "[52, 53, 54]"
   ]
  },
  {
   "cell_type": "code",
   "execution_count": 6,
   "metadata": {},
   "outputs": [
    {
     "name": "stdout",
     "output_type": "stream",
     "text": [
      "27.0\n"
     ]
    }
   ],
   "source": [
    "arr1 = [10, 10, 10, 10, 11, 11, 12, 13, 14 ]\n",
    "arr2= [15, 15, 15, 16, 16, 16, 16, 16, 17, 18, 19, 19]\n",
    "arr3= [20, 20, 20, 21, 21, 21, 21, 21, 22, 22, 22, 23, 23, 23, 24, 24, 24]\n",
    "arr4= [26, 26, 26, 26, 26, 26, 26, 27, 27, 27, 27, 29, 29, 29, 29, 29, 29, 29, 29, 29]\n",
    "arr5= [30, 30, 30, 30, 30, 31, 31, 32, 32, 33, 33, 34, 34]\n",
    "arr6= [35, 35, 35, 37, 37, 37, 37, 39, 39, 39]\n",
    "arr7= [40, 40, 43, 43, 44, 44]\n",
    "arr8 = [46, 46, 46, 47, 49]\n",
    "arr9= [52, 53, 54]\n",
    "\n",
    "distribution = (arr1+arr2+arr3+arr4+arr5+arr6+arr7+arr8+arr9)\n",
    "print(np.median(distribution))"
   ]
  },
  {
   "cell_type": "markdown",
   "metadata": {},
   "source": [
    "# 9\n",
    "hourly consultancy rate  and employee count    \n",
    "25  = 3\n",
    "40 = 2\n",
    "35 = 1\n",
    "50 = 4\n"
   ]
  },
  {
   "cell_type": "code",
   "execution_count": null,
   "metadata": {},
   "outputs": [
    {
     "name": "stdout",
     "output_type": "stream",
     "text": [
      "10.44030650891055\n"
     ]
    }
   ],
   "source": [
    "salaries_count = [25,25,25,40,40,35,50,50,50,50]\n",
    "print(np.std(salaries_count))"
   ]
  },
  {
   "cell_type": "code",
   "execution_count": 26,
   "metadata": {},
   "outputs": [
    {
     "name": "stdout",
     "output_type": "stream",
     "text": [
      "mean =  15.0\n",
      "mode =  4\n",
      "median =  14.0\n"
     ]
    }
   ],
   "source": [
    "import numpy as np\n",
    "import statistics as st\n",
    "c = np.array([4,8,12,16,24,26])\n",
    "c_mean = np.mean(c)\n",
    "print('mean = ', c_mean)\n",
    "c_mode = st.mode(c)\n",
    "print('mode = ', c_mode)\n",
    "c_median = np.median(c)\n",
    "print('median = ', c_median)"
   ]
  },
  {
   "cell_type": "code",
   "execution_count": null,
   "metadata": {},
   "outputs": [],
   "source": []
  }
 ],
 "metadata": {
  "kernelspec": {
   "display_name": "codeacademy",
   "language": "python",
   "name": "python3"
  },
  "language_info": {
   "codemirror_mode": {
    "name": "ipython",
    "version": 3
   },
   "file_extension": ".py",
   "mimetype": "text/x-python",
   "name": "python",
   "nbconvert_exporter": "python",
   "pygments_lexer": "ipython3",
   "version": "3.12.7"
  }
 },
 "nbformat": 4,
 "nbformat_minor": 2
}
